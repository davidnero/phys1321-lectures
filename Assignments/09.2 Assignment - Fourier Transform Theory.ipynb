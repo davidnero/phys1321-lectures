{
 "cells": [
  {
   "cell_type": "markdown",
   "metadata": {
    "slideshow": {
     "slide_type": "slide"
    }
   },
   "source": [
    "Grading for pre-lecture questions is all or nothing. Partial credit is available for in-class assignments and checkpoints. Partial credit will primarily be determined by the quality of the comments you make in your code. Tell me what you intend the code to do. If there are no comments, there is no partial credit!"
   ]
  },
  {
   "cell_type": "code",
   "execution_count": null,
   "metadata": {},
   "outputs": [],
   "source": [
    "NAME = \"\"\n",
    "COLLABORATORS = \"\""
   ]
  },
  {
   "cell_type": "markdown",
   "metadata": {},
   "source": [
    "---"
   ]
  },
  {
   "cell_type": "code",
   "execution_count": null,
   "metadata": {
    "deletable": false,
    "editable": false,
    "nbgrader": {
     "cell_type": "code",
     "checksum": "6b730d4e93164651ef899b399968935f",
     "grade": false,
     "grade_id": "cell-f9413f888fcab1d8",
     "locked": true,
     "schema_version": 3,
     "solution": false,
     "task": false
    }
   },
   "outputs": [],
   "source": [
    "import grading_helper as _test"
   ]
  },
  {
   "cell_type": "code",
   "execution_count": null,
   "metadata": {
    "deletable": false,
    "nbgrader": {
     "cell_type": "code",
     "checksum": "c0eb3da2b41cb69a259a1736d3b8b663",
     "grade": false,
     "grade_id": "cell-a2d444172633fdb8",
     "locked": false,
     "schema_version": 3,
     "solution": true,
     "task": false
    }
   },
   "outputs": [],
   "source": [
    "# Space for imports, utility functions, etc.\n",
    "\n",
    "# YOUR CODE HERE"
   ]
  },
  {
   "cell_type": "markdown",
   "metadata": {
    "deletable": false,
    "editable": false,
    "nbgrader": {
     "cell_type": "markdown",
     "checksum": "dc7fea9bacb8a27fa2b2042b9bc152da",
     "grade": false,
     "grade_id": "cell-4a1a2ca64ec49f29",
     "locked": true,
     "schema_version": 3,
     "solution": false,
     "task": false
    }
   },
   "source": [
    "# Fourier Transforms of Periodic Functions\n",
    "\n",
    "Calculate the **magnitude** of the coefficients in the **continuous** Fourier transforms of the following periodic functions. \n",
    "\n",
    "You can use `scipy` to evaluate the integrations, but you won't be able to use $\\pm\\infty$ for the integration limits (it will break). Instead, you can use a \"big enough\" range, where in this case, \"big enough\" means it includes several periods of the function. You'll have to play around with the limits to see what works well.\n",
    "\n",
    "Plot both the original function and the magnitude of its Fourier coefficients side-by-side (i.e. using `subplot`). Label the graphs, and choose reasonable values for the axes limits.\n",
    "\n",
    "$f(x) = \\sin(2x) + \\sin(7x)$\n",
    "\n",
    "> Your answer should have a strong peaks at $\\omega=2$, and $\\omega=7$. (Why?)\n",
    "\n",
    "   "
   ]
  },
  {
   "cell_type": "code",
   "execution_count": null,
   "metadata": {
    "deletable": false,
    "nbgrader": {
     "cell_type": "code",
     "checksum": "79493b8d9b4fd33f07be339e5c2febc1",
     "grade": true,
     "grade_id": "cell-5ffb4776e7a91ed8",
     "locked": false,
     "points": 3,
     "schema_version": 3,
     "solution": true,
     "task": false
    }
   },
   "outputs": [],
   "source": [
    "%%graded # 3 points\n",
    "\n",
    "# YOUR CODE HERE"
   ]
  },
  {
   "cell_type": "markdown",
   "metadata": {
    "deletable": false,
    "editable": false,
    "nbgrader": {
     "cell_type": "markdown",
     "checksum": "df372fa15264dacf5cac3203dcb3788e",
     "grade": false,
     "grade_id": "cell-ec15c1b478dac6f8",
     "locked": true,
     "schema_version": 3,
     "solution": false,
     "task": false
    }
   },
   "source": [
    "How does the graph of $F(\\omega)$ change as you adjust the integration limits? What do you think the graph would look like as th e,lmits approach $\\pm\\infty$?"
   ]
  },
  {
   "cell_type": "markdown",
   "metadata": {
    "deletable": false,
    "nbgrader": {
     "cell_type": "markdown",
     "checksum": "d67be24786aea4d4f13012e29c65dda2",
     "grade": true,
     "grade_id": "cell-c95045b06aa6226a",
     "locked": false,
     "points": 2,
     "schema_version": 3,
     "solution": true,
     "task": false
    }
   },
   "source": [
    "*2 points*\n",
    "\n",
    "Double-click on this cell, and type your answer here:\n",
    "    \n",
    "YOUR ANSWER HERE"
   ]
  },
  {
   "cell_type": "markdown",
   "metadata": {
    "deletable": false,
    "editable": false,
    "nbgrader": {
     "cell_type": "markdown",
     "checksum": "1ffaf0869a374c4a463a53937690d400",
     "grade": false,
     "grade_id": "cell-7474915e43a0d4b6",
     "locked": true,
     "schema_version": 3,
     "solution": false,
     "task": false
    }
   },
   "source": [
    "Now plot $f(x) = \\sin(2x) \\sin(7x)$ side-by-side with its Fourier transform.\n",
    "\n",
    "> There will be two large peaks. Verify that their locations make sense."
   ]
  },
  {
   "cell_type": "code",
   "execution_count": null,
   "metadata": {
    "deletable": false,
    "nbgrader": {
     "cell_type": "code",
     "checksum": "031a9f88e75899628ae11a272fe9686c",
     "grade": true,
     "grade_id": "cell-9d40033af6b4878a",
     "locked": false,
     "points": 3,
     "schema_version": 3,
     "solution": true,
     "task": false
    }
   },
   "outputs": [],
   "source": [
    "%%graded # 3 points\n",
    "\n",
    "# YOUR CODE HERE"
   ]
  },
  {
   "cell_type": "markdown",
   "metadata": {
    "deletable": false,
    "editable": false,
    "nbgrader": {
     "cell_type": "markdown",
     "checksum": "c817abf3937a5e007f742444b7fdc018",
     "grade": false,
     "grade_id": "cell-151de97e20edada4",
     "locked": true,
     "schema_version": 3,
     "solution": false,
     "task": false
    }
   },
   "source": [
    "Where are the two peaks, and why does that make sense given the function?"
   ]
  },
  {
   "cell_type": "markdown",
   "metadata": {
    "deletable": false,
    "nbgrader": {
     "cell_type": "markdown",
     "checksum": "7077b35b8d14d6bf785a00d008fff714",
     "grade": true,
     "grade_id": "cell-5d7e58bddeac2bb7",
     "locked": false,
     "points": 2,
     "schema_version": 3,
     "solution": true,
     "task": false
    }
   },
   "source": [
    "*2 points*\n",
    "\n",
    "Double-click on this cell, and type your answer here:\n",
    "    \n",
    "YOUR ANSWER HERE"
   ]
  }
 ],
 "metadata": {
  "kernelspec": {
   "display_name": "Python 3 (ipykernel)",
   "language": "python",
   "name": "python3"
  },
  "language_info": {
   "codemirror_mode": {
    "name": "ipython",
    "version": 3
   },
   "file_extension": ".py",
   "mimetype": "text/x-python",
   "name": "python",
   "nbconvert_exporter": "python",
   "pygments_lexer": "ipython3",
   "version": "3.10.5"
  }
 },
 "nbformat": 4,
 "nbformat_minor": 4
}
