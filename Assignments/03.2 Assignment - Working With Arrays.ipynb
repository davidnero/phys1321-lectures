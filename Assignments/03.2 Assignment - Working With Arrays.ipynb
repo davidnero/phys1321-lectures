{
 "cells": [
  {
   "cell_type": "markdown",
   "metadata": {
    "slideshow": {
     "slide_type": "slide"
    }
   },
   "source": [
    "Fill in any place that says `# YOUR CODE HERE` or YOUR ANSWER HERE, as well as your name and collaborators below.\n",
    "Grading for pre-lecture assignments is all or nothing. Partial credit is available for in-class assignments and checkpoints, but **only when code is commented**."
   ]
  },
  {
   "cell_type": "code",
   "execution_count": null,
   "metadata": {},
   "outputs": [],
   "source": [
    "NAME = \"\"\n",
    "COLLABORATORS = \"\""
   ]
  },
  {
   "cell_type": "markdown",
   "metadata": {},
   "source": [
    "---"
   ]
  },
  {
   "cell_type": "code",
   "execution_count": null,
   "metadata": {
    "deletable": false,
    "editable": false,
    "nbgrader": {
     "cell_type": "code",
     "checksum": "b4f791b4afd3f701f41e83dff87668d4",
     "grade": false,
     "grade_id": "cell-fe7bc71262e491fb",
     "locked": true,
     "schema_version": 3,
     "solution": false,
     "task": false
    }
   },
   "outputs": [],
   "source": [
    "import grading_helper as _test"
   ]
  },
  {
   "cell_type": "code",
   "execution_count": null,
   "metadata": {
    "deletable": false,
    "nbgrader": {
     "cell_type": "code",
     "checksum": "a82ff8062775032e484db02b0d668a91",
     "grade": false,
     "grade_id": "cell-019561ce1a81f17e",
     "locked": false,
     "schema_version": 3,
     "solution": true,
     "task": false
    }
   },
   "outputs": [],
   "source": [
    "# Space for imports, utility functions, etc.\n",
    "\n",
    "# YOUR CODE HERE"
   ]
  },
  {
   "cell_type": "markdown",
   "metadata": {
    "deletable": false,
    "editable": false,
    "nbgrader": {
     "cell_type": "markdown",
     "checksum": "f6810dcf4ff4191430b058629b9f63cb",
     "grade": false,
     "grade_id": "cell-cb611c147a357649",
     "locked": true,
     "schema_version": 3,
     "solution": false,
     "task": false
    }
   },
   "source": [
    "# Projectile Motion\n",
    "\n",
    "Starting at the origin, a ball is launched with initial speed $v_0$ (in m/s) at an angle $\\theta$, measured in degrees from the horizontal. The ball undergoes projectile motion under a constant 9.8 m/s$^2$ acceleration due to gravity (we are neglecting air resistance).\n",
    "\n",
    "Write a function `projectile(v0, theta)` that returns two arrays that contain the $x$ and $y$-coordinates of the ball every 0.1 seconds, starting at $t=0$ seconds, and ending at $t=5$ seconds (so that there are 51 elements in each of these arrays)."
   ]
  },
  {
   "cell_type": "code",
   "execution_count": null,
   "metadata": {
    "deletable": false,
    "nbgrader": {
     "cell_type": "code",
     "checksum": "b81cdf2df8e8434af5e2197e18c77691",
     "grade": false,
     "grade_id": "cell-2005905ddb084031",
     "locked": false,
     "schema_version": 3,
     "solution": true,
     "task": false
    }
   },
   "outputs": [],
   "source": [
    "%%graded #5 points\n",
    "\n",
    "# YOUR CODE HERE"
   ]
  },
  {
   "cell_type": "code",
   "execution_count": null,
   "metadata": {
    "deletable": false,
    "editable": false,
    "nbgrader": {
     "cell_type": "code",
     "checksum": "fd3a08255e31dab912b474dc5642d92c",
     "grade": true,
     "grade_id": "cell-dab103f5b164bc57",
     "locked": true,
     "points": 5,
     "schema_version": 3,
     "solution": false,
     "task": false
    }
   },
   "outputs": [],
   "source": [
    "%%tests\n",
    "\n",
    "# Check the length of the arrays\n",
    "x, y = projectile(10,30)\n",
    "_test.equal(len(x), 51)\n",
    "_test.equal(len(y), 51)\n",
    "\n",
    "# Check the starting and ending values of the arrays\n",
    "_test.similar(x[0], 0)\n",
    "_test.similar(y[0], 0)\n",
    "_test.similar(x[-1], 43.3)\n",
    "_test.similar(y[-1], -97.5)"
   ]
  },
  {
   "cell_type": "code",
   "execution_count": null,
   "metadata": {},
   "outputs": [],
   "source": [
    "# This code plots your arrays. Do the values look reasonable?\n",
    "# (you can edit this cell to try differnt values for v0 and theta)\n",
    "import matplotlib.pyplot as plt\n",
    "x, y = projectile(40, 60)\n",
    "plt.plot(x, y)\n",
    "plt.show()"
   ]
  },
  {
   "cell_type": "markdown",
   "metadata": {
    "deletable": false,
    "editable": false,
    "nbgrader": {
     "cell_type": "markdown",
     "checksum": "c4d0497580cf37ec1398f8c4facefb75",
     "grade": false,
     "grade_id": "cell-98ccac124618caf2",
     "locked": true,
     "schema_version": 3,
     "solution": false,
     "task": false
    }
   },
   "source": [
    "Now create a version of your function named `projectile2(v0, theta)` that returns exactly 51 equally-spaced values for $x$ and $y$, starting when the ball is launched, and ending when the ball lands at $y=0$ (including those two end points)."
   ]
  },
  {
   "cell_type": "code",
   "execution_count": null,
   "metadata": {
    "deletable": false,
    "nbgrader": {
     "cell_type": "code",
     "checksum": "5a56622dab44ba77e5740ec2f4d5a755",
     "grade": false,
     "grade_id": "cell-0527a8e679a85788",
     "locked": false,
     "schema_version": 3,
     "solution": true,
     "task": false
    }
   },
   "outputs": [],
   "source": [
    "%%graded #5 points\n",
    "\n",
    "# YOUR CODE HERE"
   ]
  },
  {
   "cell_type": "code",
   "execution_count": null,
   "metadata": {
    "deletable": false,
    "editable": false,
    "nbgrader": {
     "cell_type": "code",
     "checksum": "40f8b1109ccc43c672467e6bee0dbf08",
     "grade": true,
     "grade_id": "cell-12995c26a95429dc",
     "locked": true,
     "points": 5,
     "schema_version": 3,
     "solution": false,
     "task": false
    }
   },
   "outputs": [],
   "source": [
    "%%tests\n",
    "\n",
    "# Check the length of the arrays\n",
    "x, y = projectile2(10,30)\n",
    "_test.equal(len(x), 51)\n",
    "_test.equal(len(y), 51)\n",
    "\n",
    "# Check the starting and ending values of the arrays\n",
    "_test.similar(x[0], 0)\n",
    "_test.similar(y[0], 0)\n",
    "_test.similar(x[-1], 8.84)\n",
    "_test.similar(y[-1], 0)"
   ]
  },
  {
   "cell_type": "code",
   "execution_count": null,
   "metadata": {},
   "outputs": [],
   "source": [
    "# Make another plot. Does the ball make it back to y=0?\n",
    "x, y = projectile2(10, 30)\n",
    "plt.plot(x, y)\n",
    "plt.show()"
   ]
  }
 ],
 "metadata": {
  "kernelspec": {
   "display_name": "Python 3",
   "language": "python",
   "name": "python3"
  },
  "language_info": {
   "codemirror_mode": {
    "name": "ipython",
    "version": 3
   },
   "file_extension": ".py",
   "mimetype": "text/x-python",
   "name": "python",
   "nbconvert_exporter": "python",
   "pygments_lexer": "ipython3",
   "version": "3.7.3"
  }
 },
 "nbformat": 4,
 "nbformat_minor": 4
}
