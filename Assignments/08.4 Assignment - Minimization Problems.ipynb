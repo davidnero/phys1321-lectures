{
 "cells": [
  {
   "cell_type": "markdown",
   "metadata": {
    "slideshow": {
     "slide_type": "slide"
    }
   },
   "source": [
    "Grading for pre-lecture questions is all or nothing. Partial credit is available for in-class assignments and checkpoints. Partial credit will primarily be determined by the quality of the comments you make in your code. Tell me what you intend the code to do. If there are no comments, there is no partial credit!"
   ]
  },
  {
   "cell_type": "code",
   "execution_count": null,
   "metadata": {},
   "outputs": [],
   "source": [
    "NAME = \"\"\n",
    "COLLABORATORS = \"\""
   ]
  },
  {
   "cell_type": "markdown",
   "metadata": {},
   "source": [
    "---"
   ]
  },
  {
   "cell_type": "code",
   "execution_count": null,
   "metadata": {
    "deletable": false,
    "editable": false,
    "nbgrader": {
     "cell_type": "code",
     "checksum": "80c29d2605bf5ccb5f196a67bc988dea",
     "grade": false,
     "grade_id": "cell-bf9782521dbeb4da",
     "locked": true,
     "schema_version": 3,
     "solution": false,
     "task": false
    }
   },
   "outputs": [],
   "source": [
    "import grading_helper as _test"
   ]
  },
  {
   "cell_type": "code",
   "execution_count": null,
   "metadata": {
    "deletable": false,
    "nbgrader": {
     "cell_type": "code",
     "checksum": "3e8c0f8eff0aa8475be2b5d2e7ba3e27",
     "grade": false,
     "grade_id": "cell-ed67fbff8650fb70",
     "locked": false,
     "schema_version": 3,
     "solution": true,
     "task": false
    }
   },
   "outputs": [],
   "source": [
    "# Space for imports, utility functions, etc.\n",
    "\n",
    "# YOUR CODE HERE"
   ]
  },
  {
   "cell_type": "markdown",
   "metadata": {
    "deletable": false,
    "editable": false,
    "nbgrader": {
     "cell_type": "markdown",
     "checksum": "e0d5cdb7b5d600bb7f3bf5053cbf50da",
     "grade": false,
     "grade_id": "cell-da97af832b647276",
     "locked": true,
     "schema_version": 3,
     "solution": false,
     "task": false
    }
   },
   "source": [
    "# The Temperature of a Light Bulb\n",
    "\n",
    "(Adapted from textbook exercise 6.18)\n",
    "\n",
    "An incandescent light bulb is a simple device&mdash;it contains a filament, usually made of tungsten, heated by the flow of electricity until it becomes hot enough to radiate thermally. Essentially all of the power consumed by such a bulb is radiated as electromagnetic energy, but some of the radiation is not in the visible wavelengths, which means it is useless for lighting purposes.\n",
    "\n",
    "Let us define the efficiency of a light bulb to be the fraction of the radiated energy that falls in the visible band. It's a good approximation to assume that the radiation from a filament at temperature $T$ obeys the Planck radiation law, meaning that the power radiated per unit wavelength $\\lambda$ obeys\n",
    "\n",
    "$$I(\\lambda) = 2\\pi A hc^2 \\frac{\\lambda^{-5}}{e^{hc/\\lambda k_BT}-1}\\,,$$\n",
    "\n",
    "where $A$ is the surface area of the filament, $h$ is Planck's constant, $c$ is the speed of light, and $k_B$ is Boltzmann's constant. The visible wavelengths run from $\\lambda_1=390$ nm to $\\lambda_2=750$ nm, so the total energy radiated in the visible window is $\\int_{\\lambda_1}^{\\lambda_2} I(\\lambda)\\,d\\lambda$ and the total energy\n",
    "at all wavelengths is $\\int_0^\\infty I(\\lambda)\\,d\\lambda$. Dividing one expression by the other and substituting for $I(\\lambda)$ from above, we get an expression for the efficiency $\\eta$ of the light bulb thus:\n",
    "\n",
    "$$\\eta = \\frac{\\int_{\\lambda_1}^{\\lambda_2} \\lambda^{-5}/(e^{hc/\\lambda k_BT}-1) \\,d\\lambda}{\\int_0^\\infty \\lambda^{-5}/(e^{hc/\\lambda k_BT}-1) \\,d\\lambda}\\,,$$\n",
    "\n",
    "where the leading constants and the area $A$ have canceled out. Making the substitution $x=hc/\\lambda k_BT$, this can also be written as\n",
    "\n",
    "$$\\eta = \\frac{\\int_{hc/\\lambda_2 k_BT}^{hc/\\lambda_1 k_BT} x^3/(e^x-1) \\,dx}{\\int_0^\\infty x^3/(e^x-1) \\,dx} = \\frac{15}{\\pi^4}\\int_{hc/\\lambda_2 k_BT}^{hc/\\lambda_1 k_BT}\\frac{x^3}{e^x-1} \\,dx\\,,$$\n",
    "\n",
    "where we have made use of the known exact value of the integral in the denominator.\n",
    "\n",
    "Write a function named `efficiency(T)` that takes a temperature $T$ as its argument and calculates the value of $\\eta$ for that temperature from the formula above. The integral in the formula cannot be done analytically, but you can do it numerically."
   ]
  },
  {
   "cell_type": "code",
   "execution_count": null,
   "metadata": {
    "deletable": false,
    "nbgrader": {
     "cell_type": "code",
     "checksum": "61d6e631da8c429717c6474c9773ac38",
     "grade": false,
     "grade_id": "cell-73221ca1de7a8ec0",
     "locked": false,
     "schema_version": 3,
     "solution": true,
     "task": false
    }
   },
   "outputs": [],
   "source": [
    "%%graded # 3 points\n",
    "\n",
    "# YOUR CODE HERE"
   ]
  },
  {
   "cell_type": "code",
   "execution_count": null,
   "metadata": {
    "deletable": false,
    "editable": false,
    "nbgrader": {
     "cell_type": "code",
     "checksum": "ed11b84b9ace0db0e7ddb6c0c35f9e79",
     "grade": true,
     "grade_id": "cell-c57a3e066dfe5fcc",
     "locked": true,
     "points": 3,
     "schema_version": 3,
     "solution": false,
     "task": false
    }
   },
   "outputs": [],
   "source": [
    "%%tests\n",
    "\n",
    "_test.similar(efficiency(2000), 0.0128)\n",
    "_test.similar(efficiency(5000), 0.374)"
   ]
  },
  {
   "cell_type": "markdown",
   "metadata": {
    "deletable": false,
    "editable": false,
    "nbgrader": {
     "cell_type": "markdown",
     "checksum": "a9527e734f31d6c06ea0076aabd84560",
     "grade": false,
     "grade_id": "cell-3b8ea5f99ff67f83",
     "locked": true,
     "schema_version": 3,
     "solution": false,
     "task": false
    }
   },
   "source": [
    "Use your function to make a graph of efficiency as a function of temperature between $1\\,000$ K and $10\\,000$ K. You should see that there is an intermediate temperature where the efficiency is a maximum."
   ]
  },
  {
   "cell_type": "code",
   "execution_count": null,
   "metadata": {
    "deletable": false,
    "nbgrader": {
     "cell_type": "code",
     "checksum": "146da92aa697f27632e7ba81e2756d86",
     "grade": true,
     "grade_id": "cell-aec41cbbc8826745",
     "locked": false,
     "points": 2,
     "schema_version": 3,
     "solution": true,
     "task": false
    }
   },
   "outputs": [],
   "source": [
    "%%graded # 2 points\n",
    "\n",
    "# YOUR CODE HERE"
   ]
  },
  {
   "cell_type": "markdown",
   "metadata": {
    "deletable": false,
    "editable": false,
    "nbgrader": {
     "cell_type": "markdown",
     "checksum": "24f785c6f3da3af824c1ab9105348b63",
     "grade": false,
     "grade_id": "cell-a7cc0b143c923b75",
     "locked": true,
     "schema_version": 3,
     "solution": false,
     "task": false
    }
   },
   "source": [
    "Calculate the temperature of the maximumally efficiency incandescent light bulb. Save your answer in a variable named `Tideal`."
   ]
  },
  {
   "cell_type": "code",
   "execution_count": null,
   "metadata": {
    "deletable": false,
    "nbgrader": {
     "cell_type": "code",
     "checksum": "0c070aff62212a94aa26710da439752d",
     "grade": false,
     "grade_id": "cell-f6fa9cba2e466e4b",
     "locked": false,
     "schema_version": 3,
     "solution": true,
     "task": false
    }
   },
   "outputs": [],
   "source": [
    "%%graded # 5 points\n",
    "\n",
    "# YOUR CODE HERE"
   ]
  },
  {
   "cell_type": "code",
   "execution_count": null,
   "metadata": {
    "deletable": false,
    "editable": false,
    "nbgrader": {
     "cell_type": "code",
     "checksum": "43234e0d611afe03322f98f6b59648ce",
     "grade": true,
     "grade_id": "cell-f10c00bfd257b963",
     "locked": true,
     "points": 5,
     "schema_version": 3,
     "solution": false,
     "task": false
    }
   },
   "outputs": [],
   "source": [
    "%%tests\n",
    "\n",
    "_test.similar(Tideal, 6930)"
   ]
  }
 ],
 "metadata": {
  "kernelspec": {
   "display_name": "Python 3 (ipykernel)",
   "language": "python",
   "name": "python3"
  },
  "language_info": {
   "codemirror_mode": {
    "name": "ipython",
    "version": 3
   },
   "file_extension": ".py",
   "mimetype": "text/x-python",
   "name": "python",
   "nbconvert_exporter": "python",
   "pygments_lexer": "ipython3",
   "version": "3.10.5"
  }
 },
 "nbformat": 4,
 "nbformat_minor": 2
}
