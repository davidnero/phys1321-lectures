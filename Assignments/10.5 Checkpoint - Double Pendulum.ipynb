{
 "cells": [
  {
   "cell_type": "markdown",
   "metadata": {
    "slideshow": {
     "slide_type": "slide"
    }
   },
   "source": [
    "Grading for pre-lecture questions is all or nothing. Partial credit is available for in-class assignments and checkpoints. Partial credit will primarily be determined by the quality of the comments you make in your code. Tell me what you intend the code to do. If there are no comments, there is no partial credit!"
   ]
  },
  {
   "cell_type": "code",
   "execution_count": null,
   "metadata": {},
   "outputs": [],
   "source": [
    "NAME = \"\"\n",
    "COLLABORATORS = \"\""
   ]
  },
  {
   "cell_type": "markdown",
   "metadata": {},
   "source": [
    "---"
   ]
  },
  {
   "cell_type": "code",
   "execution_count": null,
   "metadata": {
    "deletable": false,
    "editable": false,
    "nbgrader": {
     "cell_type": "code",
     "checksum": "e8c46b4be654bcfbef457156f8975b88",
     "grade": false,
     "grade_id": "cell-52ea72f1770ea9d1",
     "locked": true,
     "schema_version": 3,
     "solution": false,
     "task": false
    }
   },
   "outputs": [],
   "source": [
    "import grading_helper as _test"
   ]
  },
  {
   "cell_type": "code",
   "execution_count": null,
   "metadata": {
    "deletable": false,
    "nbgrader": {
     "cell_type": "code",
     "checksum": "b4d5be1a17dc1349a23621b7d290e47f",
     "grade": false,
     "grade_id": "cell-0093b13a123dfc88",
     "locked": false,
     "schema_version": 3,
     "solution": true,
     "task": false
    }
   },
   "outputs": [],
   "source": [
    "# Space for imports, utility functions, etc.\n",
    "\n",
    "# YOUR CODE HERE"
   ]
  },
  {
   "cell_type": "markdown",
   "metadata": {
    "deletable": false,
    "editable": false,
    "nbgrader": {
     "cell_type": "markdown",
     "checksum": "8f882bc5f2d7914f4de36bdcd7ef7049",
     "grade": false,
     "grade_id": "cell-0165fd913c23d7c2",
     "locked": true,
     "schema_version": 3,
     "solution": false,
     "task": false
    }
   },
   "source": [
    "# Double Pendulum\n",
    "\n",
    "(Adapted from textbook exercise 8.15)\n",
    "\n",
    "A double pendulum consists of a normal pendulum with another pendulum hanging from its end. For simplicity let us ignore friction, and assume that both pendulums have bobs of the same mass $m$ and massless arms of the same length $\\ell$. Thus the setup looks like this:\n",
    "\n",
    "<img src=\"data:image/png;base64,iVBORw0KGgoAAAANSUhEUgAAAJsAAACqEAQAAABA3ilMAAAJKWlDQ1BpY2MAAHjalZFnUJSHFobP933bC22XpcPSm1QpC0hZepVeRQWW3lmWImJDxAhEFBFpiiCigIJRKRIrolgICopY0CwSBJQYjCIqKPdH7kyceyc/8vx65p13zjkzB4AiBgCAigGkpAr4fi727JDQMDZ8RyQvM53r4+MJ/8jHUUAAAB6sgn8PJTomkwcAywCQz0vnCwCQXADQyhGkCwCQowDAjEpKFwAg5wGAyQ8JDQNAbgEAM+4vHwcAZtRfPg8ATH6AnwMAigMg0eK+86jv/L97AQBUuHxBQmxMLts/LVaQE8mPYWf6udiz3Rwc2D78tNiE5JjvDv5X5X9AEJMrAABwSEvfxE+Iixew/2+osaGREfz9i/e+gAAAwhr83/8AwHe9tEYAzgIAtu/vLKoaoHsXgPTTvzO1owCihQBd93hZ/Oy/MhwAAB4oIApMkAFFUAUt0ANjMAcrsAMncAdvCIBQ2AA8iIcU4EMO5MMOKIIS2AcHoQbqoQlaoB3OQjdchGtwE+7CfRiFZyCEKXgD8/ARlhAEISJ0hIHIIEqIOqKLGCMcxAZxQjwRPyQUiUDikFQkC8lHdiIlSDlSgzQgLchPyAXkGnIbGUaeIBPILPIn8gXFUBrKRBVQDdQA5aBc1AMNQNejcWgGmocWonvRKrQRPYV2odfQu+goKkTfoAsYYFSMhSljehgHc8C8sTAsFuNjW7FirBJrxNqxXmwAe4AJsTnsM46AY+DYOD2cFc4VF4jj4TJwW3GluBrcSVwXrh/3ADeBm8d9w9Px8nhdvCXeDR+Cj8Pn4IvwlfhmfCf+Bn4UP4X/SCAQWARNgjnBlRBKSCRsJpQSDhM6CFcJw4RJwgKRSJQh6hKtid7ESKKAWESsJp4iXiGOEKeIn0hUkhLJmORMCiOlkgpIlaRW0mXSCGmatEQWI6uTLcne5GjyJnIZuYncS75HniIvUcQpmhRrSgAlkbKDUkVpp9ygjFPeU6lUFaoF1ZeaQN1OraKeod6iTlA/0yRoOjQHWjgti7aXdoJ2lfaE9p5Op2vQ7ehhdAF9L72Ffp3+gv5JhCGiL+ImEi2yTaRWpEtkROStKFlUXZQrukE0T7RS9JzoPdE5MbKYhpiDWKTYVrFasQtiY2IL4gxxI3Fv8RTxUvFW8dviMxJECQ0JJ4loiUKJYxLXJSYZGEOV4cDgMXYymhg3GFNMAlOT6cZMZJYwTzOHmPOSEpImkkGSuZK1kpckhSyMpcFyYyWzylhnWY9YX6QUpLhSMVJ7pNqlRqQWpeWk7aRjpIulO6RHpb/IsGWcZJJk9st0yzyXxcnqyPrK5sgekb0hOyfHlLOS48kVy52VeyqPyuvI+8lvlj8mPyi/oKCo4KKQrlCtcF1hTpGlaKeYqFiheFlxVomhZKOUoFShdEXpNVuSzWUns6vY/ex5ZXllV+Us5QblIeUlFU2VQJUClQ6V56oUVY5qrGqFap/qvJqSmpdavlqb2lN1sjpHPV79kPqA+qKGpkawxm6Nbo0ZTWlNN808zTbNcS26lq1Whlaj1kNtgjZHO0n7sPZ9HVTHVCdep1bnni6qa6aboHtYd3gVfpXFqtRVjavG9Gh6XL1svTa9CX2Wvqd+gX63/lsDNYMwg/0GAwbfDE0Nkw2bDJ8ZSRi5GxUY9Rr9aaxjzDOuNX64mr7aefW21T2r35nomsSYHDF5bMow9TLdbdpn+tXM3Ixv1m42a65mHmFeZz7GYXJ8OKWcWxZ4C3uLbRYXLT5bmlkKLM9a/mGlZ5Vk1Wo1s0ZzTcyapjWT1irWkdYN1kIbtk2EzVEboa2ybaRto+1LO1W7aLtmu2muNjeRe4r71t7Qnm/fab/oYOmwxeGqI+bo4ljsOOQk4RToVOP0wlnFOc65zXnexdRls8tVV7yrh+t+1zE3BTeeW4vbvLu5+xb3fg+ah79HjcdLTx1PvmevF+rl7nXAa3yt+trUtd3e4O3mfcD7uY+mT4bPz74EXx/fWt9XfkZ++X4D/gz/jf6t/h8D7APKAp4FagVmBfYFiQaFB7UELQY7BpcHC0MMQraE3A2VDU0I7QkjhgWFNYctrHNad3DdVLhpeFH4o/Wa63PX394guyF5w6WNohsjN56LwEcER7RGLEd6RzZGLkS5RdVFzfMceId4b6LtoiuiZ2OsY8pjpmOtY8tjZ+Ks4w7EzcbbxlfGzyU4JNQkvEt0TaxPXEzyTjqRtJIcnNyRQkqJSLmQKpGalNqfppiWmzacrptelC7MsMw4mDHP9+A3ZyKZ6zN7BExBumAwSytrV9ZEtk12bfannKCcc7niuam5g5t0Nu3ZNJ3nnHd8M24zb3NfvnL+jvyJLdwtDVuRrVFb+7apbivcNrXdZfvJHZQdSTt+KTAsKC/4sDN4Z2+hQuH2wsldLrvaikSK+EVju6121/+A+yHhh6E9q/dU7/lWHF18p8SwpLJkuZRXeudHox+rflzZG7t3qMys7Mg+wr7UfY/22+4/WS5enlc+ecDrQFcFu6K44sPBjQdvV5pU1h+iHMo6JKzyrOqpVqveV71cE18zWmtf21EnX7enbvFw9OGRI3ZH2usV6kvqvxxNOPq4waWhq1GjsfIY4Vj2sVdNQU0DxznHW5plm0uav55IPSE86Xeyv8W8paVVvrWsDW3Laps9FX7q/mnH0z3teu0NHayOkjNwJuvM658ifnp01uNs3znOufbz6ufrOhmdxV1I16au+e74bmFPaM/wBfcLfb1WvZ0/6/984qLyxdpLkpfKLlMuF15euZJ3ZeFq+tW5a3HXJvs29j27HnL9Yb9v/9ANjxu3bjrfvD7AHbhyy/rWxduWty/c4dzpvmt2t2vQdLDzF9NfOofMhrrumd/ruW9xv3d4zfDlEduRaw8cH9x86Pbw7uja0eFHgY8ej4WPCR9HP555kvzk3dPsp0vPto/jx4ufiz2vfCH/ovFX7V87hGbCSxOOE4Mv/V8+m+RNvvkt87flqcJX9FeV00rTLTPGMxdnnWfvv173eupN+puluaLfxX+ve6v19vwfdn8MzofMT73jv1v5s/S9zPsTH0w+9C34LLz4mPJxabH4k8ynk585nwe+BH+ZXspZJi5XfdX+2vvN49v4SsrKyn8ALqKQvFCn7rEAAAAgY0hSTQAAeiYAAICEAAD6AAAAgOgAAHUwAADqYAAAOpgAABdwnLpRPAAAAAJiS0dE//8UqzHNAAAACXBIWXMAAABIAAAASABGyWs+AAAAB3RJTUUH4QsHFSIhCv1cygAAHwFJREFUeNrt3Xm4TtX+APDPe+bRMR2OeabIkEhRUqFUVNJNits8KKXubb7V1TzqNqe521y6FVJJQqQiFUXIkGTKPJ3DGfbvj9f9aaBwOC/n7s/zeHj3Xmvv7/o+y37fvffaa8fbbtV70eRLlhZQ+PH21wuFoiJkzuHAr2iZQOK3LH6M5IHkBkz6kelrKLyRv77HOSl0r87P9WMdeGjvE0f+4SxYz2kbOf0ipk/i2+8oM4mB3TmvIonpjJjJZSexalXxdxsZS92zifwn1gkIxcSHzzO2/ZbPSYdx/+HMO5OK9+3afe2XweNPEnky1q0OlZy4Lf+MLCAyEQnRz5v6s3YCwUyqJnFCb87MJfVnyj/DBau56lMa/j1avm4iZ99K/abRzzWT6Fyf4/px+hwadIkurzaIK/9Kx+84+xXq9o11EkIl4xedzeMkXkx2bSo1odMTtDuJQe3Iv5dub3B+HqlfkpdG1S5ccCCVDolWz2xIrTzWxVG/MxcjeJq5J1HmEO59lBbLWNeIdeXJu57vZrO6S6yTECoZCVv+WRRQ7QTOq0PSVcS/zgOjGHExufsz+3D2W4qVbDiFx26kUw8aFTLuOjInM7kdi2tya2cqfMToBuRX4ae7OOZMzn+FCzuw6CnW3c8nkykqF+skhErGLzpbXFvmL+Ouj8nvjhMwc/PKLylsj4kIoouWrGXE4Rxdi3e/odHTDL+Y5DE0v5XZvaMdDVZdybTxHHoucROJ602kDgkJbIp1DkIl5JdfoxUo7Eb+BjxnS0f7r2r+v6NB4UCGbKL6QRyPNZez6E6CIaxZRJXqZFXbUj73eVYW4SocggkEC2OdgFDJ+WVn60jkIry99aJF9QnGUrRoy7JZrzO1gL+M5vOs6DYKHuKjatR+jIaHRculD6LmSN59iKKfKLqf+KZk9CLlVSKPxzoRod0vjswVdH2AajWp8j4946hQ8RdlulD1MRrmU2UVTY4n4Y3oqjWfMvwSxnZg2WrMo+glXk3krfqc/DbHNuakwXy9kpdbYwZfJpA8isuTqNWDyKpYJyK0+0VIfp06g6JnoApZeSizp7Phn5vL7EOZ66jfgDIHMOsfLKpOUb/o6jJjSPqc5bMIfnGESj+MBj3Y+AUF61jYlfV/ja5LOYpmD6AO0+5g3Q2xTkQoFAqFQqFQKBTaNe6IdQChvUNkJ+v1pExz9n+HLnOZ1JcxAcuPoKhtrBsVKlWaJjB0IqtXUbCQ9d/zxQqOqVbsTYdCW6Rmcc/VBMHv/7x3TfTCcCj0e3E7XqX6Ijq/svV1hzRn/59i3ajQnmknOlvGCCpfuPV1KdeQ0SrWjQqVGuUr88qCrX+NftOKFkfFOsLQnmknjmwrlvDaTcw7/NfLC/szLJNpPWPdqNCeKX7nqs3KZtLZBN3Jr0u5PmzAoGFMbRnrRoVKpciR1M7mnVujX6OPnkrqnbGOKlQqJd1N1QIu/AsbxjEljWY1Yh1VqFQqk8sRNWkyhy/PpzCXq+NJKB/ryEJ7np04QfilyLFEHmL57bycRFxDuq6h3FOxblio1EkqT9UNJLWlxffMH8eGHHrOQJ1YRxcqtTKbMujw6InCa5NILuZRMxT6lYRDKD+FpM3Pnx7flOU9WHAc7cIThdCulPk5h3amwoPRzxX/zfvDKHyeO+sQVxjrCEOlRtZIOi2h0smbF0S4qCkbR/BFIfseE+sIQ6VGShGNNpAxbsuyer2ZUZ78m7igOXFnxDrKUOlwBXGpeGnLovjnuadc9ETh7fmUWxXrIEOlww/ELyZy2C+W1eGgJfxcwPrRHLMcl8Q60FDs7eSN+P9KG0ejCdEptTb+d1LnVaxNo+EIDshg40O88yHBylg3NhRbxbwWlvg0VTaQsvHXy1dvYsRrrP+Rw/vR8qJYNzQUe8XsbEVtWfsGBb+d0O8OxvTjS9R8js51iTSPdWNDe7X4UygzjYQPt77+uvpsmsaYmtS6PdbRhkq1xkn80JUNa+nVDFNiHVFor5VQGJ1qKzl76+sTn+PR46KXQV5/g6yysY44FDvF/M2WfjPN3iHr562vz4/wVoQ1t9LxMvbLinWDQ3utrFocuT/ZV227TMX1DJsSPbrdcRLx4aN+oZ2RvIR69Un/o/k9hnF+OTZsZOYc9j0/1lGHSrUGTzCxOhuzuTQZnWMdUajkFXdY+Jkk1SGy/o/LzW7K6JYkLuXYf1Bj5vZtPxT6fxktObAZ5Y7/87Jtkll0Hiu+p+s3sY48tNfJupGOM8gu+vOySZm8mhQ9URg0kfR2sY4+VLKKe7tqKrmnUvjzn5fd9B9eupS8OzjuC+oNQWqsExDae3xE/IlEtvP6WZUH+XAVRZUZcD6Rk2LdgNDeoxy6oPL2FU+YzhVtKJjMV2OoXj3WDQjtNZLrUetd0upuf50WC5n+Amtr0Hs4qsa6FaG9QlZFjoyQfcH214mfwyMLKLyBIR2o2DHWrQiVjOI+SFxe9P2PVba/SmFdBjdl5Q8c2IPmxyAn1okI7fESB5Ezm+TVO1YvfQbvpxD05YE7SXsm1i0JlVqRBvReTX48sxpTf1KsIwrt8RIGUbEfSVsZhRvXk4SPtn1ZpMY8vriSwqH0e5fIvbFuTWiPViaV9n2osPzXy+s8zyXLufEjerUmbfTv68YH3FCLwssY9xTl3411a0K7V3FvxL9A8jHE99iyrGYF7uhG1ue81JxOi/n7G5RZ8eu6hRE+6MXcmuzXhU5/iXUyQnu0lDtosIiM/16crcs/nuCrl6m9eRajY59h/tF0OPT39TM+5flbovdLX7iDjOXbvevQ/5yTiVyDq6MfM1ozPIMhNxJ/V3RZg0eZ/TV/e5i4rYxj676KNY8wcy0H3R/rBoV2n+J+jY4kvhORjOjn7B8odz7Ll1J4ZXRZ7l2sLkfDV0nZ5/fb+DCLKdVpkEO3gSR1i3VSQnuktJdofiJZm78ymy9nam2mvcMDEf61jidX89O5vNGHsk1/v43I/fRtT+FpfDmWGv1j3arQ7lHc6ReaUTmB5NOin1cfxdoxzP2MlxN5uSVDDmVFJ9b1oeBiHED6JVR+G/MILmXkCGafQuOD6NJz51+DGtqTFbOzFS5hTScKNs8OvjzCyp6sfZIJm/hsJlPrkjCGqY+TO5DMgXROZuA3JN0arffj6bw9h6RETlxNWvtYJya06xWzs+UexbcTWbP5FUJrJzKhBVUepmz/6LJaddl4P5/0pHAGRbmsa0n5RkSabN7OYN6bzOKbad2dtm/HOjGhXa+4R7YC1j5BwS9eaPt8NvOr0ONG9qnDifV4/VomD4uuX380q1oTNEPGlnqThjL+e8r358SVJH4f6+SE9iiJ95IzmOT5v15eazIXj2fAs/T8jLTfXD87cArD55P8xK+X97mB9elML+CA8FWSoV/KepROR1FpBwZPwoH1Gf5QdPDlL1VrxuSlFI7kijujY99CpUVxx7NdTuFdBAduf5X4AZS5jvQ7Sf3NVAwLj+XN24g7kqMrkJ0Y6wSFdp1idra8c5jTjPU78I7RlI6kfML4f1Ku8a/XBffxVn1+uplDn6dDLyJJsU5SqNRKm8ojaze/lmgASd1jHVFo1yju7aq3SB5A3Hm7LqQNhzKiHauacmg8bSfGNEOhXaa487NNoUVFsk7bhTGt4tM5fJpF5aZ0SSYuHDZeChSzs8WnUWYAiSfu2rAWr+OdMmz8nCMr0OCA2KUotKsU96Luqaw7iIJDdm1Yaf9g2tMsWUvzunSYTeSB2KUptCsUs7Ote5bP4lhx6a4JJ7kJbfpxbC3qXMmYziRkc0JLKo6OdbJCsVUPT2D/YmzjTFLP4aA0zvqAkxbSpCdxtTh4Lssasa4vnTcWYx+hvV/yG9TuTPIOXGeDhK/JeoyqEQ6eRL8JdJtG7XokjtpSLqssr1wVvQzyyP0krop1i0M7L6F41ZPqc3AX1n7MmkvIeyN6gXf5kyzvQP6LZC2lUk/KXUdSP4oSqdiI5EGkR1hbjcEDWXIHRbNxxJbtr27H20kcW4VurXhyPybHOmehnVTMzmYaPiUykchlpH1NlYE0nUqwmuBjUs5n7f6sakFBZSIFLOrI4gyWTSb3v1M33L2V7b/DuPv44i3aXccxPZg8FuF4t/89iQeTfRrxg7csS7mf8kupsp7q75JTlvQ7dn4fkXu4vieFt/BJD+q/GOtWh0q1/b5jzmDW3kKv8B1Y/5sS8qhUkeQyu3c/cd/xRJ/oicJLw8maG+uWh3ZcMV9umzGBpq1YncqGH3ZfmMFPrM+n+0xqf8WHr/JjEpaWZLJCMZX1BJ1OpVKj3b+vCvEMTSE4m/tmEX9nrFsfKlEpZak3hfTLdv++4mty/iNsXMqsZOo9tOPbqN6Lsy7lgiKqXMpR13PPdNqVIaUBZ6zk+hVUySvxVP4PKO7gyX2Z3Zj183Z/qIXzGT2Eb86l+mKO6oqhO7aN5X+ncTpdhtEig7KraX4pRwyiyyKCV+l6DnV2cHLD0PYo7ni2DBJfIfKPkgl35hl8cDwJy+jxLlUr7Vj9gtuo9RQrqrOiPuP+RmSf6IQ2k5ux7F5WPcjS3iXTnv8txexsaVPZ7yXKrCmZcIOevLmGJQns/xytn8Fx21+/QRfq92HKDKb0oWEa1X7kk4NZ1IY2vfjhJhamlUx7/rcUs7MljCQ7leT3Si7kr75iwgrKjuCE/mR9vP11988jrgPv55Ibz6Ev8X1txs4i7Q6aH8/4FDadgXD6rl2suOPZHmP1HPKblFzIG1N58RTyTuHIAmp9rytq4Fpy9ifryK3VS6hPq1ZM/TuzLyVjFq06MfKF6JQRjftTaTnLJ1NzNHEflFybQtshbgjpG4mfWrL7zf6ZsV0ImnN9F8qPou4ksmqSdBF+TD2a8tN+WadGFsNWc2p3vE6rRoy9ngM3Py540grGPUu3hZQ9NtaZDe0BMvDi/o6K5F1bJalsENSsuvKKhou+O6nJK3OuaHTR9Jz9UoZWKTv77NlU/i7jV08uJO9H7cNI3Xx9Lv1aauWTmBn9nHkEdWaQNm0HQwqVjKRaVNuflLdKcKfZySce1Kh633e+7f5EENxzeBC8/kkQjHgxCAZXD4L7OgbBKXduvKRahSHVMma2urX8V7HOUei/ijkRWtZgDtzI14+zdMzuDjbzeoIljV+v0O7xe04f2u7TdhvITKVoGcGNRG4gcj0bejJmvHmvfTP646X1L9q3qMu01uuXlFRKQ9tSzBOEoCOFHxCsL952tk9Rw/TWKYf1b39ir4Pf7/go6ZdT2JtgQLQlwS0UIXUKnXLV7tit/bORIRc031QrPXzHwh6gmEe2pHXkrOHnPHJ3cHKZHZemU992jV9M6dsw+94KUyh6atstiHuRZUN4YN3qF8d+3um8oiYTN+zu+EJ/rJhHtk0ZzK9aEh0N1Td2qtm74d+zW1UYT9G3/vC/StHxVO5MvfGZDRLr1R+Awdu7o9DuUczOFpdMaoS4ebs/1OQlWR0bPFVpjFPj62L8nxTPoKga1f4Sd0OV0W1vijsjMbxIG2PFvV31Mc2nULYEJu5L6OUvZYfErSZ4yvaNxFtA3GAtkxITn4o/M/Lk7o8x9EeK+cBL/BQyR5FQAtN7b3hi9WVT2y+vT5CE2vij4ZqFRFqw+LEgbW7V/F75/0j6nE0RxXvGNVQMxRypm1iXrDn8fHn0Mb7d6ubkPjllK/Q97vMmS5JPSP4B25q5LZ+4fqxbzNDbI+1nn7VvotxDR5P0AauGsraAonB2pBJW3OkXFvF5e1Z+UxLBJr4xOXfiCSMv/mK6Ac7ZdvSRHhQex5h5Fn3TdG5ls9cXcuTDDJrL4GrccFd0DFvGDu0/FFttsEH01d27XWYZyh/RalmLzJkT7r0qCD7KCYKxtwXB2DJBMObtIBhbNQjGfhAEoy4OgrunBsE+GV+nJbx5zKMc0Zs7VzHzZwp+ij44s+AzXvqInhdS6Xbino11MkN/KKUXDaqSPrOk9nj39SRM61Kn4fDP0s+dVXjJM1OD4M0XguCdh4LgPxcHwbORIOgbKWxRd8xnreiUhAuiNZNWUm8iF49ibBorjo92urV3MiHCtb1o0pT05FhntbQq5g/7tJuo35R57Vizg6Nmi6Vx1p11F2w859zL67x/QMW69fddkTIvq1re2cv7zew/55mfz/v8xvx5g9quP3TebPz2Ntomyg+gfSrHvk+HD6mfSDCDBX0Z3oHhI/hkJsvCp7f2HJEqJPxA5L6S3nOlmhCfHb+w6k9lx3c9OvGhK+MqXnnEq+nv1hhM/PEVtuvphJTyHHgPVz/KpLZsrB092i3rxPDBXHYEdW4iYTc/FxvaK6S9APFnUy4VB2SN2pmtxG2i6hec/AFv7c/CFdFOl38s00ZxVzPafk35K2Ld3r1Z+Pq730n5ljb/pltFOhTR7BASWrHkKj5ezpATGRcwdwLuiXW0e5NS0tlSTifrryzPo6DrrtlmfE8abaDdvpy0jnYJZPyLjYv48ineq8mbL/PdMWy6JNYZCJWYSvfRIYuMN3fP9ivUoeNZPP0g308nOIWgAT8m8mIOx0ygcjiq5E8U8w7CniJzFTnP8dMCNg3Z9dvPXcWcL3lnDSOP56dE4tvRIJ+Wkzm+NwdUo9wcNh3A4ukYEOus7GlKyddo+lQqfcRPFdi0jXcyxK+i9ZW0+YyV8xiZw8IZO7/PmqNoewpd0TGXSmspGMKMUYzO5j8T+Lwz6+7F/J3fT2hP0woPij7QtxVxR3NKb968nCOHc3llnouj9lSkF2/XmTM4oA63r2ZKVzY2iZ7JLu/A0B6cVoE6pxC/24fNh0pE3PEkDSSyjafja3dg4niuyEM9avXgw1MY8CXxC3dNDJF51DqDvvG82Zpl7aOdbtOjTJ7NjY/Q9kdSV8Y6W6FiKZfPAVmkVd/Kym70PIjZT9HprOiixBY88gJffEbGbniZR4U4ji7Pc1OYP4zCOtGON/sjnjuLU6pS9q/EZcc6c6EdlvMqnRPJnP37dZGaXN+eadNo/Yun3G/5lGWtqV1t98RUvwp9VtAyl79lMrY3q8Zsvh97BZ8lc3mEJutIaRbrDJaEUnI2mnQXqbVZsoD839yoijxB1/Ec1Iz4deyTxMHNaHcM1a/hnSx+3MUT45RZy5Fv82kB37aP/j2kCt9OZcNEcj6n8fd0PpJOG6j9Mgk3sex4cofFOpu7S3Gnpt9DrJ7JtwXkbW3qrnfJHUrBGFb+xNLNU0WsTyNoTG42cZVIe4C4d9gwm4JXdz6WuI60yWVVG+Z8F10WFLH8PV7DsGG0CDiiESdNpsntXDqD07szIZWhSbw7kUX3UPB8rDMb2jEv0rc904+lzaIti2+fxdyPyO5G21e450LeGsK11ShXjEGl+07h7IGkfvjH5eKnUf1ket/EO8+y+K3oV2zeIXx9N3cMofVCsj6NdQJDv5LWjxpPkriV32ziaPEJX97GCZuPFOmf8kJ/HptF9kwO6U3FCbQ9g3Flabdg5+Iody6X/Z2GO/I78ADSx9JpE/eO4Os3KbqIYB5Ll/BCH3qNo9qIWGc5BHLuptNbZE7a+vrkv3Hr/TzUi6pX0CWeYX+j7cEkNCe+f7RcpQo8fCatO+x4DJFhdJ/EMfcTv5MXcRMSaVqFvt8x+kjWjdp8QjGAMbO54TD2qx59jVMoRirX4PDnyQi2XSa7Juc+zl0nM/BQDhtGXL0t6yNdOWwUFzYlfUdvNd1HywgXXkjmW7ugQTdR8TqOrsO/T2buominK5rJ3G95bCOdviInnCGz5KXVpPoHJL71x+Ui3UhoR/zrfnerrsomTn6cajtxM7/MQi5OZp+iXd+2xOs54C5unM24a9lwTrTjrWzGu9Xpm0/jfsQV7K7shnadcVRvTtdWNLmFSm/S5BES/rV91SuNps9dHHH17g+17gJ69ue1rtEJqIOAoiy+uoqBcRycR+qDO7LFtLOpOIy0h8jYjxRU7EyFcLKKbYkfEU1XXM6O101uywWTGHIkr/Tj1TkcXp1I+T+vWyuRc2vR/jTiCkuuvWX60uYe/nU6U2ew6b1ox1t6NEPOpOe91PwbcTW2tYWbbyB7DST9PaVsg2q0eZMTW9Dp3fj5zYLk8dn31ixHVnha8lsVe3LweNL770Tlg4ibQ8JrJFaNzkQZ2Y4ZyFsM5bxW7PcNSuCotjWRgLrL6HcuwwazqnK00+WOZdxQrvmAg0dHb89tkbP5BZrZVRscVDHvtkParJzy1rEvbQh6PllwY/dv8id2uXXJi/t+9HbtpOv+8kmZa1Ovzpq045GVYjn96HQ6mSUw6XJCCod+zQXPULd5rFu+RaU1HJvDoBzmrqJwBsGjfD+Zf/+Dbl9Tvi2RQyAp47D+NR4c9cM5NYv++ewXQfBunyAYtzYIPloXBG++FwR33x8EHR5Y+nS54bc+V65O2kuxbt0epPxztFpE2jW7dz+pP9L9bXqfSsUdeP9CSUrryL7Vubo9n97O2lnRo92a8oy+mfPLJHxz9MO13xpz2K23BsHI6kHwcY8gGPNqEIweFwRjqgbB2N5BMLZmELxRNQi6TlgzLm3KZfOIu624kZWSwZOOws3og+92zy4qZ3JIR4KXGDaQTdfFutF/4gcq3cFR2XR+iA6TqV5LZsGCjCNzj+1TITP/pDzTEo4jqOzXU1kUoRqRcsyexz1rZx01/6E+7de9+elvbwfmUn8pTeNZ+gxfTeSwu6jQlGHvkjCZLtexcH/GnlBKbsTrTWTC5jR9v2s3nXIz9Qs4ZjHzljCyPvkXxLrB2+FfrJ/ElDF88DXjX2PhS4KcAY3PqDa2Zz1XlL+TovP8/g55BOtQl/I9ye9QofeE7O/TioaOX/Cb/LanQituqUR8VeK/os7TXNKbJUup8QP7vkqPpxgVV8yJZfYUmaOo34TkfXfdNiuuoGUnTp3HAQ/x/qGMq03BybFu7Y5b15Bx13DTbMMu31D1uLzx1X+icCYS/6DaeOLPoPYccuY3OorMyb8pcRSph5GSzpoTWTmSHwaxoR2ZOUwpJFjFvNGsaFdKOlvas9RsRtKm4m8rpz/dDueYn6g/io++4+UBzBlO0V5+Uzx/WdKUnBWVfoh7OHK1P57fDhII3o5eaKl20z6nZiwq/8nvCzV/l6xFTJ3JZ7fRNom8UYzLZ1EuLa9i0nI29CslQ4yCMhQdRPAFHt7x+kmHUjGN9v1JXchPGP048wv9+YSqe5MTC3M2PZtXqejWSCb+ZFyKAKeS/zS5s9adHwzM/80F44RHaHUa8y5nYltSm9HyAz7P4btGND+RrCv56mhMLCWdbdUHfPkc69r8edmMhyjTjcyLCK4nbSgNGpFWl2+rMasTq0tJXn7n+sLeX0z6+eT8Grkfpkh+jqCPbZ8mJhEZzPIFzJ0zvdb6J1cO/3WB6hnsty+vpbGqAwfnU/YxXv+GwhPp9DgrDyJvOOUOLyVJ3XQqNW+h6bUsxqYbCG4j6TIqvkq5phTEkzSepIXEn0vk3xTUIa0xX5/Md5Wjn5Xqh43jq656YdHKaaunXd7m6ZY3EGRj2VYKBtHpgtb35OsH1iXnzZm0iNzfjGap/R+S72PcDxhJy1RW7svMAuxDvbNYO5bUNAqXlpLOlvIE1YZTZTEpd5N6MjkvsPJxlj3L8iMoeA91WHk7Kz5mdeXNlSfhf+IZAEhtsix+/rzH1o46dd+Tak0r80bFtyl6hmCkLWel+UTyCFYw7nU+GTbm9fS8ESdvqu43rzOf0ZyrhjN78/KRtzLhdNatQWseXk7So3z7BLmXx7rtu0iljzn8UsonRF+IlnYsWRdGX74btzdcpigxaf3JOitpctmfb/9r9+zcVi/0CYIxFwfBxwuCYOyIIPi4RhCMmx4E798VBANOC4KGuV8ti2/dpkeDi2Id+R4jJ4eO3cgMZwLfDmVfhvL3lzv5b/0OWDznkX7ZQfCvK4LgmTuCYFD7IPjnTUFwSpXcpTU/HDKDQ64hsktm4ywldxDSy1KxF4sms2kvvzxRQr6n47pI+5Gz261Nf6btC43WteuQMKbW8riaq1ctjp/24Pz/TKhY9tYRDVbELz7CK7EOds9SCYcKp//eIVUXkXk6xH2X1L/MXLL3i7xX/oiEA1OvfboG2bt44tpScmSLe4nEuWzKI7g51tHsbSK5VPs36/cjdTUFw/n5oehlttDvlH+ZVhtI+0fxtxXaXUrJ7aqkPMqtI/70WEcS2rZSMuojKZ3U61g6nfzdNMQoFALxh5N6CJESea1RKBQKlYT0E6hdi6TwN1tod8t5mk4LyZwe60hC21ZKzkaLjqOgMUEx58cNhf5U6vlUHUJil1hHEgqF9gCl5DpbQg/SalNwDMFnsY4mtHWlZPBk2XNoWJOvv2J9rIMJbUMp6WwJn5E+m7iWsY4ktG2l5Gx0Y3eWp1LYPtaRhEq/LDQRnV4sFNqthhEpwrmxDiRU6mWupNFAkr+NdSShbSslJwhpqdT4Jwt/ZmOsgwltQyk5QQieoqAswcGxjiRU6iUlUa4q8WfHOpJQKLQHKCW3q1Jfp3It8lpTFN6uCu1Olatw+KNkhC+e2IOVkrNRE4hbRqR/rAMJlXrpR1Arj6QesY4ktG3/B/0lpTSCGykPAAAAJXRFWHRkYXRlOmNyZWF0ZQAyMDE3LTExLTA3VDE2OjM0OjMzLTA1OjAwo9/UZQAAACV0RVh0ZGF0ZTptb2RpZnkAMjAxNy0xMS0wN1QxNjozNDozMy0wNTowMNKCbNkAAAAfdEVYdHBzOkhpUmVzQm91bmRpbmdCb3gAMjA2eDIyNyswKzBIXAAcAAAAHHRFWHRwczpMZXZlbABBZG9iZS0yLjAgRVBTRi0yLjAK/loFAwAAAABJRU5ErkJggg==\">\n",
    "\n",
    "The position of the arms at any moment in time is uniquely specified by the two angles $\\theta_1$ and $\\theta_2$.  The equations of motion for the angles are most easily derived using the Lagrangian formalism. The resulting pair of equations are\n",
    "\n",
    "$$\\begin{align}\n",
    "2\\ddot\\theta_1 + \\ddot\\theta_2 \\cos(\\theta_1-\\theta_2) &+ \\dot\\theta_2^2 \\sin(\\theta_1-\\theta_2) + 2{g\\over\\ell} \\sin\\theta_1 = 0\\,,\\\\\n",
    "\\ddot\\theta_2 + \\ddot\\theta_1 \\cos(\\theta_1-\\theta_2) &- \\dot\\theta_1^2 \\sin(\\theta_1-\\theta_2) + {g\\over\\ell} \\sin\\theta_2 = 0\\,.\n",
    "\\end{align}$$\n",
    "\n",
    "These are second-order equations, but we can convert them into first-order ones by the usual method, defining two new variables, $\\omega_1$ and $\\omega_2$, thus:\n",
    "\n",
    "$$\\dot\\theta_1 = \\omega_1,\\qquad \\dot\\theta_2 = \\omega_2\\,.$$\n",
    "\n",
    "In terms of these variables our equations of motion become\n",
    "\n",
    "$$\\begin{align}\n",
    "2\\dot\\omega_1 + \\dot\\omega_2 \\cos(\\theta_1-\\theta_2) &+ \\omega_2^2 \\sin(\\theta_1-\\theta_2) + 2{g\\over\\ell} \\sin\\theta_1 = 0\\,,\\\\\n",
    "\\dot\\omega_2 + \\dot\\omega_1 \\cos(\\theta_1-\\theta_2) &- \\omega_1^2 \\sin(\\theta_1-\\theta_2) + {g\\over\\ell} \\sin\\theta_2 = 0\\,.\n",
    "\\end{align}$$\n",
    "\n",
    "Finally we have to rearrange these into the standard form with a single derivative on the left-hand side of each one, which gives\n",
    "\n",
    "$$\\begin{align*}\n",
    "\\dot\\omega_1 &= - {\\omega_1^2\\sin(2\\theta_1-2\\theta_2) + 2\\omega_2^2\\sin(\\theta_1-\\theta_2) + (g/\\ell) \\bigl[ \\sin(\\theta_1-2\\theta_2) + 3 \\sin\\theta_1 \\bigr]\\over 3 - \\cos(2\\theta_1-2\\theta_2)}, \\\\ \\\\\n",
    "\\dot\\omega_2 &= {4\\omega_1^2\\sin(\\theta_1-\\theta_2) + \\omega_2^2\\sin(2\\theta_1-2\\theta_2) + 2(g/\\ell) \\bigl[ \\sin(2\\theta_1-\\theta_2) - \\sin\\theta_2 \\bigr]\\over 3 - \\cos(2\\theta_1-2\\theta_2)}.\n",
    "\\end{align*}$$\n",
    "\n",
    "(If you want to try deriving it yourself, this last step involves some trigonometric identities.)\n",
    "\n",
    "These two equations, along with the equations $\\dot{\\theta}_1=\\omega_1$ and $\\dot{\\theta}_2=\\omega_2$, give us four first-order equations which between them define the motion of the double pendulum.\n",
    "\n",
    "1. Write a program to solve the equations of motion from $t=0$ to $t=60$ seconds for the case where $\\ell=0.4$ meters, with the initial conditions $\\theta_1=\\theta_2=\\pi$ rad, $\\omega_1=0$, and $\\omega_2=0.001$ rad/s.\n",
    "\n",
    "\n",
    "2. The mechanical energy of the system is given by\n",
    "\n",
    "  $$E = m\\ell^2 \\bigl[ \\omega_1^2 + \\tfrac12 \\omega_2^2 + \\omega_1\\omega_2 \\cos(\\theta_1-\\theta_2) \\bigr] - mg\\ell(2\\cos\\theta_1 + \\cos\\theta_2)\\,.$$\n",
    "\n",
    "  Calculate the total energy of the system assuming that the mass $m=1$ kg, and make a graph of energy as a function of time from $t=0$ to $t=60$ seconds. Store the energy in an array named `E`. Before you move on, make sure that energy is conserved."
   ]
  },
  {
   "cell_type": "code",
   "execution_count": null,
   "metadata": {
    "deletable": false,
    "nbgrader": {
     "cell_type": "code",
     "checksum": "7354510a0bdec062f85c699a778dae08",
     "grade": false,
     "grade_id": "cell-03e266b303b96709",
     "locked": false,
     "schema_version": 3,
     "solution": true,
     "task": false
    }
   },
   "outputs": [],
   "source": [
    "%%graded # 10 points\n",
    "\n",
    "# YOUR CODE HERE"
   ]
  },
  {
   "cell_type": "code",
   "execution_count": null,
   "metadata": {
    "deletable": false,
    "editable": false,
    "nbgrader": {
     "cell_type": "code",
     "checksum": "7d3258fea00f6828c489e683ada8d69d",
     "grade": true,
     "grade_id": "cell-ea1fc828a549d0b8",
     "locked": true,
     "points": 10,
     "schema_version": 3,
     "solution": false,
     "task": false
    }
   },
   "outputs": [],
   "source": [
    "%%tests\n",
    "\n",
    "_test.similar(E, 11.76*np.ones(len(E))) # E should be constant"
   ]
  },
  {
   "cell_type": "markdown",
   "metadata": {
    "deletable": false,
    "editable": false,
    "nbgrader": {
     "cell_type": "markdown",
     "checksum": "7a5cbd492a7b7f48a3d2e1f48f1ced50",
     "grade": false,
     "grade_id": "cell-1aa72c4d92d5b14f",
     "locked": true,
     "schema_version": 3,
     "solution": false,
     "task": false
    }
   },
   "source": [
    "Make an animation of the motion of the double pendulum that moves in real time (i.e. your animation should be 60 seconds long).\n",
    "\n",
    "> Make sure that every time step in your animation is the same size. The motion of the pendulum should be smooth."
   ]
  },
  {
   "cell_type": "code",
   "execution_count": null,
   "metadata": {
    "deletable": false,
    "nbgrader": {
     "cell_type": "code",
     "checksum": "083889d7b5a8bc600e1779f43dd20612",
     "grade": true,
     "grade_id": "cell-900c4f82e4a6041e",
     "locked": false,
     "points": 10,
     "schema_version": 3,
     "solution": true,
     "task": false
    }
   },
   "outputs": [],
   "source": [
    "%%graded # 10 points\n",
    "\n",
    "# YOUR CODE HERE"
   ]
  }
 ],
 "metadata": {
  "kernelspec": {
   "display_name": "Python 3 (ipykernel)",
   "language": "python",
   "name": "python3"
  },
  "language_info": {
   "codemirror_mode": {
    "name": "ipython",
    "version": 3
   },
   "file_extension": ".py",
   "mimetype": "text/x-python",
   "name": "python",
   "nbconvert_exporter": "python",
   "pygments_lexer": "ipython3",
   "version": "3.10.5"
  }
 },
 "nbformat": 4,
 "nbformat_minor": 4
}
