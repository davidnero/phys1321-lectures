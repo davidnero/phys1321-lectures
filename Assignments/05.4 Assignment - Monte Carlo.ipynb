{
 "cells": [
  {
   "cell_type": "markdown",
   "metadata": {
    "slideshow": {
     "slide_type": "slide"
    }
   },
   "source": [
    "Fill in any place that says `# YOUR CODE HERE` or YOUR ANSWER HERE, as well as your name and collaborators below.\n",
    "Grading for pre-lecture assignments is all or nothing. Partial credit is available for in-class assignments and checkpoints, but **only when code is commented**."
   ]
  },
  {
   "cell_type": "code",
   "execution_count": null,
   "metadata": {},
   "outputs": [],
   "source": [
    "NAME = \"\"\n",
    "COLLABORATORS = \"\""
   ]
  },
  {
   "cell_type": "markdown",
   "metadata": {},
   "source": [
    "---"
   ]
  },
  {
   "cell_type": "code",
   "execution_count": null,
   "metadata": {
    "deletable": false,
    "editable": false,
    "nbgrader": {
     "cell_type": "code",
     "checksum": "dcb8530125ad5f462523afa32fc033f2",
     "grade": false,
     "grade_id": "cell-74f38b64d258d93e",
     "locked": true,
     "schema_version": 3,
     "solution": false,
     "task": false
    }
   },
   "outputs": [],
   "source": [
    "import grading_helper as _test"
   ]
  },
  {
   "cell_type": "code",
   "execution_count": null,
   "metadata": {
    "deletable": false,
    "nbgrader": {
     "cell_type": "code",
     "checksum": "8724f9874a4460815de22e13bf33e08b",
     "grade": false,
     "grade_id": "cell-76dabab5228e11a2",
     "locked": false,
     "schema_version": 3,
     "solution": true,
     "task": false
    }
   },
   "outputs": [],
   "source": [
    "# Space for imports, utility functions, etc.\n",
    "\n",
    "# YOUR CODE HERE"
   ]
  },
  {
   "cell_type": "markdown",
   "metadata": {
    "deletable": false,
    "editable": false,
    "nbgrader": {
     "cell_type": "markdown",
     "checksum": "b06430086d1128806405b45b1746efd0",
     "grade": false,
     "grade_id": "cell-326e215af7f420f6",
     "locked": true,
     "schema_version": 3,
     "solution": false,
     "task": false
    }
   },
   "source": [
    "# A Random Point on the Surface of a Sphere\n",
    "\n",
    "(Adapted from textbook exercise 10.12)\n",
    "\n",
    "Suppose you wish to choose a random point on the surface of the Earth. That is, you want to choose a value of the latitude and longitude such that every point on the planet is equally likely to be chosen. In a physics context, this is equivalent to choosing a random vector direction in three-dimensional space (something that one has to do quite often in physics calculations). If we just chose uniformly distributed values of latitude and longitude, we'd end up with too many points near the poles (or $z$-axis), and not enough near the equator (the $xy$-plane).\n",
    "\n",
    "Recall that in spherical coordinates $\\theta,\\phi$ the element of solid angle is $\\sin \\theta\\,d\\theta\\,d\\phi$, and the total solid angle in a whole sphere is $4\\pi$. Hence the probability of our point falling in a particular element is\n",
    "$$p(\\theta,\\phi)\\,d\\theta\\,d\\phi = \\frac{\\sin \\theta \\,d\\theta\\,d\\phi}{4\\pi}\\,.$$\n",
    "We can break this up into its $\\theta$ part and its $\\phi$ part thus:\n",
    "\n",
    "$$p(\\theta) = \\frac{\\sin \\theta}{2}\\,,$$\n",
    "\n",
    "$$p(\\phi) = \\frac{1}{2\\pi}\\,.$$\n",
    "\n",
    "1. Find formulas (by hand) for generating angles $\\theta$ and $\\phi$ drawn from the distributions $p(\\theta)$ and $p(\\phi)$. (The $\\phi$ one is trivial, but the $\\theta$ one is not.)\n",
    "2. Write a program that generates a random $\\theta$ and $\\phi$ using the formulas you worked out.\n",
    "3. Use your program to generate 10,000 such random points, convert the angles to $x,y,z$ coordinates assuming the radius of the sphere is 1, and save the results in three arrays named `x`, `y`, and `z`."
   ]
  },
  {
   "cell_type": "code",
   "execution_count": null,
   "metadata": {
    "deletable": false,
    "nbgrader": {
     "cell_type": "code",
     "checksum": "8cdcab9bf3c1b66a0390d5b14d17de1b",
     "grade": false,
     "grade_id": "cell-b22868219cde38a7",
     "locked": false,
     "schema_version": 3,
     "solution": true,
     "task": false
    }
   },
   "outputs": [],
   "source": [
    "%%graded # 7 points\n",
    "\n",
    "# YOUR CODE HERE"
   ]
  },
  {
   "cell_type": "code",
   "execution_count": null,
   "metadata": {
    "deletable": false,
    "editable": false,
    "nbgrader": {
     "cell_type": "code",
     "checksum": "bbd9d439ec97ed8beda99dca62a637cb",
     "grade": true,
     "grade_id": "cell-fb700eec3f6c1bb8",
     "locked": true,
     "points": 7,
     "schema_version": 3,
     "solution": false,
     "task": false
    }
   },
   "outputs": [],
   "source": [
    "%%tests\n",
    "_test.equal(len(x), 10000)\n",
    "_test.equal(len(y), 10000)\n",
    "_test.equal(len(z), 10000)\n",
    "\n",
    "# check range\n",
    "assert max(x) <= 1\n",
    "assert min(x) >= -1\n",
    "assert max(y) <= 1\n",
    "assert min(y) >= -1\n",
    "assert max(z) <= 1\n",
    "assert min(z) >= -1\n",
    "\n",
    "# check distirbution of value. The plot you make in the next part is a\n",
    "# visual version of this test\n",
    "import numpy as _np\n",
    "_hist, _ = _np.histogram(x, bins=5)\n",
    "_test.similar(_hist/2000, _np.ones(5), rtol = 0.1)\n",
    "_hist, _ = _np.histogram(y, bins=5)\n",
    "_test.similar(_hist/2000, _np.ones(5), rtol = 0.1)\n",
    "_hist, _ = _np.histogram(z, bins=5)\n",
    "_test.similar(_hist/2000, _np.ones(5), rtol = 0.1)"
   ]
  },
  {
   "cell_type": "markdown",
   "metadata": {
    "deletable": false,
    "editable": false,
    "nbgrader": {
     "cell_type": "markdown",
     "checksum": "cfab78dd42879702d8ce5d21dae0844c",
     "grade": false,
     "grade_id": "cell-019ce4d59ff06455",
     "locked": true,
     "schema_version": 3,
     "solution": false,
     "task": false
    }
   },
   "source": [
    "Plot the $(x, y)$ and $(x, z)$ coordinates of the points (as dots) to verify that they are properly distributed. Set `alpha=0.2` (transparency) in your plot to make the points more visible.\n",
    "\n",
    "> Watch out for central spots or equitorial gaps in your images. Those are signs that the random numbers are not being drawn from the correct distribution."
   ]
  },
  {
   "cell_type": "code",
   "execution_count": null,
   "metadata": {
    "deletable": false,
    "nbgrader": {
     "cell_type": "code",
     "checksum": "646b39c9f736a430fd4d832a36dabdd0",
     "grade": true,
     "grade_id": "cell-f308fb92ff818f02",
     "locked": false,
     "points": 2,
     "schema_version": 3,
     "solution": true,
     "task": false
    }
   },
   "outputs": [],
   "source": [
    "%%graded # 3 points\n",
    "\n",
    "# YOUR CODE HERE"
   ]
  },
  {
   "cell_type": "code",
   "execution_count": null,
   "metadata": {
    "deletable": false,
    "editable": false,
    "nbgrader": {
     "cell_type": "code",
     "checksum": "54c555ceca92a3a3d925a669ad9e4e1c",
     "grade": true,
     "grade_id": "cell-fa6f920261a68f5e",
     "locked": true,
     "points": 1,
     "schema_version": 3,
     "solution": false,
     "task": false
    }
   },
   "outputs": [],
   "source": [
    "%%tests\n",
    "\n",
    "_test.code_contains(\"alpha\")\n",
    "_test.plot_shown()"
   ]
  }
 ],
 "metadata": {
  "kernelspec": {
   "display_name": "Python 3",
   "language": "python",
   "name": "python3"
  },
  "language_info": {
   "codemirror_mode": {
    "name": "ipython",
    "version": 3
   },
   "file_extension": ".py",
   "mimetype": "text/x-python",
   "name": "python",
   "nbconvert_exporter": "python",
   "pygments_lexer": "ipython3",
   "version": "3.7.3"
  }
 },
 "nbformat": 4,
 "nbformat_minor": 2
}
