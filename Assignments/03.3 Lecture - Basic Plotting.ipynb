{
 "cells": [
  {
   "cell_type": "markdown",
   "metadata": {
    "slideshow": {
     "slide_type": "slide"
    }
   },
   "source": [
    "Fill in any place that says `# YOUR CODE HERE` or YOUR ANSWER HERE, as well as your name and collaborators below.\n",
    "Grading for pre-lecture assignments is all or nothing. Partial credit is available for in-class assignments and checkpoints, but **only when code is commented**."
   ]
  },
  {
   "cell_type": "code",
   "execution_count": null,
   "metadata": {},
   "outputs": [],
   "source": [
    "NAME = \"\"\n",
    "COLLABORATORS = \"\""
   ]
  },
  {
   "cell_type": "markdown",
   "metadata": {},
   "source": [
    "---"
   ]
  },
  {
   "cell_type": "markdown",
   "metadata": {
    "deletable": false,
    "editable": false,
    "nbgrader": {
     "cell_type": "markdown",
     "checksum": "3ef11e599ccd171cfe59543453bc6486",
     "grade": false,
     "grade_id": "cell-ec0c8f83ffb0d9c7",
     "locked": true,
     "schema_version": 3,
     "solution": false
    }
   },
   "source": [
    "# Learning Objectives\n",
    "\n",
    "This lecture will show you how to:\n",
    "1. Make 1-D graphs using *Matplotlib*\n",
    "2. Customize the appearance of your graphs\n",
    "3. Create figures with multiple subplots"
   ]
  },
  {
   "cell_type": "code",
   "execution_count": null,
   "metadata": {
    "deletable": false,
    "editable": false,
    "nbgrader": {
     "cell_type": "code",
     "checksum": "1a83a543fa8de564025fbe4651fd4bc9",
     "grade": false,
     "grade_id": "cell-abd1b2cca923116d",
     "locked": true,
     "schema_version": 3,
     "solution": false
    }
   },
   "outputs": [],
   "source": [
    "# imports\n",
    "import numpy as np\n",
    "import matplotlib.pyplot as plt # plotting\n",
    "\n",
    "import grading_helper as _test"
   ]
  },
  {
   "cell_type": "markdown",
   "metadata": {
    "deletable": false,
    "editable": false,
    "nbgrader": {
     "cell_type": "markdown",
     "checksum": "87a23df8e7ebc4e654cdbd30c2fc2208",
     "grade": false,
     "grade_id": "cell-fd4c445965bbd3eb",
     "locked": true,
     "schema_version": 3,
     "solution": false
    }
   },
   "source": [
    "# Plotting a 1-D Array"
   ]
  },
  {
   "cell_type": "code",
   "execution_count": null,
   "metadata": {
    "deletable": false,
    "editable": false,
    "nbgrader": {
     "cell_type": "code",
     "checksum": "6c44358fb96b71f00da41880777227a9",
     "grade": false,
     "grade_id": "cell-2134bbe60932de24",
     "locked": true,
     "schema_version": 3,
     "solution": false
    }
   },
   "outputs": [],
   "source": [
    "%video Cia8UYhaEfE"
   ]
  },
  {
   "cell_type": "markdown",
   "metadata": {
    "deletable": false,
    "editable": false,
    "nbgrader": {
     "cell_type": "markdown",
     "checksum": "a8b95bed31fcd0c671c559bde7f66293",
     "grade": false,
     "grade_id": "cell-5fa018e5c6f22714",
     "locked": true,
     "schema_version": 3,
     "solution": false
    }
   },
   "source": [
    "Summary:\n",
    "- Typical import statement: `import matplotlib.pyplot as plt`\n",
    "- Make a line plot using `plt.plot(x, y)` then show it with `plt.show()`"
   ]
  },
  {
   "cell_type": "code",
   "execution_count": null,
   "metadata": {},
   "outputs": [],
   "source": []
  },
  {
   "cell_type": "markdown",
   "metadata": {
    "deletable": false,
    "editable": false,
    "nbgrader": {
     "cell_type": "markdown",
     "checksum": "c4dca94c523426925a49a977e01e7b49",
     "grade": false,
     "grade_id": "cell-ba6487f4150fc6a6",
     "locked": true,
     "schema_version": 3,
     "solution": false
    }
   },
   "source": [
    "# What are `*args` and `**kwargs`?"
   ]
  },
  {
   "cell_type": "code",
   "execution_count": null,
   "metadata": {
    "deletable": false,
    "editable": false,
    "nbgrader": {
     "cell_type": "code",
     "checksum": "99232bf7dfe2f4f9fe216364669444d0",
     "grade": false,
     "grade_id": "cell-30d9cb8e46897fad",
     "locked": true,
     "schema_version": 3,
     "solution": false
    }
   },
   "outputs": [],
   "source": [
    "%video f4G2N5GTZ18"
   ]
  },
  {
   "cell_type": "markdown",
   "metadata": {
    "deletable": false,
    "editable": false,
    "nbgrader": {
     "cell_type": "markdown",
     "checksum": "d56196e28ba14ca3d1fdf25e2ba2cc27",
     "grade": false,
     "grade_id": "cell-ff287146601d93ad",
     "locked": true,
     "schema_version": 3,
     "solution": false
    }
   },
   "source": [
    "Summary:\n",
    "- `*args` means \"any number of positional arguments.\"\n",
    "- `**kwargs` means \"any number of keyword arguments.\""
   ]
  },
  {
   "cell_type": "code",
   "execution_count": null,
   "metadata": {},
   "outputs": [],
   "source": []
  },
  {
   "cell_type": "markdown",
   "metadata": {
    "deletable": false,
    "editable": false,
    "nbgrader": {
     "cell_type": "markdown",
     "checksum": "6b988997f78bc6338876e48869db52c9",
     "grade": false,
     "grade_id": "cell-f1a1d118b438df37",
     "locked": true,
     "schema_version": 3,
     "solution": false
    }
   },
   "source": [
    "# Customizing Your Plots"
   ]
  },
  {
   "cell_type": "code",
   "execution_count": null,
   "metadata": {
    "deletable": false,
    "editable": false,
    "nbgrader": {
     "cell_type": "code",
     "checksum": "dd4aece02510441656ef8e338f0b9fb4",
     "grade": false,
     "grade_id": "cell-a23884cd333263e6",
     "locked": true,
     "schema_version": 3,
     "solution": false
    }
   },
   "outputs": [],
   "source": [
    "%video 5d2nxZ607Kg"
   ]
  },
  {
   "cell_type": "markdown",
   "metadata": {
    "deletable": false,
    "editable": false,
    "nbgrader": {
     "cell_type": "markdown",
     "checksum": "8b10bce4836792830ef6e21443acd3c8",
     "grade": false,
     "grade_id": "cell-ba03145392faefc7",
     "locked": true,
     "schema_version": 3,
     "solution": false
    }
   },
   "source": [
    "Summary:\n",
    "- Set `color` and `linestyle` using keyword arguments.\n",
    "- A format string can be used as a shortcut: `plt.plot(x, y, \"g--\")` makes a green dashed line.\n",
    "\n",
    "\n",
    "- Set the limits with `plt.xlim` and `plt.ylim`\n",
    "- Adjust figure size with `plt.figure(figsize=(width, height))`\n",
    "- Add a title with `plt.title` and label the axes with `plt.xlabel` and `plt.ylabel`\n",
    "\n",
    "\n",
    "- Add a legend with `plt.legend` (give each plot a `label` keyword).\n",
    "- Add a grid with `plt.grid`\n",
    "- Add horizontal and vertical lines with `plt.axhline` and `plt.axvline`"
   ]
  },
  {
   "cell_type": "code",
   "execution_count": null,
   "metadata": {},
   "outputs": [],
   "source": []
  },
  {
   "cell_type": "markdown",
   "metadata": {
    "deletable": false,
    "editable": false,
    "nbgrader": {
     "cell_type": "markdown",
     "checksum": "b2e3c8e32c712c64aad9a94d09015b7b",
     "grade": false,
     "grade_id": "cell-6587c24a92522869",
     "locked": true,
     "schema_version": 3,
     "solution": false
    }
   },
   "source": [
    "## Your Turn\n",
    "\n",
    "Plot something using `plt.plot` and `plt.show`. Use a red line. Add a title to your plot with `plt.title`."
   ]
  },
  {
   "cell_type": "code",
   "execution_count": null,
   "metadata": {
    "deletable": false,
    "nbgrader": {
     "cell_type": "code",
     "checksum": "f826bebb2ff5ee8876e324befb62f5b3",
     "grade": false,
     "grade_id": "cell-dbbd0e0871dc068a",
     "locked": false,
     "schema_version": 3,
     "solution": true
    }
   },
   "outputs": [],
   "source": [
    "%%graded # 2 points\n",
    "\n",
    "# YOUR CODE HERE"
   ]
  },
  {
   "cell_type": "code",
   "execution_count": null,
   "metadata": {
    "deletable": false,
    "editable": false,
    "nbgrader": {
     "cell_type": "code",
     "checksum": "865d82d42a54dd7bb8c605edd5e67352",
     "grade": true,
     "grade_id": "cell-1220eaf0a0723282",
     "locked": true,
     "points": 2,
     "schema_version": 3,
     "solution": false
    }
   },
   "outputs": [],
   "source": [
    "%%tests\n",
    "\n",
    "_test.code_contains(\"plot\", \"show\")\n",
    "_test.code_contains(\"r(ed)?\") # matches \"r\" or \"red\"\n",
    "_test.plot_has(\"title\")"
   ]
  },
  {
   "cell_type": "markdown",
   "metadata": {
    "deletable": false,
    "editable": false,
    "nbgrader": {
     "cell_type": "markdown",
     "checksum": "a8edbb9450d0b07b891acb1bfc3040af",
     "grade": false,
     "grade_id": "cell-268b53af66fc7346",
     "locked": true,
     "schema_version": 3,
     "solution": false
    }
   },
   "source": [
    "# Subplots"
   ]
  },
  {
   "cell_type": "code",
   "execution_count": null,
   "metadata": {
    "deletable": false,
    "editable": false,
    "nbgrader": {
     "cell_type": "code",
     "checksum": "12e4bf447c364f0d8f6146db6b0fb1ed",
     "grade": false,
     "grade_id": "cell-74fb87bb352821a6",
     "locked": true,
     "schema_version": 3,
     "solution": false
    }
   },
   "outputs": [],
   "source": [
    "%video ubIu2rJekRU"
   ]
  },
  {
   "cell_type": "markdown",
   "metadata": {
    "deletable": false,
    "editable": false,
    "nbgrader": {
     "cell_type": "markdown",
     "checksum": "c0c3057099012495463ede7cc01be5a8",
     "grade": false,
     "grade_id": "cell-b371c2e0edd23a7c",
     "locked": true,
     "schema_version": 3,
     "solution": false
    }
   },
   "source": [
    "Summary:\n",
    "- Create multiple figures by calling `plt.figure` for each.\n",
    "- Create one figure with multiple subplots using `plt.subplot`, `plt.subplots`, or `plt.subplot2grid`\n",
    "- Matplotlib's object-oriented interface offers an alternate way to control formatting. See https://matplotlib.org/3.1.1/tutorials/introductory/lifecycle.html"
   ]
  },
  {
   "cell_type": "code",
   "execution_count": null,
   "metadata": {},
   "outputs": [],
   "source": []
  },
  {
   "cell_type": "markdown",
   "metadata": {
    "deletable": false,
    "editable": false,
    "nbgrader": {
     "cell_type": "markdown",
     "checksum": "10e7e1660dae852144d9df2278c7aa33",
     "grade": false,
     "grade_id": "cell-cebf95be7698fe25",
     "locked": true,
     "schema_version": 3,
     "solution": false
    }
   },
   "source": [
    "## Your Turn\n",
    "\n",
    "Create a figure with four subplots plots arranged in a 2$\\times$2 grid. Set the figure size to 8\"$\\times$8\"."
   ]
  },
  {
   "cell_type": "code",
   "execution_count": null,
   "metadata": {
    "deletable": false,
    "nbgrader": {
     "cell_type": "code",
     "checksum": "10907582505b5d08eb3d7d1dda80827b",
     "grade": false,
     "grade_id": "cell-a9fbe644e3861a32",
     "locked": false,
     "schema_version": 3,
     "solution": true
    }
   },
   "outputs": [],
   "source": [
    "%%graded # 3 points\n",
    "\n",
    "# YOUR CODE HERE"
   ]
  },
  {
   "cell_type": "code",
   "execution_count": null,
   "metadata": {
    "deletable": false,
    "editable": false,
    "nbgrader": {
     "cell_type": "code",
     "checksum": "f6cab66d58cbc45c33e234a256f3cdac",
     "grade": true,
     "grade_id": "cell-714e7c270b1a0b3a",
     "locked": true,
     "points": 3,
     "schema_version": 3,
     "solution": false
    }
   },
   "outputs": [],
   "source": [
    "%%tests\n",
    "\n",
    "_plot = _test.get_plot()\n",
    "\n",
    "_test.code_contains(\"subplot\")\n",
    "_test.equal(_plot.get_figwidth(), 8)  # check figure size\n",
    "_test.equal(_plot.get_figheight(), 8) #\n",
    "_test.plot_shown()\n",
    "_test.equal(len(_plot.axes), 4) # are there exactly 4 subplots?"
   ]
  },
  {
   "cell_type": "markdown",
   "metadata": {
    "deletable": false,
    "editable": false,
    "nbgrader": {
     "cell_type": "markdown",
     "checksum": "03e2f5c8c4e8a71221f4a0b176e58417",
     "grade": false,
     "grade_id": "cell-00efdf6cef2b715a",
     "locked": true,
     "schema_version": 3,
     "solution": false
    }
   },
   "source": [
    "# Additional Resources\n",
    "\n",
    "- Textbook sections 3.1, and 3.2\n",
    "\n",
    "In the textbook you'll see `import pylab`, but that name is deprecated. We will instead use `import matplotlib.pyplot as plt`. All of the function names are the same."
   ]
  }
 ],
 "metadata": {
  "kernelspec": {
   "display_name": "Python 3",
   "language": "python",
   "name": "python3"
  },
  "language_info": {
   "codemirror_mode": {
    "name": "ipython",
    "version": 3
   },
   "file_extension": ".py",
   "mimetype": "text/x-python",
   "name": "python",
   "nbconvert_exporter": "python",
   "pygments_lexer": "ipython3",
   "version": "3.7.3"
  }
 },
 "nbformat": 4,
 "nbformat_minor": 4
}
