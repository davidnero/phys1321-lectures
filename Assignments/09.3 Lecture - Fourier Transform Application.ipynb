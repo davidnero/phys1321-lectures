{
 "cells": [
  {
   "cell_type": "markdown",
   "metadata": {
    "slideshow": {
     "slide_type": "slide"
    }
   },
   "source": [
    "Fill in any place that says `# YOUR CODE HERE` or YOUR ANSWER HERE, as well as your name and collaborators below.\n",
    "Grading for pre-lecture assignments is all or nothing. Partial credit is available for in-class assignments and checkpoints, but **only when code is commented**."
   ]
  },
  {
   "cell_type": "code",
   "execution_count": null,
   "metadata": {},
   "outputs": [],
   "source": [
    "NAME = \"\"\n",
    "COLLABORATORS = \"\""
   ]
  },
  {
   "cell_type": "markdown",
   "metadata": {},
   "source": [
    "---"
   ]
  },
  {
   "cell_type": "markdown",
   "metadata": {
    "deletable": false,
    "editable": false,
    "nbgrader": {
     "cell_type": "markdown",
     "checksum": "f7f8a180d79b270a2649d268b5675813",
     "grade": false,
     "grade_id": "cell-ec0c8f83ffb0d9c7",
     "locked": true,
     "schema_version": 3,
     "solution": false
    }
   },
   "source": [
    "# Learning Objectives\n",
    "\n",
    "This lecture will show you how to:\n",
    "1. Use `scipy.fftpack.fft`\n",
    "2. Interpret the relationship between aliasing and the Nyquist frequency\n",
    "3. Know when to use the discrete Cosine transform\n",
    "4. Apply Fourier smoothing to noisy data"
   ]
  },
  {
   "cell_type": "code",
   "execution_count": null,
   "metadata": {
    "deletable": false,
    "editable": false,
    "nbgrader": {
     "cell_type": "code",
     "checksum": "0a143db2313947af92f3d6532752e171",
     "grade": false,
     "grade_id": "cell-abd1b2cca923116d",
     "locked": true,
     "schema_version": 3,
     "solution": false
    }
   },
   "outputs": [],
   "source": [
    "# imports\n",
    "import numpy as np\n",
    "import matplotlib.pyplot as plt\n",
    "\n",
    "from scipy import fftpack # Fourier transforms\n",
    "\n",
    "import grading_helper as _test"
   ]
  },
  {
   "cell_type": "markdown",
   "metadata": {
    "deletable": false,
    "editable": false,
    "nbgrader": {
     "cell_type": "markdown",
     "checksum": "b41965d900704a2eabf5d9deb1a9e742",
     "grade": false,
     "grade_id": "cell-816be27c799e9a5e",
     "locked": true,
     "schema_version": 3,
     "solution": false
    }
   },
   "source": [
    "# Using `scipy.ftpack.fft`"
   ]
  },
  {
   "cell_type": "code",
   "execution_count": null,
   "metadata": {
    "deletable": false,
    "editable": false,
    "nbgrader": {
     "cell_type": "code",
     "checksum": "a7b8bb72995bb4a35c1d4e00c7350f8f",
     "grade": false,
     "grade_id": "cell-938a3475f0b78917",
     "locked": true,
     "schema_version": 3,
     "solution": false
    }
   },
   "outputs": [],
   "source": [
    "%video 6U226pAQixY"
   ]
  },
  {
   "cell_type": "markdown",
   "metadata": {
    "deletable": false,
    "editable": false,
    "nbgrader": {
     "cell_type": "markdown",
     "checksum": "badb669666e5e6beb0b13a224f72d14a",
     "grade": false,
     "grade_id": "cell-3b9c0f7fca8fa09f",
     "locked": true,
     "schema_version": 3,
     "solution": false
    }
   },
   "source": [
    "Summary:\n",
    "\n",
    "- The \"fft\" in `scipy.fftpack.fft` stands for Fast Fourier Transform.\n",
    "- In brief, this algorithm exploits the fact that the DFT of a single point is the point itself. Additionally, the inverse DFTs of A and B are related to the inverse DFT of AB using simple operations (discussed more in your textbook). The end effect is that the FFT can transform the entire array in place, rather than needing to calculate one term at a time.\n",
    "- The algorithm is fastest when $N$ is a power of 2, and slowest when $N$ is prime (although the difference only matters if the array is huge).\n",
    "- The inverse transform is `scipy.fftpack.ifft`"
   ]
  },
  {
   "cell_type": "code",
   "execution_count": null,
   "metadata": {},
   "outputs": [],
   "source": []
  },
  {
   "cell_type": "markdown",
   "metadata": {
    "deletable": false,
    "editable": false,
    "nbgrader": {
     "cell_type": "markdown",
     "checksum": "3c8eb44c89c9f9e7fd96a31a577804f2",
     "grade": false,
     "grade_id": "cell-ee75c910cc1dccc4",
     "locked": true,
     "schema_version": 3,
     "solution": false
    }
   },
   "source": [
    "## Your Turn\n",
    "\n",
    "Use `fftpack.fft` to calculate the discrete Fourier transform of the array `y` below. Store the result in an array named `c`."
   ]
  },
  {
   "cell_type": "code",
   "execution_count": null,
   "metadata": {
    "deletable": false,
    "editable": false,
    "nbgrader": {
     "cell_type": "code",
     "checksum": "98f27b1d82a4e1cd73d8fa69084b6ad8",
     "grade": false,
     "grade_id": "cell-66fd3a6025580d8a",
     "locked": true,
     "schema_version": 3,
     "solution": false,
     "task": false
    }
   },
   "outputs": [],
   "source": [
    "y = np.array([8, 6, 7, 5, 3, 0, 9])"
   ]
  },
  {
   "cell_type": "code",
   "execution_count": null,
   "metadata": {
    "deletable": false,
    "nbgrader": {
     "cell_type": "code",
     "checksum": "eb5b4f4e39b142a982969af32eb4f949",
     "grade": false,
     "grade_id": "cell-c85222addd195fd0",
     "locked": false,
     "schema_version": 3,
     "solution": true
    }
   },
   "outputs": [],
   "source": [
    "%%graded # 1 point\n",
    "\n",
    "# YOUR CODE HERE"
   ]
  },
  {
   "cell_type": "code",
   "execution_count": null,
   "metadata": {
    "deletable": false,
    "editable": false,
    "nbgrader": {
     "cell_type": "code",
     "checksum": "91e02f6deb267048eb86c3ac00a73e56",
     "grade": true,
     "grade_id": "cell-66bb15c80b0dc98c",
     "locked": true,
     "points": 1,
     "schema_version": 3,
     "solution": false
    }
   },
   "outputs": [],
   "source": [
    "%%tests\n",
    "\n",
    "_test.similar(c, [38.0+0.00j, 8.59-5.35j, 3.34+7.53j, -2.93+4.82j, -2.93-4.82j, 3.34-7.53j, 8.59+5.35j])"
   ]
  },
  {
   "cell_type": "markdown",
   "metadata": {
    "deletable": false,
    "editable": false,
    "nbgrader": {
     "cell_type": "markdown",
     "checksum": "83b58437c0b00951874908b185fbb7b8",
     "grade": false,
     "grade_id": "cell-c3979e64ecb0f78e",
     "locked": true,
     "schema_version": 3,
     "solution": false
    }
   },
   "source": [
    "# Aliasing and the Nyquist Frequency"
   ]
  },
  {
   "cell_type": "code",
   "execution_count": null,
   "metadata": {
    "deletable": false,
    "editable": false,
    "nbgrader": {
     "cell_type": "code",
     "checksum": "d26eebbdd6327db72306b483ed94f6ef",
     "grade": false,
     "grade_id": "cell-e55d933eef813232",
     "locked": true,
     "schema_version": 3,
     "solution": false
    }
   },
   "outputs": [],
   "source": [
    "%video VI98XaHhkQM"
   ]
  },
  {
   "cell_type": "markdown",
   "metadata": {
    "deletable": false,
    "editable": false,
    "nbgrader": {
     "cell_type": "markdown",
     "checksum": "3689356bdb9bfd9c114bba7471c1da70",
     "grade": false,
     "grade_id": "cell-3fc428fa4e7fa976",
     "locked": true,
     "schema_version": 3,
     "solution": false
    }
   },
   "source": [
    "Summary:\n",
    "\n",
    "- When the array $y$ is **real**, the upper half of the coefficients of the Fourier transform are complex conjugates of the lower half. The very first coefficient is an exception: it's the sum of the array (or $N\\,\\times$ the average value). That is, only the first `N//2 + 1` coefficients are unique. When the input is real, it's conventional to only plot frequencies up to the Nyquist frequency.\n",
    "- The symmetry point is called the **Nyquist frequency** $f_{Ny}$. It represents the highest frequency that can be resolved. (Be careful about the difference between frequency $f$ and angular frequency $\\omega=2\\pi f$.)\n",
    "- For real $y$, frequencies that are $\\Delta f$ above the Nyquist frequency are indistinguishable from an equivalent lower frequency. This effect is called **aliasing**. (We didn't see this issue with the continuous Fourier transform, because the Nyquist frequency is infinite in that case.)\n",
    "- Let $\\Delta x$ be the spacing between the $N$ samples. The Nyquist frequency is\n",
    "$$f_{Ny} = \\frac{1}{2\\Delta x}\\,.$$\n",
    "The frequency resolution is\n",
    "$$\\Delta f = \\frac{1}{N \\Delta x}\\,.$$"
   ]
  },
  {
   "cell_type": "code",
   "execution_count": null,
   "metadata": {},
   "outputs": [],
   "source": []
  },
  {
   "cell_type": "markdown",
   "metadata": {
    "deletable": false,
    "editable": false,
    "nbgrader": {
     "cell_type": "markdown",
     "checksum": "7d709122acb6bc3a50e3afacdaca2631",
     "grade": false,
     "grade_id": "cell-8360e4f212a6ff6b",
     "locked": true,
     "schema_version": 3,
     "solution": false
    }
   },
   "source": [
    "## Your Turn\n",
    "\n",
    "The array below represents data collected every 0.01 seconds. Use `fft` to plot the frequency-content of the data up to (and including) the Nyquist frequency. In principle, there should be two peaks: 30 Hz, and 60 Hz. One of these won't look right. Why not?\n",
    "\n",
    "Store the value of the Nyquist frequency in a variable named `fNy`."
   ]
  },
  {
   "cell_type": "code",
   "execution_count": null,
   "metadata": {
    "deletable": false,
    "editable": false,
    "nbgrader": {
     "cell_type": "code",
     "checksum": "94f3af70980b8f00f4356531dc2b2d3d",
     "grade": false,
     "grade_id": "cell-06bf8de2bc05fd20",
     "locked": true,
     "schema_version": 3,
     "solution": false
    }
   },
   "outputs": [],
   "source": [
    "t = np.arange(0, 10, 0.01)\n",
    "data = 3*np.sin(60*np.pi*t) - 4*np.cos(120*np.pi*t)"
   ]
  },
  {
   "cell_type": "code",
   "execution_count": null,
   "metadata": {
    "deletable": false,
    "nbgrader": {
     "cell_type": "code",
     "checksum": "e01ce130c431d646a131c92ed9d19529",
     "grade": false,
     "grade_id": "cell-f379c1cb575251f8",
     "locked": false,
     "schema_version": 3,
     "solution": true
    }
   },
   "outputs": [],
   "source": [
    "%%graded # 2 points\n",
    "\n",
    "# YOUR CODE HERE"
   ]
  },
  {
   "cell_type": "code",
   "execution_count": null,
   "metadata": {
    "deletable": false,
    "editable": false,
    "nbgrader": {
     "cell_type": "code",
     "checksum": "9d90ce49000fe88ea64077ae57cc5550",
     "grade": true,
     "grade_id": "cell-59ddbd886466efc5",
     "locked": true,
     "points": 2,
     "schema_version": 3,
     "solution": false
    }
   },
   "outputs": [],
   "source": [
    "%%tests\n",
    "\n",
    "_test.similar(fNy, 50)\n",
    "_test.plot_shown()"
   ]
  },
  {
   "cell_type": "markdown",
   "metadata": {
    "deletable": false,
    "editable": false,
    "nbgrader": {
     "cell_type": "markdown",
     "checksum": "090f63ed288fb9660ee41c17f269f411",
     "grade": false,
     "grade_id": "cell-16b57a5632c4e751",
     "locked": true,
     "schema_version": 3,
     "solution": false
    }
   },
   "source": [
    "# Discrete Cosine Transform"
   ]
  },
  {
   "cell_type": "code",
   "execution_count": null,
   "metadata": {
    "deletable": false,
    "editable": false,
    "nbgrader": {
     "cell_type": "code",
     "checksum": "c3719a34bf4d254557dc0564919b6658",
     "grade": false,
     "grade_id": "cell-18bbfb7ab00216f5",
     "locked": true,
     "schema_version": 3,
     "solution": false
    }
   },
   "outputs": [],
   "source": [
    "%video n0AZwyDnJeM"
   ]
  },
  {
   "cell_type": "markdown",
   "metadata": {
    "deletable": false,
    "editable": false,
    "nbgrader": {
     "cell_type": "markdown",
     "checksum": "3535c2aaf414d6afb19e30f98b0b91a5",
     "grade": false,
     "grade_id": "cell-7f0a5507cd851d0f",
     "locked": true,
     "schema_version": 3,
     "solution": false
    }
   },
   "source": [
    "Summary:\n",
    "\n",
    "- A Fourier transform implicitly assumes that the function being transformed is periodic. If the first and last point have similar values, it will work well. If they are instead significantly different, it will work poorly near the ends.\n",
    "- The Cosine transform mirrors the function at its end points, which forces it to be periodic. The price paid is that this form assumes that the slope at the end points is zero.\n",
    "- The DCT only works for real functions, and the result is always real.\n",
    "- `scipy.fftpack.dct` is the DCT and `scipy.fftpack.idct` is the inverse. **WARNING:** you must pass the argument `norm=\"ortho\"` to both of these or they won't do what you expect."
   ]
  },
  {
   "cell_type": "code",
   "execution_count": null,
   "metadata": {},
   "outputs": [],
   "source": []
  },
  {
   "cell_type": "markdown",
   "metadata": {
    "deletable": false,
    "editable": false,
    "nbgrader": {
     "cell_type": "markdown",
     "checksum": "55e57f080d266ec17dbb767f25c6e0e3",
     "grade": false,
     "grade_id": "cell-f7a84d03ea41c766",
     "locked": true,
     "schema_version": 3,
     "solution": false
    }
   },
   "source": [
    "# Fourier Filtering and Smoothing"
   ]
  },
  {
   "cell_type": "code",
   "execution_count": null,
   "metadata": {
    "deletable": false,
    "editable": false,
    "nbgrader": {
     "cell_type": "code",
     "checksum": "e0f93b77c8369266d1d20adc37320429",
     "grade": false,
     "grade_id": "cell-ba2346e698dcc615",
     "locked": true,
     "schema_version": 3,
     "solution": false
    }
   },
   "outputs": [],
   "source": [
    "%video kCSSHxOCKyA"
   ]
  },
  {
   "cell_type": "markdown",
   "metadata": {
    "deletable": false,
    "editable": false,
    "nbgrader": {
     "cell_type": "markdown",
     "checksum": "397937533ecf9999727c2d763e01e567",
     "grade": false,
     "grade_id": "cell-1695aaf2ccc1da8d",
     "locked": true,
     "schema_version": 3,
     "solution": false
    }
   },
   "source": [
    "Summary:\n",
    "\n",
    "- Since a DFT (or DCT) represents data in terms of its frequencies, we can eliminate some sources of noise of stripping the high frequency terms.\n",
    "- Similarly, we can smooth functions by only keeping the terms with the largest magnitude.\n",
    "- Recipe:\n",
    "    1. Transform data\n",
    "    2. Set unwanted frequencies to zero\n",
    "    3. Inverse transform data."
   ]
  },
  {
   "cell_type": "code",
   "execution_count": null,
   "metadata": {},
   "outputs": [],
   "source": []
  },
  {
   "cell_type": "markdown",
   "metadata": {
    "deletable": false,
    "editable": false,
    "nbgrader": {
     "cell_type": "markdown",
     "checksum": "2cf911583c98d6d7c6c933262fc5bf23",
     "grade": false,
     "grade_id": "cell-23cad2297061c0f7",
     "locked": true,
     "schema_version": 3,
     "solution": false
    }
   },
   "source": [
    "## Your Turn\n",
    "\n",
    "Calculate the Cosine transform of the array `y` below. Identify the 8 Fourier coefficients with the **largest magnitude**. Calculate the inverse transform using just these largest coefficients, with the rest set to zero. Plot the resulting array on top of the original.\n",
    "\n",
    "> Hint: The built-in `sorted` function will come in handy."
   ]
  },
  {
   "cell_type": "code",
   "execution_count": null,
   "metadata": {
    "deletable": false,
    "editable": false,
    "nbgrader": {
     "cell_type": "code",
     "checksum": "5f254a9e6bf7b6b08ef0285ecf871ee0",
     "grade": false,
     "grade_id": "cell-b795cfd8b341bc29",
     "locked": true,
     "schema_version": 3,
     "solution": false
    }
   },
   "outputs": [],
   "source": [
    "y = np.array([0.00000000e+00, 1.66223040e-02, 1.20200612e-01, 3.41736915e-01, 6.32643608e-01, 8.87294265e-01,\n",
    "              9.99246960e-01, 9.19355200e-01, 6.82811325e-01, 3.89771185e-01, 1.50559197e-01, 2.65364391e-02,\n",
    "              8.99362093e-05, -9.47880272e-03, -9.36102819e-02, -2.95945994e-01, -5.81385008e-01, -8.50778601e-01,\n",
    "              -9.93238506e-01, -9.46520284e-01, -7.31248690e-01, -4.39558718e-01, -1.84600924e-01, -3.95603883e-02,\n",
    "              -7.17324361e-04, 4.71057490e-03, 7.07933740e-02, 2.52831117e-01, 5.29673941e-01, 8.10306521e-01,\n",
    "              9.81305898e-01, 9.68413275e-01])"
   ]
  },
  {
   "cell_type": "code",
   "execution_count": null,
   "metadata": {
    "deletable": false,
    "nbgrader": {
     "cell_type": "code",
     "checksum": "9c4eeba9f42162cbc8e7d7a1a855f479",
     "grade": false,
     "grade_id": "cell-6cc97982ae2c129c",
     "locked": false,
     "schema_version": 3,
     "solution": true
    }
   },
   "outputs": [],
   "source": [
    "%%graded # 2 points\n",
    "\n",
    "# YOUR CODE HERE"
   ]
  },
  {
   "cell_type": "code",
   "execution_count": null,
   "metadata": {
    "deletable": false,
    "editable": false,
    "nbgrader": {
     "cell_type": "code",
     "checksum": "68c063f0bbc7e63f27c12041a2730e15",
     "grade": true,
     "grade_id": "cell-6f892ea24eb642e8",
     "locked": true,
     "points": 2,
     "schema_version": 3,
     "solution": false
    }
   },
   "outputs": [],
   "source": [
    "%%tests\n",
    "\n",
    "_test.code_contains(\"dct\", \"idct\")\n",
    "_test.plot_shown()"
   ]
  },
  {
   "cell_type": "markdown",
   "metadata": {
    "deletable": false,
    "editable": false,
    "nbgrader": {
     "cell_type": "markdown",
     "checksum": "7f9a1169323cf9d70f97ec2d9985b5ef",
     "grade": false,
     "grade_id": "cell-1ae60099cab3bd92",
     "locked": true,
     "schema_version": 3,
     "solution": false
    }
   },
   "source": [
    "# Additional Resources\n",
    "\n",
    "- Textbook sections 7.3 and 7.4\n",
    "\n",
    "Section 7.4 runs through a derivation of the Fast Fourier Transform."
   ]
  }
 ],
 "metadata": {
  "kernelspec": {
   "display_name": "Python 3",
   "language": "python",
   "name": "python3"
  },
  "language_info": {
   "codemirror_mode": {
    "name": "ipython",
    "version": 3
   },
   "file_extension": ".py",
   "mimetype": "text/x-python",
   "name": "python",
   "nbconvert_exporter": "python",
   "pygments_lexer": "ipython3",
   "version": "3.7.3"
  }
 },
 "nbformat": 4,
 "nbformat_minor": 4
}
