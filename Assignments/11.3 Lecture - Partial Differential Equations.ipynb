{
 "cells": [
  {
   "cell_type": "markdown",
   "metadata": {
    "slideshow": {
     "slide_type": "slide"
    }
   },
   "source": [
    "Fill in any place that says `# YOUR CODE HERE` or YOUR ANSWER HERE, as well as your name and collaborators below.\n",
    "Grading for pre-lecture assignments is all or nothing. Partial credit is available for in-class assignments and checkpoints, but **only when code is commented**."
   ]
  },
  {
   "cell_type": "code",
   "execution_count": null,
   "metadata": {},
   "outputs": [],
   "source": [
    "NAME = \"\"\n",
    "COLLABORATORS = \"\""
   ]
  },
  {
   "cell_type": "markdown",
   "metadata": {},
   "source": [
    "---"
   ]
  },
  {
   "cell_type": "markdown",
   "metadata": {
    "deletable": false,
    "editable": false,
    "nbgrader": {
     "cell_type": "markdown",
     "checksum": "e7e2c1b6b4f0efafa8b1832dbc9704d3",
     "grade": false,
     "grade_id": "cell-ec0c8f83ffb0d9c7",
     "locked": true,
     "schema_version": 3,
     "solution": false
    }
   },
   "source": [
    "# Learning Objectives\n",
    "\n",
    "This lecture will show you how to:\n",
    "1. Apply the relaxation method to time-independent PDEs\n",
    "2. Setup and use the FTCS method for time-dependent PDEs\n",
    "3. Use implicit methods to avoid numerical instability that is inherent to some PDEs"
   ]
  },
  {
   "cell_type": "code",
   "execution_count": null,
   "metadata": {
    "deletable": false,
    "editable": false,
    "nbgrader": {
     "cell_type": "code",
     "checksum": "02f26d70e9a8835747ca13d10fadca45",
     "grade": false,
     "grade_id": "cell-abd1b2cca923116d",
     "locked": true,
     "schema_version": 3,
     "solution": false
    }
   },
   "outputs": [],
   "source": [
    "# imports\n",
    "import numpy as np\n",
    "import matplotlib.pyplot as plt\n",
    "from scipy import linalg\n",
    "\n",
    "import grading_helper as _test"
   ]
  },
  {
   "cell_type": "markdown",
   "metadata": {
    "deletable": false,
    "editable": false,
    "nbgrader": {
     "cell_type": "markdown",
     "checksum": "714281876843ad2b7ad71893cca3830c",
     "grade": false,
     "grade_id": "cell-12b43295a0f000dd",
     "locked": true,
     "schema_version": 3,
     "solution": false
    }
   },
   "source": [
    "# Relaxation Method for PDEs"
   ]
  },
  {
   "cell_type": "code",
   "execution_count": null,
   "metadata": {
    "deletable": false,
    "editable": false,
    "nbgrader": {
     "cell_type": "code",
     "checksum": "42f93dffe1bc67d9cdb6fe4511bd999c",
     "grade": false,
     "grade_id": "cell-e9692b2c91e495dc",
     "locked": true,
     "schema_version": 3,
     "solution": false
    }
   },
   "outputs": [],
   "source": [
    "%video c4LwNoh8ZBM"
   ]
  },
  {
   "cell_type": "markdown",
   "metadata": {
    "deletable": false,
    "editable": false,
    "nbgrader": {
     "cell_type": "markdown",
     "checksum": "daccc88212f95c34002849576dd21b7b",
     "grade": false,
     "grade_id": "cell-ef2de58511545032",
     "locked": true,
     "schema_version": 3,
     "solution": false
    }
   },
   "source": [
    "Summary:\n",
    "\n",
    "- The relaxation method is more commonly used with PDEs than with ODEs.\n",
    "- We replace each derivative with a finite difference and work with a 2-D or 3-D array, but otherwise the method looks the same as the 1-D ODE case."
   ]
  },
  {
   "cell_type": "code",
   "execution_count": null,
   "metadata": {},
   "outputs": [],
   "source": []
  },
  {
   "cell_type": "markdown",
   "metadata": {
    "deletable": false,
    "editable": false,
    "nbgrader": {
     "cell_type": "markdown",
     "checksum": "a8295b991d3cbee814f8b8e04f2841fd",
     "grade": false,
     "grade_id": "cell-e97e11861c0dcf51",
     "locked": true,
     "schema_version": 3,
     "solution": false
    }
   },
   "source": [
    "## Your Turn\n",
    "\n",
    "Poisson's equation is similar to Laplace's equation, except that there is nonzero charge density in the region of interest.\n",
    "\n",
    "$$\\nabla^2V=-\\frac{\\rho}{\\epsilon_0}\\,,$$\n",
    "\n",
    "where $\\rho$ is the charge density and $\\epsilon_0$ is the electrostatic constant.\n",
    "\n",
    "Working in units where $\\epsilon_0=1$, find $V$ everywhere within a $101\\times101$ square region (where h=0.01) that has a uniform charge density of $\\rho=1$ for the central $41\\times41$ grid points. The walls of the $101\\times101$ square region are grounded ($V=0$). Plot $V(x,y)$ using `imshow`."
   ]
  },
  {
   "cell_type": "code",
   "execution_count": null,
   "metadata": {
    "deletable": false,
    "nbgrader": {
     "cell_type": "code",
     "checksum": "7afa35db53451e67dd9dfb33d942b5d8",
     "grade": false,
     "grade_id": "cell-35ad44336baecb36",
     "locked": false,
     "schema_version": 3,
     "solution": true
    }
   },
   "outputs": [],
   "source": [
    "%%graded # 2 points\n",
    "\n",
    "# boundary conditions\n",
    "V = np.zeros((101, 101))\n",
    "rho = np.zeros((101, 101))\n",
    "rho[30:-30, 30:-30] = 1 # inner 41x41\n",
    "\n",
    "# YOUR CODE HERE"
   ]
  },
  {
   "cell_type": "code",
   "execution_count": null,
   "metadata": {
    "deletable": false,
    "editable": false,
    "nbgrader": {
     "cell_type": "code",
     "checksum": "8c4dce6a52eb18bda422d6d32e2de782",
     "grade": true,
     "grade_id": "cell-da8b5d94fab34508",
     "locked": true,
     "points": 2,
     "schema_version": 3,
     "solution": false
    }
   },
   "outputs": [],
   "source": [
    "%%tests\n",
    "\n",
    "_test.plot_shown()"
   ]
  },
  {
   "cell_type": "markdown",
   "metadata": {
    "deletable": false,
    "editable": false,
    "nbgrader": {
     "cell_type": "markdown",
     "checksum": "3ad1d74210d805e1e30100c99e0f671b",
     "grade": false,
     "grade_id": "cell-c3979e64ecb0f78e",
     "locked": true,
     "schema_version": 3,
     "solution": false
    }
   },
   "source": [
    "# FTCS Method"
   ]
  },
  {
   "cell_type": "code",
   "execution_count": null,
   "metadata": {
    "deletable": false,
    "editable": false,
    "nbgrader": {
     "cell_type": "code",
     "checksum": "6ae977f2c33a9845ab83a8e5a1caa584",
     "grade": false,
     "grade_id": "cell-e55d933eef813232",
     "locked": true,
     "schema_version": 3,
     "solution": false
    }
   },
   "outputs": [],
   "source": [
    "%video w1Uudu1HeN4"
   ]
  },
  {
   "cell_type": "markdown",
   "metadata": {
    "deletable": false,
    "editable": false,
    "nbgrader": {
     "cell_type": "markdown",
     "checksum": "c5e007f3334ba8aec6a7ddd500a53d68",
     "grade": false,
     "grade_id": "cell-3fc428fa4e7fa976",
     "locked": true,
     "schema_version": 3,
     "solution": false
    }
   },
   "source": [
    "Summary:\n",
    "\n",
    "- Forward-Time Centered-Space. Used for PDEs with both time and space as independent variables.\n",
    "- Pairs a finite different for space with Euler's method for time.\n",
    "\n",
    "**Recipe**\n",
    "1. Write spacial part of PDE as finite difference. Result is a set of simultaneous ODEs (treat each grid point as a unique dependent variable).\n",
    "3. Use forward Euler method to solve time dependence."
   ]
  },
  {
   "cell_type": "code",
   "execution_count": null,
   "metadata": {},
   "outputs": [],
   "source": []
  },
  {
   "cell_type": "markdown",
   "metadata": {
    "deletable": false,
    "editable": false,
    "nbgrader": {
     "cell_type": "markdown",
     "checksum": "de728ad63239d6aa1b88277d835a7920",
     "grade": false,
     "grade_id": "cell-8360e4f212a6ff6b",
     "locked": true,
     "schema_version": 3,
     "solution": false
    }
   },
   "source": [
    "## Your Turn\n",
    "\n",
    "In 2-D, the diffusion equation takes the form\n",
    "\n",
    "$$\\frac{\\partial T}{\\partial t}= D\\,\\nabla^2T= D\\,\\bigg(\\frac{\\partial^2T}{\\partial x^2} + \\frac{\\partial^2T}{\\partial y^2}\\bigg)\\,.$$\n",
    "\n",
    "A tall steel rod with square $10\\times10$ cm cross-section at an initial uniform temperature of 100$^\\circ$C is immersed in a bath of 0$^\\circ$C water. Use `imshow` to plot the internal temperature of the steel through a cross-section at time $t=10$ s after being immersed in the water. Assume that the temperature change of the water is negligible during this time. The thermal diffusivity for steel is $D=4\\times10^{-6}$ m$^2$/s."
   ]
  },
  {
   "cell_type": "code",
   "execution_count": null,
   "metadata": {
    "deletable": false,
    "nbgrader": {
     "cell_type": "code",
     "checksum": "7f53a7733c2f439261cb7f6e627034cc",
     "grade": false,
     "grade_id": "cell-f379c1cb575251f8",
     "locked": false,
     "schema_version": 3,
     "solution": true
    }
   },
   "outputs": [],
   "source": [
    "%%graded # 3 points\n",
    "\n",
    "D, L = 4e-6, 0.1\n",
    "\n",
    "time = np.linspace(0, 10, 1001)\n",
    "h = 1e-2\n",
    "\n",
    "T = 100*np.ones((101,101)) # initial conditions\n",
    "a = 1e-3\n",
    "\n",
    "T[0, :] = T[-1, :] = T[:, 0] = T[:, -1] = 0 # boundary conditions\n",
    "\n",
    "for t in time:\n",
    "    # apply FTCS method, and insert result here\n",
    "    # YOUR CODE HERE\n",
    "    \n",
    "plt.imshow(T, cmap=\"hot\", extent=(0, 10, 0, 10), vmin=0, vmax=100)\n",
    "plt.colorbar()\n",
    "plt.show()"
   ]
  },
  {
   "cell_type": "code",
   "execution_count": null,
   "metadata": {
    "deletable": false,
    "editable": false,
    "nbgrader": {
     "cell_type": "code",
     "checksum": "3c6247352dd9dbed36d4fbda595af5d7",
     "grade": true,
     "grade_id": "cell-59ddbd886466efc5",
     "locked": true,
     "points": 3,
     "schema_version": 3,
     "solution": false
    }
   },
   "outputs": [],
   "source": [
    "%%tests\n",
    "\n",
    "_test.similar(T[51, 51], 100) # middle still hot\n",
    "_test.similar(T[51, :5], [0, 8.90, 17.7, 26.3, 34.5]) # check surface layers\n",
    "_test.plot_shown()"
   ]
  },
  {
   "cell_type": "markdown",
   "metadata": {
    "deletable": false,
    "editable": false,
    "nbgrader": {
     "cell_type": "markdown",
     "checksum": "630b3c961948f3e15fa5cd90fb0989e8",
     "grade": false,
     "grade_id": "cell-816be27c799e9a5e",
     "locked": true,
     "schema_version": 3,
     "solution": false
    }
   },
   "source": [
    "# Crank-Nicolson Method"
   ]
  },
  {
   "cell_type": "code",
   "execution_count": null,
   "metadata": {
    "deletable": false,
    "editable": false,
    "nbgrader": {
     "cell_type": "code",
     "checksum": "fb40cbf0b59a807c1ae52608dba5abf2",
     "grade": false,
     "grade_id": "cell-938a3475f0b78917",
     "locked": true,
     "schema_version": 3,
     "solution": false
    }
   },
   "outputs": [],
   "source": [
    "%video oXx6q6cxORk"
   ]
  },
  {
   "cell_type": "markdown",
   "metadata": {
    "deletable": false,
    "editable": false,
    "nbgrader": {
     "cell_type": "markdown",
     "checksum": "2f596d7cb312ee115c7323902562a594",
     "grade": false,
     "grade_id": "cell-3b9c0f7fca8fa09f",
     "locked": true,
     "schema_version": 3,
     "solution": false
    }
   },
   "source": [
    "Summary:\n",
    "\n",
    "- The FTCS method is numerically unstable for some PDEs.\n",
    "- The solution is to use the Crank-Nicolson method, which combines the forward and backward Euler methods:\n",
    "\n",
    " $$\\frac{y(x, t+h) - y(x,t)}{h}=\\tfrac12\\big[f(x, t) + f(x, t+h)\\big]\\,.$$\n",
    " \n",
    "- Unfortunately, this aproach makes things harder since we will loose our explicit expression for $y(x, t+h)$. The result is a system of equations.\n",
    "- At each time step, you need to solve a tridiagonal matrix. `solve_banded` works well here."
   ]
  },
  {
   "cell_type": "code",
   "execution_count": null,
   "metadata": {},
   "outputs": [],
   "source": []
  },
  {
   "cell_type": "markdown",
   "metadata": {
    "deletable": false,
    "editable": false,
    "nbgrader": {
     "cell_type": "markdown",
     "checksum": "43b09a0e8d35b5374c16cf8297220577",
     "grade": false,
     "grade_id": "cell-1ae60099cab3bd92",
     "locked": true,
     "schema_version": 3,
     "solution": false
    }
   },
   "source": [
    "# Additional Resources\n",
    "\n",
    "- Textbook Sections 9.1 - 9.3. There is a detailed treatment of the issue of numerical stability in section 9.3.2"
   ]
  }
 ],
 "metadata": {
  "kernelspec": {
   "display_name": "Python 3",
   "language": "python",
   "name": "python3"
  },
  "language_info": {
   "codemirror_mode": {
    "name": "ipython",
    "version": 3
   },
   "file_extension": ".py",
   "mimetype": "text/x-python",
   "name": "python",
   "nbconvert_exporter": "python",
   "pygments_lexer": "ipython3",
   "version": "3.7.3"
  }
 },
 "nbformat": 4,
 "nbformat_minor": 4
}
