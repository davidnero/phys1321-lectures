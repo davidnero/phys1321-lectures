{
 "cells": [
  {
   "cell_type": "markdown",
   "metadata": {
    "slideshow": {
     "slide_type": "slide"
    }
   },
   "source": [
    "Fill in any place that says `# YOUR CODE HERE` or YOUR ANSWER HERE, as well as your name and collaborators below.\n",
    "Grading for pre-lecture assignments is all or nothing. Partial credit is available for in-class assignments and checkpoints, but **only when code is commented**."
   ]
  },
  {
   "cell_type": "code",
   "execution_count": null,
   "metadata": {},
   "outputs": [],
   "source": [
    "NAME = \"\"\n",
    "COLLABORATORS = \"\""
   ]
  },
  {
   "cell_type": "markdown",
   "metadata": {},
   "source": [
    "---"
   ]
  },
  {
   "cell_type": "code",
   "execution_count": null,
   "metadata": {
    "deletable": false,
    "editable": false,
    "nbgrader": {
     "cell_type": "code",
     "checksum": "e8c46b4be654bcfbef457156f8975b88",
     "grade": false,
     "grade_id": "cell-52ea72f1770ea9d1",
     "locked": true,
     "schema_version": 3,
     "solution": false,
     "task": false
    }
   },
   "outputs": [],
   "source": [
    "import grading_helper as _test"
   ]
  },
  {
   "cell_type": "code",
   "execution_count": null,
   "metadata": {
    "deletable": false,
    "nbgrader": {
     "cell_type": "code",
     "checksum": "b4d5be1a17dc1349a23621b7d290e47f",
     "grade": false,
     "grade_id": "cell-0093b13a123dfc88",
     "locked": false,
     "schema_version": 3,
     "solution": true,
     "task": false
    }
   },
   "outputs": [],
   "source": [
    "# Space for imports, utility functions, etc.\n",
    "\n",
    "# YOUR CODE HERE"
   ]
  },
  {
   "cell_type": "markdown",
   "metadata": {
    "deletable": false,
    "editable": false,
    "nbgrader": {
     "cell_type": "markdown",
     "checksum": "96d9d8764d3f5606b858cf7971007389",
     "grade": false,
     "grade_id": "cell-cdb74fa8879082ba",
     "locked": true,
     "schema_version": 3,
     "solution": false,
     "task": false
    }
   },
   "source": [
    "# Fourier Transform of Sound\n",
    "\n",
    "Download a file named `trumpet.txt`. It contains the waveform of a trumpet playing the note C$_5$ (with a frequency of 523.251 Hz).\n",
    "\n",
    "- Read the file into an array and plot the waveform. Note that it was recorded at 44100 samples per second, which is typical for audio files.\n",
    "\n",
    "\n",
    "- Play the file as audio. Supposing you called your array `trumpet`, you can do this using the following code snippet:\n",
    "```\n",
    "from IPython import display\n",
    "display.Audio(trumpet, rate=44100)\n",
    "```\n",
    "Try adjusting `rate` to see what effect it has. When you're done set it back to 44100."
   ]
  },
  {
   "cell_type": "code",
   "execution_count": null,
   "metadata": {
    "deletable": false,
    "editable": false,
    "nbgrader": {
     "cell_type": "code",
     "checksum": "6c902e7fa607f280f5c86c8736c8c72d",
     "grade": false,
     "grade_id": "cell-0d083b2cb5e12d17",
     "locked": true,
     "schema_version": 3,
     "solution": false,
     "task": false
    }
   },
   "outputs": [],
   "source": [
    "# This code downloads the file from the Internet and saves it in the working directory\n",
    "import os\n",
    "import urllib.request as url\n",
    "if not os.path.isfile(\"trumpet.txt\"):\n",
    "    url.urlretrieve(\"http://www.pitt.edu/~djn23/phys1321/trumpet.txt\", \"trumpet.txt\")"
   ]
  },
  {
   "cell_type": "code",
   "execution_count": null,
   "metadata": {
    "deletable": false,
    "nbgrader": {
     "cell_type": "code",
     "checksum": "baf1d2b74e5d0d824434a6d8061b4a5d",
     "grade": true,
     "grade_id": "cell-4f69c8505b9a5d75",
     "locked": false,
     "points": 2,
     "schema_version": 3,
     "solution": true,
     "task": false
    }
   },
   "outputs": [],
   "source": [
    "%%graded # 2 points\n",
    "\n",
    "# YOUR CODE HERE"
   ]
  },
  {
   "cell_type": "markdown",
   "metadata": {
    "deletable": false,
    "editable": false,
    "nbgrader": {
     "cell_type": "markdown",
     "checksum": "d698df379c5e8dd008159700c4d23a61",
     "grade": false,
     "grade_id": "cell-2f0b94a58ca060e1",
     "locked": true,
     "schema_version": 3,
     "solution": false,
     "task": false
    }
   },
   "source": [
    "Calculate the Fourier transform of the trumpet's waveform, and plot the **power spectrum** of the Fourier coefficients ($|c_k|^2$) for frequencies between zero and 4000 Hz. Verify that there are peaks at multiples 523.251 Hz (these are the **harmonics**.)\n",
    "\n",
    "A good way to check the spacing is to plot several vertical lines using `pyplot.vlines`, spaced at multiples of 523.251 Hz.\n",
    "\n",
    "> Hint: If the lines and Fourier transform don't line up, check the scaling of the x-axis. "
   ]
  },
  {
   "cell_type": "code",
   "execution_count": null,
   "metadata": {
    "deletable": false,
    "nbgrader": {
     "cell_type": "code",
     "checksum": "9287cdbf9caead5bb7507b3635cb3c76",
     "grade": true,
     "grade_id": "cell-4e841cc2479e075f",
     "locked": false,
     "points": 3,
     "schema_version": 3,
     "solution": true,
     "task": false
    }
   },
   "outputs": [],
   "source": [
    "%%graded # 3 points\n",
    "\n",
    "# YOUR CODE HERE"
   ]
  },
  {
   "cell_type": "markdown",
   "metadata": {
    "deletable": false,
    "editable": false,
    "nbgrader": {
     "cell_type": "markdown",
     "checksum": "b4ca75abaf77cd1be79225136835e8d7",
     "grade": false,
     "grade_id": "cell-eef059604d382b39",
     "locked": true,
     "schema_version": 3,
     "solution": false,
     "task": false
    }
   },
   "source": [
    "Now let's look at (listen to) a more complicated waveform. Download the file `StarWars.wav`, and verify that it plays."
   ]
  },
  {
   "cell_type": "code",
   "execution_count": null,
   "metadata": {
    "deletable": false,
    "editable": false,
    "nbgrader": {
     "cell_type": "code",
     "checksum": "22a764893b7530b6af4546799d9d3e05",
     "grade": false,
     "grade_id": "cell-6133dabe1ae1c56e",
     "locked": true,
     "schema_version": 3,
     "solution": false,
     "task": false
    }
   },
   "outputs": [],
   "source": [
    "if not os.path.isfile(\"StarWars.wav\"):\n",
    "    url.urlretrieve(\"http://www.pitt.edu/~djn23/phys1321/StarWars.wav\", \"StarWars.wav\")\n",
    "\n",
    "display.Audio(\"StarWars.wav\")"
   ]
  },
  {
   "cell_type": "markdown",
   "metadata": {
    "deletable": false,
    "editable": false,
    "nbgrader": {
     "cell_type": "markdown",
     "checksum": "f110abe88c4c2a66f0ff9571e401687a",
     "grade": false,
     "grade_id": "cell-f0fadf090a941ad2",
     "locked": true,
     "schema_version": 3,
     "solution": false,
     "task": false
    }
   },
   "source": [
    "What chord is played at the beginning of the *Star Wars* theme?\n",
    "\n",
    "- Load the .wav file into an array. This can be done using\n",
    "```\n",
    "from scipy.io.wavfile import read as wavread\n",
    "rate, data = wavread(\"Star Wars.wav\")\n",
    "```\n",
    "where `rate` will be 44100 and `data` will be an array that holds the waveform.\n",
    "\n",
    "\n",
    "- We only want to work with the first note, so crop the rest of the file (using array slicing). You also want to cut out the period of silence at the beginning. You should have roughly one second of audio left.\n",
    "\n",
    "- Use `Audio` to verify that only the first note is played (the usage is the same as when you played the trumpet waveform).\n",
    "\n",
    "- Like you did for the trumpet, plot the power spectrum of the first chord in the *Star Wars* theme. Show frequencies ranging from zero to 2000 Hz.\n",
    "\n",
    "\n",
    "- Look up the [frequencies for each note](https://en.wikipedia.org/wiki/Piano_key_frequencies), and identify as many frequencies as you can. Mark the notes you can identify on the power spectrum. This is a good place to use `pyplot.text` or `pyplot.annotate`.\n",
    "\n",
    "> Hint 1: The largest peak should be a B$\\flat_2$.\n",
    "\n",
    "> Hint 2: Some notes appear at the same frequency as another note's harmonics. This makes music sound good, but it does make identifying the chord a little trickier. I suggest that you try to identify notes based on their fundamental frequency (i.e., the frequency listed on Wikipedia). You should be able to identify some more B$\\flat$'s along with two other unique notes that show up a few times each. Ignore notes that only show up once&mdash;these are actually harmonics of the other notes."
   ]
  },
  {
   "cell_type": "code",
   "execution_count": null,
   "metadata": {
    "deletable": false,
    "nbgrader": {
     "cell_type": "code",
     "checksum": "12021a2aeb29bb03cbd4e22c1e3b90db",
     "grade": true,
     "grade_id": "cell-d909f3ca7553b4ed",
     "locked": false,
     "points": 15,
     "schema_version": 3,
     "solution": true,
     "task": false
    }
   },
   "outputs": [],
   "source": [
    "%%graded # 15 points\n",
    "\n",
    "# YOUR CODE HERE"
   ]
  }
 ],
 "metadata": {
  "kernelspec": {
   "display_name": "Python 3",
   "language": "python",
   "name": "python3"
  },
  "language_info": {
   "codemirror_mode": {
    "name": "ipython",
    "version": 3
   },
   "file_extension": ".py",
   "mimetype": "text/x-python",
   "name": "python",
   "nbconvert_exporter": "python",
   "pygments_lexer": "ipython3",
   "version": "3.7.3"
  }
 },
 "nbformat": 4,
 "nbformat_minor": 2
}
