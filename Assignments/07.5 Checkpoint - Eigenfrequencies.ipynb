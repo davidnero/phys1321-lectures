{
 "cells": [
  {
   "cell_type": "markdown",
   "metadata": {
    "slideshow": {
     "slide_type": "slide"
    }
   },
   "source": [
    "Fill in any place that says `# YOUR CODE HERE` or YOUR ANSWER HERE, as well as your name and collaborators below.\n",
    "Grading for pre-lecture assignments is all or nothing. Partial credit is available for in-class assignments and checkpoints, but **only when code is commented**."
   ]
  },
  {
   "cell_type": "code",
   "execution_count": null,
   "metadata": {},
   "outputs": [],
   "source": [
    "NAME = \"\"\n",
    "COLLABORATORS = \"\""
   ]
  },
  {
   "cell_type": "markdown",
   "metadata": {},
   "source": [
    "---"
   ]
  },
  {
   "cell_type": "code",
   "execution_count": null,
   "metadata": {
    "deletable": false,
    "editable": false,
    "nbgrader": {
     "cell_type": "code",
     "checksum": "e8c46b4be654bcfbef457156f8975b88",
     "grade": false,
     "grade_id": "cell-52ea72f1770ea9d1",
     "locked": true,
     "schema_version": 3,
     "solution": false,
     "task": false
    }
   },
   "outputs": [],
   "source": [
    "import grading_helper as _test"
   ]
  },
  {
   "cell_type": "code",
   "execution_count": null,
   "metadata": {
    "deletable": false,
    "nbgrader": {
     "cell_type": "code",
     "checksum": "b4d5be1a17dc1349a23621b7d290e47f",
     "grade": false,
     "grade_id": "cell-0093b13a123dfc88",
     "locked": false,
     "schema_version": 3,
     "solution": true,
     "task": false
    }
   },
   "outputs": [],
   "source": [
    "# Space for imports, utility functions, etc.\n",
    "\n",
    "# YOUR CODE HERE"
   ]
  },
  {
   "cell_type": "markdown",
   "metadata": {
    "deletable": false,
    "editable": false,
    "nbgrader": {
     "cell_type": "markdown",
     "checksum": "75d1f087e48898f88e4b94328d7ca610",
     "grade": false,
     "grade_id": "cell-0f1004502e7f0991",
     "locked": true,
     "schema_version": 3,
     "solution": false,
     "task": false
    }
   },
   "source": [
    "# Eigenfrequencies\n",
    "\n",
    "Consider a chain of four identical masses connected by five ideal springs. We will neglect the effects of gravity for simplicity. Your task is to make an animation that shows the chain vibrating horizontally at each of its four *eigenfrequencies*.\n",
    "\n",
    "<img src=\"data:image/png;base64,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\">\n",
    "\n",
    "Let $x_0$, $x_1$, $x_2$, and $x_3$ be the horizontal displacement of each mass from equilibrium, numbered from left to right. (For example, in the figure above, $x_0 = x_1 = x_2 = x_3 = 0$. Verify that the potential energy of the chain is\n",
    "\n",
    "$$U = \\tfrac12 k x_0^2 + \\tfrac12 k(x_1-x_0)^2 + \\tfrac12 k(x_2-x_1)^2 + \\tfrac12 k(x_3-x_2)^2 + \\tfrac12 k x_3^2\\,,$$\n",
    "\n",
    "where we have one term for each of the five springs.\n",
    "\n",
    "Using\n",
    "\n",
    "$$F_j=-\\frac{\\partial U}{\\partial x_j} = m\\ddot{x_j}\\,,$$\n",
    "\n",
    "write down the four equations of motion that govern the four masses. \n",
    "\n",
    "To find the eigenfrequencies $\\omega$ of the system, we exploit the fact that the solution to a simple harmonic oscillator takes the form $\\ddot{x_i} = -\\omega^2 x_i$.\n",
    "Put the equations you wrote above into the form\n",
    "\n",
    "$$\\mathbf{Mx}=\\frac{\\omega^2}{\\omega_0^2}\\mathbf{x}\\,,$$\n",
    "\n",
    "where $\\mathbf{M}$ is a matrix with the coefficients from the equation of motion and $\\omega_0=\\sqrt{k/m}$ is the natural frequency of each spring. We'll choose units where $\\omega_0 = 1$. We are thus left with an eigenvalue problem!\n",
    "\n",
    "$$\\mathbf{Mx}=\\omega^2\\mathbf{x}\\,$$\n",
    "\n",
    "where $\\omega$ are the angular *eigenfrequencies* (be careful, they are the square root of the eigenvalues and they should all be real).\n",
    "\n",
    "But what is the significance of these eigenfrequencies? Recall that the time-dependent solution to a simple harmonic oscillator is the real part of\n",
    "\n",
    "$$x_j(t) = A_j e^{\\mathrm{i}\\omega t}\\,,$$\n",
    "\n",
    "where $A_j$ is the complex amplitude. (The complex nature of $A_j$ allows for different phase&mdash;the magnitude of $A_j$ is what we normally call \"amplitude\".) In other words, when the chain is driven at an arbitrary frequency $\\omega$, all four masses move with that same frequency, but different amplitudes and phases. In general, the values of these amplitudes and phases are not obvious.\n",
    "\n",
    "However, if the system is driven at an eigenfrequency, the resulting amplitudes are all real, and the amplitudes of the four masses are exactly the elements of the associated eigenvector.\n",
    "\n",
    "Make an animation that shows the chain moving at each of its four eigenfrequencies (this would be a good place to use `subplot`). Your animation doesn't need to loop smoothly, but should be long enough that the motions of the masses are clear. It should also be clear that the frequencies for the four cases are not all the same.\n",
    "\n",
    "> Not only does the result look cool, but *any* motion of these four masses can be described as a linear combination of the four motions from your animation. In effect, these are the four unique ways the masses can move."
   ]
  },
  {
   "cell_type": "code",
   "execution_count": null,
   "metadata": {},
   "outputs": [],
   "source": [
    "# To help you with the visualization, here is some example code that draws \n",
    "# a spring using matplotlib. Feel free to use/modify this code as you see fit.\n",
    "\n",
    "import numpy as np\n",
    "import matplotlib.pyplot as plt\n",
    "\n",
    "\n",
    "def draw_spring(left, right):\n",
    "    \"\"\"\n",
    "    Draws a horizontal spring.\n",
    "    Inputs: left  = x-coord of left side\n",
    "            right = x-coord of right side\n",
    "    \"\"\"\n",
    "    dy = 0.5\n",
    "    x = np.linspace(left, right, 23)\n",
    "    y = np.array([0]*4 + [dy, 0, -dy, 0]*4 + [0]*3) # zig-zag shape for spring\n",
    "    spring = plt.Line2D(x, y, linestyle=\"-\", color=\"gray\", zorder=-1)\n",
    "    ax = plt.gca()                      #                        ^\n",
    "    ax.add_line(spring)                 # draw behind everything else\n",
    "\n",
    "\n",
    "def draw_chain(x_offsets):\n",
    "    \"\"\"\n",
    "    Draw a chain of five springs and four masses.\n",
    "    Input: x_offsets = list of displacements from equilibrium\n",
    "    \"\"\"\n",
    "    x = np.arange(2, 10, 2) + x_offsets\n",
    "    \n",
    "    # draw springs\n",
    "    draw_spring(0, x[0],)\n",
    "    draw_spring(x[0], x[1])\n",
    "    draw_spring(x[1], x[2])\n",
    "    draw_spring(x[2], x[3])\n",
    "    draw_spring(x[3], 10)\n",
    "    \n",
    "    # draw masses\n",
    "    plt.plot(x, [0, 0, 0, 0], \"ko\", ms=8)\n",
    "    \n",
    "    # draw vertical bars at edges\n",
    "    plt.vlines([0, 10], -1, 1, \"k\", lw=5)\n",
    "    \n",
    "    \n",
    "# example of an unstretched chain\n",
    "draw_chain([0, 0, 0, 0])\n",
    "plt.axis(\"scaled\")\n",
    "plt.axis(\"off\")\n",
    "plt.show()"
   ]
  },
  {
   "cell_type": "code",
   "execution_count": null,
   "metadata": {
    "deletable": false,
    "nbgrader": {
     "cell_type": "code",
     "checksum": "4e0b21c786746545e57802e29bde2713",
     "grade": true,
     "grade_id": "cell-1f3fda232d7e1fbc",
     "locked": false,
     "points": 20,
     "schema_version": 3,
     "solution": true,
     "task": false
    }
   },
   "outputs": [],
   "source": [
    "%%graded # 20 points\n",
    "\n",
    "# YOUR CODE HERE"
   ]
  }
 ],
 "metadata": {
  "kernelspec": {
   "display_name": "Python 3",
   "language": "python",
   "name": "python3"
  },
  "language_info": {
   "codemirror_mode": {
    "name": "ipython",
    "version": 3
   },
   "file_extension": ".py",
   "mimetype": "text/x-python",
   "name": "python",
   "nbconvert_exporter": "python",
   "pygments_lexer": "ipython3",
   "version": "3.7.3"
  }
 },
 "nbformat": 4,
 "nbformat_minor": 4
}
