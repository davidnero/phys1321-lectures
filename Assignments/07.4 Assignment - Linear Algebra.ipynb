{
 "cells": [
  {
   "cell_type": "markdown",
   "metadata": {
    "slideshow": {
     "slide_type": "slide"
    }
   },
   "source": [
    "Fill in any place that says `# YOUR CODE HERE` or YOUR ANSWER HERE, as well as your name and collaborators below.\n",
    "Grading for pre-lecture assignments is all or nothing. Partial credit is available for in-class assignments and checkpoints, but **only when code is commented**."
   ]
  },
  {
   "cell_type": "code",
   "execution_count": null,
   "metadata": {},
   "outputs": [],
   "source": [
    "NAME = \"\"\n",
    "COLLABORATORS = \"\""
   ]
  },
  {
   "cell_type": "markdown",
   "metadata": {},
   "source": [
    "---"
   ]
  },
  {
   "cell_type": "code",
   "execution_count": null,
   "metadata": {
    "deletable": false,
    "editable": false,
    "nbgrader": {
     "cell_type": "code",
     "checksum": "80c29d2605bf5ccb5f196a67bc988dea",
     "grade": false,
     "grade_id": "cell-bf9782521dbeb4da",
     "locked": true,
     "schema_version": 3,
     "solution": false,
     "task": false
    }
   },
   "outputs": [],
   "source": [
    "import grading_helper as _test"
   ]
  },
  {
   "cell_type": "code",
   "execution_count": null,
   "metadata": {
    "deletable": false,
    "nbgrader": {
     "cell_type": "code",
     "checksum": "3e8c0f8eff0aa8475be2b5d2e7ba3e27",
     "grade": false,
     "grade_id": "cell-ed67fbff8650fb70",
     "locked": false,
     "schema_version": 3,
     "solution": true,
     "task": false
    }
   },
   "outputs": [],
   "source": [
    "# Space for imports, utility functions, etc.\n",
    "\n",
    "# YOUR CODE HERE"
   ]
  },
  {
   "cell_type": "markdown",
   "metadata": {
    "deletable": false,
    "editable": false,
    "nbgrader": {
     "cell_type": "markdown",
     "checksum": "9cf224ce750922e75f5f31a4cd026967",
     "grade": false,
     "grade_id": "cell-90fa9bc2d109bb2a",
     "locked": true,
     "schema_version": 3,
     "solution": false,
     "task": false
    }
   },
   "source": [
    "# Circuit Network 2\n",
    "\n",
    "(Adapted from textbook exercise 6.7)\n",
    "\n",
    "Consider a long chain of resistors\n",
    "wired up like this:\n",
    "\n",
    "<img src=\"data:image/png;base64,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\">\n",
    "\n",
    "All the resistors have the same resistance $R$. The power rail at the top is at voltage $V_+=5$V. The problem is to find the voltages $V_1\\ldots V_N$ at the internal points in the circuit.\n",
    "\n",
    "Using Ohm's law and the Kirchhoff current law, which says that the total net current flow out of (or into) any junction in a circuit must be zero, we find that the voltages $V_1\\ldots V_N$ satisfy the equations\n",
    "$$\\begin{align*}\n",
    "3V_1 - V_2 - V_3 &= V_+\\,, \\\\\n",
    "-V_1 + 4V_2 - V_3 - V_4 &= V_+\\,, \\\\\n",
    "-V_1-V_2 + 4V_3 - V_4 - V_5 &= 0\\,, \\\\\n",
    "                        &\\hspace{0.6em}\\vdots \\\\\n",
    "-V_{i-2} - V_{i-1} + 4V_i - V_{i+1} - V_{i+2} &= 0\\,, \\\\\n",
    "                        &\\hspace{0.6em}\\vdots \\\\\n",
    "-V_{N-3} - V_{N-2} + 4V_{N-1} - V_N &= 0\\,, \\\\\n",
    "-V_{N-2} - V_{N-1} + 3V_N &= 0\\,.\n",
    "\\end{align*}$$\n",
    "\n",
    "Write a program to solve for the values of the $V_i$ when there are $N=6$ internal junctions with unknown voltages. Put your results in an array named `V`."
   ]
  },
  {
   "cell_type": "code",
   "execution_count": null,
   "metadata": {
    "deletable": false,
    "nbgrader": {
     "cell_type": "code",
     "checksum": "2ff68ca062a87329ceeb085fb6167feb",
     "grade": false,
     "grade_id": "cell-f92d46712657e99d",
     "locked": false,
     "schema_version": 3,
     "solution": true,
     "task": false
    }
   },
   "outputs": [],
   "source": [
    "%%graded # 5 points\n",
    "\n",
    "# YOUR CODE HERE"
   ]
  },
  {
   "cell_type": "code",
   "execution_count": null,
   "metadata": {
    "deletable": false,
    "editable": false,
    "nbgrader": {
     "cell_type": "code",
     "checksum": "835a322504855658e3fa6e6d33a982dc",
     "grade": true,
     "grade_id": "cell-e2bce57079a8b142",
     "locked": true,
     "points": 5,
     "schema_version": 3,
     "solution": false,
     "task": false
    }
   },
   "outputs": [],
   "source": [
    "%%tests\n",
    "\n",
    "_test.similar(V[:-1], [3.73, 3.43, 2.75, 2.25, 1.57])"
   ]
  },
  {
   "cell_type": "markdown",
   "metadata": {},
   "source": [
    "Now repeat your calculation for the case where there are $N=10\\,000$ internal junctions. This part is not possible using the standard `solve` function. You'll need to use `solve_banded`. Rather than printing all $10\\,000$ values, you should instead plot them.\n",
    "> Note that all of the values must be between 0 and 5 V. Once you see the final graph, it should be obvious to you whether or not it's correct."
   ]
  },
  {
   "cell_type": "code",
   "execution_count": null,
   "metadata": {
    "deletable": false,
    "nbgrader": {
     "cell_type": "code",
     "checksum": "21559dcd7f830a2919a6f962910aaf89",
     "grade": true,
     "grade_id": "cell-d85d13628a0d9f49",
     "locked": false,
     "points": 5,
     "schema_version": 3,
     "solution": true,
     "task": false
    }
   },
   "outputs": [],
   "source": [
    "%%graded # 5 points\n",
    "\n",
    "# YOUR CODE HERE"
   ]
  }
 ],
 "metadata": {
  "kernelspec": {
   "display_name": "Python 3",
   "language": "python",
   "name": "python3"
  },
  "language_info": {
   "codemirror_mode": {
    "name": "ipython",
    "version": 3
   },
   "file_extension": ".py",
   "mimetype": "text/x-python",
   "name": "python",
   "nbconvert_exporter": "python",
   "pygments_lexer": "ipython3",
   "version": "3.7.3"
  }
 },
 "nbformat": 4,
 "nbformat_minor": 2
}
