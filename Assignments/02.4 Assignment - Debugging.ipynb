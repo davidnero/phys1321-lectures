{
 "cells": [
  {
   "cell_type": "markdown",
   "metadata": {
    "slideshow": {
     "slide_type": "slide"
    }
   },
   "source": [
    "Fill in any place that says `# YOUR CODE HERE` or YOUR ANSWER HERE, as well as your name and collaborators below.\n",
    "Grading for pre-lecture assignments is all or nothing. Partial credit is available for in-class assignments and checkpoints, but **only when code is commented**."
   ]
  },
  {
   "cell_type": "code",
   "execution_count": null,
   "metadata": {},
   "outputs": [],
   "source": [
    "NAME = \"\"\n",
    "COLLABORATORS = \"\""
   ]
  },
  {
   "cell_type": "markdown",
   "metadata": {},
   "source": [
    "---"
   ]
  },
  {
   "cell_type": "code",
   "execution_count": null,
   "metadata": {
    "deletable": false,
    "editable": false,
    "nbgrader": {
     "cell_type": "code",
     "checksum": "b1e37994087022be61063a74d03ba764",
     "grade": false,
     "grade_id": "cell-4f5e2b95b82787ca",
     "locked": true,
     "schema_version": 3,
     "solution": false
    }
   },
   "outputs": [],
   "source": [
    "import grading_helper as _test"
   ]
  },
  {
   "cell_type": "markdown",
   "metadata": {
    "deletable": false,
    "editable": false,
    "nbgrader": {
     "cell_type": "markdown",
     "checksum": "c5e5d296d481a45a038bc30f74669856",
     "grade": false,
     "grade_id": "cell-9931a1a56d8252b6",
     "locked": true,
     "schema_version": 3,
     "solution": false
    }
   },
   "source": [
    "# Code Testing\n",
    "\n",
    "You **must** work in teams of two or three for this assignment.\n",
    "\n",
    "Write a function `cartesian_to_polar(x, y)` that takes the Cartesian coordinates $(x,y)$ of a point in two-dimensional space, and calculates and returns the corresponding polar coordinates $(r,\\theta)$ with $\\theta$ given in degrees in the range $0\\le \\theta < 360$."
   ]
  },
  {
   "cell_type": "code",
   "execution_count": null,
   "metadata": {
    "deletable": false,
    "nbgrader": {
     "cell_type": "code",
     "checksum": "2006a951a4cd6feadb17a36c80409a13",
     "grade": true,
     "grade_id": "cell-79af353d66e94f30",
     "locked": false,
     "points": 4,
     "schema_version": 3,
     "solution": true
    }
   },
   "outputs": [],
   "source": [
    "%%graded # 4 points\n",
    "\n",
    "# YOUR CODE HERE"
   ]
  },
  {
   "cell_type": "markdown",
   "metadata": {},
   "source": [
    "Write a set of test cases for your function using `assert`. Try to think of test cases that your classmate's code may fail. (Of course, your code should pass your own tests!)"
   ]
  },
  {
   "cell_type": "code",
   "execution_count": null,
   "metadata": {
    "deletable": false,
    "nbgrader": {
     "cell_type": "code",
     "checksum": "57ec92e9bb15112a6ba4da76ac6f80ce",
     "grade": true,
     "grade_id": "cell-45d0a0c0ce72fba0",
     "locked": false,
     "points": 2,
     "schema_version": 3,
     "solution": true
    }
   },
   "outputs": [],
   "source": [
    "%%graded # 2 points\n",
    "\n",
    "# YOUR CODE HERE"
   ]
  },
  {
   "cell_type": "markdown",
   "metadata": {
    "deletable": false,
    "editable": false,
    "nbgrader": {
     "cell_type": "markdown",
     "checksum": "7bf80d035fb487e1cef9b081dcffa93b",
     "grade": false,
     "grade_id": "cell-76258e90f7603e7a",
     "locked": true,
     "schema_version": 3,
     "solution": false
    }
   },
   "source": [
    "Use https://pastebin.com/ or a similar site to exchange code and tests with another group."
   ]
  },
  {
   "cell_type": "code",
   "execution_count": null,
   "metadata": {},
   "outputs": [],
   "source": [
    "# paste other group's tests here\n"
   ]
  },
  {
   "cell_type": "markdown",
   "metadata": {
    "deletable": false,
    "editable": false,
    "nbgrader": {
     "cell_type": "markdown",
     "checksum": "3d684d1b1929576f70b0dd58397f309c",
     "grade": false,
     "grade_id": "cell-d60bccb796e04b37",
     "locked": true,
     "schema_version": 3,
     "solution": false
    }
   },
   "source": [
    "Does your code pass all of their tests? If so, great! If not, does your code have a bug or is their test faulty? Write your diagnosis below, and then go back and fix your code above if time allows."
   ]
  },
  {
   "cell_type": "markdown",
   "metadata": {
    "deletable": false,
    "nbgrader": {
     "cell_type": "markdown",
     "checksum": "836620293effef7177327a87bdbb3b56",
     "grade": true,
     "grade_id": "cell-495bf3fdbc57618c",
     "locked": false,
     "points": 2,
     "schema_version": 3,
     "solution": true
    }
   },
   "source": [
    "<div style=\"background:lavender\"># 2 points\n",
    "\n",
    "YOUR ANSWER HERE\n",
    "</div>"
   ]
  },
  {
   "cell_type": "code",
   "execution_count": null,
   "metadata": {},
   "outputs": [],
   "source": [
    "# copy other group's code here\n"
   ]
  },
  {
   "cell_type": "code",
   "execution_count": null,
   "metadata": {},
   "outputs": [],
   "source": [
    "# copy YOUR tests here\n"
   ]
  },
  {
   "cell_type": "markdown",
   "metadata": {
    "deletable": false,
    "editable": false,
    "nbgrader": {
     "cell_type": "markdown",
     "checksum": "d5b0e0e93cbd241227f41a8408d6ddd2",
     "grade": false,
     "grade_id": "cell-1f5706b42a900a15",
     "locked": true,
     "schema_version": 3,
     "solution": false
    }
   },
   "source": [
    "Does their code pass all of your tests? If so, great! If not, does their code have a bug or is your test faulty? If the code has one or more bugs, explain how to fix it (in words)."
   ]
  },
  {
   "cell_type": "markdown",
   "metadata": {
    "deletable": false,
    "nbgrader": {
     "cell_type": "markdown",
     "checksum": "d59b811e8c1a6509c5dee26704e7fee4",
     "grade": true,
     "grade_id": "cell-94c7f41bee391777",
     "locked": false,
     "points": 2,
     "schema_version": 3,
     "solution": true
    }
   },
   "source": [
    "<div style=\"background:lavender\"># 2 points\n",
    "\n",
    "YOUR ANSWER HERE\n",
    "</div>"
   ]
  }
 ],
 "metadata": {
  "kernelspec": {
   "display_name": "Python 3",
   "language": "python",
   "name": "python3"
  },
  "language_info": {
   "codemirror_mode": {
    "name": "ipython",
    "version": 3
   },
   "file_extension": ".py",
   "mimetype": "text/x-python",
   "name": "python",
   "nbconvert_exporter": "python",
   "pygments_lexer": "ipython3",
   "version": "3.7.3"
  }
 },
 "nbformat": 4,
 "nbformat_minor": 2
}
