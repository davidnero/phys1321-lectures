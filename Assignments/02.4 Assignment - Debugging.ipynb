{
 "cells": [
  {
   "cell_type": "markdown",
   "metadata": {
    "slideshow": {
     "slide_type": "slide"
    }
   },
   "source": [
    "Grading for pre-lecture questions is all or nothing. Partial credit is available for in-class assignments and checkpoints. Partial credit will primarily be determined by the quality of the comments you make in your code. Tell me what you intend the code to do. If there are no comments, there is no partial credit!"
   ]
  },
  {
   "cell_type": "code",
   "execution_count": null,
   "metadata": {},
   "outputs": [],
   "source": [
    "NAME = \"\"\n",
    "COLLABORATORS = \"\""
   ]
  },
  {
   "cell_type": "markdown",
   "metadata": {},
   "source": [
    "---"
   ]
  },
  {
   "cell_type": "code",
   "execution_count": null,
   "metadata": {
    "deletable": false,
    "editable": false,
    "nbgrader": {
     "cell_type": "code",
     "checksum": "b1e37994087022be61063a74d03ba764",
     "grade": false,
     "grade_id": "cell-4f5e2b95b82787ca",
     "locked": true,
     "schema_version": 3,
     "solution": false
    }
   },
   "outputs": [],
   "source": [
    "import grading_helper as _test"
   ]
  },
  {
   "cell_type": "markdown",
   "metadata": {
    "deletable": false,
    "editable": false,
    "nbgrader": {
     "cell_type": "markdown",
     "checksum": "dd5500e12ddfc3aa6ec618b160fc106f",
     "grade": false,
     "grade_id": "cell-9931a1a56d8252b6",
     "locked": true,
     "schema_version": 3,
     "solution": false
    }
   },
   "source": [
    "# Code Testing\n",
    "\n",
    "Below is the function `cartesian_to_polar(x, y)` that takes the Cartesian coordinates $(x,y)$ of a point in two-dimensional space, and calculates and returns the corresponding polar coordinates $(r,\\theta)$ with $\\theta$ given in degrees in the range $0\\le \\theta < 360$. It has some bugs... Your job is to debug this function."
   ]
  },
  {
   "cell_type": "code",
   "execution_count": null,
   "metadata": {
    "deletable": false,
    "nbgrader": {
     "cell_type": "code",
     "checksum": "9f0cc9cacc2c4b8dae8c12de313c02fc",
     "grade": false,
     "grade_id": "cell-659ccfdbdae22fdb",
     "locked": false,
     "schema_version": 3,
     "solution": true,
     "task": false
    }
   },
   "outputs": [],
   "source": [
    "%%graded # 10 points: 5 for passing your tests, and 5 for passing mine\n",
    "\n",
    "import math\n",
    "\n",
    "def cartesian_to_polar(x, y):\n",
    "    r = math.sqrt(x^2 + y^2)\n",
    "    theta = math.degrees(math.atan(y/x))\n",
    "    return r, theta\n",
    "\n",
    "# YOUR CODE HERE"
   ]
  },
  {
   "cell_type": "markdown",
   "metadata": {
    "deletable": false,
    "editable": false,
    "nbgrader": {
     "cell_type": "markdown",
     "checksum": "8cdb034a6782c611124026b17db97c3f",
     "grade": false,
     "grade_id": "cell-b1215ea18c70911e",
     "locked": true,
     "schema_version": 3,
     "solution": false,
     "task": false
    }
   },
   "source": [
    "In the cell below, write a set of test cases for the function using `assert` that proves that the debugged function works. Make sure to test positive, negative, and zero values for `x` and `y`."
   ]
  },
  {
   "cell_type": "code",
   "execution_count": null,
   "metadata": {
    "deletable": false,
    "nbgrader": {
     "cell_type": "code",
     "checksum": "c59ecd0cb81514567485b9a202a993e1",
     "grade": true,
     "grade_id": "cell-45d0a0c0ce72fba0",
     "locked": false,
     "points": 5,
     "schema_version": 3,
     "solution": true
    }
   },
   "outputs": [],
   "source": [
    "# YOUR CODE HERE"
   ]
  },
  {
   "cell_type": "code",
   "execution_count": null,
   "metadata": {
    "deletable": false,
    "editable": false,
    "nbgrader": {
     "cell_type": "code",
     "checksum": "a03204a4b8abcab65ef1e7f0fbdef836",
     "grade": true,
     "grade_id": "cell-47bd34a655773ff5",
     "locked": true,
     "points": 5,
     "schema_version": 3,
     "solution": false,
     "task": false
    }
   },
   "outputs": [],
   "source": [
    "%%tests\n",
    "\n",
    "# my tests (hidden)"
   ]
  }
 ],
 "metadata": {
  "kernelspec": {
   "display_name": "Python 3 (ipykernel)",
   "language": "python",
   "name": "python3"
  },
  "language_info": {
   "codemirror_mode": {
    "name": "ipython",
    "version": 3
   },
   "file_extension": ".py",
   "mimetype": "text/x-python",
   "name": "python",
   "nbconvert_exporter": "python",
   "pygments_lexer": "ipython3",
   "version": "3.10.5"
  }
 },
 "nbformat": 4,
 "nbformat_minor": 2
}
