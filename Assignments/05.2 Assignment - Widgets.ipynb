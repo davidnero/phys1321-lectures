{
 "cells": [
  {
   "cell_type": "markdown",
   "metadata": {
    "slideshow": {
     "slide_type": "slide"
    }
   },
   "source": [
    "Fill in any place that says `# YOUR CODE HERE` or YOUR ANSWER HERE, as well as your name and collaborators below.\n",
    "Grading for pre-lecture assignments is all or nothing. Partial credit is available for in-class assignments and checkpoints, but **only when code is commented**."
   ]
  },
  {
   "cell_type": "code",
   "execution_count": null,
   "metadata": {},
   "outputs": [],
   "source": [
    "NAME = \"\"\n",
    "COLLABORATORS = \"\""
   ]
  },
  {
   "cell_type": "markdown",
   "metadata": {},
   "source": [
    "---"
   ]
  },
  {
   "cell_type": "code",
   "execution_count": null,
   "metadata": {
    "deletable": false,
    "editable": false,
    "nbgrader": {
     "cell_type": "code",
     "checksum": "14bfb8a1fe3442f0054edd336db665c9",
     "grade": false,
     "grade_id": "cell-635bc42a4a0d6ceb",
     "locked": true,
     "schema_version": 3,
     "solution": false,
     "task": false
    }
   },
   "outputs": [],
   "source": [
    "import grading_helper as _test"
   ]
  },
  {
   "cell_type": "code",
   "execution_count": null,
   "metadata": {
    "deletable": false,
    "nbgrader": {
     "cell_type": "code",
     "checksum": "095035ba8230fa3cb69c64183911b6b1",
     "grade": false,
     "grade_id": "cell-61afec376f22c45c",
     "locked": false,
     "schema_version": 3,
     "solution": true,
     "task": false
    }
   },
   "outputs": [],
   "source": [
    "# Space for imports, utility functions, etc.\n",
    "\n",
    "# YOUR CODE HERE"
   ]
  },
  {
   "cell_type": "markdown",
   "metadata": {
    "deletable": false,
    "editable": false,
    "nbgrader": {
     "cell_type": "markdown",
     "checksum": "3b506cfae90e788ed715c1e1012e38c2",
     "grade": false,
     "grade_id": "cell-cbf76d6df4d85274",
     "locked": true,
     "schema_version": 3,
     "solution": false,
     "task": false
    }
   },
   "source": [
    "# Calculating Integrals\n",
    "\n",
    "(Adapted from textbook exercise 4.4)\n",
    "\n",
    "Suppose we want to calculate the value of the integral\n",
    "$$I = \\int_{-1}^1 \\sqrt{1-x^2} \\>\\mathrm{d}x\\,.$$\n",
    "The integrand looks like a semicircle of radius 1, and hence the value of the integral&mdash;the area under the curve&mdash;must be $\\tfrac12\\pi=1.57079632679\\ldots$\n",
    "\n",
    "Alternatively, we can evaluate the integral on the computer by dividing the domain of integration into a large number $N$ of slices of width $h=2/N$ each and then use the Riemann definition of the integral:\n",
    "$$I = \\lim_{N\\to\\infty} \\sum_{k=0}^{N-1} hy_k\\,,$$\n",
    "where\n",
    "$$y_k = \\sqrt{1 - x_k^2}\\qquad\\mbox{and}\\qquad x_k = -1 + hk.$$\n",
    "We cannot in practice take the limit $N\\to\\infty$, but we can make a reasonable approximation by just making $N$ large. The figure below shows this approximation with $N=10$.\n",
    "<img src=\"data:image/gif;base64,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\">\n",
    "\n",
    "Write a program to evaluate the integral above with $N$ set by a slider with a range from 1 to 50, with a default value of 10. As the slider updates the value of $N$, your program should update a graph of the integrand and its approximation. Use `widgets.interactive` and display it with `display.display`.\n",
    "\n",
    "To make the bars, you can use `plt.bar` (see the `matplotlib` documentation for usage). Note that the left side of the bars are aligned with the curve. By default, `matplotlib` centers the bars. You'll need to figure out how to change that.\n",
    "\n",
    "Your graph should look much like the figure above with one addition: the approximate value of the integral should be shown as text somewhere on the graph."
   ]
  },
  {
   "cell_type": "code",
   "execution_count": null,
   "metadata": {
    "deletable": false,
    "nbgrader": {
     "cell_type": "code",
     "checksum": "0f5a3d4d8748b29662a1648452a64ce8",
     "grade": false,
     "grade_id": "cell-0f9fe0e067948415",
     "locked": false,
     "schema_version": 3,
     "solution": true,
     "task": false
    }
   },
   "outputs": [],
   "source": [
    "%%graded # 10 points\n",
    "\n",
    "# YOUR CODE HERE"
   ]
  },
  {
   "cell_type": "code",
   "execution_count": null,
   "metadata": {
    "deletable": false,
    "editable": false,
    "nbgrader": {
     "cell_type": "code",
     "checksum": "6812368f0802683b872f02f835df9f34",
     "grade": true,
     "grade_id": "cell-b1e51c6ea25e5f21",
     "locked": true,
     "points": 10,
     "schema_version": 3,
     "solution": false,
     "task": false
    }
   },
   "outputs": [],
   "source": [
    "%%tests\n",
    "\n",
    "_test.code_contains(\"IntSlider\", \"min\", \"max\", \"value\")\n",
    "_test.code_contains(\"bar\")\n",
    "_test.code_contains(\"interactive\", \"display\")\n",
    "_test.plot_shown()\n",
    "_test.widget_has(\"IntSlider\", \"value=10\", \"min=1\", \"max=50\")\n",
    "\n",
    "# save a copy of the widget and figure\n",
    "_test.widget_snapshot()\n",
    "plot = _test.get_plot()\n",
    "plot.savefig(\"fig.png\")\n",
    "display.Image(\"fig.png\")"
   ]
  }
 ],
 "metadata": {
  "kernelspec": {
   "display_name": "Python 3",
   "language": "python",
   "name": "python3"
  },
  "language_info": {
   "codemirror_mode": {
    "name": "ipython",
    "version": 3
   },
   "file_extension": ".py",
   "mimetype": "text/x-python",
   "name": "python",
   "nbconvert_exporter": "python",
   "pygments_lexer": "ipython3",
   "version": "3.7.3"
  }
 },
 "nbformat": 4,
 "nbformat_minor": 2
}
