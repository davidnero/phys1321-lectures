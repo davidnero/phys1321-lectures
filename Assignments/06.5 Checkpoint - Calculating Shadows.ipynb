{
 "cells": [
  {
   "cell_type": "markdown",
   "metadata": {
    "slideshow": {
     "slide_type": "slide"
    }
   },
   "source": [
    "Fill in any place that says `# YOUR CODE HERE` or YOUR ANSWER HERE, as well as your name and collaborators below.\n",
    "Grading for pre-lecture assignments is all or nothing. Partial credit is available for in-class assignments and checkpoints, but **only when code is commented**."
   ]
  },
  {
   "cell_type": "code",
   "execution_count": null,
   "metadata": {},
   "outputs": [],
   "source": [
    "NAME = \"\"\n",
    "COLLABORATORS = \"\""
   ]
  },
  {
   "cell_type": "markdown",
   "metadata": {},
   "source": [
    "---"
   ]
  },
  {
   "cell_type": "code",
   "execution_count": null,
   "metadata": {
    "deletable": false,
    "editable": false,
    "nbgrader": {
     "cell_type": "code",
     "checksum": "cd6d2d8705fdcd2556bd5ef968d3c8cc",
     "grade": false,
     "grade_id": "cell-5916495f85a6690a",
     "locked": true,
     "schema_version": 3,
     "solution": false,
     "task": false
    }
   },
   "outputs": [],
   "source": [
    "import grading_helper as _test"
   ]
  },
  {
   "cell_type": "code",
   "execution_count": null,
   "metadata": {
    "deletable": false,
    "nbgrader": {
     "cell_type": "code",
     "checksum": "55553d9f147896d0851ec42b4c8225bd",
     "grade": false,
     "grade_id": "cell-04e5e5ae10d4eae6",
     "locked": false,
     "schema_version": 3,
     "solution": true,
     "task": false
    }
   },
   "outputs": [],
   "source": [
    "# Space for imports, utility functions, etc.\n",
    "\n",
    "# YOUR CODE HERE"
   ]
  },
  {
   "cell_type": "code",
   "execution_count": null,
   "metadata": {
    "deletable": false,
    "editable": false,
    "nbgrader": {
     "cell_type": "code",
     "checksum": "ccde4ba450e77ccf793ad4f5c5d678f9",
     "grade": false,
     "grade_id": "cell-ac2c15e01127512a",
     "locked": true,
     "schema_version": 3,
     "solution": false,
     "task": false
    }
   },
   "outputs": [],
   "source": [
    "# This code downloads the file from the Internet and saves it in the working directory\n",
    "import os\n",
    "import urllib.request as url\n",
    "if not os.path.isfile(\"stm.txt\"):\n",
    "    url.urlretrieve(\"http://www.pitt.edu/~djn23/phys1321/stm.txt\", \"stm.txt\")"
   ]
  },
  {
   "cell_type": "markdown",
   "metadata": {
    "deletable": false,
    "editable": false,
    "nbgrader": {
     "cell_type": "markdown",
     "checksum": "0554405bd23e4422dc72fda29690fde6",
     "grade": false,
     "grade_id": "cell-0fb1fa42337c85da",
     "locked": true,
     "schema_version": 3,
     "solution": false,
     "task": false
    }
   },
   "source": [
    "# Calculating Shadows\n",
    "\n",
    "(Adapted from textbook exercise 5.23)\n",
    "\n",
    "The file you just downloaded contains an [STM](https://en.wikipedia.org/wiki/Scanning_tunneling_microscope) image of the surface of silicon, stored as a 2-D array. Load it with `loadtxt` and try plotting it with `imshow`. In this assignment, you'll enhance the image by calculating how it would look illuminated by a fixed light source.\n",
    "\n",
    "When light strikes a surface, the amount falling per unit area depends not only on the intensity of the light, but also on the angle of incidence. The resulting intensity of illumination is $a\\cos\\theta$, where $a$ is the raw\n",
    "intensity of the light. This simple physical law allows us to calculate how light falls on three-dimensional objects and hence how they will look when illuminated from various angles.\n",
    "\n",
    "Suppose, for instance, that we are looking down on the silicon from above. We know the height of the surface $w(x,y)$ as a function of position in the plane, so the equation for the surface is simply $z=w(x,y)$, or equivalently $z-w(x,y)=0$, and the normal\n",
    "vector $\\vec{v}$ to the surface is given by the gradient of $z-w(x,y)$ thus:\n",
    "\n",
    "$$\\vec{v} = \\vec{\\nabla} [z-w(x,y)] = \\begin{pmatrix}\\partial/\\partial x \\\\ \\partial/\\partial y \\\\ \\partial/\\partial z \\end{pmatrix} [z-w(x,y)] = \\begin{pmatrix}-\\partial w/\\partial x \\\\ -\\partial w/\\partial y \\\\ 1 \\end{pmatrix}\\,.$$\n",
    "\n",
    "Now suppose we have light coming in represented by a vector $\\vec{a}$ with magnitude equal to the intensity of the light. Then the dot product of the vectors $\\vec{a}$ and $\\vec{v}$ is\n",
    "\n",
    "$$\\vec{a}\\cdot\\vec{v} = |\\vec{a}|\\,|\\vec{v}|\\cos\\theta\\,,$$\n",
    "\n",
    "where $\\theta$ is the angle between the vectors. Thus the intensity of illumination of the surface is\n",
    "\n",
    "$$I = |\\vec{a}| \\cos\\theta = \\frac{\\vec{a}\\cdot\\vec{v}}{|\\vec{v}|} = \\frac{-a_x (\\partial w/\\partial x) - a_y (\\partial w/\\partial y) + a_z}{\\sqrt{(\\partial w/\\partial x)^2 + (\\partial w/\\partial y)^2 + 1}}\\,.$$\n",
    "\n",
    "In turn, the illumination can be expressed in terms of a pair of angles that describe the location of the sun in the sky:\n",
    "\n",
    "$$\\vec{a}=(\\cos\\theta\\cos\\phi,\\cos\\theta\\sin\\phi,\\sin\\theta)\\,,$$\n",
    "\n",
    "where $\\theta$ represents the altitude angle, and $\\phi$ represents the azimuthal angle (measured counterclockwise from the $+x$-axis).\n",
    "\n",
    "You can use `gradient` to calculate the derivatives $\\partial w/\\partial x$ and $\\partial w/\\partial y$ at each grid point. To get the scaling right, you'll need to know the distance between grid points, which is about 2.5 (arbitrary units) in this case.\n",
    "\n",
    "> Hint: Don't just use `gradient` blindly. Think about how the image is stored in the array. It's really easy to have an array come out backwards or upside down.\n",
    "\n",
    "Using your values for the derivatives, calculate the intensity for each grid point, with $\\theta=20^\\circ$ and $\\phi=30^\\circ$. Make a density plot of the resulting values in which the brightness of each dot depends on the corresponding intensity value (choose a gray or monochromatic color map). If you get it working right, the plot should have a 3-D look to it. \n",
    "\n",
    "Make sure that the shadows point in the correct direction. (Think about where the light source is!)"
   ]
  },
  {
   "cell_type": "code",
   "execution_count": null,
   "metadata": {
    "deletable": false,
    "nbgrader": {
     "cell_type": "code",
     "checksum": "723b12cb52db28bd50c77db5bf527746",
     "grade": true,
     "grade_id": "cell-261296866a412698",
     "locked": false,
     "points": 20,
     "schema_version": 3,
     "solution": true,
     "task": false
    }
   },
   "outputs": [],
   "source": [
    "%%graded # 20 points\n",
    "\n",
    "# YOUR CODE HERE"
   ]
  }
 ],
 "metadata": {
  "kernelspec": {
   "display_name": "Python 3",
   "language": "python",
   "name": "python3"
  },
  "language_info": {
   "codemirror_mode": {
    "name": "ipython",
    "version": 3
   },
   "file_extension": ".py",
   "mimetype": "text/x-python",
   "name": "python",
   "nbconvert_exporter": "python",
   "pygments_lexer": "ipython3",
   "version": "3.7.3"
  }
 },
 "nbformat": 4,
 "nbformat_minor": 4
}
