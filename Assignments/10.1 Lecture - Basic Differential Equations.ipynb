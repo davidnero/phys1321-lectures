{
 "cells": [
  {
   "cell_type": "markdown",
   "metadata": {
    "slideshow": {
     "slide_type": "slide"
    }
   },
   "source": [
    "Fill in any place that says `# YOUR CODE HERE` or YOUR ANSWER HERE, as well as your name and collaborators below.\n",
    "Grading for pre-lecture assignments is all or nothing. Partial credit is available for in-class assignments and checkpoints, but **only when code is commented**."
   ]
  },
  {
   "cell_type": "code",
   "execution_count": null,
   "metadata": {},
   "outputs": [],
   "source": [
    "NAME = \"\"\n",
    "COLLABORATORS = \"\""
   ]
  },
  {
   "cell_type": "markdown",
   "metadata": {},
   "source": [
    "---"
   ]
  },
  {
   "cell_type": "markdown",
   "metadata": {
    "deletable": false,
    "editable": false,
    "nbgrader": {
     "cell_type": "markdown",
     "checksum": "841496e05d3e324c61210eaeb8c3d256",
     "grade": false,
     "grade_id": "cell-ec0c8f83ffb0d9c7",
     "locked": true,
     "schema_version": 3,
     "solution": false
    }
   },
   "source": [
    "# Learning Objectives\n",
    "\n",
    "This lecture will show you how to:\n",
    "1. Solve 1st order ODEs with Euler's method\n",
    "2. Solve 1st order ODEs with the Runge-Kutta method\n",
    "3. Solve systems of 1st order ODEs\n",
    "4. Solve 2nd order (and above) ODEs"
   ]
  },
  {
   "cell_type": "code",
   "execution_count": null,
   "metadata": {
    "deletable": false,
    "editable": false,
    "nbgrader": {
     "cell_type": "code",
     "checksum": "ea3b6f23cf9dc2bdebcbb30421e3a887",
     "grade": false,
     "grade_id": "cell-abd1b2cca923116d",
     "locked": true,
     "schema_version": 3,
     "solution": false
    }
   },
   "outputs": [],
   "source": [
    "# imports\n",
    "import numpy as np\n",
    "import matplotlib.pyplot as plt\n",
    "\n",
    "import grading_helper as _test"
   ]
  },
  {
   "cell_type": "markdown",
   "metadata": {
    "deletable": false,
    "editable": false,
    "nbgrader": {
     "cell_type": "markdown",
     "checksum": "715009b273dd9d048edd628daccb68ff",
     "grade": false,
     "grade_id": "cell-12b43295a0f000dd",
     "locked": true,
     "schema_version": 3,
     "solution": false
    }
   },
   "source": [
    "# Euler's Method"
   ]
  },
  {
   "cell_type": "code",
   "execution_count": null,
   "metadata": {
    "deletable": false,
    "editable": false,
    "nbgrader": {
     "cell_type": "code",
     "checksum": "eb5eab4832a94d0ffad7a8f02b3fa7d1",
     "grade": false,
     "grade_id": "cell-e9692b2c91e495dc",
     "locked": true,
     "schema_version": 3,
     "solution": false
    }
   },
   "outputs": [],
   "source": [
    "%video _ulNf7dF1Fc"
   ]
  },
  {
   "cell_type": "markdown",
   "metadata": {
    "deletable": false,
    "editable": false,
    "nbgrader": {
     "cell_type": "markdown",
     "checksum": "efc1f71e1cb194ed47598d1fc826cd23",
     "grade": false,
     "grade_id": "cell-ef2de58511545032",
     "locked": true,
     "schema_version": 3,
     "solution": false
    }
   },
   "source": [
    "Summary:\n",
    "\n",
    "Write a 1st order ODE in the form\n",
    "\n",
    "$$\\frac{dx}{dt}=f(x,t)\\,.$$\n",
    "\n",
    "Then, starting with **initial condition** $x_0=x(t_0)$, repeated apply\n",
    "\n",
    "$$x(t+h)=x(t)+h\\,f(x,t)\\,,$$\n",
    "\n",
    "with a small step size $h$."
   ]
  },
  {
   "cell_type": "code",
   "execution_count": null,
   "metadata": {},
   "outputs": [],
   "source": []
  },
  {
   "cell_type": "markdown",
   "metadata": {
    "deletable": false,
    "editable": false,
    "nbgrader": {
     "cell_type": "markdown",
     "checksum": "e590f17bdf1a8c653e51f46db26b9eb9",
     "grade": false,
     "grade_id": "cell-e97e11861c0dcf51",
     "locked": true,
     "schema_version": 3,
     "solution": false
    }
   },
   "source": [
    "## Your Turn\n",
    "\n",
    "Let\n",
    "$$\\frac{dx}{dt} = x\\cos t\\,,$$\n",
    "with $x(0) = 1$.\n",
    "1. Solve this equation by hand (separate variables and integrate). Plot $x(t)$ for $0 \\le t \\le 2\\pi$.\n",
    "2. Use Euler's method with $h=\\pi/10$. Plot a dot at each value of $x$ that the method computes. Store these values in an array named `x`.\n",
    "\n",
    "> The graphs will be similar, but not match exactly. The step size $h$ is pretty large."
   ]
  },
  {
   "cell_type": "code",
   "execution_count": null,
   "metadata": {
    "deletable": false,
    "nbgrader": {
     "cell_type": "code",
     "checksum": "3a1378c47c035b3e316e05be95976b1d",
     "grade": false,
     "grade_id": "cell-35ad44336baecb36",
     "locked": false,
     "schema_version": 3,
     "solution": true
    }
   },
   "outputs": [],
   "source": [
    "%%graded # 1 point\n",
    "\n",
    "# YOUR CODE HERE"
   ]
  },
  {
   "cell_type": "code",
   "execution_count": null,
   "metadata": {
    "deletable": false,
    "editable": false,
    "nbgrader": {
     "cell_type": "code",
     "checksum": "1366ca4a2cefb01cda2e4786740f7bd1",
     "grade": true,
     "grade_id": "cell-da8b5d94fab34508",
     "locked": true,
     "points": 1,
     "schema_version": 3,
     "solution": false
    }
   },
   "outputs": [],
   "source": [
    "%%tests\n",
    "\n",
    "_test.equal(len(x), 21)\n",
    "_test.equal(x[0], 1) # initial condition\n",
    "_test.similar(x, [1.00, 1.31, 1.71, 2.14, 2.54, 2.78, 2.78, 2.51, 2.05, 1.53, 1.07,\n",
    "                  0.735, 0.515, 0.384, 0.313, 0.283,  0.283,  0.310, 0.368, 0.46, 0.600])\n",
    "_test.plot_shown()"
   ]
  },
  {
   "cell_type": "markdown",
   "metadata": {
    "deletable": false,
    "editable": false,
    "nbgrader": {
     "cell_type": "markdown",
     "checksum": "8e32f3c209dbf9aa473e812184253048",
     "grade": false,
     "grade_id": "cell-c3979e64ecb0f78e",
     "locked": true,
     "schema_version": 3,
     "solution": false
    }
   },
   "source": [
    "# Runge-Kutta Method"
   ]
  },
  {
   "cell_type": "code",
   "execution_count": null,
   "metadata": {
    "deletable": false,
    "editable": false,
    "nbgrader": {
     "cell_type": "code",
     "checksum": "030e390adc0ba25da3f8c7213f9665d4",
     "grade": false,
     "grade_id": "cell-e55d933eef813232",
     "locked": true,
     "schema_version": 3,
     "solution": false
    }
   },
   "outputs": [],
   "source": [
    "%video qUnPw5ZUuUs"
   ]
  },
  {
   "cell_type": "markdown",
   "metadata": {
    "deletable": false,
    "editable": false,
    "nbgrader": {
     "cell_type": "markdown",
     "checksum": "8e6de094af05bf4ef7a6363c4a807a97",
     "grade": false,
     "grade_id": "cell-3fc428fa4e7fa976",
     "locked": true,
     "schema_version": 3,
     "solution": false
    }
   },
   "source": [
    "Summary:\n",
    "\n",
    "- **1st Order Runge-Kutta**<br>\n",
    "We've already seen it. It's Euler's method.\n",
    "\n",
    "\n",
    "- **2nd Order Runge-Kutta (A.K.A Midpoint Method)**\n",
    "\n",
    "$$\\begin{align} k_1 &= h\\,f(x,t)\\\\\n",
    "k_2 &= h\\,f\\big(x+\\tfrac12 k_1, t+\\tfrac12 h\\big)\\\\\n",
    "x(t+h) &= x(t) + k_2\n",
    "\\end{align}$$\n",
    "\n",
    " (The first line is used to estimate where the midpoint is, and the rest uses Euler's method to find the next value of $x$.)\n",
    "\n",
    "\n",
    "- **4th Order Runge-Kutta**\n",
    "\n",
    "$$\\begin{align}\n",
    "k_1 &= h\\,f(x,t)\\\\\n",
    "k_2 &= h\\,f\\big(x+\\tfrac12 k_1, t+\\tfrac12 h\\big)\\\\\n",
    "k_3 &= h\\,f\\big(x+\\tfrac12 k_2, t+\\tfrac12 h\\big)\\\\\n",
    "k_4 &= h\\,f\\big(x+k_3, t+h\\big)\\\\\n",
    "x(t+h) &= x(t) + \\tfrac16\\big(k_1+2k_2+2k_3+k_4\\big)\n",
    "\\end{align}$$\n",
    "\n",
    "\n",
    "- By far, the 4th order Runge-Kutta is the most popular of these methods. It hits a sweet spot between accuracy and complexity."
   ]
  },
  {
   "cell_type": "code",
   "execution_count": null,
   "metadata": {},
   "outputs": [],
   "source": []
  },
  {
   "cell_type": "markdown",
   "metadata": {
    "deletable": false,
    "editable": false,
    "nbgrader": {
     "cell_type": "markdown",
     "checksum": "925ad7e2170988e6f7e80c2a6f216e97",
     "grade": false,
     "grade_id": "cell-8360e4f212a6ff6b",
     "locked": true,
     "schema_version": 3,
     "solution": false
    }
   },
   "source": [
    "## Your Turn\n",
    "\n",
    "Write a function `RK4(f, x, t, h)` that takes one step of the 4th Order Runge-Kutta method for a function `f(x, t)`. You'll use this code for the in-class assignment."
   ]
  },
  {
   "cell_type": "code",
   "execution_count": null,
   "metadata": {
    "deletable": false,
    "nbgrader": {
     "cell_type": "code",
     "checksum": "e01ce130c431d646a131c92ed9d19529",
     "grade": false,
     "grade_id": "cell-f379c1cb575251f8",
     "locked": false,
     "schema_version": 3,
     "solution": true
    }
   },
   "outputs": [],
   "source": [
    "%%graded # 2 points\n",
    "\n",
    "# YOUR CODE HERE"
   ]
  },
  {
   "cell_type": "code",
   "execution_count": null,
   "metadata": {
    "deletable": false,
    "editable": false,
    "nbgrader": {
     "cell_type": "code",
     "checksum": "a9a52280887f06cd8149b670451d9211",
     "grade": true,
     "grade_id": "cell-59ddbd886466efc5",
     "locked": true,
     "points": 2,
     "schema_version": 3,
     "solution": false
    }
   },
   "outputs": [],
   "source": [
    "%%tests\n",
    "\n",
    "def _f(x, t): return x*np.cos(t) # function from previous part\n",
    "\n",
    "_test.similar(RK4(_f, 1, 0, np.pi/10), 1.36) # 1st step\n",
    "_test.similar(RK4(_f, 1.36, np.pi/10, np.pi/10), 1.80) # 2nd step"
   ]
  },
  {
   "cell_type": "markdown",
   "metadata": {
    "deletable": false,
    "editable": false,
    "nbgrader": {
     "cell_type": "markdown",
     "checksum": "bfe616f44f53223a079478781c77b532",
     "grade": false,
     "grade_id": "cell-816be27c799e9a5e",
     "locked": true,
     "schema_version": 3,
     "solution": false
    }
   },
   "source": [
    "# Simultaneous 1st Order ODEs"
   ]
  },
  {
   "cell_type": "code",
   "execution_count": null,
   "metadata": {
    "deletable": false,
    "editable": false,
    "nbgrader": {
     "cell_type": "code",
     "checksum": "3bb94f2af27078f30a48c174a1e2d24f",
     "grade": false,
     "grade_id": "cell-938a3475f0b78917",
     "locked": true,
     "schema_version": 3,
     "solution": false
    }
   },
   "outputs": [],
   "source": [
    "%video _aA9m8IKfVM"
   ]
  },
  {
   "cell_type": "markdown",
   "metadata": {
    "deletable": false,
    "editable": false,
    "nbgrader": {
     "cell_type": "markdown",
     "checksum": "dab26655041a70e52701de64aa4582e9",
     "grade": false,
     "grade_id": "cell-3b9c0f7fca8fa09f",
     "locked": true,
     "schema_version": 3,
     "solution": false
    }
   },
   "source": [
    "Summary:\n",
    "\n",
    "- Write equations in the form\n",
    "\n",
    " $$\\frac{dx}{dt}=f_x(x, y, t)\\,,\\qquad \\frac{dy}{dt}=f_y(x, y, t)\\,.$$\n",
    "\n",
    " With two equations, we need two initial conditions: $x_0=x(t_0)$ and $y_0=y(t_0)$.\n",
    "\n",
    "- This set of equations can be written as a single vector equation:\n",
    "\n",
    " $$\\frac{d\\mathbf{r}}{dt}=f(\\mathbf{r}, t)\\,,$$\n",
    " \n",
    " where $\\mathbf{r}=(x,y)$. Likewise, $\\mathbf{r_0}=\\mathbf{r}(t_0)$.\n",
    "\n",
    "- Using arrays, we can generalize the 4th order Runge-Kutta method:\n",
    "\n",
    " $$\\begin{align}\n",
    " \\mathbf{k_1} &= h\\,f(\\mathbf{r},t)\\\\\n",
    " \\mathbf{k_2} &= h\\,f\\big(\\mathbf{r}+\\tfrac12 \\mathbf{k_1}, t+\\tfrac12 h\\big)\\\\\n",
    " \\mathbf{k_3} &= h\\,f\\big(\\mathbf{r}+\\tfrac12 \\mathbf{k_2}, t+\\tfrac12 h\\big)\\\\\n",
    " \\mathbf{k_4} &= h\\,f\\big(\\mathbf{r}+\\mathbf{k_3}, t+h\\big)\\\\\n",
    " \\mathbf{r}(t+h) &= \\mathbf{r}(t) + \\tfrac16\\big(\\mathbf{k_1}+2\\mathbf{k_2}+2\\mathbf{k_3}+\\mathbf{k_4}\\big)\n",
    " \\end{align}$$\n",
    "\n",
    " In fact, the code we wrote for this should work as-is!"
   ]
  },
  {
   "cell_type": "code",
   "execution_count": null,
   "metadata": {},
   "outputs": [],
   "source": []
  },
  {
   "cell_type": "markdown",
   "metadata": {
    "deletable": false,
    "editable": false,
    "nbgrader": {
     "cell_type": "markdown",
     "checksum": "07c4ecd94fc61169c3b00a5befc39230",
     "grade": false,
     "grade_id": "cell-ee75c910cc1dccc4",
     "locked": true,
     "schema_version": 3,
     "solution": false
    }
   },
   "source": [
    "## Your Turn\n",
    "\n",
    "The Lotka-Volterra equations are a simplified model of predator-prey population size. Let\n",
    "\n",
    "$$\\frac{dR}{dt} = R - \\frac{FR}{2}$$\n",
    "\n",
    "control the number of rabbits (in units of 1000 rabbits/year) and\n",
    "\n",
    "$$\\frac{dF}{dt} = \\frac{FR}{2} - 2F$$\n",
    "\n",
    "control the number of foxes (in units of 1000 foxes/year). Plot the numbers of rabbits and foxes over 10 years, starting with 2000 of each (i.e. $R_0=F_0=2$). Save the results in a pair of arrays named `R` and `F`."
   ]
  },
  {
   "cell_type": "code",
   "execution_count": null,
   "metadata": {
    "deletable": false,
    "nbgrader": {
     "cell_type": "code",
     "checksum": "eb5b4f4e39b142a982969af32eb4f949",
     "grade": false,
     "grade_id": "cell-c85222addd195fd0",
     "locked": false,
     "schema_version": 3,
     "solution": true
    }
   },
   "outputs": [],
   "source": [
    "%%graded # 1 point\n",
    "\n",
    "# YOUR CODE HERE"
   ]
  },
  {
   "cell_type": "code",
   "execution_count": null,
   "metadata": {
    "deletable": false,
    "editable": false,
    "nbgrader": {
     "cell_type": "code",
     "checksum": "7d9fcce335fc5534a4eca8fce0c8607d",
     "grade": true,
     "grade_id": "cell-66bb15c80b0dc98c",
     "locked": true,
     "points": 1,
     "schema_version": 3,
     "solution": false
    }
   },
   "outputs": [],
   "source": [
    "%%tests\n",
    "\n",
    "_test.similar(min(R), 2.00)\n",
    "_test.similar(max(R), 7.03)\n",
    "_test.similar(min(F), 0.715)\n",
    "_test.similar(max(F), 4.31)\n",
    "_test.plot_shown()"
   ]
  },
  {
   "cell_type": "markdown",
   "metadata": {
    "deletable": false,
    "editable": false,
    "nbgrader": {
     "cell_type": "markdown",
     "checksum": "fc34ab0a4397844cda6d830c199145f4",
     "grade": false,
     "grade_id": "cell-16b57a5632c4e751",
     "locked": true,
     "schema_version": 3,
     "solution": false
    }
   },
   "source": [
    "# 2nd Order ODEs"
   ]
  },
  {
   "cell_type": "code",
   "execution_count": null,
   "metadata": {
    "deletable": false,
    "editable": false,
    "nbgrader": {
     "cell_type": "code",
     "checksum": "37cf70138db69762909b41af57a54162",
     "grade": false,
     "grade_id": "cell-18bbfb7ab00216f5",
     "locked": true,
     "schema_version": 3,
     "solution": false
    }
   },
   "outputs": [],
   "source": [
    "%video dUmFpcDvQpk"
   ]
  },
  {
   "cell_type": "markdown",
   "metadata": {
    "deletable": false,
    "editable": false,
    "nbgrader": {
     "cell_type": "markdown",
     "checksum": "0efe55693077220e362f6aac340f3788",
     "grade": false,
     "grade_id": "cell-7f0a5507cd851d0f",
     "locked": true,
     "schema_version": 3,
     "solution": false
    }
   },
   "source": [
    "Summary:\n",
    "\n",
    "- Given\n",
    "\n",
    " $$\\frac{d^2x}{dt^2}=f\\bigg(x, \\frac{dx}{dt}, t \\bigg)\\,,$$\n",
    " \n",
    " the trick is to define $v=dx/dt$, then we can write a pair of 1st order equations:\n",
    "\n",
    " $$\\begin{aligned}\n",
    " \\frac{dv}{dt} &=f(x, v, t)\\\\\n",
    " \\frac{dx}{dt} &=v\\,.\n",
    " \\end{aligned}$$\n",
    "\n",
    "\n",
    "- We can solve these using a 4th-order Runge Kutta or similar method.\n",
    "\n",
    "- We need initial conditions for both $x$ and $v$."
   ]
  },
  {
   "cell_type": "code",
   "execution_count": null,
   "metadata": {},
   "outputs": [],
   "source": []
  },
  {
   "cell_type": "markdown",
   "metadata": {
    "deletable": false,
    "editable": false,
    "nbgrader": {
     "cell_type": "markdown",
     "checksum": "e264101dee827eaa4a1f3e946f2779ed",
     "grade": false,
     "grade_id": "cell-a8c84ec831f2471a",
     "locked": true,
     "schema_version": 3,
     "solution": false
    }
   },
   "source": [
    "## Your Turn\n",
    "\n",
    "A pendulum driven by an oscillating horizontal force is described using the equation\n",
    "\n",
    "$$\\frac{d^2\\theta}{dt^2}=-\\frac{g}{\\ell}\\sin\\theta + C\\cos\\theta\\sin(\\omega_dt)\\,,$$\n",
    "\n",
    "where we'll use $\\ell=10$ cm, $C=2$ s$^{-2}$ and $\\omega_d=\\sqrt{g/\\ell}$.\n",
    "\n",
    "Complete the code below to make a plot of $\\theta(t)$ for $0<t<30$ s, with $\\theta_0=0$ and $\\omega_0=0$."
   ]
  },
  {
   "cell_type": "code",
   "execution_count": null,
   "metadata": {
    "deletable": false,
    "nbgrader": {
     "cell_type": "code",
     "checksum": "0473f9338aaced179479ade565db6a1b",
     "grade": false,
     "grade_id": "cell-19e236b9d80f706c",
     "locked": false,
     "schema_version": 3,
     "solution": true
    }
   },
   "outputs": [],
   "source": [
    "%%graded # 1 point\n",
    "\n",
    "\n",
    "g, l, C, wd = 9.8, 0.1, 2, np.sqrt(g/l)\n",
    "\n",
    "# your job is to write this function\n",
    "def f(r, t):\n",
    "# YOUR CODE HERE\n",
    "\n",
    "h = 0.01\n",
    "time = np.arange(0, 30, h)\n",
    "th, w = 0, 0\n",
    "th_list = []\n",
    "for t in time:\n",
    "    th_list.append(th)\n",
    "    th, w = RK4(f, (th, w), t, h) # you'll need a working version of RK4 from above\n",
    "    \n",
    "plt.plot(time, th_list)\n",
    "plt.show()"
   ]
  },
  {
   "cell_type": "code",
   "execution_count": null,
   "metadata": {
    "deletable": false,
    "editable": false,
    "nbgrader": {
     "cell_type": "code",
     "checksum": "7514167573193c7f4a6b5dfef6b5d880",
     "grade": true,
     "grade_id": "cell-dd348913c3df22d2",
     "locked": true,
     "points": 1,
     "schema_version": 3,
     "solution": false
    }
   },
   "outputs": [],
   "source": [
    "%%tests\n",
    "\n",
    "_test.plot_shown() # the graph should look like a fish"
   ]
  },
  {
   "cell_type": "markdown",
   "metadata": {
    "deletable": false,
    "editable": false,
    "nbgrader": {
     "cell_type": "markdown",
     "checksum": "22540695bf56f5de1a005aa9e84ca22a",
     "grade": false,
     "grade_id": "cell-1ae60099cab3bd92",
     "locked": true,
     "schema_version": 3,
     "solution": false
    }
   },
   "source": [
    "# Additional Resources\n",
    "\n",
    "- Textbook sections 8.1 - 8.4"
   ]
  }
 ],
 "metadata": {
  "kernelspec": {
   "display_name": "Python 3",
   "language": "python",
   "name": "python3"
  },
  "language_info": {
   "codemirror_mode": {
    "name": "ipython",
    "version": 3
   },
   "file_extension": ".py",
   "mimetype": "text/x-python",
   "name": "python",
   "nbconvert_exporter": "python",
   "pygments_lexer": "ipython3",
   "version": "3.7.3"
  }
 },
 "nbformat": 4,
 "nbformat_minor": 4
}
