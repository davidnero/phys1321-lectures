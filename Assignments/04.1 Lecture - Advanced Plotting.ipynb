{
 "cells": [
  {
   "cell_type": "markdown",
   "metadata": {
    "slideshow": {
     "slide_type": "slide"
    }
   },
   "source": [
    "Fill in any place that says `# YOUR CODE HERE` or YOUR ANSWER HERE, as well as your name and collaborators below.\n",
    "Grading for pre-lecture assignments is all or nothing. Partial credit is available for in-class assignments and checkpoints, but **only when code is commented**."
   ]
  },
  {
   "cell_type": "code",
   "execution_count": null,
   "metadata": {},
   "outputs": [],
   "source": [
    "NAME = \"\"\n",
    "COLLABORATORS = \"\""
   ]
  },
  {
   "cell_type": "markdown",
   "metadata": {},
   "source": [
    "---"
   ]
  },
  {
   "cell_type": "markdown",
   "metadata": {
    "deletable": false,
    "editable": false,
    "nbgrader": {
     "cell_type": "markdown",
     "checksum": "a1fe9fba13a25354948e1e3536ce9cac",
     "grade": false,
     "grade_id": "cell-3fa8e4a82abd1579",
     "locked": true,
     "schema_version": 3,
     "solution": false
    }
   },
   "source": [
    "# Learning Objectives\n",
    "\n",
    "This lecture will show you how to:\n",
    "1. Create histograms\n",
    "2. Create 2-D density plots\n",
    "3. Create contour plots\n",
    "5. Calculating values on a 2-D grid"
   ]
  },
  {
   "cell_type": "code",
   "execution_count": null,
   "metadata": {
    "deletable": false,
    "editable": false,
    "nbgrader": {
     "cell_type": "code",
     "checksum": "406cbaf9ac36f0f4291fcbe63be5068e",
     "grade": false,
     "grade_id": "cell-c3167d1526c70d9d",
     "locked": true,
     "schema_version": 3,
     "solution": false
    }
   },
   "outputs": [],
   "source": [
    "# imports\n",
    "import numpy as np\n",
    "import matplotlib.pyplot as plt\n",
    "\n",
    "import grading_helper as _test"
   ]
  },
  {
   "cell_type": "markdown",
   "metadata": {
    "deletable": false,
    "editable": false,
    "nbgrader": {
     "cell_type": "markdown",
     "checksum": "32880870161d632cbb6ee3453c1b6a50",
     "grade": false,
     "grade_id": "cell-e021d6ede97c852f",
     "locked": true,
     "schema_version": 3,
     "solution": false
    }
   },
   "source": [
    "# Histograms"
   ]
  },
  {
   "cell_type": "code",
   "execution_count": null,
   "metadata": {
    "deletable": false,
    "editable": false,
    "nbgrader": {
     "cell_type": "code",
     "checksum": "d2633eb1cf059b01d20e25b9c65085b9",
     "grade": false,
     "grade_id": "cell-5bd5ede6afa81efe",
     "locked": true,
     "schema_version": 3,
     "solution": false
    }
   },
   "outputs": [],
   "source": [
    "%video hqsnUC9uqxE"
   ]
  },
  {
   "cell_type": "markdown",
   "metadata": {
    "deletable": false,
    "editable": false,
    "nbgrader": {
     "cell_type": "markdown",
     "checksum": "51c6ebaadb5a3d6511ab0597af1c9c33",
     "grade": false,
     "grade_id": "cell-a0250563eedce6f0",
     "locked": true,
     "schema_version": 3,
     "solution": false
    }
   },
   "source": [
    "Summary:\n",
    "- Histograms are created using `plt.hist`.\n",
    "- The choice of bins is controlled with the `bins` argument."
   ]
  },
  {
   "cell_type": "markdown",
   "metadata": {
    "deletable": false,
    "editable": false,
    "nbgrader": {
     "cell_type": "markdown",
     "checksum": "97fadf7c45abee19958f4db722aa90b9",
     "grade": false,
     "grade_id": "cell-498dc765e443ea9f",
     "locked": true,
     "schema_version": 3,
     "solution": false
    }
   },
   "source": [
    "## Your Turn\n",
    "\n",
    "Take the array `grades` defined below, and make a histogram with a total of 20 bins. Show the bins with grades below 60 in red, and the bins above 60 in green.\n",
    "\n",
    "> Hint: Draw two histograms on the same plot. One in red and one in green."
   ]
  },
  {
   "cell_type": "code",
   "execution_count": null,
   "metadata": {
    "deletable": false,
    "editable": false,
    "nbgrader": {
     "cell_type": "code",
     "checksum": "714e841d989a45b76eea5e0073901983",
     "grade": false,
     "grade_id": "cell-33f0b930b6f9e21c",
     "locked": true,
     "schema_version": 3,
     "solution": false
    }
   },
   "outputs": [],
   "source": [
    "# make up some grades\n",
    "grades = np.random.randn(1000)*30 + 70 # array of random values with a mean of 70 and a standard deviation of 30\n",
    "mask = np.logical_and(grades > 0, grades < 100) # grades between 0 and 100\n",
    "grades = grades[mask]"
   ]
  },
  {
   "cell_type": "code",
   "execution_count": null,
   "metadata": {
    "deletable": false,
    "nbgrader": {
     "cell_type": "code",
     "checksum": "eaeab9dadb51a5a0cebc00ec0ea9852c",
     "grade": false,
     "grade_id": "cell-dc53472ee1d44efb",
     "locked": false,
     "schema_version": 3,
     "solution": true
    }
   },
   "outputs": [],
   "source": [
    "%%graded # 1 point\n",
    "\n",
    "# YOUR CODE HERE"
   ]
  },
  {
   "cell_type": "code",
   "execution_count": null,
   "metadata": {
    "deletable": false,
    "editable": false,
    "nbgrader": {
     "cell_type": "code",
     "checksum": "78701d6150141c2956eafe9dbc9f637a",
     "grade": true,
     "grade_id": "cell-aa5cd45461d2f381",
     "locked": true,
     "points": 1,
     "schema_version": 3,
     "solution": false
    }
   },
   "outputs": [],
   "source": [
    "%%tests\n",
    "\n",
    "_test.code_contains(\"hist\", \"bins\", \"color\")\n",
    "_test.plot_shown()"
   ]
  },
  {
   "cell_type": "markdown",
   "metadata": {
    "deletable": false,
    "editable": false,
    "nbgrader": {
     "cell_type": "markdown",
     "checksum": "155a6dc54fb2bf3b6bdbfe170bf32edf",
     "grade": false,
     "grade_id": "cell-30a3661eb25a24dc",
     "locked": true,
     "schema_version": 3,
     "solution": false
    }
   },
   "source": [
    "# Multiple Comparisons With Arrays"
   ]
  },
  {
   "cell_type": "code",
   "execution_count": null,
   "metadata": {
    "deletable": false,
    "editable": false,
    "nbgrader": {
     "cell_type": "code",
     "checksum": "322e1aa6f23014f4f4869c9ab7bf0d31",
     "grade": false,
     "grade_id": "cell-7eb39282b0a15766",
     "locked": true,
     "schema_version": 3,
     "solution": false
    }
   },
   "outputs": [],
   "source": [
    "%video ccR1wYDEJ9M"
   ]
  },
  {
   "cell_type": "markdown",
   "metadata": {
    "deletable": false,
    "editable": false,
    "nbgrader": {
     "cell_type": "markdown",
     "checksum": "5682b178a080a3c07cc226e55bbb2498",
     "grade": false,
     "grade_id": "cell-7daeba3455965209",
     "locked": true,
     "schema_version": 3,
     "solution": false
    },
    "slideshow": {
     "slide_type": "slide"
    }
   },
   "source": [
    "Summary:\n",
    "-  If you get the exception\n",
    "```\n",
    "ValueError: The truth value of an array with more than one element is ambiguous. Use a.any() or a.all()\n",
    "```\n",
    "you probably need to use `np.logical_and` or `np.logical_or`\n",
    "- Personally, I've never actually wanted to use `a.any` or `a.all`\n"
   ]
  },
  {
   "cell_type": "markdown",
   "metadata": {
    "deletable": false,
    "editable": false,
    "nbgrader": {
     "cell_type": "markdown",
     "checksum": "ed99a7b30acb15ef905a8a7e4639003d",
     "grade": false,
     "grade_id": "cell-2ea07630e0b1a525",
     "locked": true,
     "schema_version": 3,
     "solution": false
    }
   },
   "source": [
    "# 2-D Density Plots"
   ]
  },
  {
   "cell_type": "code",
   "execution_count": null,
   "metadata": {
    "deletable": false,
    "editable": false,
    "nbgrader": {
     "cell_type": "code",
     "checksum": "3e8a39c51dc223987cdf949efa7a50ae",
     "grade": false,
     "grade_id": "cell-b3d2c44969a4e42b",
     "locked": true,
     "schema_version": 3,
     "solution": false
    }
   },
   "outputs": [],
   "source": [
    "%video oPisMRaWEV4"
   ]
  },
  {
   "cell_type": "markdown",
   "metadata": {
    "deletable": false,
    "editable": false,
    "nbgrader": {
     "cell_type": "markdown",
     "checksum": "22898493b7aa4ccaba771263ef4001d4",
     "grade": false,
     "grade_id": "cell-d09d5582a361247f",
     "locked": true,
     "schema_version": 3,
     "solution": false
    }
   },
   "source": [
    "Summary:\n",
    "- Create a density plot using `plt.imshow`\n",
    "- Add a color bar (for scale) using `plt.colorbar`. Customize the colors using `cmap`\n",
    "- See https://matplotlib.org/examples/color/colormaps_reference.html for the available colors.\n",
    "- Limit the range of data plotted using `vmin` and `vmax`\n",
    "- Set the limits of the graph using `extent=(xmin, xmax, ymin, ymax)`\n",
    "- By default, `plt.imshow` puts the origin in the top left corner. To put it in the bottom left, use `origin=\"lower\"`"
   ]
  },
  {
   "cell_type": "code",
   "execution_count": null,
   "metadata": {},
   "outputs": [],
   "source": []
  },
  {
   "cell_type": "markdown",
   "metadata": {
    "deletable": false,
    "editable": false,
    "nbgrader": {
     "cell_type": "markdown",
     "checksum": "6f38665a762d8b8dd26817b0ac9d3f75",
     "grade": false,
     "grade_id": "cell-edf616b7dcd1c758",
     "locked": true,
     "schema_version": 3,
     "solution": false,
     "task": false
    }
   },
   "source": [
    "## Your Turn\n",
    "\n",
    "Use `plt.imshow` to make a density plot of the the array `A` below. Add a colorbar using the colormap `hot`."
   ]
  },
  {
   "cell_type": "code",
   "execution_count": null,
   "metadata": {
    "deletable": false,
    "editable": false,
    "nbgrader": {
     "cell_type": "code",
     "checksum": "8d139e1a4db15164c75599d9b472e3a7",
     "grade": false,
     "grade_id": "cell-7038da78d202154e",
     "locked": true,
     "schema_version": 3,
     "solution": false,
     "task": false
    }
   },
   "outputs": [],
   "source": [
    "A = np.arange(10**4)\n",
    "A.shape = (100,100)"
   ]
  },
  {
   "cell_type": "code",
   "execution_count": null,
   "metadata": {
    "deletable": false,
    "nbgrader": {
     "cell_type": "code",
     "checksum": "c6a7737059b9fff19e02266e3c7b7693",
     "grade": false,
     "grade_id": "cell-a46a0b8dff16a380",
     "locked": false,
     "schema_version": 3,
     "solution": true,
     "task": false
    }
   },
   "outputs": [],
   "source": [
    "%%graded # 2 points\n",
    "\n",
    "# YOUR CODE HERE"
   ]
  },
  {
   "cell_type": "code",
   "execution_count": null,
   "metadata": {
    "deletable": false,
    "editable": false,
    "nbgrader": {
     "cell_type": "code",
     "checksum": "6e884c0af9673c402d4eb92bf4964be2",
     "grade": true,
     "grade_id": "cell-c7ff9ad74b47add0",
     "locked": true,
     "points": 2,
     "schema_version": 3,
     "solution": false,
     "task": false
    }
   },
   "outputs": [],
   "source": [
    "%%tests\n",
    "\n",
    "_test.code_contains(\"imshow\", \"colorbar\", \"cmap\", \"hot\")\n",
    "_test.plot_shown()"
   ]
  },
  {
   "cell_type": "markdown",
   "metadata": {
    "deletable": false,
    "editable": false,
    "nbgrader": {
     "cell_type": "markdown",
     "checksum": "6ef4eeb2ca74a7386c37c855fa996022",
     "grade": false,
     "grade_id": "cell-1ac764b80b79812e",
     "locked": true,
     "schema_version": 3,
     "solution": false
    }
   },
   "source": [
    "# Contour Plots"
   ]
  },
  {
   "cell_type": "code",
   "execution_count": null,
   "metadata": {
    "deletable": false,
    "editable": false,
    "nbgrader": {
     "cell_type": "code",
     "checksum": "6f9365e00b16d1022e56893273fdd924",
     "grade": false,
     "grade_id": "cell-ef266fc4b43b8dbc",
     "locked": true,
     "schema_version": 3,
     "solution": false
    }
   },
   "outputs": [],
   "source": [
    "%video g7sManzm1io"
   ]
  },
  {
   "cell_type": "markdown",
   "metadata": {
    "deletable": false,
    "editable": false,
    "nbgrader": {
     "cell_type": "markdown",
     "checksum": "60ab14f772d81798ba18a4a253a0a8a1",
     "grade": false,
     "grade_id": "cell-40b5b515953a4f5d",
     "locked": true,
     "schema_version": 3,
     "solution": false
    }
   },
   "source": [
    "Summary:\n",
    "- Use `plt.contour`. Most of the arguments are the same as `plt.imshow`\n",
    "- Use the argument `levels=[10, 20, 30, 40, 50]` to control where the contours are drawn.\n",
    "- `colors` sets the color of the contours. Try `colors=\"white\"` or `colors=\"black\"`"
   ]
  },
  {
   "cell_type": "code",
   "execution_count": null,
   "metadata": {},
   "outputs": [],
   "source": []
  },
  {
   "cell_type": "markdown",
   "metadata": {
    "deletable": false,
    "editable": false,
    "nbgrader": {
     "cell_type": "markdown",
     "checksum": "3841451b656e027f7d3d69f24093c914",
     "grade": false,
     "grade_id": "cell-a36c10413d445ce3",
     "locked": true,
     "schema_version": 3,
     "solution": false
    }
   },
   "source": [
    "# Calculating Values on a 2-D Grid"
   ]
  },
  {
   "cell_type": "code",
   "execution_count": null,
   "metadata": {
    "deletable": false,
    "editable": false,
    "nbgrader": {
     "cell_type": "code",
     "checksum": "038d143c61ab90ffd3efd758d8828ea3",
     "grade": false,
     "grade_id": "cell-22fa90918b9fadae",
     "locked": true,
     "schema_version": 3,
     "solution": false
    }
   },
   "outputs": [],
   "source": [
    "%video _YWwOANEPSI"
   ]
  },
  {
   "cell_type": "markdown",
   "metadata": {
    "deletable": false,
    "editable": false,
    "nbgrader": {
     "cell_type": "markdown",
     "checksum": "c6c2247d71b9f0d750d0d84fedfbce88",
     "grade": false,
     "grade_id": "cell-99eeb443862fd77f",
     "locked": true,
     "schema_version": 3,
     "solution": false
    }
   },
   "source": [
    "Summary:\n",
    "- Use `x, y = np.meshgrid(array_of_x_values, array_of_y_values)`"
   ]
  },
  {
   "cell_type": "code",
   "execution_count": null,
   "metadata": {},
   "outputs": [],
   "source": []
  },
  {
   "cell_type": "markdown",
   "metadata": {
    "deletable": false,
    "editable": false,
    "nbgrader": {
     "cell_type": "markdown",
     "checksum": "c00d123412a707b2cc97a98158b996d0",
     "grade": false,
     "grade_id": "cell-351cff875013010d",
     "locked": true,
     "schema_version": 3,
     "solution": false
    }
   },
   "source": [
    "## Your Turn\n",
    "\n",
    "Use `np.meshgrid` and `plt.contour` to plot $z=\\sin^2(x)\\cos^2(y)$ for $x$ and $y$ each ranging from 0 to $2\\pi$ (inclusive). Use a 51$\\times$51 grid for $x$ and $y$. Store the value of $z$ in a 2-D array named `z`.\n",
    "> Hint: Make sure the origin is in the bottom left corner."
   ]
  },
  {
   "cell_type": "code",
   "execution_count": null,
   "metadata": {
    "deletable": false,
    "nbgrader": {
     "cell_type": "code",
     "checksum": "6d937edada8cf7e5f3b42b9745306258",
     "grade": false,
     "grade_id": "cell-caa828b01cbc0dee",
     "locked": false,
     "schema_version": 3,
     "solution": true
    }
   },
   "outputs": [],
   "source": [
    "%%graded # 2 points\n",
    "\n",
    "# YOUR CODE HERE"
   ]
  },
  {
   "cell_type": "code",
   "execution_count": null,
   "metadata": {
    "deletable": false,
    "editable": false,
    "nbgrader": {
     "cell_type": "code",
     "checksum": "23142958a0ef7e4329158c1664f2c747",
     "grade": true,
     "grade_id": "cell-073c29dcb6d9734f",
     "locked": true,
     "points": 2,
     "schema_version": 3,
     "solution": false
    }
   },
   "outputs": [],
   "source": [
    "%%tests\n",
    "\n",
    "_test.code_contains(\"meshgrid\")\n",
    "_test.equal(z.shape, (51,51))\n",
    "_test.similar(z.min(), 0)\n",
    "_test.similar(z.max(), 1)\n",
    "_test.similar(z.mean(), 0.25)\n",
    "_test.code_contains(\"contour\", \"origin\", \"lower\")\n",
    "_test.plot_shown()"
   ]
  },
  {
   "cell_type": "markdown",
   "metadata": {
    "deletable": false,
    "editable": false,
    "nbgrader": {
     "cell_type": "markdown",
     "checksum": "e3c406e2f900f550a76b021874a61748",
     "grade": false,
     "grade_id": "cell-f57c49dbee08e4c9",
     "locked": true,
     "schema_version": 3,
     "solution": false
    }
   },
   "source": [
    "# Additional Resources\n",
    "\n",
    "- Official Matplotlib tutorials https://matplotlib.org/3.1.1/tutorials/index.html\n",
    "- Matplotlib Gallery https://matplotlib.org/3.1.1/tutorials/index.html\n",
    "    - Good if you want to check if something is possible\n",
    "    - Favors the object-oriented interface, so some of the code is longer than it really needs to be "
   ]
  }
 ],
 "metadata": {
  "kernelspec": {
   "display_name": "Python 3",
   "language": "python",
   "name": "python3"
  },
  "language_info": {
   "codemirror_mode": {
    "name": "ipython",
    "version": 3
   },
   "file_extension": ".py",
   "mimetype": "text/x-python",
   "name": "python",
   "nbconvert_exporter": "python",
   "pygments_lexer": "ipython3",
   "version": "3.7.3"
  }
 },
 "nbformat": 4,
 "nbformat_minor": 4
}
