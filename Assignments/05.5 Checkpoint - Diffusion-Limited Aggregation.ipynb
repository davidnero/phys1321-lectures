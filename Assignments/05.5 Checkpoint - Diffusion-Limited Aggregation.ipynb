{
 "cells": [
  {
   "cell_type": "markdown",
   "metadata": {
    "slideshow": {
     "slide_type": "slide"
    }
   },
   "source": [
    "Grading for pre-lecture questions is all or nothing. Partial credit is available for in-class assignments and checkpoints. Partial credit will primarily be determined by the quality of the comments you make in your code. Tell me what you intend the code to do. If there are no comments, there is no partial credit!"
   ]
  },
  {
   "cell_type": "code",
   "execution_count": null,
   "metadata": {},
   "outputs": [],
   "source": [
    "NAME = \"\"\n",
    "COLLABORATORS = \"\""
   ]
  },
  {
   "cell_type": "markdown",
   "metadata": {},
   "source": [
    "---"
   ]
  },
  {
   "cell_type": "code",
   "execution_count": null,
   "metadata": {
    "deletable": false,
    "editable": false,
    "nbgrader": {
     "cell_type": "code",
     "checksum": "f9f0023847459b66e488f6dba509dfa5",
     "grade": false,
     "grade_id": "cell-99851f2aa5ad2424",
     "locked": true,
     "schema_version": 3,
     "solution": false,
     "task": false
    }
   },
   "outputs": [],
   "source": [
    "import grading_helper as _test"
   ]
  },
  {
   "cell_type": "code",
   "execution_count": null,
   "metadata": {
    "deletable": false,
    "nbgrader": {
     "cell_type": "code",
     "checksum": "b88edc7e715b0778b8f2ddabd1f7cc6a",
     "grade": false,
     "grade_id": "cell-dc27c88f67896f02",
     "locked": false,
     "schema_version": 3,
     "solution": true,
     "task": false
    }
   },
   "outputs": [],
   "source": [
    "# Space for imports, utility functions, etc.\n",
    "\n",
    "# YOUR CODE HERE"
   ]
  },
  {
   "cell_type": "markdown",
   "metadata": {
    "deletable": false,
    "editable": false,
    "nbgrader": {
     "cell_type": "markdown",
     "checksum": "e4126e5e1206f08e51ce2c1c088741e3",
     "grade": false,
     "grade_id": "cell-57f4c268450564fe",
     "locked": true,
     "schema_version": 3,
     "solution": false,
     "task": false
    }
   },
   "source": [
    "# Diffusion-Limited Aggregation\n",
    "\n",
    "(Adapted from textbook exercises 10.3 and 10.13)\n",
    "\n",
    "Brownian motion is the motion of a particle, such as a smoke or dust particle, as it is buffeted by random collisions with gas molecules. Make a simple computer simulation of such a particle in two dimensions as follows. The particle is confined to a square grid or lattice $L \\times L$ squares on a side, so that its position can be represented by two integers. It starts in the middle of the grid. On each step of the simulation, choose a random direction (up, down, left, or right) and move the particle one step in that direction. This process is called a random walk.\n",
    "\n",
    "Write a program to perform 200 steps of this process on a lattice with $L=25$ and make an animation that plots the position of the particle at each step. (We chose an odd length for the side of the square so that there is one lattice site exactly in the center.)"
   ]
  },
  {
   "cell_type": "code",
   "execution_count": null,
   "metadata": {
    "deletable": false,
    "nbgrader": {
     "cell_type": "code",
     "checksum": "0bb035f065686d6feaae4e139bbc0b09",
     "grade": true,
     "grade_id": "cell-d2a7447572526b93",
     "locked": false,
     "points": 10,
     "schema_version": 3,
     "solution": true,
     "task": false
    }
   },
   "outputs": [],
   "source": [
    "%%graded # 10 points\n",
    "\n",
    "# YOUR CODE HERE"
   ]
  },
  {
   "cell_type": "markdown",
   "metadata": {
    "deletable": false,
    "editable": false,
    "nbgrader": {
     "cell_type": "markdown",
     "checksum": "2c61f95f1b39bb0357c858853b9a60ee",
     "grade": false,
     "grade_id": "cell-e44f0c2d1325357d",
     "locked": true,
     "schema_version": 3,
     "solution": false,
     "task": false
    }
   },
   "source": [
    "The next task is to reproduce one of the most famous models in computational physics, [diffusion-limited aggregation](https://en.wikipedia.org/wiki/Diffusion-limited_aggregation), or DLA for short. There are various versions of DLA, but the one we'll study is as follows. You take a square grid with a single particle in the middle. The particle performs a random walk from square to square on the grid until it reaches a point on the edge of the system, at which point it \"sticks\" to the edge, becoming anchored there and immovable. Then a second particle starts at the center and does a random walk until it\n",
    "sticks either to an edge or to the other particle. Then a third particle starts, and so on. Each particle starts at the center and walks until it sticks either to an edge or to any anchored particle.\n",
    "\n",
    "The Brownian motion program that you just wrote will serve as a starting point for your DLA program. Modify your program to perform the DLA process on a $101 \\times 101$ grid. Repeatedly introduce a new particle at the center and have it walk randomly until it sticks to an edge or an anchored particle.\n",
    "\n",
    "You will need to decide some things. How are you going to store the positions of the anchored particles? On each step of the random walk you will have to check the particle's neighboring squares to see if they are outside the edge of the system or are occupied by an anchored particle. How are you going to do this? To help test your code, you should initially visualize the positions of both the randomly walking particles and the anchored particles. Run your program for a while and observe what it does.\n",
    "\n",
    "In the interests of speed, change your program so that it shows only the anchored particles on the screen and not the randomly walking ones. That way you need update the pictures on the screen only when a new particle becomes anchored.\n",
    "\n",
    "Set up the program so that it generates a total of 1000 particles (corresponding to 1000 frames of animation)."
   ]
  },
  {
   "cell_type": "code",
   "execution_count": null,
   "metadata": {
    "deletable": false,
    "nbgrader": {
     "cell_type": "code",
     "checksum": "62969bb8ffe7abba86f7f66e43a24c1b",
     "grade": true,
     "grade_id": "cell-dd0248795aa803cc",
     "locked": false,
     "points": 10,
     "schema_version": 3,
     "solution": true,
     "task": false
    }
   },
   "outputs": [],
   "source": [
    "%%graded # 10 points\n",
    "\n",
    "# YOUR CODE HERE"
   ]
  }
 ],
 "metadata": {
  "kernelspec": {
   "display_name": "Python 3 (ipykernel)",
   "language": "python",
   "name": "python3"
  },
  "language_info": {
   "codemirror_mode": {
    "name": "ipython",
    "version": 3
   },
   "file_extension": ".py",
   "mimetype": "text/x-python",
   "name": "python",
   "nbconvert_exporter": "python",
   "pygments_lexer": "ipython3",
   "version": "3.10.5"
  }
 },
 "nbformat": 4,
 "nbformat_minor": 4
}
