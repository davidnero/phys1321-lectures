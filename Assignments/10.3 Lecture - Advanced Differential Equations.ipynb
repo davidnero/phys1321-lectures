{
 "cells": [
  {
   "cell_type": "markdown",
   "metadata": {
    "slideshow": {
     "slide_type": "slide"
    }
   },
   "source": [
    "Fill in any place that says `# YOUR CODE HERE` or YOUR ANSWER HERE, as well as your name and collaborators below.\n",
    "Grading for pre-lecture assignments is all or nothing. Partial credit is available for in-class assignments and checkpoints, but **only when code is commented**."
   ]
  },
  {
   "cell_type": "code",
   "execution_count": null,
   "metadata": {},
   "outputs": [],
   "source": [
    "NAME = \"\"\n",
    "COLLABORATORS = \"\""
   ]
  },
  {
   "cell_type": "markdown",
   "metadata": {},
   "source": [
    "---"
   ]
  },
  {
   "cell_type": "markdown",
   "metadata": {
    "deletable": false,
    "editable": false,
    "nbgrader": {
     "cell_type": "markdown",
     "checksum": "b6ae8584526603be2b78d8956e059dc2",
     "grade": false,
     "grade_id": "cell-ec0c8f83ffb0d9c7",
     "locked": true,
     "schema_version": 3,
     "solution": false
    }
   },
   "source": [
    "# Learning Objectives\n",
    "\n",
    "This lecture will show you how to:\n",
    "1. Solve ODEs using an adaptive step size\n",
    "2. Use `scipy.inegrate.solve_ivp`\n",
    "3. Identify and solve stiff equations, and ensure that your solution conserves energy"
   ]
  },
  {
   "cell_type": "code",
   "execution_count": null,
   "metadata": {
    "deletable": false,
    "editable": false,
    "nbgrader": {
     "cell_type": "code",
     "checksum": "ac186346fa181776311f44c36fb4ec31",
     "grade": false,
     "grade_id": "cell-abd1b2cca923116d",
     "locked": true,
     "schema_version": 3,
     "solution": false
    }
   },
   "outputs": [],
   "source": [
    "# imports\n",
    "import numpy as np\n",
    "import matplotlib.pyplot as plt\n",
    "\n",
    "# from last lecture\n",
    "def RK4(f, x, t, h):\n",
    "    \"\"\"\n",
    "    Given a function f(x,t) and scalars x, t, and h, return x(t+h)\n",
    "    \"\"\"\n",
    "    k1 = h*f(x, t)\n",
    "    k2 = h*f(x + k1/2, t + h/2)\n",
    "    k3 = h*f(x + k2/2, t + h/2)\n",
    "    k4 = h*f(x + k3, t + h)\n",
    "    return x + (k1 + 2*k2 + 2*k3 + k4)/6\n",
    "\n",
    "from scipy import integrate # for solve_ivp\n",
    "\n",
    "import grading_helper as _test"
   ]
  },
  {
   "cell_type": "markdown",
   "metadata": {
    "deletable": false,
    "editable": false,
    "nbgrader": {
     "cell_type": "markdown",
     "checksum": "1c89ba7c139fa855140efcdff18f3f49",
     "grade": false,
     "grade_id": "cell-12b43295a0f000dd",
     "locked": true,
     "schema_version": 3,
     "solution": false
    }
   },
   "source": [
    "# Adaptive Step Size"
   ]
  },
  {
   "cell_type": "code",
   "execution_count": null,
   "metadata": {
    "deletable": false,
    "editable": false,
    "nbgrader": {
     "cell_type": "code",
     "checksum": "e7dc950f064d2ac1aa93b7088d92d80d",
     "grade": false,
     "grade_id": "cell-e9692b2c91e495dc",
     "locked": true,
     "schema_version": 3,
     "solution": false
    }
   },
   "outputs": [],
   "source": [
    "%video 7eUyxD9f3dE"
   ]
  },
  {
   "cell_type": "markdown",
   "metadata": {
    "deletable": false,
    "editable": false,
    "nbgrader": {
     "cell_type": "markdown",
     "checksum": "a15dfc641636066d1a615620fc4cee91",
     "grade": false,
     "grade_id": "cell-ef2de58511545032",
     "locked": true,
     "schema_version": 3,
     "solution": false
    }
   },
   "source": [
    "Summary:\n",
    "\n",
    "Some problems are best approached with a variable step size $h$. Set an acceptable **target accuracy** for $x$, denoted $\\delta$ (measured in units of $x/t$).\n",
    "\n",
    "**Recipe**\n",
    "1. Choose a very small starting $h$ (you want this first step to be accurate).\n",
    "2. Take two steps using $h$, and one step using $2h$. These let you calculate an error\n",
    "\n",
    " $$\\epsilon=\\tfrac{1}{30}\\big|x_{h+h}-x_{2h}\\big|\\,.$$\n",
    " \n",
    "3. Evaluate\n",
    "\n",
    " $$\\rho \\equiv \\frac{h\\delta}{\\epsilon}\\,.$$\n",
    "\n",
    "    - If $\\rho \\ge 1$, keep $x=x_{h+h}$ from the pair of steps using $h$ (which is always better than the single step of $2h$). Calculate the next (larger) value of $h$ using\n",
    "    \n",
    "    $$h^\\prime=h\\rho^{1/4}\\,.$$\n",
    "    \n",
    "     **Exception:** Don't let $h^\\prime$ exceed $2h$. Letting $h\\to\\infty$ is bad.\n",
    "     \n",
    "   - If $\\rho < 1$, throw away this step and try again with a smaller value of $h$:\n",
    "    \n",
    "     $$h^\\prime=h\\rho^{1/4}\\,.$$\n",
    "     \n",
    "    \n",
    "4. Repeat from step 2 until done. Each step, the time $t$ grows by $2h$. You don't know which values of time will be used until you calculate them.\n",
    "\n",
    "\n",
    "**Extension to Simultaneous Equations:** With multiple dependent variables, you need to be more careful with the error estimate $\\epsilon$. Sometimes you don't care about the accuracy of some variables, so you can leave them out. If you do care, you should calculate the error of each and add them in quadrature."
   ]
  },
  {
   "cell_type": "code",
   "execution_count": null,
   "metadata": {},
   "outputs": [],
   "source": []
  },
  {
   "cell_type": "markdown",
   "metadata": {
    "deletable": false,
    "editable": false,
    "nbgrader": {
     "cell_type": "markdown",
     "checksum": "8883782b52518f9c4d2a461daff3733d",
     "grade": false,
     "grade_id": "cell-e97e11861c0dcf51",
     "locked": true,
     "schema_version": 3,
     "solution": false
    }
   },
   "source": [
    "## Your Turn\n",
    "\n",
    "\n",
    "Apply the adaptive step size method to the equation\n",
    "\n",
    "$$\\frac{dx}{dt} = x\\cos t\\,,$$\n",
    "\n",
    "with $x(0) = 1$, and a target accuracy $\\delta = 1\\times10^{-5}$. Plot $x(t)$ for $0 \\le t < 2\\pi$. Store the $x$ values in an array named `x`, and the $t$ values in an array named `t`."
   ]
  },
  {
   "cell_type": "code",
   "execution_count": null,
   "metadata": {
    "deletable": false,
    "nbgrader": {
     "cell_type": "code",
     "checksum": "7166ca3d99650e841f9f6cd1e7a31c11",
     "grade": false,
     "grade_id": "cell-35ad44336baecb36",
     "locked": false,
     "schema_version": 3,
     "solution": true
    }
   },
   "outputs": [],
   "source": [
    "%%graded # 2 points\n",
    "\n",
    "# for comparison\n",
    "t_exact = np.linspace(0, 2*np.pi, 100)\n",
    "x_exact = np.exp(np.sin(t_exact))\n",
    "plt.plot(t_exact, x_exact)\n",
    "\n",
    "# YOUR CODE HERE"
   ]
  },
  {
   "cell_type": "code",
   "execution_count": null,
   "metadata": {
    "deletable": false,
    "editable": false,
    "nbgrader": {
     "cell_type": "code",
     "checksum": "d537904f4529c550fbac99529c40cd59",
     "grade": true,
     "grade_id": "cell-da8b5d94fab34508",
     "locked": true,
     "points": 2,
     "schema_version": 3,
     "solution": false
    }
   },
   "outputs": [],
   "source": [
    "%%tests\n",
    "\n",
    "_test.similar(x, np.exp(np.sin(t)))\n",
    "_test.plot_shown()"
   ]
  },
  {
   "cell_type": "markdown",
   "metadata": {
    "deletable": false,
    "editable": false,
    "nbgrader": {
     "cell_type": "markdown",
     "checksum": "86089fcc1e23cb8b46f281a9f914d353",
     "grade": false,
     "grade_id": "cell-c3979e64ecb0f78e",
     "locked": true,
     "schema_version": 3,
     "solution": false
    }
   },
   "source": [
    "# Using `scipy.integrate.solve_ivp`"
   ]
  },
  {
   "cell_type": "code",
   "execution_count": null,
   "metadata": {
    "deletable": false,
    "editable": false,
    "nbgrader": {
     "cell_type": "code",
     "checksum": "1f386bdc6ab347509af107c8bdc0dcc9",
     "grade": false,
     "grade_id": "cell-e55d933eef813232",
     "locked": true,
     "schema_version": 3,
     "solution": false
    }
   },
   "outputs": [],
   "source": [
    "%video INBu1Pyj0Is"
   ]
  },
  {
   "cell_type": "markdown",
   "metadata": {
    "deletable": false,
    "editable": false,
    "nbgrader": {
     "cell_type": "markdown",
     "checksum": "79b3d95de97c805a3b767c1b4a786ed5",
     "grade": false,
     "grade_id": "cell-3fc428fa4e7fa976",
     "locked": true,
     "schema_version": 3,
     "solution": false
    }
   },
   "source": [
    "Summary:\n",
    "\n",
    "- The function `scipy.integrate.solve_ivp(f, limits, initial_values)` is a wrapper around five different ODE solvers. The default method uses the 4th order Runge-Kutta (with some extra extrapolation that effectively makes it 5th order).\n",
    "- By default, the ODE is evaluated at as few points as possible. This choice is fast, but makes for lousy graphs. Instead, you will want to set `t_eval` to a sequence of points you want solutions for."
   ]
  },
  {
   "cell_type": "code",
   "execution_count": null,
   "metadata": {},
   "outputs": [],
   "source": []
  },
  {
   "cell_type": "markdown",
   "metadata": {
    "deletable": false,
    "editable": false,
    "nbgrader": {
     "cell_type": "markdown",
     "checksum": "5628a885e912f72f02a369d989f2ddf8",
     "grade": false,
     "grade_id": "cell-8360e4f212a6ff6b",
     "locked": true,
     "schema_version": 3,
     "solution": false
    }
   },
   "source": [
    "## Your Turn\n",
    "\n",
    "The [Belousov-Zhabotinsky reaction](https://www.youtube.com/watch?v=uWh8reiXq58) is a chemical oscillator, described by the theoretical model called the \"Brusselator.\" The equations describing the Brusselator are\n",
    "\n",
    "$$\\frac{dx}{dt} = 1 - (b+1)x + ax^2y, \\qquad \\frac{dy}{dt} = bx - ax^2y\\,,$$\n",
    "\n",
    "where $x$ and $y$ represent the concentrations of the reacting chemicals. Use `integrate.solve_ivp` to solve these equations for the case $a=1$, $b=3$ with initial conditions $x=y=0$. Calculate a solution for `t=np.linspace(0, 20, 200)`. Store the answer in a pair of arrays named `x` and `y`. Plot $x(t)$ and $y(t)$."
   ]
  },
  {
   "cell_type": "code",
   "execution_count": null,
   "metadata": {
    "deletable": false,
    "nbgrader": {
     "cell_type": "code",
     "checksum": "9430ecee8e205b8cd0cd44aad84bd6d6",
     "grade": false,
     "grade_id": "cell-f379c1cb575251f8",
     "locked": false,
     "schema_version": 3,
     "solution": true
    }
   },
   "outputs": [],
   "source": [
    "%%graded # 3 points\n",
    "\n",
    "# YOUR CODE HERE"
   ]
  },
  {
   "cell_type": "code",
   "execution_count": null,
   "metadata": {
    "deletable": false,
    "editable": false,
    "nbgrader": {
     "cell_type": "code",
     "checksum": "dfca2fb6fd94d05aaeac29f5f1f33bd9",
     "grade": true,
     "grade_id": "cell-59ddbd886466efc5",
     "locked": true,
     "points": 3,
     "schema_version": 3,
     "solution": false
    }
   },
   "outputs": [],
   "source": [
    "%%tests\n",
    "\n",
    "_test.similar(max(x), 3.74)\n",
    "_test.similar(max(y), 4.74)\n",
    "_test.similar(x[:5], [0.00, 0.0828, 0.138, 0.175, 0.200])\n",
    "_test.similar(y[:5], [0.00, 0.0133, 0.0471, 0.0946, 0.151])\n",
    "_test.plot_shown()"
   ]
  },
  {
   "cell_type": "markdown",
   "metadata": {
    "deletable": false,
    "editable": false,
    "nbgrader": {
     "cell_type": "markdown",
     "checksum": "c9cdd9d03678e0d92adacaf268b0ce1f",
     "grade": false,
     "grade_id": "cell-816be27c799e9a5e",
     "locked": true,
     "schema_version": 3,
     "solution": false
    }
   },
   "source": [
    "# The Ways ODE Solvers Fail"
   ]
  },
  {
   "cell_type": "code",
   "execution_count": null,
   "metadata": {
    "deletable": false,
    "editable": false,
    "nbgrader": {
     "cell_type": "code",
     "checksum": "2496149b4b2016071c239f9729854766",
     "grade": false,
     "grade_id": "cell-938a3475f0b78917",
     "locked": true,
     "schema_version": 3,
     "solution": false
    }
   },
   "outputs": [],
   "source": [
    "%video zlZy_Kkyat4"
   ]
  },
  {
   "cell_type": "markdown",
   "metadata": {
    "deletable": false,
    "editable": false,
    "nbgrader": {
     "cell_type": "markdown",
     "checksum": "41154eec7e478f3051ab4c63b7b1ba2d",
     "grade": false,
     "grade_id": "cell-3b9c0f7fca8fa09f",
     "locked": true,
     "schema_version": 3,
     "solution": false
    }
   },
   "source": [
    "Summary:\n",
    "\n",
    "- Besides RK45 (Runge-Kutta), other methods you may want to use are BDF which uses the backwards difference formula (discussed in the upcoming PDE lecture), and  Radau, which is similar to BDF, but is higher-order (and so is usually faster for given accuracy).\n",
    "- Stiff equations have a region that requires incredibly tiny step-size. Implicit methods (BDF and Radau) can handle these well.\n",
    "- Runge-Kutta doesn't conserve mechanical energy. The accumulation of errors tends to consistently increase or decrease the energy of a system, leading to unphysical results. The solution is to use change the `method`, and/or set a smaller `rtol`.\n",
    "- Using BDF or Radau where they aren't needed will make your problem take much longer to run than if you used Runge-Kutta."
   ]
  },
  {
   "cell_type": "code",
   "execution_count": null,
   "metadata": {},
   "outputs": [],
   "source": []
  },
  {
   "cell_type": "markdown",
   "metadata": {
    "deletable": false,
    "editable": false,
    "nbgrader": {
     "cell_type": "markdown",
     "checksum": "89f53edabb4fe74040c8ee0315d05007",
     "grade": false,
     "grade_id": "cell-1ae60099cab3bd92",
     "locked": true,
     "schema_version": 3,
     "solution": false
    }
   },
   "source": [
    "# Additional Resources\n",
    "\n",
    "- Textbook section 8.5"
   ]
  }
 ],
 "metadata": {
  "kernelspec": {
   "display_name": "Python 3",
   "language": "python",
   "name": "python3"
  },
  "language_info": {
   "codemirror_mode": {
    "name": "ipython",
    "version": 3
   },
   "file_extension": ".py",
   "mimetype": "text/x-python",
   "name": "python",
   "nbconvert_exporter": "python",
   "pygments_lexer": "ipython3",
   "version": "3.7.3"
  }
 },
 "nbformat": 4,
 "nbformat_minor": 4
}
