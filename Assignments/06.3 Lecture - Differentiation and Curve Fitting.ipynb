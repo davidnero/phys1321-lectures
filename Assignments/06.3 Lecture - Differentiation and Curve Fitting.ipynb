{
 "cells": [
  {
   "cell_type": "markdown",
   "metadata": {
    "slideshow": {
     "slide_type": "slide"
    }
   },
   "source": [
    "Fill in any place that says `# YOUR CODE HERE` or YOUR ANSWER HERE, as well as your name and collaborators below.\n",
    "Grading for pre-lecture assignments is all or nothing. Partial credit is available for in-class assignments and checkpoints, but **only when code is commented**."
   ]
  },
  {
   "cell_type": "code",
   "execution_count": null,
   "metadata": {},
   "outputs": [],
   "source": [
    "NAME = \"\"\n",
    "COLLABORATORS = \"\""
   ]
  },
  {
   "cell_type": "markdown",
   "metadata": {},
   "source": [
    "---"
   ]
  },
  {
   "cell_type": "markdown",
   "metadata": {
    "deletable": false,
    "editable": false,
    "nbgrader": {
     "cell_type": "markdown",
     "checksum": "db1bc7c4f3b5020f3e38fadc66e27e3d",
     "grade": false,
     "grade_id": "cell-ec0c8f83ffb0d9c7",
     "locked": true,
     "schema_version": 3,
     "solution": false
    }
   },
   "source": [
    "# Learning Objectives\n",
    "\n",
    "This lecture will show you how to:\n",
    "1. Calculate a derivative numerically\n",
    "2. Visualize vector fields with Matplotlib\n",
    "3. Calculate a gradient with NumPy\n",
    "4. Apply a linear least squares fit\n",
    "5. Identify if your data follows a power law"
   ]
  },
  {
   "cell_type": "code",
   "execution_count": null,
   "metadata": {
    "deletable": false,
    "editable": false,
    "nbgrader": {
     "cell_type": "code",
     "checksum": "ea3b6f23cf9dc2bdebcbb30421e3a887",
     "grade": false,
     "grade_id": "cell-abd1b2cca923116d",
     "locked": true,
     "schema_version": 3,
     "solution": false
    }
   },
   "outputs": [],
   "source": [
    "# imports\n",
    "import numpy as np\n",
    "import matplotlib.pyplot as plt\n",
    "\n",
    "import grading_helper as _test"
   ]
  },
  {
   "cell_type": "markdown",
   "metadata": {
    "deletable": false,
    "editable": false,
    "nbgrader": {
     "cell_type": "markdown",
     "checksum": "47d3bfb015d51262928d4d94887fe70e",
     "grade": false,
     "grade_id": "cell-12b43295a0f000dd",
     "locked": true,
     "schema_version": 3,
     "solution": false
    }
   },
   "source": [
    "# Numerical Differentiation"
   ]
  },
  {
   "cell_type": "code",
   "execution_count": null,
   "metadata": {
    "deletable": false,
    "editable": false,
    "nbgrader": {
     "cell_type": "code",
     "checksum": "5b5d16ec8e098ec990bc19603b109fcb",
     "grade": false,
     "grade_id": "cell-e9692b2c91e495dc",
     "locked": true,
     "schema_version": 3,
     "solution": false
    }
   },
   "outputs": [],
   "source": [
    "%video ksh3Ukbv7hw"
   ]
  },
  {
   "cell_type": "markdown",
   "metadata": {
    "deletable": false,
    "editable": false,
    "nbgrader": {
     "cell_type": "markdown",
     "checksum": "e005523972eb8a478ee7565bc5668d46",
     "grade": false,
     "grade_id": "cell-ef2de58511545032",
     "locked": true,
     "schema_version": 3,
     "solution": false
    }
   },
   "source": [
    "Summary:\n",
    "\n",
    "- There are a few ways to calculate a numerical derivative, but the best accuracy comes from the **central difference** formula:\n",
    "$$\\frac{df}{dx}=\\lim_{h\\to0} \\frac{f(x+h/2)-f(x-h/2)}{h}\\,.$$\n",
    "- The ideal $h\\sim10^{-5}$ with error $\\epsilon \\sim 10^{-10}$. (Although these values depend on the precision of floating point number, and can vary by OS and Python version.)\n",
    "- Use `numpy.gradient(array, spacing)` for a fast implementation of the central difference method. It also works with 2-D+ arrays."
   ]
  },
  {
   "cell_type": "code",
   "execution_count": null,
   "metadata": {},
   "outputs": [],
   "source": []
  },
  {
   "cell_type": "markdown",
   "metadata": {
    "deletable": false,
    "editable": false,
    "nbgrader": {
     "cell_type": "markdown",
     "checksum": "b7d5abad69fa805cc734d64cb9b8eafb",
     "grade": false,
     "grade_id": "cell-e97e11861c0dcf51",
     "locked": true,
     "schema_version": 3,
     "solution": false
    }
   },
   "source": [
    "## Your Turn\n",
    "\n",
    "Use the central difference method to calculate the derivative of $f(x)=\\ln(x)$ in the range $0< x\\le 1$. Calculate an analytic formula for the derivative and make a graph with your numerical result and the analytic answer on the same plot. Plot the exact answer as a line and the numerical one as dots.\n",
    "\n",
    "You are not permitted to use `np.gradient` for this problem."
   ]
  },
  {
   "cell_type": "code",
   "execution_count": null,
   "metadata": {
    "deletable": false,
    "nbgrader": {
     "cell_type": "code",
     "checksum": "3a1378c47c035b3e316e05be95976b1d",
     "grade": false,
     "grade_id": "cell-35ad44336baecb36",
     "locked": false,
     "schema_version": 3,
     "solution": true
    }
   },
   "outputs": [],
   "source": [
    "%%graded # 1 point\n",
    "\n",
    "# YOUR CODE HERE"
   ]
  },
  {
   "cell_type": "code",
   "execution_count": null,
   "metadata": {
    "deletable": false,
    "editable": false,
    "nbgrader": {
     "cell_type": "code",
     "checksum": "a3d4cc8e0d1cb13a6103186794f4e6a0",
     "grade": true,
     "grade_id": "cell-da8b5d94fab34508",
     "locked": true,
     "points": 1,
     "schema_version": 3,
     "solution": false
    }
   },
   "outputs": [],
   "source": [
    "%%tests\n",
    "\n",
    "_test.code_contains(\"log\")\n",
    "_test.code_contains(\"gradient\", forbidden=True)\n",
    "_test.plot_shown()"
   ]
  },
  {
   "cell_type": "markdown",
   "metadata": {
    "deletable": false,
    "editable": false,
    "nbgrader": {
     "cell_type": "markdown",
     "checksum": "7605e7a50591aa6020cb6a794404983e",
     "grade": false,
     "grade_id": "cell-816be27c799e9a5e",
     "locked": true,
     "schema_version": 3,
     "solution": false
    }
   },
   "source": [
    "# Visualizing Vector Fields"
   ]
  },
  {
   "cell_type": "code",
   "execution_count": null,
   "metadata": {
    "deletable": false,
    "editable": false,
    "nbgrader": {
     "cell_type": "code",
     "checksum": "f96474e167cbcf8bbb9d53a054077842",
     "grade": false,
     "grade_id": "cell-938a3475f0b78917",
     "locked": true,
     "schema_version": 3,
     "solution": false
    }
   },
   "outputs": [],
   "source": [
    "%video u0hfen9VkJs"
   ]
  },
  {
   "cell_type": "markdown",
   "metadata": {
    "deletable": false,
    "editable": false,
    "nbgrader": {
     "cell_type": "markdown",
     "checksum": "964c09fad148bb5e130ab4ddf5574c52",
     "grade": false,
     "grade_id": "cell-3b9c0f7fca8fa09f",
     "locked": true,
     "schema_version": 3,
     "solution": false
    }
   },
   "source": [
    "Summary:\n",
    "\n",
    "- To plot vector field $\\vec{F}$ with components $F_x$ and $F_y$ use\n",
    "        plt.quiver(x, y, fx, fy)\n",
    "- For nicer formatting, use\n",
    "        Q = plt.quiver(x, y, fx, fy, pivot=\"middle\")\n",
    "        plt.quiverkey(Q, x, y, length, label, labelpos=\"E\")\n",
    "- To plot stream lines (sort of like field lines) use\n",
    "        plt.streamplot(x, y, fx, fy, density)"
   ]
  },
  {
   "cell_type": "code",
   "execution_count": null,
   "metadata": {},
   "outputs": [],
   "source": []
  },
  {
   "cell_type": "markdown",
   "metadata": {
    "deletable": false,
    "editable": false,
    "nbgrader": {
     "cell_type": "markdown",
     "checksum": "804cc494f470894ba692eadbb9456d26",
     "grade": false,
     "grade_id": "cell-ee75c910cc1dccc4",
     "locked": true,
     "schema_version": 3,
     "solution": false
    }
   },
   "source": [
    "## Your Turn\n",
    "\n",
    "Use `gradient` and `quiver` to plot the gradient of $\\cos(xy)$. Pick sensible limits for $x$ and $y$. Use a contour plot to \"check\" your answer&mdash;the gradient should be perpendicular to the contours."
   ]
  },
  {
   "cell_type": "code",
   "execution_count": null,
   "metadata": {
    "deletable": false,
    "nbgrader": {
     "cell_type": "code",
     "checksum": "26f02434add65933f44fb71dc563c003",
     "grade": false,
     "grade_id": "cell-c85222addd195fd0",
     "locked": false,
     "schema_version": 3,
     "solution": true
    }
   },
   "outputs": [],
   "source": [
    "%%graded # 2 points\n",
    "\n",
    "# YOUR CODE HERE"
   ]
  },
  {
   "cell_type": "code",
   "execution_count": null,
   "metadata": {
    "deletable": false,
    "editable": false,
    "nbgrader": {
     "cell_type": "code",
     "checksum": "a2708a6ff0618796b851f75665426ae6",
     "grade": true,
     "grade_id": "cell-66bb15c80b0dc98c",
     "locked": true,
     "points": 2,
     "schema_version": 3,
     "solution": false
    }
   },
   "outputs": [],
   "source": [
    "%%tests\n",
    "\n",
    "_test.code_contains(\"gradient\", \"contour\", \"meshgrid\", \"quiver\")\n",
    "_test.plot_shown()"
   ]
  },
  {
   "cell_type": "markdown",
   "metadata": {
    "deletable": false,
    "editable": false,
    "nbgrader": {
     "cell_type": "markdown",
     "checksum": "ca8ab7660256a8047663b98e165e3140",
     "grade": false,
     "grade_id": "cell-16b57a5632c4e751",
     "locked": true,
     "schema_version": 3,
     "solution": false
    }
   },
   "source": [
    "# Linear Least Squares Fit"
   ]
  },
  {
   "cell_type": "code",
   "execution_count": null,
   "metadata": {
    "deletable": false,
    "editable": false,
    "nbgrader": {
     "cell_type": "code",
     "checksum": "bf754dae547abda360478e60c1c60931",
     "grade": false,
     "grade_id": "cell-18bbfb7ab00216f5",
     "locked": true,
     "schema_version": 3,
     "solution": false
    }
   },
   "outputs": [],
   "source": [
    "%video J1kowoPGQyI"
   ]
  },
  {
   "cell_type": "markdown",
   "metadata": {
    "deletable": false,
    "editable": false,
    "nbgrader": {
     "cell_type": "markdown",
     "checksum": "ae3f35e6bd9264d8d9c75b7f651ab262",
     "grade": false,
     "grade_id": "cell-7f0a5507cd851d0f",
     "locked": true,
     "schema_version": 3,
     "solution": false
    }
   },
   "source": [
    "Summary:\n",
    "\n",
    "- The goal is to minimize\n",
    "$$\\chi^2 = \\sum_{i=1}^N\\Bigg(\\frac{y_i - f(x_i)}{\\sigma_i}\\Bigg)^2\\,,$$\n",
    "where $(x_i, y_i)$ are our data points, and $f(x_i)$ is the function we want to fit.\n",
    "- We substitute in our fitting function and minimize (by setting the partial derivatives w.r.t to the fit parameters equal to zero. That gives us one equation per parameter, which we can then solve.\n",
    "- Any fitting function that is linear in its parameters can be optimized analytically. `np.polyfit(x, y, degree)` does this for us for any polynomial."
   ]
  },
  {
   "cell_type": "code",
   "execution_count": null,
   "metadata": {},
   "outputs": [],
   "source": []
  },
  {
   "cell_type": "markdown",
   "metadata": {
    "deletable": false,
    "editable": false,
    "nbgrader": {
     "cell_type": "markdown",
     "checksum": "8fed48e742b38319cadc25859f894a89",
     "grade": false,
     "grade_id": "cell-f7a84d03ea41c766",
     "locked": true,
     "schema_version": 3,
     "solution": false
    }
   },
   "source": [
    "# Fitting a Power Law"
   ]
  },
  {
   "cell_type": "code",
   "execution_count": null,
   "metadata": {
    "deletable": false,
    "editable": false,
    "nbgrader": {
     "cell_type": "code",
     "checksum": "6a54f0363ca1268c9c9569d8cf762082",
     "grade": false,
     "grade_id": "cell-ba2346e698dcc615",
     "locked": true,
     "schema_version": 3,
     "solution": false
    }
   },
   "outputs": [],
   "source": [
    "%video yjeMEuK6hik"
   ]
  },
  {
   "cell_type": "markdown",
   "metadata": {
    "deletable": false,
    "editable": false,
    "nbgrader": {
     "cell_type": "markdown",
     "checksum": "1c2b315a42ac096a13ca86bd0bb474a0",
     "grade": false,
     "grade_id": "cell-1695aaf2ccc1da8d",
     "locked": true,
     "schema_version": 3,
     "solution": false
    }
   },
   "source": [
    "Summary:\n",
    "\n",
    "- Many phenomena are well described by functions of the form\n",
    "$$f(x) = ax^b\\,,$$\n",
    "where $a$ and $b$ are parameters we'd like to fit. While this function isn't linear as written, we can make it linear by taking the logarithm of both sides:\n",
    "$$\\ln f = ln(a) + b\\ln(x)\\,.$$\n",
    "Note that this is the equation of a line with slope $b$ and y-intercept $\\ln(a)$. (This trick works with logarithms of any base.)\n",
    "- We can check by eye to see if our data follows a power law by plotting it using axes with logarithmic scaling. Look for a straight line.\n",
    "- Use this trick with `np.polyfit(lnx, lny, 1)` to fit a power law to your data. (Just be careful about transforming the parameters back - you get $\\ln a$ and $b$ from the fit.)"
   ]
  },
  {
   "cell_type": "code",
   "execution_count": null,
   "metadata": {},
   "outputs": [],
   "source": []
  },
  {
   "cell_type": "markdown",
   "metadata": {
    "deletable": false,
    "editable": false,
    "nbgrader": {
     "cell_type": "markdown",
     "checksum": "8139a0b31ee05374ed4b77840ea48a73",
     "grade": false,
     "grade_id": "cell-23cad2297061c0f7",
     "locked": true,
     "schema_version": 3,
     "solution": false
    }
   },
   "source": [
    "## Your Turn\n",
    "\n",
    "Fit a power law of the form $f(x) = ax^b$ to the data below and find the values of $a$ and $b$. Store the result in variables named `a` and `b`."
   ]
  },
  {
   "cell_type": "code",
   "execution_count": null,
   "metadata": {
    "deletable": false,
    "editable": false,
    "nbgrader": {
     "cell_type": "code",
     "checksum": "8cd874032a00bf06314a5e814ffd52ff",
     "grade": false,
     "grade_id": "cell-16fafecf0eb302db",
     "locked": true,
     "schema_version": 3,
     "solution": false,
     "task": false
    }
   },
   "outputs": [],
   "source": [
    "x = np.logspace(0, 3, 50)\n",
    "err = 0.01*x*np.random.randn(50)\n",
    "y = 6*(x + err)**2"
   ]
  },
  {
   "cell_type": "code",
   "execution_count": null,
   "metadata": {
    "deletable": false,
    "nbgrader": {
     "cell_type": "code",
     "checksum": "9c4eeba9f42162cbc8e7d7a1a855f479",
     "grade": false,
     "grade_id": "cell-6cc97982ae2c129c",
     "locked": false,
     "schema_version": 3,
     "solution": true
    }
   },
   "outputs": [],
   "source": [
    "%%graded # 2 points\n",
    "\n",
    "# YOUR CODE HERE"
   ]
  },
  {
   "cell_type": "code",
   "execution_count": null,
   "metadata": {
    "deletable": false,
    "editable": false,
    "nbgrader": {
     "cell_type": "code",
     "checksum": "5623c4b351bbcc39a5096b6edfbd83d4",
     "grade": true,
     "grade_id": "cell-6f892ea24eb642e8",
     "locked": true,
     "points": 2,
     "schema_version": 3,
     "solution": false
    }
   },
   "outputs": [],
   "source": [
    "%%tests\n",
    "\n",
    "_test.code_contains(\"polyfit\", \"log\", \"exp\")\n",
    "_test.similar(a, 6) # These are the values I original used before adding some noise\n",
    "_test.similar(b, 2) #"
   ]
  },
  {
   "cell_type": "markdown",
   "metadata": {
    "deletable": false,
    "editable": false,
    "nbgrader": {
     "cell_type": "markdown",
     "checksum": "00dc8015a7ed7857cf3c1e2442e370bd",
     "grade": false,
     "grade_id": "cell-1ae60099cab3bd92",
     "locked": true,
     "schema_version": 3,
     "solution": false
    }
   },
   "source": [
    "# Additional Resources\n",
    "\n",
    "- Textbook section 5.10"
   ]
  }
 ],
 "metadata": {
  "kernelspec": {
   "display_name": "Python 3",
   "language": "python",
   "name": "python3"
  },
  "language_info": {
   "codemirror_mode": {
    "name": "ipython",
    "version": 3
   },
   "file_extension": ".py",
   "mimetype": "text/x-python",
   "name": "python",
   "nbconvert_exporter": "python",
   "pygments_lexer": "ipython3",
   "version": "3.7.3"
  }
 },
 "nbformat": 4,
 "nbformat_minor": 4
}
