{
 "cells": [
  {
   "cell_type": "markdown",
   "metadata": {
    "slideshow": {
     "slide_type": "slide"
    }
   },
   "source": [
    "Grading for pre-lecture questions is all or nothing. Partial credit is available for in-class assignments and checkpoints. Partial credit will primarily be determined by the quality of the comments you make in your code. Tell me what you intend the code to do. If there are no comments, there is no partial credit!"
   ]
  },
  {
   "cell_type": "code",
   "execution_count": null,
   "metadata": {},
   "outputs": [],
   "source": [
    "NAME = \"\"\n",
    "COLLABORATORS = \"\""
   ]
  },
  {
   "cell_type": "markdown",
   "metadata": {},
   "source": [
    "---"
   ]
  },
  {
   "cell_type": "code",
   "execution_count": null,
   "metadata": {
    "deletable": false,
    "editable": false,
    "nbgrader": {
     "cell_type": "code",
     "checksum": "018c39b474f21eab5e9774a158052984",
     "grade": false,
     "grade_id": "cell-a3b291345c2bbe6b",
     "locked": true,
     "schema_version": 3,
     "solution": false,
     "task": false
    }
   },
   "outputs": [],
   "source": [
    "import grading_helper as _test"
   ]
  },
  {
   "cell_type": "code",
   "execution_count": null,
   "metadata": {
    "deletable": false,
    "nbgrader": {
     "cell_type": "code",
     "checksum": "9462343cb0cd5de202883cf12408f790",
     "grade": false,
     "grade_id": "cell-712e297c0878d3bd",
     "locked": false,
     "schema_version": 3,
     "solution": true,
     "task": false
    }
   },
   "outputs": [],
   "source": [
    "# Space for imports, utility functions, etc.\n",
    "\n",
    "# YOUR CODE HERE"
   ]
  },
  {
   "cell_type": "markdown",
   "metadata": {
    "deletable": false,
    "editable": false,
    "nbgrader": {
     "cell_type": "markdown",
     "checksum": "d2916d54b111d121460c431168c82738",
     "grade": false,
     "grade_id": "cell-5cac87d96ab22d11",
     "locked": true,
     "schema_version": 3,
     "solution": false,
     "task": false
    }
   },
   "source": [
    "# Waves in 2-D\n",
    "\n",
    "The equation\n",
    "$$z(x,y) = z_0\\sin\\left(k\\sqrt{x^2+y^2}-\\omega t\\right)$$\n",
    "describes a circular set of waves centered on the origin that propagate outwards as time progresses. Your task is to create an animated representation of this wave.\n",
    "\n",
    "Create an animated `imshow` of the wave using $z_0=1$, $k=1$, and $\\omega=1$ (effectively choosing units as simply as we can). Center the wave on the origin, and pick sensible values for the grid used. Your code needs to run in less than two minutes.\n",
    "\n",
    "In addition, your animation:\n",
    "- Must not move too quickly or too slowly\n",
    "- Must not be zoomed in too much or zoomed out too much\n",
    "- Should loop smoothly\n",
    "\n",
    "All of the above can be approached with either trial-and-error (boo!) or by applying your knowledge of physics to the equation (yay!)."
   ]
  },
  {
   "cell_type": "code",
   "execution_count": null,
   "metadata": {
    "deletable": false,
    "nbgrader": {
     "cell_type": "code",
     "checksum": "e5b73ba2f47661132e0337c4b05fba7c",
     "grade": true,
     "grade_id": "cell-c39b75920be4f160",
     "locked": false,
     "points": 20,
     "schema_version": 3,
     "solution": true,
     "task": false
    }
   },
   "outputs": [],
   "source": [
    "%%graded # 20 points\n",
    "\n",
    "# YOUR CODE HERE"
   ]
  }
 ],
 "metadata": {
  "kernelspec": {
   "display_name": "Python 3 (ipykernel)",
   "language": "python",
   "name": "python3"
  },
  "language_info": {
   "codemirror_mode": {
    "name": "ipython",
    "version": 3
   },
   "file_extension": ".py",
   "mimetype": "text/x-python",
   "name": "python",
   "nbconvert_exporter": "python",
   "pygments_lexer": "ipython3",
   "version": "3.10.5"
  }
 },
 "nbformat": 4,
 "nbformat_minor": 4
}
