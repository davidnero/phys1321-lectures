{
 "cells": [
  {
   "cell_type": "markdown",
   "metadata": {
    "slideshow": {
     "slide_type": "slide"
    }
   },
   "source": [
    "Fill in any place that says `# YOUR CODE HERE` or YOUR ANSWER HERE, as well as your name and collaborators below.\n",
    "Grading for pre-lecture assignments is all or nothing. Partial credit is available for in-class assignments and checkpoints, but **only when code is commented**."
   ]
  },
  {
   "cell_type": "code",
   "execution_count": null,
   "metadata": {},
   "outputs": [],
   "source": [
    "NAME = \"\"\n",
    "COLLABORATORS = \"\""
   ]
  },
  {
   "cell_type": "markdown",
   "metadata": {},
   "source": [
    "---"
   ]
  },
  {
   "cell_type": "markdown",
   "metadata": {
    "deletable": false,
    "editable": false,
    "nbgrader": {
     "cell_type": "markdown",
     "checksum": "0902c7f30d6072ee2f87b393635691e2",
     "grade": false,
     "grade_id": "cell-787639698fe051cc",
     "locked": true,
     "schema_version": 3,
     "solution": false,
     "task": false
    }
   },
   "source": [
    "**Getting Started:**\n",
    "- Please make sure that a copy of `grading_helper.py` is in the same folder on your computer as this notebook.\n",
    "- To make the videos visible, click on `Run > Run All Cells` in the menu above.\n",
    "\n",
    "Follow these same steps for all future assignment notebooks."
   ]
  },
  {
   "cell_type": "markdown",
   "metadata": {
    "deletable": false,
    "editable": false,
    "nbgrader": {
     "cell_type": "markdown",
     "checksum": "829e6ae828cf948250eaf58a43878466",
     "grade": false,
     "grade_id": "cell-ec0c8f83ffb0d9c7",
     "locked": true,
     "schema_version": 3,
     "solution": false
    }
   },
   "source": [
    "# Learning Objectives\n",
    "\n",
    "This lecture will show you how to:\n",
    "1. Use Python as a calculator\n",
    "2. Store numbers in the different types of variables native to Python\n",
    "3. Create strings, lists, dictionaries, and tuples\n",
    "4. Identify that floating point numbers are not exact, and suffer from rounding error\n",
    "5. Use `if` and `else` to create branching code\n",
    "6. Create loops using `while` and `for`"
   ]
  },
  {
   "cell_type": "code",
   "execution_count": null,
   "metadata": {
    "deletable": false,
    "editable": false,
    "nbgrader": {
     "cell_type": "code",
     "checksum": "f93d24d90ab0d8a1b8acc09629895c3f",
     "grade": false,
     "grade_id": "cell-abd1b2cca923116d",
     "locked": true,
     "schema_version": 3,
     "solution": false
    }
   },
   "outputs": [],
   "source": [
    "# the meaning of \"import\" will be explained below\n",
    "import grading_helper as _test # this code is used for autograding "
   ]
  },
  {
   "cell_type": "markdown",
   "metadata": {
    "deletable": false,
    "editable": false,
    "nbgrader": {
     "cell_type": "markdown",
     "checksum": "84d2c43c2bf39681ca9d9ea1632ce7a3",
     "grade": false,
     "grade_id": "cell-12b43295a0f000dd",
     "locked": true,
     "schema_version": 3,
     "solution": false
    }
   },
   "source": [
    "# Python as a Calculator"
   ]
  },
  {
   "cell_type": "code",
   "execution_count": null,
   "metadata": {
    "deletable": false,
    "editable": false,
    "nbgrader": {
     "cell_type": "code",
     "checksum": "6e66fdc1970177b01532deadc2467cd9",
     "grade": false,
     "grade_id": "cell-e9692b2c91e495dc",
     "locked": true,
     "schema_version": 3,
     "solution": false
    }
   },
   "outputs": [],
   "source": [
    "%video MvOjBqd7qFc"
   ]
  },
  {
   "cell_type": "markdown",
   "metadata": {
    "deletable": false,
    "editable": false,
    "nbgrader": {
     "cell_type": "markdown",
     "checksum": "e99b0130bf91914d1091084c39180ec8",
     "grade": false,
     "grade_id": "cell-ef2de58511545032",
     "locked": true,
     "schema_version": 3,
     "solution": false
    }
   },
   "source": [
    "Summary:\n",
    "\n",
    "- A python prompt can be used as a calculator. Python follows the standard order of operations.\n",
    "- Common arithmetic **operators**:\n",
    "    ```\n",
    "    +  addition\n",
    "    -  subtraction\n",
    "    *  multiplication\n",
    "    /  division\n",
    "    ** power\n",
    "    // integer division (divide and round DOWN)\n",
    "    %  modulo (remainder after division)\n",
    "    ```\n",
    "- To gain access to mathematic functions, you need to `import math`. Then, for example, you can use `math.sin(0.5)` to calculate $\\sin(0.5)$.\n",
    "- Start a comment with `#`. The comment continues to the end of the line.\n",
    "- Use `print()` to print a result."
   ]
  },
  {
   "cell_type": "code",
   "execution_count": null,
   "metadata": {},
   "outputs": [],
   "source": [
    "# This is space for you to try running the code from the video.\n",
    "# Remember that you can insert new cells using the keys <A> and <B> when in command mode.\n"
   ]
  },
  {
   "cell_type": "markdown",
   "metadata": {
    "deletable": false,
    "editable": false,
    "nbgrader": {
     "cell_type": "markdown",
     "checksum": "656ea1b20fd8c6d662fb078c435acfad",
     "grade": false,
     "grade_id": "cell-e97e11861c0dcf51",
     "locked": true,
     "schema_version": 3,
     "solution": false
    }
   },
   "source": [
    "## Your Turn\n",
    "\n",
    "Use `print` to print the value of $2^{20}$."
   ]
  },
  {
   "cell_type": "code",
   "execution_count": null,
   "metadata": {
    "deletable": false,
    "nbgrader": {
     "cell_type": "code",
     "checksum": "3a1378c47c035b3e316e05be95976b1d",
     "grade": false,
     "grade_id": "cell-35ad44336baecb36",
     "locked": false,
     "schema_version": 3,
     "solution": true
    }
   },
   "outputs": [],
   "source": [
    "%%graded # 1 point\n",
    "\n",
    "# YOUR CODE HERE"
   ]
  },
  {
   "cell_type": "code",
   "execution_count": null,
   "metadata": {
    "deletable": false,
    "editable": false,
    "nbgrader": {
     "cell_type": "code",
     "checksum": "f41700ab07b0dde214a650aae90c6a76",
     "grade": true,
     "grade_id": "cell-da8b5d94fab34508",
     "locked": true,
     "points": 1,
     "schema_version": 3,
     "solution": false
    }
   },
   "outputs": [],
   "source": [
    "%%tests\n",
    "\n",
    "_test.code_contains(\"print\") # make sure \"print\" was used\n",
    "_test.printed(\"1048576\") # check the printed answer"
   ]
  },
  {
   "cell_type": "markdown",
   "metadata": {
    "deletable": false,
    "editable": false,
    "nbgrader": {
     "cell_type": "markdown",
     "checksum": "ac086263899737802dc06f228d586bdf",
     "grade": false,
     "grade_id": "cell-c3979e64ecb0f78e",
     "locked": true,
     "schema_version": 3,
     "solution": false
    }
   },
   "source": [
    "# Numerical Variables"
   ]
  },
  {
   "cell_type": "code",
   "execution_count": null,
   "metadata": {
    "deletable": false,
    "editable": false,
    "nbgrader": {
     "cell_type": "code",
     "checksum": "5517a75ae58be7608d3c6bf4be55ad09",
     "grade": false,
     "grade_id": "cell-e55d933eef813232",
     "locked": true,
     "schema_version": 3,
     "solution": false
    }
   },
   "outputs": [],
   "source": [
    "%video T-Z8NP7M8wA"
   ]
  },
  {
   "cell_type": "markdown",
   "metadata": {
    "deletable": false,
    "editable": false,
    "nbgrader": {
     "cell_type": "markdown",
     "checksum": "4f2822c2fcd5832ca90e289d3e5ceb7c",
     "grade": false,
     "grade_id": "cell-3fc428fa4e7fa976",
     "locked": true,
     "schema_version": 3,
     "solution": false
    }
   },
   "source": [
    "Summary:\n",
    "\n",
    "- Python variables are **names** that are assigned to **objects**.\n",
    "- The name of a variable can be any combination of letters, numbers, and underscores that doesn't start with a number.\n",
    "- Python has three types of numerical values: `int`, `float`, and `complex`.\n",
    "- Python will automatically convert `int` to `float` to `complex` as needed.\n",
    "- To force conversion, use the functions `int()`, `float()`, and `complex()`."
   ]
  },
  {
   "cell_type": "code",
   "execution_count": null,
   "metadata": {},
   "outputs": [],
   "source": []
  },
  {
   "cell_type": "markdown",
   "metadata": {
    "deletable": false,
    "editable": false,
    "nbgrader": {
     "cell_type": "markdown",
     "checksum": "ad2930edb871b83cce4b88b492137cab",
     "grade": false,
     "grade_id": "cell-8360e4f212a6ff6b",
     "locked": true,
     "schema_version": 3,
     "solution": false
    }
   },
   "source": [
    "## Your Turn\n",
    "\n",
    "The kinetic energy of a moving particle is given by\n",
    "$$K=\\frac12 m v^2\\,.$$\n",
    "A ball has mass $m=0.25$ kg moving at velocity $v=11.0$ m/s. Create two variables `m` and `v` to hold these values. Use these variables to calculate the kinetic energy of the ball (in Joules). Store the result in a variable named `K`. Print the result."
   ]
  },
  {
   "cell_type": "code",
   "execution_count": null,
   "metadata": {
    "deletable": false,
    "nbgrader": {
     "cell_type": "code",
     "checksum": "feb97d4ed55491e290a8557975f40721",
     "grade": false,
     "grade_id": "cell-f379c1cb575251f8",
     "locked": false,
     "schema_version": 3,
     "solution": true
    }
   },
   "outputs": [],
   "source": [
    "%%graded # 1 point\n",
    "\n",
    "# YOUR CODE HERE"
   ]
  },
  {
   "cell_type": "code",
   "execution_count": null,
   "metadata": {
    "deletable": false,
    "editable": false,
    "nbgrader": {
     "cell_type": "code",
     "checksum": "76d2d70f4bc4ca02cf1d78df2ae9b5ca",
     "grade": true,
     "grade_id": "cell-59ddbd886466efc5",
     "locked": true,
     "points": 1,
     "schema_version": 3,
     "solution": false
    }
   },
   "outputs": [],
   "source": [
    "%%tests\n",
    "\n",
    "_test.equal(m, 0.25)\n",
    "_test.equal(v, 11)\n",
    "_test.equal(K, 15.125)\n",
    "_test.printed(\"15.125\")"
   ]
  },
  {
   "cell_type": "markdown",
   "metadata": {
    "deletable": false,
    "editable": false,
    "nbgrader": {
     "cell_type": "markdown",
     "checksum": "ecf248aff32f853df4c2db7d5ecf0f0f",
     "grade": false,
     "grade_id": "cell-17bbbed98f422698",
     "locked": true,
     "schema_version": 3,
     "solution": false
    }
   },
   "source": [
    "# Other Variables"
   ]
  },
  {
   "cell_type": "code",
   "execution_count": null,
   "metadata": {
    "deletable": false,
    "editable": false,
    "nbgrader": {
     "cell_type": "code",
     "checksum": "a84f30cfea41bb50e121416e7518bde6",
     "grade": false,
     "grade_id": "cell-5f82739dffc666dd",
     "locked": true,
     "schema_version": 3,
     "solution": false
    }
   },
   "outputs": [],
   "source": [
    "%video CIOYJeiqHfo"
   ]
  },
  {
   "cell_type": "markdown",
   "metadata": {
    "deletable": false,
    "editable": false,
    "nbgrader": {
     "cell_type": "markdown",
     "checksum": "d636b2188f78abb498c275b12a4533fb",
     "grade": false,
     "grade_id": "cell-f7f709910d51e66f",
     "locked": true,
     "schema_version": 3,
     "solution": false
    }
   },
   "source": [
    "Summary:\n",
    "\n",
    "- Strings like `\"hello\"` hold text. Special characters start with `\\`. For example, `\\n` creates a new line.\n",
    "- Python has several collection objects as well. The most common are `list`, `dict`, and `tuple`.\n",
    "- `+` and `*` work with strings, lists, and tuples (`+` is concatenation and `*` is repetition)."
   ]
  },
  {
   "cell_type": "code",
   "execution_count": null,
   "metadata": {},
   "outputs": [],
   "source": []
  },
  {
   "cell_type": "markdown",
   "metadata": {
    "deletable": false,
    "editable": false,
    "nbgrader": {
     "cell_type": "markdown",
     "checksum": "efa713603ad8366f8ce30c8d00f4da93",
     "grade": false,
     "grade_id": "cell-816be27c799e9a5e",
     "locked": true,
     "schema_version": 3,
     "solution": false
    }
   },
   "source": [
    "# Rounding Error"
   ]
  },
  {
   "cell_type": "code",
   "execution_count": null,
   "metadata": {
    "deletable": false,
    "editable": false,
    "nbgrader": {
     "cell_type": "code",
     "checksum": "f17117ba26ef70f3b606300c54df1205",
     "grade": false,
     "grade_id": "cell-938a3475f0b78917",
     "locked": true,
     "schema_version": 3,
     "solution": false
    }
   },
   "outputs": [],
   "source": [
    "%video fOb_B7XTJX4"
   ]
  },
  {
   "cell_type": "markdown",
   "metadata": {
    "deletable": false,
    "editable": false,
    "nbgrader": {
     "cell_type": "markdown",
     "checksum": "830458b447b91cc78401a620b8f7eb3f",
     "grade": false,
     "grade_id": "cell-3b9c0f7fca8fa09f",
     "locked": true,
     "schema_version": 3,
     "solution": false
    }
   },
   "source": [
    "Summary:\n",
    "\n",
    "- A computer can't store an infinite number of digits.\n",
    "- Computers store values in binary (base 2) format. Values like `0.1`$=\\frac{1}{10}$ are repeating decimals in base 2. (Just like $\\frac{1}{3}$ is a repeating decimal in base 10.)\n",
    "\n",
    "\n",
    "See https://docs.python.org/3.6/tutorial/floatingpoint.html for more information."
   ]
  },
  {
   "cell_type": "code",
   "execution_count": null,
   "metadata": {},
   "outputs": [],
   "source": []
  },
  {
   "cell_type": "markdown",
   "metadata": {
    "deletable": false,
    "editable": false,
    "nbgrader": {
     "cell_type": "markdown",
     "checksum": "c4e7c62968626a08c4694cf067d3b6b5",
     "grade": false,
     "grade_id": "cell-16b57a5632c4e751",
     "locked": true,
     "schema_version": 3,
     "solution": false
    }
   },
   "source": [
    "# Comparisons and Branching"
   ]
  },
  {
   "cell_type": "code",
   "execution_count": null,
   "metadata": {
    "deletable": false,
    "editable": false,
    "nbgrader": {
     "cell_type": "code",
     "checksum": "7a7363abd237fb0276940c7052d9a462",
     "grade": false,
     "grade_id": "cell-18bbfb7ab00216f5",
     "locked": true,
     "schema_version": 3,
     "solution": false
    }
   },
   "outputs": [],
   "source": [
    "%video 1M1Foyk1iro"
   ]
  },
  {
   "cell_type": "markdown",
   "metadata": {
    "deletable": false,
    "editable": false,
    "nbgrader": {
     "cell_type": "markdown",
     "checksum": "5164940c14d194866031d8dec676ed19",
     "grade": false,
     "grade_id": "cell-7f0a5507cd851d0f",
     "locked": true,
     "schema_version": 3,
     "solution": false
    }
   },
   "source": [
    "Summary:\n",
    "\n",
    "- Common comparison operators:\n",
    "    ```\n",
    "    == equal to\n",
    "    >  greater than\n",
    "    >= greater than or equal to\n",
    "    <  less than\n",
    "    <= less than or equal to\n",
    "    != not equal to\n",
    "    in (first object included in the second?)\n",
    "    is (are both objects the same object? - not the same as equal!)\n",
    "    ```\n",
    "- The result of a comparison is `True` or `False`.\n",
    "- You can negate comparisons using `not` and combine multiple comparisons using `and`, `or`, and parenthesis `( )`.\n",
    "- To create branches in your code, use `if`, and optionally `elif` and/or `else`."
   ]
  },
  {
   "cell_type": "code",
   "execution_count": null,
   "metadata": {},
   "outputs": [],
   "source": []
  },
  {
   "cell_type": "markdown",
   "metadata": {
    "deletable": false,
    "editable": false,
    "nbgrader": {
     "cell_type": "markdown",
     "checksum": "31c3f1c4c55f4408f14103986c6a00f5",
     "grade": false,
     "grade_id": "cell-a8c84ec831f2471a",
     "locked": true,
     "schema_version": 3,
     "solution": false
    }
   },
   "source": [
    "## Your Turn\n",
    "\n",
    "Given the name of a month as a string, like `month = \"August\"`, print how many days that month has (ignoring leap years). "
   ]
  },
  {
   "cell_type": "code",
   "execution_count": null,
   "metadata": {
    "deletable": false,
    "editable": false,
    "nbgrader": {
     "cell_type": "code",
     "checksum": "e8892584c0aab5a7f2fa7e2786c74823",
     "grade": false,
     "grade_id": "cell-cdaa4e5976007e15",
     "locked": true,
     "schema_version": 3,
     "solution": false
    }
   },
   "outputs": [],
   "source": [
    "# this code generates a random month name\n",
    "# your code needs to work no matter which month this cell generates\n",
    "# (we'll cover random values in a latter lecture)\n",
    "\n",
    "import random\n",
    "month = random.choice([\"January\", \"February\", \"March\", \"April\", \"May\", \"June\", \n",
    "    \"July\", \"August\", \"September\", \"October\", \"November\", \"December\"])\n",
    "print(month)"
   ]
  },
  {
   "cell_type": "code",
   "execution_count": null,
   "metadata": {
    "deletable": false,
    "nbgrader": {
     "cell_type": "code",
     "checksum": "a2dc18eea224d7b51c6b58d3ecf27579",
     "grade": false,
     "grade_id": "cell-19e236b9d80f706c",
     "locked": false,
     "schema_version": 3,
     "solution": true
    }
   },
   "outputs": [],
   "source": [
    "%%graded # 1 point\n",
    "\n",
    "# YOUR CODE HERE"
   ]
  },
  {
   "cell_type": "code",
   "execution_count": null,
   "metadata": {
    "deletable": false,
    "editable": false,
    "nbgrader": {
     "cell_type": "code",
     "checksum": "4a2a8b1539e9b8c73d62b55ffb7bbb5f",
     "grade": true,
     "grade_id": "cell-dd348913c3df22d2",
     "locked": true,
     "points": 1,
     "schema_version": 3,
     "solution": false
    }
   },
   "outputs": [],
   "source": [
    "%%tests\n",
    "\n",
    "_test.code_contains(\"month\", \"if\", \"print\", \"28\", \"30\", \"31\")\n",
    "_test.code_contains(\"==|!=|in\") # must use ==, !=, or in\n",
    "_test.printed(\"28|30|31\") # must print 28, 30, or 31"
   ]
  },
  {
   "cell_type": "markdown",
   "metadata": {
    "deletable": false,
    "editable": false,
    "nbgrader": {
     "cell_type": "markdown",
     "checksum": "be4b22505d88ebc5b64fa0baf6ea1427",
     "grade": false,
     "grade_id": "cell-f7a84d03ea41c766",
     "locked": true,
     "schema_version": 3,
     "solution": false
    }
   },
   "source": [
    "# Loops"
   ]
  },
  {
   "cell_type": "code",
   "execution_count": null,
   "metadata": {
    "deletable": false,
    "editable": false,
    "nbgrader": {
     "cell_type": "code",
     "checksum": "ee8670f6764f8c6929b24c99aea92ccb",
     "grade": false,
     "grade_id": "cell-ba2346e698dcc615",
     "locked": true,
     "schema_version": 3,
     "solution": false
    }
   },
   "outputs": [],
   "source": [
    "%video i1CTXpgg7lw"
   ]
  },
  {
   "cell_type": "markdown",
   "metadata": {
    "deletable": false,
    "editable": false,
    "nbgrader": {
     "cell_type": "markdown",
     "checksum": "aff71a8d9443a36c4172594b582aa421",
     "grade": false,
     "grade_id": "cell-1695aaf2ccc1da8d",
     "locked": true,
     "schema_version": 3,
     "solution": false
    }
   },
   "source": [
    "Summary:\n",
    "\n",
    "- `while` repeats a block of code while a comparison is True.\n",
    "- Statements like `x = x + 1` are common, and so have a shortcut notation: `x += 1`\n",
    "- `for` means \"for every item in a **sequence** do something.\"\n",
    "- A sequence can be a list, tuple, dictionary, string, or special type of function called a **generator**. The most commonly used generator is `range()`.\n",
    "- You can jump out of a `while` or `for` loop using `break`, or to skip the rest of the current iteration while staying in the loop using `continue`."
   ]
  },
  {
   "cell_type": "code",
   "execution_count": null,
   "metadata": {},
   "outputs": [],
   "source": []
  },
  {
   "cell_type": "markdown",
   "metadata": {
    "deletable": false,
    "editable": false,
    "nbgrader": {
     "cell_type": "markdown",
     "checksum": "5dfc142e6e1f6f1cba2b8d1c97bf0da2",
     "grade": false,
     "grade_id": "cell-23cad2297061c0f7",
     "locked": true,
     "schema_version": 3,
     "solution": false
    }
   },
   "source": [
    "## Your Turn\n",
    "\n",
    "$\\pi$ can be calculated using the infinite series\n",
    "$$\\pi=4\\left(1-\\frac13+\\frac15-\\frac17+\\cdots\\right)\\,.$$\n",
    "Write a `for` loop that prints 20 increasingly good approximations of $\\pi$, starting with just the first term ($\\pi\\approx4$), and adding an additional term each iteration.\n",
    "\n",
    "> Hint: Think about how you could write this series as a summation. The python code should resemble the summation. For example,\n",
    "$$x=\\sum_{n=1}^{10} \\frac{1}{n+1}$$\n",
    "is equivalent to the Python code:\n",
    ">\n",
    ">     x = 0\n",
    "    for n in range(1, 11):\n",
    "        x += 1/(n+1)\n"
   ]
  },
  {
   "cell_type": "code",
   "execution_count": null,
   "metadata": {
    "deletable": false,
    "nbgrader": {
     "cell_type": "code",
     "checksum": "9c4eeba9f42162cbc8e7d7a1a855f479",
     "grade": false,
     "grade_id": "cell-6cc97982ae2c129c",
     "locked": false,
     "schema_version": 3,
     "solution": true
    }
   },
   "outputs": [],
   "source": [
    "%%graded # 2 points\n",
    "\n",
    "# YOUR CODE HERE"
   ]
  },
  {
   "cell_type": "code",
   "execution_count": null,
   "metadata": {
    "deletable": false,
    "editable": false,
    "nbgrader": {
     "cell_type": "code",
     "checksum": "13dfe6c12ac457efa5cfbe611c50d9c2",
     "grade": true,
     "grade_id": "cell-6f892ea24eb642e8",
     "locked": true,
     "points": 2,
     "schema_version": 3,
     "solution": false
    }
   },
   "outputs": [],
   "source": [
    "%%tests\n",
    "\n",
    "_test.code_contains(\"for\", \"print\")\n",
    "_test.printed(\"4.0\", \"2.666666666666667\", \"3.09162380666784\") # check 1st, 2nd, and 20th lines"
   ]
  },
  {
   "cell_type": "markdown",
   "metadata": {
    "deletable": false,
    "editable": false,
    "nbgrader": {
     "cell_type": "markdown",
     "checksum": "d455353fd99fd5058dea3d1027508549",
     "grade": false,
     "grade_id": "cell-1ae60099cab3bd92",
     "locked": true,
     "schema_version": 3,
     "solution": false
    }
   },
   "source": [
    "# Additional Resources\n",
    "\n",
    "- Official Python tutorial: https://docs.python.org/3.6/tutorial/index.html"
   ]
  }
 ],
 "metadata": {
  "kernelspec": {
   "display_name": "Python 3",
   "language": "python",
   "name": "python3"
  },
  "language_info": {
   "codemirror_mode": {
    "name": "ipython",
    "version": 3
   },
   "file_extension": ".py",
   "mimetype": "text/x-python",
   "name": "python",
   "nbconvert_exporter": "python",
   "pygments_lexer": "ipython3",
   "version": "3.7.3"
  }
 },
 "nbformat": 4,
 "nbformat_minor": 4
}
