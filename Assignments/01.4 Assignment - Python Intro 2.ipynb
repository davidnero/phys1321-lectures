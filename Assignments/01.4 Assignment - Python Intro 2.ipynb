{
 "cells": [
  {
   "cell_type": "markdown",
   "metadata": {
    "slideshow": {
     "slide_type": "slide"
    }
   },
   "source": [
    "Fill in any place that says `# YOUR CODE HERE` or YOUR ANSWER HERE, as well as your name and collaborators below.\n",
    "Grading for pre-lecture assignments is all or nothing. Partial credit is available for in-class assignments and checkpoints, but **only when code is commented**."
   ]
  },
  {
   "cell_type": "code",
   "execution_count": 1,
   "metadata": {},
   "outputs": [],
   "source": [
    "NAME = \"\"\n",
    "COLLABORATORS = \"\""
   ]
  },
  {
   "cell_type": "markdown",
   "metadata": {},
   "source": [
    "---"
   ]
  },
  {
   "cell_type": "code",
   "execution_count": 2,
   "metadata": {
    "deletable": false,
    "editable": false,
    "nbgrader": {
     "cell_type": "code",
     "checksum": "d1488cf9bfccf149c3bd4886beb12912",
     "grade": false,
     "grade_id": "cell-afb3949028039637",
     "locked": true,
     "schema_version": 3,
     "solution": false
    }
   },
   "outputs": [],
   "source": [
    "import grading_helper as _test"
   ]
  },
  {
   "cell_type": "markdown",
   "metadata": {
    "deletable": false,
    "editable": false,
    "nbgrader": {
     "cell_type": "markdown",
     "checksum": "0bee2e4688a030bf79daf388fea03039",
     "grade": false,
     "grade_id": "cell-72626e5c30476307",
     "locked": true,
     "schema_version": 3,
     "solution": false
    }
   },
   "source": [
    "# The Semi-Empirical Mass Formula\n",
    "\n",
    "(Adapted from textbook exercise 2.10)\n",
    "\n",
    "In nuclear physics, the semi-empirical mass formula is a formula for calculating the approximate nuclear binding energy $B$ of an atomic nucleus with atomic number $Z$ and mass number $A$:\n",
    "\n",
    "$$B = a_1 A - a_2 A^{2/3} - a_3 {Z^2\\over A^{1/3}} - a_4 {(A - 2Z)^2\\over A} + {a_5\\over A^{1/2}}\\,,$$\n",
    "    \n",
    "where, in units of millions of electron volts, the constants are $a_1=15.67$, $a_2=17.23$, $a_3=0.75$, $a_4=93.2$, and\n",
    "\n",
    "$$a_5 = \\Biggl\\lbrace\\begin{array}{ll}\n",
    "      0     &\\quad\\mbox{if $A$ is odd,} \\\\\n",
    "      12.0  &\\quad\\mbox{if $A$ and $Z$ are both even,} \\\\\n",
    "      -12.0 &\\quad\\mbox{if $A$ is even and $Z$ is odd.}\n",
    "      \\end{array}$$\n",
    "      \n",
    "Write a function `binding(A, Z)` that takes as its inputs the values of $A$ and $Z$, and returns the binding energy (in eV) for the corresponding atom."
   ]
  },
  {
   "cell_type": "code",
   "execution_count": 3,
   "metadata": {
    "deletable": false,
    "nbgrader": {
     "cell_type": "code",
     "checksum": "5d2e8196f469996d4be99c42e7190d2f",
     "grade": false,
     "grade_id": "cell-f15c3d0253748c07",
     "locked": false,
     "schema_version": 3,
     "solution": true
    }
   },
   "outputs": [
    {
     "data": {
      "text/html": [
       "<img src onerror=\"var cell = this.closest('.jp-CodeCell');if (cell) {    var input_area = cell.querySelector('.jp-Editor');} else {    var cell = this.closest('.cell');    var input_area = cell.querySelector('.input_area');}input_area.style.background='lavender';this.parentNode.removeChild(this);\">"
      ],
      "text/plain": [
       "<IPython.core.display.HTML object>"
      ]
     },
     "metadata": {},
     "output_type": "display_data"
    }
   ],
   "source": [
    "%%graded # 6 points\n",
    "\n",
    "# YOUR CODE HERE"
   ]
  },
  {
   "cell_type": "code",
   "execution_count": 4,
   "metadata": {
    "deletable": false,
    "editable": false,
    "nbgrader": {
     "cell_type": "code",
     "checksum": "949376c70a9c3e90a473115147a9709f",
     "grade": true,
     "grade_id": "cell-c65cba11d52c06e2",
     "locked": true,
     "points": 6,
     "schema_version": 3,
     "solution": false
    }
   },
   "outputs": [
    {
     "data": {
      "text/html": [
       "<img src onerror=\"var cell = this.closest('.jp-CodeCell');if (cell) {    var input_area = cell.querySelector('.jp-Editor');} else {    var cell = this.closest('.cell');    var input_area = cell.querySelector('.input_area');}input_area.style.background='lightyellow';this.parentNode.removeChild(this);\">"
      ],
      "text/plain": [
       "<IPython.core.display.HTML object>"
      ]
     },
     "metadata": {},
     "output_type": "display_data"
    },
    {
     "name": "stdout",
     "output_type": "stream",
     "text": [
      "Nothing to test yet...\n"
     ]
    }
   ],
   "source": [
    "%%tests\n",
    "\n",
    "_test.code_contains(\"def binding\")\n",
    "_test.similar(binding(58,28), 494)"
   ]
  },
  {
   "cell_type": "markdown",
   "metadata": {
    "deletable": false,
    "editable": false,
    "nbgrader": {
     "cell_type": "markdown",
     "checksum": "653b2c8392e4078203b06a8e199d7610",
     "grade": false,
     "grade_id": "cell-da7bc35597ce490f",
     "locked": true,
     "schema_version": 3,
     "solution": false
    }
   },
   "source": [
    "Now write a function `most_stable(Z)` that takes as input just a single value of the atomic number $Z$ and then goes through all values of $A$ from $A=Z$ to $A=3Z$, to find the one that has the largest binding energy per nucleon, defined as $B/A$. Naively, we'd expect the answer to be near $A=2Z$, since most elements have equal numbers of protons and neutrons.\n",
    "\n",
    "The result is the most stable nucleus with the given atomic number. Have your function return the value of $A$ for this most stable nucleus."
   ]
  },
  {
   "cell_type": "code",
   "execution_count": 5,
   "metadata": {
    "deletable": false,
    "nbgrader": {
     "cell_type": "code",
     "checksum": "84cb4ac0e92d3374b0fe411447adb105",
     "grade": false,
     "grade_id": "cell-f7e067d064d3a466",
     "locked": false,
     "schema_version": 3,
     "solution": true
    }
   },
   "outputs": [
    {
     "data": {
      "text/html": [
       "<img src onerror=\"var cell = this.closest('.jp-CodeCell');if (cell) {    var input_area = cell.querySelector('.jp-Editor');} else {    var cell = this.closest('.cell');    var input_area = cell.querySelector('.input_area');}input_area.style.background='lavender';this.parentNode.removeChild(this);\">"
      ],
      "text/plain": [
       "<IPython.core.display.HTML object>"
      ]
     },
     "metadata": {},
     "output_type": "display_data"
    }
   ],
   "source": [
    "%%graded # 4 points\n",
    "\n",
    "# YOUR CODE HERE"
   ]
  },
  {
   "cell_type": "code",
   "execution_count": 6,
   "metadata": {
    "deletable": false,
    "editable": false,
    "nbgrader": {
     "cell_type": "code",
     "checksum": "6fa619a9e300e466b2f790834976eb1c",
     "grade": true,
     "grade_id": "cell-c3fd900cc4a012b1",
     "locked": true,
     "points": 4,
     "schema_version": 3,
     "solution": false
    }
   },
   "outputs": [
    {
     "data": {
      "text/html": [
       "<img src onerror=\"var cell = this.closest('.jp-CodeCell');if (cell) {    var input_area = cell.querySelector('.jp-Editor');} else {    var cell = this.closest('.cell');    var input_area = cell.querySelector('.input_area');}input_area.style.background='lightyellow';this.parentNode.removeChild(this);\">"
      ],
      "text/plain": [
       "<IPython.core.display.HTML object>"
      ]
     },
     "metadata": {},
     "output_type": "display_data"
    },
    {
     "name": "stdout",
     "output_type": "stream",
     "text": [
      "Nothing to test yet...\n"
     ]
    }
   ],
   "source": [
    "%%tests\n",
    "\n",
    "_test.code_contains(\"def most_stable\")\n",
    "_test.code_contains(\"binding\") # use the function you wrote earlier\n",
    "_test.equal(most_stable(28), 58)\n",
    "_test.equal(most_stable(1), 2)"
   ]
  }
 ],
 "metadata": {
  "kernelspec": {
   "display_name": "Python 3",
   "language": "python",
   "name": "python3"
  },
  "language_info": {
   "codemirror_mode": {
    "name": "ipython",
    "version": 3
   },
   "file_extension": ".py",
   "mimetype": "text/x-python",
   "name": "python",
   "nbconvert_exporter": "python",
   "pygments_lexer": "ipython3",
   "version": "3.7.3"
  }
 },
 "nbformat": 4,
 "nbformat_minor": 4
}
