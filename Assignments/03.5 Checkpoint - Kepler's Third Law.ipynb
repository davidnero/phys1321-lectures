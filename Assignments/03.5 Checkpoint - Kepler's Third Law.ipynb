{
 "cells": [
  {
   "cell_type": "markdown",
   "metadata": {
    "slideshow": {
     "slide_type": "slide"
    }
   },
   "source": [
    "Fill in any place that says `# YOUR CODE HERE` or YOUR ANSWER HERE, as well as your name and collaborators below.\n",
    "Grading for pre-lecture assignments is all or nothing. Partial credit is available for in-class assignments and checkpoints, but **only when code is commented**."
   ]
  },
  {
   "cell_type": "code",
   "execution_count": null,
   "metadata": {},
   "outputs": [],
   "source": [
    "NAME = \"\"\n",
    "COLLABORATORS = \"\""
   ]
  },
  {
   "cell_type": "markdown",
   "metadata": {},
   "source": [
    "---"
   ]
  },
  {
   "cell_type": "code",
   "execution_count": null,
   "metadata": {
    "deletable": false,
    "editable": false,
    "nbgrader": {
     "cell_type": "code",
     "checksum": "13d6b1a164aaef5755a45afb6c9e9600",
     "grade": false,
     "grade_id": "cell-d93ae74c78cd7d44",
     "locked": true,
     "schema_version": 3,
     "solution": false,
     "task": false
    }
   },
   "outputs": [],
   "source": [
    "import grading_helper as _test"
   ]
  },
  {
   "cell_type": "code",
   "execution_count": null,
   "metadata": {
    "deletable": false,
    "nbgrader": {
     "cell_type": "code",
     "checksum": "560d9bdcb695c46609552b6dcc0a5d72",
     "grade": false,
     "grade_id": "cell-acd067a3edcf1696",
     "locked": false,
     "schema_version": 3,
     "solution": true,
     "task": false
    }
   },
   "outputs": [],
   "source": [
    "# Space for imports, utility functions, etc.\n",
    "\n",
    "# YOUR CODE HERE"
   ]
  },
  {
   "cell_type": "markdown",
   "metadata": {
    "deletable": false,
    "editable": false,
    "nbgrader": {
     "cell_type": "markdown",
     "checksum": "293ae8f028eab6202aa60641b533d1e7",
     "grade": false,
     "grade_id": "cell-476563a7f6cd7781",
     "locked": true,
     "schema_version": 3,
     "solution": false,
     "task": false
    }
   },
   "source": [
    "# Kepler's Third Law\n",
    "\n",
    "Download the file called `exoplanets.csv`. It contains orbital and physical parameters for 2950 exoplanets. (It will look like a spreadsheet if you open it with JupyterLab, but it's really just a text file.)"
   ]
  },
  {
   "cell_type": "code",
   "execution_count": null,
   "metadata": {
    "deletable": false,
    "editable": false,
    "nbgrader": {
     "cell_type": "code",
     "checksum": "c68bf9686761d4a19dd1e1ba5f624ace",
     "grade": false,
     "grade_id": "cell-ad6652c0fc5ace83",
     "locked": true,
     "schema_version": 3,
     "solution": false,
     "task": false
    }
   },
   "outputs": [],
   "source": [
    "# This code downloads the file from the Internet and saves it in the working directory\n",
    "import os\n",
    "import urllib.request as url\n",
    "if not os.path.isfile(\"exoplanets.csv\"):\n",
    "    url.urlretrieve(\"http://www.pitt.edu/~djn23/phys1321/exoplanets.csv\", \"exoplanets.csv\")"
   ]
  },
  {
   "cell_type": "markdown",
   "metadata": {},
   "source": [
    "Load the data from this file. You only need the following three columns:\n",
    "1. MSTAR (the mass of the planet's star)\n",
    "2. A (the semi-major axis of the planet's orbit)\n",
    "3. PER (the period of the planet's orbit)\n",
    "\n",
    "> Be aware that there is missing data in the file, which is annoying to deal with using `np.loadtxt()`. Instead, I recommend using `np.genfromtxt()`. It has a lot of optional arguments, so read the documentation for it.\n",
    ">\n",
    "> Missing data should be replaced by `np.nan` (not a number). `genfromtxt` does this by default. You want to do this, because `matplotlib` automatically ignores `nan` when plotting. You will see a pink warning message that says `RuntimeWarning: invalid value encountered in...` That's just a warning about the presence of `nan` in your arrays, so in this case, you can safely ignore it. If it really bothers you, run the command `np.seterr(invalid=\"ignore\")` at the beginning of your program.\n",
    "\n",
    "Once you have the data loaded into arrays, your next task is to verify Kepler's 3rd Law, which says that\n",
    "$$T^2\\propto\\frac{a^3}{M}\\,,$$\n",
    "where $T$ is the period of the orbit, $a$ is the semimajor axis, and $M$ is the mass of the *star*. The proportionality constant is equal to 1 if the units of period are in years, the semi-major axis is in AU (astronomical units), and the mass of the star is in units of solar masses. (In other words, watch your units.)\n",
    "\n",
    "Make a scatter plot of $a^3/M$ versus $T^2$ for values of $T$ **less than 20 years**. Use a color **and** symbol other than the defaults.\n",
    "\n",
    "On top of the scatter plot, plot a line with slope 1 and y-intercept 0 (i.e. print the expected relationship), using a line. Again, use a linestyle **and** color other than the defaults. Add a legend to your plot, and label the $x$ and $y$-axes appropriately.\n",
    "\n",
    "> The line and data should line up well. If they don't, you did something wrong."
   ]
  },
  {
   "cell_type": "code",
   "execution_count": null,
   "metadata": {
    "deletable": false,
    "nbgrader": {
     "cell_type": "code",
     "checksum": "8e1d1dac5a0884f64a3fb0f835f5ad49",
     "grade": true,
     "grade_id": "cell-e5dce29f90dca8dc",
     "locked": false,
     "points": 20,
     "schema_version": 3,
     "solution": true,
     "task": false
    }
   },
   "outputs": [],
   "source": [
    "%%graded # 20 points\n",
    "\n",
    "# YOUR CODE HERE"
   ]
  }
 ],
 "metadata": {
  "kernelspec": {
   "display_name": "Python 3",
   "language": "python",
   "name": "python3"
  },
  "language_info": {
   "codemirror_mode": {
    "name": "ipython",
    "version": 3
   },
   "file_extension": ".py",
   "mimetype": "text/x-python",
   "name": "python",
   "nbconvert_exporter": "python",
   "pygments_lexer": "ipython3",
   "version": "3.7.3"
  }
 },
 "nbformat": 4,
 "nbformat_minor": 2
}
