{
 "cells": [
  {
   "cell_type": "markdown",
   "metadata": {
    "slideshow": {
     "slide_type": "slide"
    }
   },
   "source": [
    "Fill in any place that says `# YOUR CODE HERE` or YOUR ANSWER HERE, as well as your name and collaborators below.\n",
    "Grading for pre-lecture assignments is all or nothing. Partial credit is available for in-class assignments and checkpoints, but **only when code is commented**."
   ]
  },
  {
   "cell_type": "code",
   "execution_count": null,
   "metadata": {},
   "outputs": [],
   "source": [
    "NAME = \"\"\n",
    "COLLABORATORS = \"\""
   ]
  },
  {
   "cell_type": "markdown",
   "metadata": {},
   "source": [
    "---"
   ]
  },
  {
   "cell_type": "markdown",
   "metadata": {
    "deletable": false,
    "editable": false,
    "nbgrader": {
     "cell_type": "markdown",
     "checksum": "22248d3b8a4e4d49bfbed0499ae01847",
     "grade": false,
     "grade_id": "cell-419788744b9b3271",
     "locked": true,
     "schema_version": 3,
     "solution": false
    }
   },
   "source": [
    "# Learning Objectives\n",
    "\n",
    "This lecture will show you how to:\n",
    "1. Use arrays in your calculations\n",
    "2. Identify the significance of an array's type\n",
    "3. Quickly create large arrays\n",
    "4. Index and slice arrays\n",
    "5. Load data from text files"
   ]
  },
  {
   "cell_type": "code",
   "execution_count": null,
   "metadata": {
    "deletable": false,
    "editable": false,
    "nbgrader": {
     "cell_type": "code",
     "checksum": "b340a933a625921ec033a9811e32a5db",
     "grade": false,
     "grade_id": "cell-adb4274e921aad2a",
     "locked": true,
     "schema_version": 3,
     "solution": false
    }
   },
   "outputs": [],
   "source": [
    "# imports\n",
    "import numpy as np # provides arrays for fast calculations\n",
    "\n",
    "import grading_helper as _test"
   ]
  },
  {
   "cell_type": "markdown",
   "metadata": {
    "deletable": false,
    "editable": false,
    "nbgrader": {
     "cell_type": "markdown",
     "checksum": "dc997ca1a169a33439353f473c21720c",
     "grade": false,
     "grade_id": "cell-aacd9a2c698a111e",
     "locked": true,
     "schema_version": 3,
     "solution": false
    }
   },
   "source": [
    "# Introduction to NumPy"
   ]
  },
  {
   "cell_type": "code",
   "execution_count": null,
   "metadata": {
    "deletable": false,
    "editable": false,
    "nbgrader": {
     "cell_type": "code",
     "checksum": "b380048af546a442b01fe77de3c84846",
     "grade": false,
     "grade_id": "cell-ebbfa466dc2ca79f",
     "locked": true,
     "schema_version": 3,
     "solution": false
    }
   },
   "outputs": [],
   "source": [
    "%video 4k9gFlkBeyU"
   ]
  },
  {
   "cell_type": "markdown",
   "metadata": {
    "deletable": false,
    "editable": false,
    "nbgrader": {
     "cell_type": "markdown",
     "checksum": "cb8e21eb10738cbfb421a7a53ae14260",
     "grade": false,
     "grade_id": "cell-f80980c0cb90e6d5",
     "locked": true,
     "schema_version": 3,
     "solution": false
    }
   },
   "source": [
    "Summary:\n",
    "- Typical import statement: `import numpy as np`\n",
    "- Create an array: `A = np.array([1, 2, 3, 4, 5])`\n",
    "- Operations on arrays are element-by-element.\n",
    "- Arrays have a few built-in methods that are useful for stats: `A.mean()` and `A.std()`"
   ]
  },
  {
   "cell_type": "code",
   "execution_count": null,
   "metadata": {},
   "outputs": [],
   "source": []
  },
  {
   "cell_type": "markdown",
   "metadata": {
    "deletable": false,
    "editable": false,
    "nbgrader": {
     "cell_type": "markdown",
     "checksum": "52efcb0365e0bacb7f7d83cfebf5999c",
     "grade": false,
     "grade_id": "cell-5085e851cf5cb718",
     "locked": true,
     "schema_version": 3,
     "solution": false
    }
   },
   "source": [
    "## Array Example\n",
    "\n",
    "A ball undergoing free-fall has $y$-components given by the equation\n",
    "$$y = y_0 + v_0t + \\frac12 at^2\\,.$$\n",
    "Let $y_0 = 0$, $v_0=10$, and $a=-9.8$ (in MKS units). Find the $y$-component of the ball as a function of time."
   ]
  },
  {
   "cell_type": "code",
   "execution_count": null,
   "metadata": {
    "deletable": false,
    "editable": false,
    "nbgrader": {
     "cell_type": "code",
     "checksum": "ac1d134aaeb68b40dc8059cc3840404a",
     "grade": false,
     "grade_id": "cell-3a0a107bbda387df",
     "locked": true,
     "schema_version": 3,
     "solution": false
    }
   },
   "outputs": [],
   "source": [
    "%video cPbPxaxROB0"
   ]
  },
  {
   "cell_type": "code",
   "execution_count": null,
   "metadata": {},
   "outputs": [],
   "source": []
  },
  {
   "cell_type": "markdown",
   "metadata": {
    "deletable": false,
    "editable": false,
    "nbgrader": {
     "cell_type": "markdown",
     "checksum": "9ea4ab562e7b2713eaec867df26beaaf",
     "grade": false,
     "grade_id": "cell-4836f77e52ed62de",
     "locked": true,
     "schema_version": 3,
     "solution": false
    }
   },
   "source": [
    "## Your Turn\n",
    "\n",
    "Given an array `x = np.array([1, 2, 3, 4, 5, 6, 7, 8, 9, 10])`, calculate an array `v` using the equation\n",
    "$$v = \\sqrt{v_0^2 + 2ax}\\,,$$\n",
    "where $v_0 = 5$ and $a=2$.\n",
    "\n",
    "> Hint: you can calculate the square root of an array using `np.sqrt` (like any array operation, it will apply element-by-element)."
   ]
  },
  {
   "cell_type": "code",
   "execution_count": null,
   "metadata": {
    "deletable": false,
    "editable": false,
    "nbgrader": {
     "cell_type": "code",
     "checksum": "b0603e2512fffda969aa27263b453ab6",
     "grade": false,
     "grade_id": "cell-a178a8bf2743cb0a",
     "locked": true,
     "schema_version": 3,
     "solution": false
    }
   },
   "outputs": [],
   "source": [
    "x = np.array([1, 2, 3, 4, 5, 6, 7, 8, 9, 10])"
   ]
  },
  {
   "cell_type": "code",
   "execution_count": null,
   "metadata": {
    "deletable": false,
    "nbgrader": {
     "cell_type": "code",
     "checksum": "169365b957597b79b6b8487500a46f8b",
     "grade": false,
     "grade_id": "cell-bc32951322025176",
     "locked": false,
     "schema_version": 3,
     "solution": true
    }
   },
   "outputs": [],
   "source": [
    "%%graded # 2 points\n",
    "\n",
    "# YOUR CODE HERE"
   ]
  },
  {
   "cell_type": "code",
   "execution_count": null,
   "metadata": {
    "deletable": false,
    "editable": false,
    "nbgrader": {
     "cell_type": "code",
     "checksum": "adf5e00ea14a4610243c3f2fe7491a84",
     "grade": true,
     "grade_id": "cell-9c67503909aa3da0",
     "locked": true,
     "points": 2,
     "schema_version": 3,
     "solution": false
    }
   },
   "outputs": [],
   "source": [
    "%%tests\n",
    "\n",
    "_test.equal(len(x), len(v))\n",
    "_test.similar(v[0], 5.39, rtol=0.01)\n",
    "_test.similar(v[-1], 8.06, rtol=0.01)"
   ]
  },
  {
   "cell_type": "markdown",
   "metadata": {
    "deletable": false,
    "editable": false,
    "nbgrader": {
     "cell_type": "markdown",
     "checksum": "2ec3a72a30932cd81f5e4fe634bd2963",
     "grade": false,
     "grade_id": "cell-d18b633a7b231e6a",
     "locked": true,
     "schema_version": 3,
     "solution": false
    }
   },
   "source": [
    "# Arrays Have a Type"
   ]
  },
  {
   "cell_type": "code",
   "execution_count": null,
   "metadata": {
    "deletable": false,
    "editable": false,
    "nbgrader": {
     "cell_type": "code",
     "checksum": "2c319bdd3612c4a68a9849dd9a2d077e",
     "grade": false,
     "grade_id": "cell-0f51a1667490d6e2",
     "locked": true,
     "schema_version": 3,
     "solution": false
    }
   },
   "outputs": [],
   "source": [
    "%video EgEwJA4WZhA"
   ]
  },
  {
   "cell_type": "markdown",
   "metadata": {
    "deletable": false,
    "editable": false,
    "nbgrader": {
     "cell_type": "markdown",
     "checksum": "17c381835df20fd1dc448b138b81b434",
     "grade": false,
     "grade_id": "cell-c891c1665c2932f4",
     "locked": true,
     "schema_version": 3,
     "solution": false
    }
   },
   "source": [
    "Summary:\n",
    "- Every element of an array must have the same type (stored as the array's `dtype`).\n",
    "- The `dtype` is inferred when the array is created, or can be explicitly set `A = np.array([1, 2, 3], dtype=float)`\n",
    "- When different types of arrays are combined, the result is an array of the more general type."
   ]
  },
  {
   "cell_type": "code",
   "execution_count": null,
   "metadata": {},
   "outputs": [],
   "source": []
  },
  {
   "cell_type": "markdown",
   "metadata": {
    "deletable": false,
    "editable": false,
    "nbgrader": {
     "cell_type": "markdown",
     "checksum": "09e5ca75fd367bdefa5b3ffb6ed64b4e",
     "grade": false,
     "grade_id": "cell-37ef7999ca232adb",
     "locked": true,
     "schema_version": 3,
     "solution": false
    }
   },
   "source": [
    "# Ways to Create Arrays"
   ]
  },
  {
   "cell_type": "code",
   "execution_count": null,
   "metadata": {
    "deletable": false,
    "editable": false,
    "nbgrader": {
     "cell_type": "code",
     "checksum": "d11145d19eec355af52cd5a0c3b9f44a",
     "grade": false,
     "grade_id": "cell-e42516c2f386a586",
     "locked": true,
     "schema_version": 3,
     "solution": false
    }
   },
   "outputs": [],
   "source": [
    "%video nAyAFZ1TYdA"
   ]
  },
  {
   "cell_type": "markdown",
   "metadata": {
    "deletable": false,
    "editable": false,
    "nbgrader": {
     "cell_type": "markdown",
     "checksum": "ef35642a9f973ef8a7962a091aacd7c4",
     "grade": false,
     "grade_id": "cell-6f6c5cad71c22f99",
     "locked": true,
     "schema_version": 3,
     "solution": false
    }
   },
   "source": [
    "Summary:\n",
    "- `np.arange` acts like `range`, and creates arrays with a given spacing.\n",
    "- `np.linspace` is similar, but instead creates arrays with a certain number of equally-spaced elements.\n",
    "- `np.zeros` creates an array of all zeros.\n",
    "- `np.ones` creates an array of all ones.\n",
    "- 2-D arrays can be created with `np.array([[1, 2, 3], [4,5,6], [7,8,9]])` or e.g. `np.zeros((3,3))`"
   ]
  },
  {
   "cell_type": "code",
   "execution_count": null,
   "metadata": {},
   "outputs": [],
   "source": []
  },
  {
   "cell_type": "markdown",
   "metadata": {
    "deletable": false,
    "editable": false,
    "nbgrader": {
     "cell_type": "markdown",
     "checksum": "110146246a6587e18f6607311ec2f776",
     "grade": false,
     "grade_id": "cell-88b9e70e8bfdcc46",
     "locked": true,
     "schema_version": 3,
     "solution": false
    },
    "slideshow": {
     "slide_type": "slide"
    }
   },
   "source": [
    "## Your Turn\n",
    "\n",
    "Create an array named `theta` that contains 20 equally-spaced values ranging from 0 to $2\\pi$, **including** both endpoints."
   ]
  },
  {
   "cell_type": "code",
   "execution_count": null,
   "metadata": {
    "deletable": false,
    "nbgrader": {
     "cell_type": "code",
     "checksum": "bf0ba92c957e2cfbfaaa09e248c8d5ce",
     "grade": false,
     "grade_id": "cell-4ca510ccb139b2d5",
     "locked": false,
     "schema_version": 3,
     "solution": true
    }
   },
   "outputs": [],
   "source": [
    "%%graded # 1 point\n",
    "\n",
    "# YOUR CODE HERE"
   ]
  },
  {
   "cell_type": "code",
   "execution_count": null,
   "metadata": {
    "deletable": false,
    "editable": false,
    "nbgrader": {
     "cell_type": "code",
     "checksum": "559a4121c4320549153f0517b8afd636",
     "grade": true,
     "grade_id": "cell-852e5ffe89435181",
     "locked": true,
     "points": 1,
     "schema_version": 3,
     "solution": false
    }
   },
   "outputs": [],
   "source": [
    "%%tests\n",
    "\n",
    "_test.equal(len(theta), 20)\n",
    "_test.similar(theta[0], 0)\n",
    "_test.similar(theta[-1], 2*np.pi)\n",
    "_test.similar(theta[1], 2*np.pi/19)"
   ]
  },
  {
   "cell_type": "markdown",
   "metadata": {
    "deletable": false,
    "editable": false,
    "nbgrader": {
     "cell_type": "markdown",
     "checksum": "ddb0b6d79b242dea8eaac69cce4a22e7",
     "grade": false,
     "grade_id": "cell-56d1486e9253c20a",
     "locked": true,
     "schema_version": 3,
     "solution": false
    }
   },
   "source": [
    "# Array Indexing and Slicing"
   ]
  },
  {
   "cell_type": "code",
   "execution_count": null,
   "metadata": {
    "deletable": false,
    "editable": false,
    "nbgrader": {
     "cell_type": "code",
     "checksum": "cbe3300aec794ecc0f0dd0dcd8b3c21b",
     "grade": false,
     "grade_id": "cell-aa66ca42e57aa0fd",
     "locked": true,
     "schema_version": 3,
     "solution": false
    }
   },
   "outputs": [],
   "source": [
    "%video PXERB4XfKXw"
   ]
  },
  {
   "cell_type": "markdown",
   "metadata": {
    "deletable": false,
    "editable": false,
    "nbgrader": {
     "cell_type": "markdown",
     "checksum": "556f2665d8eb763b435dadbaad994382",
     "grade": false,
     "grade_id": "cell-3b1b382cb8fae797",
     "locked": true,
     "schema_version": 3,
     "solution": false
    }
   },
   "source": [
    "Summary:\n",
    "- Indexing and slicing for 1-D arrays is the same as it was for strings, lists, and tuples.\n",
    "- Indexing for 2-D arrays is by `my_array[row, col]`\n",
    "- `:` means \"everything\", so `my_array[:, 0]` is everything in the first column.\n",
    "- Arrays can also be sliced using comparisons. `A[A>0]` returns only the elements of `A` that are positive."
   ]
  },
  {
   "cell_type": "code",
   "execution_count": null,
   "metadata": {},
   "outputs": [],
   "source": []
  },
  {
   "cell_type": "markdown",
   "metadata": {
    "deletable": false,
    "editable": false,
    "nbgrader": {
     "cell_type": "markdown",
     "checksum": "2c96d7450aec4bd138dac38b1dbe62e0",
     "grade": false,
     "grade_id": "cell-b337b2c8581ed78e",
     "locked": true,
     "schema_version": 3,
     "solution": false
    }
   },
   "source": [
    "## Your Turn\n",
    "\n",
    "Use slicing to change\n",
    "```\n",
    "A = np.array([[1, 1, 1, 1, 1],\n",
    "              [1, 1, 1, 1, 1],\n",
    "              [1, 1, 1, 1, 1],\n",
    "              [1, 1, 1, 1, 1],\n",
    "              [1, 1, 1, 1, 1]])\n",
    "```\n",
    "\n",
    "into\n",
    "\n",
    "```\n",
    "A = np.array([[0, 0, 0, 0, 0],\n",
    "              [0, 1, 1, 1, 0],\n",
    "              [0, 1, 1, 1, 0],\n",
    "              [0, 1, 1, 1, 0],\n",
    "              [0, 0, 0, 0, 0]])\n",
    "```\n",
    "It should take you no more than four lines of code."
   ]
  },
  {
   "cell_type": "code",
   "execution_count": null,
   "metadata": {
    "deletable": false,
    "editable": false,
    "nbgrader": {
     "cell_type": "code",
     "checksum": "bc536b461ee4028674a178d14fd56946",
     "grade": false,
     "grade_id": "cell-52b2dac7a0501d14",
     "locked": true,
     "schema_version": 3,
     "solution": false
    }
   },
   "outputs": [],
   "source": [
    "A = np.array([[1, 1, 1, 1, 1],\n",
    "              [1, 1, 1, 1, 1],\n",
    "              [1, 1, 1, 1, 1],\n",
    "              [1, 1, 1, 1, 1],\n",
    "              [1, 1, 1, 1, 1]])"
   ]
  },
  {
   "cell_type": "code",
   "execution_count": null,
   "metadata": {
    "deletable": false,
    "nbgrader": {
     "cell_type": "code",
     "checksum": "74e818051f98d76ffff7bdda8388efc0",
     "grade": false,
     "grade_id": "cell-003cd58a38df7ef5",
     "locked": false,
     "schema_version": 3,
     "solution": true
    }
   },
   "outputs": [],
   "source": [
    "%%graded # 2 points\n",
    "\n",
    "# YOUR CODE HERE"
   ]
  },
  {
   "cell_type": "code",
   "execution_count": null,
   "metadata": {
    "deletable": false,
    "editable": false,
    "nbgrader": {
     "cell_type": "code",
     "checksum": "3c015d5a66d3cd211204261ea84849af",
     "grade": true,
     "grade_id": "cell-1ab4e5ea2e5cd57c",
     "locked": true,
     "points": 2,
     "schema_version": 3,
     "solution": false
    }
   },
   "outputs": [],
   "source": [
    "%%tests\n",
    "\n",
    "_test.equal(A, np.array([[0,0,0,0,0], [0,1,1,1,0], [0,1,1,1,0], [0,1,1,1,0], [0,0,0,0,0]]))\n",
    "_test.code_contains(\"array\", forbidden=True) # makes sure you don't just recreate the array from scratch"
   ]
  },
  {
   "cell_type": "markdown",
   "metadata": {
    "deletable": false,
    "editable": false,
    "nbgrader": {
     "cell_type": "markdown",
     "checksum": "57a45d115a87faae84d14a51197ee99b",
     "grade": false,
     "grade_id": "cell-bb42489fe045eb25",
     "locked": true,
     "schema_version": 3,
     "solution": false
    }
   },
   "source": [
    "# Loading Data From a Text File"
   ]
  },
  {
   "cell_type": "code",
   "execution_count": null,
   "metadata": {
    "deletable": false,
    "editable": false,
    "nbgrader": {
     "cell_type": "code",
     "checksum": "d648b3a31a96b65fac696aea7a700dcc",
     "grade": false,
     "grade_id": "cell-f1107e0050bc6f04",
     "locked": true,
     "schema_version": 3,
     "solution": false
    }
   },
   "outputs": [],
   "source": [
    "%video 8iwpsRKiwN0"
   ]
  },
  {
   "cell_type": "markdown",
   "metadata": {
    "deletable": false,
    "editable": false,
    "nbgrader": {
     "cell_type": "markdown",
     "checksum": "8f029d8c6c6cc477192d97b7202f7683",
     "grade": false,
     "grade_id": "cell-9120e75c2dda0f99",
     "locked": true,
     "schema_version": 3,
     "solution": false
    }
   },
   "source": [
    "Summary:\n",
    "- `np.loadtxt` (simple) and `np.genfromtxt` (more options) create arrays from text files.\n",
    "- Use `unpack=True` and tuple unpacking to put each column into its own 1-D array."
   ]
  },
  {
   "cell_type": "code",
   "execution_count": null,
   "metadata": {},
   "outputs": [],
   "source": []
  },
  {
   "cell_type": "markdown",
   "metadata": {
    "deletable": false,
    "editable": false,
    "nbgrader": {
     "cell_type": "markdown",
     "checksum": "787bf68f69f845b86453a773c832fb9b",
     "grade": false,
     "grade_id": "cell-00efdf6cef2b715a",
     "locked": true,
     "schema_version": 3,
     "solution": false
    }
   },
   "source": [
    "# Additional Resources\n",
    "\n",
    "- The official  NumPy documentation https://docs.scipy.org/doc/numpy/user/index.html\n",
    "- Textbook section 2.4\n",
    "\n",
    "The textbook has a bad habit of using for loops with lists instead of numpy arrays. For example, at the bottom of page 94, the author writes:\n",
    "```\n",
    "xpoints = []\n",
    "ypoints = []\n",
    "for x in linspace(0,10,100):\n",
    "      xpoints.append(x)\n",
    "      ypoints.append(sin(x))\n",
    "```\n",
    "That's not how it should be done. This code is many times slower than it could be. Instead, you should write\n",
    "```\n",
    "x = linspace(0,10,100)\n",
    "y = sin(x)\n",
    "```\n",
    "like he does on the next page. Unfortunately, he keeps going back to the `for` loop throughout the text.\n",
    "\n",
    "If you want to see the difference for yourself, type each version of the code into a cell, and add `%%timeit` to the top of the cell to see how long it takes."
   ]
  },
  {
   "cell_type": "code",
   "execution_count": null,
   "metadata": {},
   "outputs": [],
   "source": [
    "%%timeit\n",
    "\n",
    "x = 1"
   ]
  }
 ],
 "metadata": {
  "kernelspec": {
   "display_name": "Python 3",
   "language": "python",
   "name": "python3"
  },
  "language_info": {
   "codemirror_mode": {
    "name": "ipython",
    "version": 3
   },
   "file_extension": ".py",
   "mimetype": "text/x-python",
   "name": "python",
   "nbconvert_exporter": "python",
   "pygments_lexer": "ipython3",
   "version": "3.7.3"
  }
 },
 "nbformat": 4,
 "nbformat_minor": 4
}
