{
 "cells": [
  {
   "cell_type": "markdown",
   "metadata": {
    "slideshow": {
     "slide_type": "slide"
    }
   },
   "source": [
    "Fill in any place that says `# YOUR CODE HERE` or YOUR ANSWER HERE, as well as your name and collaborators below.\n",
    "Grading for pre-lecture assignments is all or nothing. Partial credit is available for in-class assignments and checkpoints, but **only when code is commented**."
   ]
  },
  {
   "cell_type": "code",
   "execution_count": null,
   "metadata": {},
   "outputs": [],
   "source": [
    "NAME = \"\"\n",
    "COLLABORATORS = \"\""
   ]
  },
  {
   "cell_type": "markdown",
   "metadata": {},
   "source": [
    "---"
   ]
  },
  {
   "cell_type": "code",
   "execution_count": null,
   "metadata": {
    "deletable": false,
    "editable": false,
    "nbgrader": {
     "cell_type": "code",
     "checksum": "e1da2bd40a3e18fdc863eb761e2cdd11",
     "grade": false,
     "grade_id": "cell-eedf694ef9288e14",
     "locked": true,
     "schema_version": 3,
     "solution": false,
     "task": false
    }
   },
   "outputs": [],
   "source": [
    "import grading_helper as _test"
   ]
  },
  {
   "cell_type": "code",
   "execution_count": null,
   "metadata": {
    "deletable": false,
    "nbgrader": {
     "cell_type": "code",
     "checksum": "1f6880ba84bf5e8332e423a70a0e4b13",
     "grade": false,
     "grade_id": "cell-23b3e0309ee1cabc",
     "locked": false,
     "schema_version": 3,
     "solution": true,
     "task": false
    }
   },
   "outputs": [],
   "source": [
    "# Space for imports, utility functions, etc.\n",
    "\n",
    "# YOUR CODE HERE"
   ]
  },
  {
   "cell_type": "markdown",
   "metadata": {
    "deletable": false,
    "editable": false,
    "nbgrader": {
     "cell_type": "markdown",
     "checksum": "264a6578e6d615c140a4edd4af887054",
     "grade": false,
     "grade_id": "cell-768b69188b53d5f7",
     "locked": true,
     "schema_version": 3,
     "solution": false,
     "task": false
    }
   },
   "source": [
    "# Visualization of the Solar System\n",
    "\n",
    "(Adapted from textbook exercise 3.5)\n",
    "\n",
    "The four terrestrial planets of our solar system revolve around the Sun in roughly circular orbits that all lie approximately in the same plane.\n",
    "\n",
    "|Object |Object Radius [km]|Orbit Radius [10$^6$ km]|Period [days]|\n",
    "|:------|:----------------:|:----------------------:|:-----------:|\n",
    "|Sun    |695500            |                        |             |\n",
    "|Mercury|2440              |57.9                    |88.0         |\n",
    "|Venus  |6052              |108.2                   |224.7        |\n",
    "|Earth  |6371              |149.6                   |365.3        |\n",
    "|Mars   |3386              |227.9                   |687.0        |\n",
    "\n",
    "Use `matplotlib` to draw the Sun and planets as circles in their appropriate positions and with sizes proportional to their actual sizes.  Because the radii of the planets are tiny compared to the distances between them, represent the planets by circles with radii $c_1$ times larger than their correct proportionate values, so that you can see them clearly. Find a good value for $c_1$ that makes the planets visible. You'll also need to find a good radius for the Sun. Choose any value that gives a clear visualization. (It doesn't work to scale the radius of the Sun by the same factor you use for the planets, because it'll come out looking much too large. So just use whatever works.) Make each circle a  different color. For instance, Earth could be blue and the Sun could be yellow.\n",
    "\n",
    "Your figure should look something like this:\n",
    "\n",
    "<img src=\"data:image/png;base64,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\">\n",
    "\n",
    "(Can you figure out how to make the background black?)"
   ]
  },
  {
   "cell_type": "code",
   "execution_count": null,
   "metadata": {
    "deletable": false,
    "nbgrader": {
     "cell_type": "code",
     "checksum": "f943b3bff7e0889d85e301eb93db52d4",
     "grade": true,
     "grade_id": "cell-eb131a82b740a097",
     "locked": false,
     "points": 4,
     "schema_version": 3,
     "solution": true,
     "task": false
    }
   },
   "outputs": [],
   "source": [
    "%%graded # 4 points\n",
    "\n",
    "# YOUR CODE HERE"
   ]
  },
  {
   "cell_type": "markdown",
   "metadata": {
    "deletable": false,
    "editable": false,
    "nbgrader": {
     "cell_type": "markdown",
     "checksum": "1f8343c572b1e8baae005bfbbdb44320",
     "grade": false,
     "grade_id": "cell-f8c85936e83b1c7d",
     "locked": true,
     "schema_version": 3,
     "solution": false,
     "task": false
    }
   },
   "source": [
    "Modify your program to animate the motion of the planets as they move around the Sun (by making the circles move). Construct your program so that time in your animation runs a factor of $c_2$ faster than actual time. Find a good value of $c_2$ that makes the motion of the orbits easily visible but not unreasonably fast. Your animation should show at least one complete orbit of Earth. It's fine (and expected) that your animation not loop smoothly.\n",
    "\n",
    "Your animation code needs to run in less than 2 minutes (on a fast laptop). Make sure that you aren't recreating the entire figure every frame.\n",
    "\n",
    "> Hint: If you used `plt.Circle` to draw the planets, each of those objects has an attribute named `center` that can be changed."
   ]
  },
  {
   "cell_type": "code",
   "execution_count": null,
   "metadata": {
    "deletable": false,
    "nbgrader": {
     "cell_type": "code",
     "checksum": "b7236b5f72831c2210562f29cac77ce9",
     "grade": true,
     "grade_id": "cell-f3e2518ea8f4b15b",
     "locked": false,
     "points": 6,
     "schema_version": 3,
     "solution": true,
     "task": false
    }
   },
   "outputs": [],
   "source": [
    "%%graded # 6 points\n",
    "\n",
    "# YOUR CODE HERE"
   ]
  }
 ],
 "metadata": {
  "kernelspec": {
   "display_name": "Python 3",
   "language": "python",
   "name": "python3"
  },
  "language_info": {
   "codemirror_mode": {
    "name": "ipython",
    "version": 3
   },
   "file_extension": ".py",
   "mimetype": "text/x-python",
   "name": "python",
   "nbconvert_exporter": "python",
   "pygments_lexer": "ipython3",
   "version": "3.7.3"
  }
 },
 "nbformat": 4,
 "nbformat_minor": 4
}
