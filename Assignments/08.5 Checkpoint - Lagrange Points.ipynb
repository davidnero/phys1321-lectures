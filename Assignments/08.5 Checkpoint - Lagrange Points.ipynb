{
 "cells": [
  {
   "cell_type": "markdown",
   "metadata": {
    "slideshow": {
     "slide_type": "slide"
    }
   },
   "source": [
    "Fill in any place that says `# YOUR CODE HERE` or YOUR ANSWER HERE, as well as your name and collaborators below.\n",
    "Grading for pre-lecture assignments is all or nothing. Partial credit is available for in-class assignments and checkpoints, but **only when code is commented**."
   ]
  },
  {
   "cell_type": "code",
   "execution_count": null,
   "metadata": {},
   "outputs": [],
   "source": [
    "NAME = \"\"\n",
    "COLLABORATORS = \"\""
   ]
  },
  {
   "cell_type": "markdown",
   "metadata": {},
   "source": [
    "---"
   ]
  },
  {
   "cell_type": "code",
   "execution_count": null,
   "metadata": {
    "deletable": false,
    "editable": false,
    "nbgrader": {
     "cell_type": "code",
     "checksum": "e8c46b4be654bcfbef457156f8975b88",
     "grade": false,
     "grade_id": "cell-52ea72f1770ea9d1",
     "locked": true,
     "schema_version": 3,
     "solution": false,
     "task": false
    }
   },
   "outputs": [],
   "source": [
    "import grading_helper as _test"
   ]
  },
  {
   "cell_type": "code",
   "execution_count": null,
   "metadata": {
    "deletable": false,
    "nbgrader": {
     "cell_type": "code",
     "checksum": "b4d5be1a17dc1349a23621b7d290e47f",
     "grade": false,
     "grade_id": "cell-0093b13a123dfc88",
     "locked": false,
     "schema_version": 3,
     "solution": true,
     "task": false
    }
   },
   "outputs": [],
   "source": [
    "# Space for imports, utility functions, etc.\n",
    "\n",
    "# YOUR CODE HERE"
   ]
  },
  {
   "cell_type": "markdown",
   "metadata": {
    "deletable": false,
    "editable": false,
    "nbgrader": {
     "cell_type": "markdown",
     "checksum": "23f605e4d950f1c2aaa45098fc3ea947",
     "grade": false,
     "grade_id": "cell-20b09efa7953ee91",
     "locked": true,
     "schema_version": 3,
     "solution": false,
     "task": false
    }
   },
   "source": [
    "# Lagrange Points\n",
    "\n",
    "The [Lagrange points](https://en.wikipedia.org/wiki/Lagrangian_point) are the five points located around a pair of celestial bodies where the net gravitational field is exactly zero as measured in a co-rotating reference frame (i.e. accounting for the non-inertial centrifugal force). Your task is to calculate the five Lagrange points for the Earth-Moon system.\n",
    "\n",
    "In a reference frame that rotates about the earth-moon system's center of mass, the effective gravitational potential is\n",
    "\n",
    "$$V=-\\frac{GM}{r_E} - \\frac{Gm}{r_m} - \\tfrac12 r^2 \\omega^2\\,$$\n",
    "\n",
    "where $G=6.674\\times10^{-11}$ m$^3$kg$^{-1}$s$^{-2}$, $M=5.974\\times10^{24}$ kg is the mass of the earth, $m=7.348\\times10^{22}$ kg is the mass of the moon, and $\\omega=2.662\\times10^{-6}$ s$^{-1}$ is the orbital angular frequency of the moon about the earth-moon system's center of mass. Note that the third term above is the *centrifugal force* introduced by working in co-rotating coordinates. The three distances $r_E$, $r_m$, and $r$ are measured **from** the earth, moon, and center of mass, respectively. Similar to some other problems we've seen\n",
    "\n",
    "$$r = \\sqrt{x^2 + y^2}\\,,$$\n",
    "\n",
    "$$r_E = \\sqrt{(x-x_E)^2 + (y-y_E)^2}\\,,$$\n",
    "\n",
    "and\n",
    "\n",
    "$$r_m = \\sqrt{(x-x_m)^2 + (y-y_m)^2}\\,,$$\n",
    "\n",
    "where $(x_E, y_E)$ and $(x_m, y_m)$ are the locations of the earth and moon. Note that the earth is NOT at (0,0)&mdash;the center of mass is! To calculate the location of the earth and moon, use the fact that the radius of the moon's orbit is $R=3.844\\times10^8$ m.\n",
    "\n",
    "Finally, the gravitation field is given by\n",
    "    \n",
    "$$\\vec{F}=-\\vec{\\nabla}V\\,.$$\n",
    "    \n",
    "The five locations where $|\\vec{F}|=0$, are called the **Langrange Points**. In principle, an object placed there could remain stationary relative to the earth and moon. (In practice only $L_4$ and $L_5$ are stable once small perturbations are considered).\n",
    "\n",
    "1. Make a plot with the center of mass at the origin, and with the earth and moon lying along the $x$-axis (shown as dots or circles&mdash;they don't need to be to scale). Draw a circle to show the moon's orbit.\n",
    "\n",
    "2. Make a contour plot of $V$ on top of the earth-moon system.\n",
    "\n",
    "    > Hint: By default, most of the contours will end up tightly bunched near the earth and moon (where $V\\rightarrow-\\infty$). You can use the `levels` keyword argument to `contour` to control where the contours are drawn.\n",
    "\n",
    "    Verify that your plot resembles the ones on Wikipedia. Adjust `levels` as needed.\n",
    "\n",
    "3. The Lagrange points are located at five places where the magnitude of $F$ is zero. Calculate the **magnitude** of the gradient by hand and write a function for it.  Use this function and a routine from `scipy.optimize` to locate the five Lagrange points.\n",
    "\n",
    "    > Hint: if you use `minimize`, you may need to play around with the parameters (like `method`) to get to the solution to converge.\n",
    "\n",
    "    Add the five Lagrange points to your plot."
   ]
  },
  {
   "cell_type": "code",
   "execution_count": null,
   "metadata": {
    "deletable": false,
    "nbgrader": {
     "cell_type": "code",
     "checksum": "d20093d459a0590d551b374729339e07",
     "grade": true,
     "grade_id": "cell-d7536a32c92f325c",
     "locked": false,
     "points": 20,
     "schema_version": 3,
     "solution": true,
     "task": false
    }
   },
   "outputs": [],
   "source": [
    "%%graded # 20 points\n",
    "\n",
    "# YOUR CODE HERE"
   ]
  }
 ],
 "metadata": {
  "kernelspec": {
   "display_name": "Python 3",
   "language": "python",
   "name": "python3"
  },
  "language_info": {
   "codemirror_mode": {
    "name": "ipython",
    "version": 3
   },
   "file_extension": ".py",
   "mimetype": "text/x-python",
   "name": "python",
   "nbconvert_exporter": "python",
   "pygments_lexer": "ipython3",
   "version": "3.7.3"
  }
 },
 "nbformat": 4,
 "nbformat_minor": 4
}
