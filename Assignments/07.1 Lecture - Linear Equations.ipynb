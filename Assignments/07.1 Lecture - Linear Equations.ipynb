{
 "cells": [
  {
   "cell_type": "markdown",
   "metadata": {
    "slideshow": {
     "slide_type": "slide"
    }
   },
   "source": [
    "Fill in any place that says `# YOUR CODE HERE` or YOUR ANSWER HERE, as well as your name and collaborators below.\n",
    "Grading for pre-lecture assignments is all or nothing. Partial credit is available for in-class assignments and checkpoints, but **only when code is commented**."
   ]
  },
  {
   "cell_type": "code",
   "execution_count": null,
   "metadata": {},
   "outputs": [],
   "source": [
    "NAME = \"\"\n",
    "COLLABORATORS = \"\""
   ]
  },
  {
   "cell_type": "markdown",
   "metadata": {},
   "source": [
    "---"
   ]
  },
  {
   "cell_type": "markdown",
   "metadata": {
    "deletable": false,
    "editable": false,
    "nbgrader": {
     "cell_type": "markdown",
     "checksum": "c78e6643854ee561a78f24f5f9af1078",
     "grade": false,
     "grade_id": "cell-ec0c8f83ffb0d9c7",
     "locked": true,
     "schema_version": 3,
     "solution": false
    }
   },
   "source": [
    "# Learning Objectives\n",
    "\n",
    "This lecture will show you how to:\n",
    "1. Apply Gaussian elimination to solve simultaneous equations\n",
    "2. Implement partial pivoting to extend Gaussian elimination\n",
    "3. Use `scipy.linalg.solve`"
   ]
  },
  {
   "cell_type": "code",
   "execution_count": null,
   "metadata": {
    "deletable": false,
    "editable": false,
    "nbgrader": {
     "cell_type": "code",
     "checksum": "d98d39327803ae41271792ef226900dd",
     "grade": false,
     "grade_id": "cell-abd1b2cca923116d",
     "locked": true,
     "schema_version": 3,
     "solution": false
    }
   },
   "outputs": [],
   "source": [
    "# imports\n",
    "import numpy as np\n",
    "import matplotlib.pyplot as plt\n",
    "\n",
    "from scipy import linalg # linear algebra\n",
    "\n",
    "import grading_helper as _test"
   ]
  },
  {
   "cell_type": "markdown",
   "metadata": {
    "deletable": false,
    "editable": false,
    "nbgrader": {
     "cell_type": "markdown",
     "checksum": "17d45a532e5db426da0bcd8a980838a8",
     "grade": false,
     "grade_id": "cell-12b43295a0f000dd",
     "locked": true,
     "schema_version": 3,
     "solution": false
    }
   },
   "source": [
    "# Gaussian Elimination"
   ]
  },
  {
   "cell_type": "code",
   "execution_count": null,
   "metadata": {
    "deletable": false,
    "editable": false,
    "nbgrader": {
     "cell_type": "code",
     "checksum": "edf55d5e830a2407baa66d30ba73acaa",
     "grade": false,
     "grade_id": "cell-e9692b2c91e495dc",
     "locked": true,
     "schema_version": 3,
     "solution": false
    }
   },
   "outputs": [],
   "source": [
    "%video WIU55nqfKZo"
   ]
  },
  {
   "cell_type": "markdown",
   "metadata": {
    "deletable": false,
    "editable": false,
    "nbgrader": {
     "cell_type": "markdown",
     "checksum": "4f607ab6ca19ee090d607add3a7af4ba",
     "grade": false,
     "grade_id": "cell-ef2de58511545032",
     "locked": true,
     "schema_version": 3,
     "solution": false
    }
   },
   "source": [
    "Summary:\n",
    "\n",
    "- Consider the matrix equation $\\mathbf{A}\\mathbf{x} = \\mathbf{v}$. The rows of matrix $\\mathbf{A}$ can be modified as long as the rows of $\\mathbf{v}$ are modified in the same manner. We repeated apply this idea to our matrix equation to simplify it in a process called **Gaussian elimination**.\n",
    "- Our main tools are dividing a row by a constant, and subtracting multiples of a row from other rows. Eventually, we make $\\mathbf{A}$ **upper triangular**. Solving is then trivial.\n"
   ]
  },
  {
   "cell_type": "code",
   "execution_count": null,
   "metadata": {},
   "outputs": [],
   "source": []
  },
  {
   "cell_type": "markdown",
   "metadata": {
    "deletable": false,
    "editable": false,
    "nbgrader": {
     "cell_type": "markdown",
     "checksum": "18ac6bb8cad905f5ded0136b62f8a443",
     "grade": false,
     "grade_id": "cell-e97e11861c0dcf51",
     "locked": true,
     "schema_version": 3,
     "solution": false
    }
   },
   "source": [
    "## Your Turn\n",
    "\n",
    "Complete the function `solve3x3` that solves three equations with three unknowns using Gaussian elimination. The inputs to the function are $\\mathbf{A}$ and $\\mathbf{v}$ (both implemented as arrays)."
   ]
  },
  {
   "cell_type": "code",
   "execution_count": null,
   "metadata": {
    "deletable": false,
    "nbgrader": {
     "cell_type": "code",
     "checksum": "56d96b42e67e9fc2bc39a2b57f6a26d7",
     "grade": false,
     "grade_id": "cell-35ad44336baecb36",
     "locked": false,
     "schema_version": 3,
     "solution": true
    }
   },
   "outputs": [],
   "source": [
    "%%graded # 3 points\n",
    "\n",
    "def solve3x3(A, v):\n",
    "    # make copies of A and v\n",
    "    A, v = A.copy(), v.copy()\n",
    "    # divide 1st row by A[0,0]\n",
    "    A[0], v[0] = A[0]/A[0,0], v[0]/A[0,0]\n",
    "    # subtract A[1,0]*A[0] from A[1]\n",
    "    A[1], v[1] = A[1] - A[1,0]*A[0], v[1] - A[1,0]*v[0]\n",
    "    # subtract A[2,0]*A[0] from A[2]\n",
    "    A[2], v[2] = A[2] - A[2,0]*A[0], v[2] - A[2,0]*v[0]\n",
    "    # YOUR CODE HERE\n",
    "    return x, y, z"
   ]
  },
  {
   "cell_type": "code",
   "execution_count": null,
   "metadata": {
    "deletable": false,
    "editable": false,
    "nbgrader": {
     "cell_type": "code",
     "checksum": "3b920fb912fb23439a068cf960305d30",
     "grade": true,
     "grade_id": "cell-da8b5d94fab34508",
     "locked": true,
     "points": 3,
     "schema_version": 3,
     "solution": false
    }
   },
   "outputs": [],
   "source": [
    "%%tests\n",
    "\n",
    "A = np.array([[4., 1., 2.],\n",
    "              [2., 2., 1.],\n",
    "              [1., 4., 1.]])\n",
    "v = np.array([1.,\n",
    "              0.,\n",
    "              2.])\n",
    "x, y, z = solve3x3(A,v)\n",
    "\n",
    "_test.similar(x, -8/3)\n",
    "_test.similar(y, -1/3)\n",
    "_test.similar(z, 6)"
   ]
  },
  {
   "cell_type": "markdown",
   "metadata": {
    "deletable": false,
    "editable": false,
    "nbgrader": {
     "cell_type": "markdown",
     "checksum": "19b88d548f980a3a33f7a3fe9dc0a82d",
     "grade": false,
     "grade_id": "cell-c3979e64ecb0f78e",
     "locked": true,
     "schema_version": 3,
     "solution": false
    }
   },
   "source": [
    "# Partial Pivoting"
   ]
  },
  {
   "cell_type": "code",
   "execution_count": null,
   "metadata": {
    "deletable": false,
    "editable": false,
    "nbgrader": {
     "cell_type": "code",
     "checksum": "2f73a7c92f4853a92804c90cc2b4ce6f",
     "grade": false,
     "grade_id": "cell-e55d933eef813232",
     "locked": true,
     "schema_version": 3,
     "solution": false
    }
   },
   "outputs": [],
   "source": [
    "%video gU50Zp1zonw"
   ]
  },
  {
   "cell_type": "markdown",
   "metadata": {
    "deletable": false,
    "editable": false,
    "nbgrader": {
     "cell_type": "markdown",
     "checksum": "41166fea83319a98e6a49bb0a5dcc3b0",
     "grade": false,
     "grade_id": "cell-3fc428fa4e7fa976",
     "locked": true,
     "schema_version": 3,
     "solution": false
    }
   },
   "source": [
    "Summary:\n",
    "\n",
    "- There are two issues we may encounter:\n",
    "    1. Some sets of equations don't have solutions (although that really isn't an issue in physics).\n",
    "    2. Our simple implementation of Gaussian elimination may have us divide by zero.\n",
    "- The solution to the second case is **partial pivoting**: before we do any division step, we look for the value with the greatest absolute value in the current column. We then swap the current row with that row."
   ]
  },
  {
   "cell_type": "code",
   "execution_count": null,
   "metadata": {},
   "outputs": [],
   "source": []
  },
  {
   "cell_type": "markdown",
   "metadata": {
    "deletable": false,
    "editable": false,
    "nbgrader": {
     "cell_type": "markdown",
     "checksum": "7209cffa50cafdd8acc8f281da732b92",
     "grade": false,
     "grade_id": "cell-816be27c799e9a5e",
     "locked": true,
     "schema_version": 3,
     "solution": false
    }
   },
   "source": [
    "# Using `scipy.linalg.solve`"
   ]
  },
  {
   "cell_type": "code",
   "execution_count": null,
   "metadata": {
    "deletable": false,
    "editable": false,
    "nbgrader": {
     "cell_type": "code",
     "checksum": "4691bd7a7282342475ff6f6506362ba6",
     "grade": false,
     "grade_id": "cell-938a3475f0b78917",
     "locked": true,
     "schema_version": 3,
     "solution": false
    }
   },
   "outputs": [],
   "source": [
    "%video clvL26_M_TU"
   ]
  },
  {
   "cell_type": "markdown",
   "metadata": {
    "deletable": false,
    "editable": false,
    "nbgrader": {
     "cell_type": "markdown",
     "checksum": "423c0a15eecbd1e3074acb7d6b57419f",
     "grade": false,
     "grade_id": "cell-3b9c0f7fca8fa09f",
     "locked": true,
     "schema_version": 3,
     "solution": false
    }
   },
   "source": [
    "Summary:\n",
    "\n",
    "- If you look at our simple function for Gaussian elimination, there are some redundancies. In particular, our modifications to the matrices can be combined into fewer steps.\n",
    "- In brief, we follow a particular sequence of simplifications that lead to $\\mathbf{LU}=\\mathbf{A}$, called the **LU decomposition** of $\\mathbf{A}$.\n",
    "- This technique, along with partial pivoting, is employed by `scipy.linalg.solve(A, v)`"
   ]
  },
  {
   "cell_type": "code",
   "execution_count": null,
   "metadata": {},
   "outputs": [],
   "source": []
  },
  {
   "cell_type": "markdown",
   "metadata": {
    "deletable": false,
    "editable": false,
    "nbgrader": {
     "cell_type": "markdown",
     "checksum": "83b0f8a618983999c7d7fa6ea8743dae",
     "grade": false,
     "grade_id": "cell-ee75c910cc1dccc4",
     "locked": true,
     "schema_version": 3,
     "solution": false
    }
   },
   "source": [
    "## Your Turn\n",
    "\n",
    "Use `linalg.solve` to solve this system of equations:\n",
    "$$u +  v - 2w +  x + 3y -  z  =    4$$\n",
    "$$2u -  v +  w + 2x +  y - 3z  =   20$$\n",
    "$$u + 3v - 3w -  x + 2y +  z  =  -15$$\n",
    "$$5u + 2v -  w -  x + 2y +  z  =  - 3$$\n",
    "$$-3u -  v + 2w + 3x +  y + 3z  =   16$$\n",
    "$$4u + 3v +  w - 6x - 3y - 2z  =  -27$$\n",
    "\n",
    "Store your answers in the variables `u`, `v`, `w`, `x`, `y`, and `z`."
   ]
  },
  {
   "cell_type": "code",
   "execution_count": null,
   "metadata": {
    "deletable": false,
    "nbgrader": {
     "cell_type": "code",
     "checksum": "26f02434add65933f44fb71dc563c003",
     "grade": false,
     "grade_id": "cell-c85222addd195fd0",
     "locked": false,
     "schema_version": 3,
     "solution": true
    }
   },
   "outputs": [],
   "source": [
    "%%graded # 2 points\n",
    "\n",
    "# YOUR CODE HERE"
   ]
  },
  {
   "cell_type": "code",
   "execution_count": null,
   "metadata": {
    "deletable": false,
    "editable": false,
    "nbgrader": {
     "cell_type": "code",
     "checksum": "69b5f4f8a40061c19742d542854c6292",
     "grade": true,
     "grade_id": "cell-66bb15c80b0dc98c",
     "locked": true,
     "points": 2,
     "schema_version": 3,
     "solution": false
    }
   },
   "outputs": [],
   "source": [
    "%%tests\n",
    "\n",
    "_test.code_contains(\"solve\")\n",
    "_test.similar(u, 1)\n",
    "_test.similar(v, -2)\n",
    "_test.similar(w, 3)\n",
    "_test.similar(x, 4)\n",
    "_test.similar(y, 2)\n",
    "_test.similar(z, -1)"
   ]
  },
  {
   "cell_type": "markdown",
   "metadata": {
    "deletable": false,
    "editable": false,
    "nbgrader": {
     "cell_type": "markdown",
     "checksum": "56ed9a7b06f793ad47f204af025e8080",
     "grade": false,
     "grade_id": "cell-1ae60099cab3bd92",
     "locked": true,
     "schema_version": 3,
     "solution": false
    }
   },
   "source": [
    "# Additional Resources\n",
    "\n",
    "- Textbook section 6.1"
   ]
  }
 ],
 "metadata": {
  "kernelspec": {
   "display_name": "Python 3",
   "language": "python",
   "name": "python3"
  },
  "language_info": {
   "codemirror_mode": {
    "name": "ipython",
    "version": 3
   },
   "file_extension": ".py",
   "mimetype": "text/x-python",
   "name": "python",
   "nbconvert_exporter": "python",
   "pygments_lexer": "ipython3",
   "version": "3.7.3"
  }
 },
 "nbformat": 4,
 "nbformat_minor": 4
}
