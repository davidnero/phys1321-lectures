{
 "cells": [
  {
   "cell_type": "markdown",
   "metadata": {
    "slideshow": {
     "slide_type": "slide"
    }
   },
   "source": [
    "Fill in any place that says `# YOUR CODE HERE` or YOUR ANSWER HERE, as well as your name and collaborators below.\n",
    "Grading for pre-lecture assignments is all or nothing. Partial credit is available for in-class assignments and checkpoints, but **only when code is commented**."
   ]
  },
  {
   "cell_type": "code",
   "execution_count": null,
   "metadata": {},
   "outputs": [],
   "source": [
    "NAME = \"\"\n",
    "COLLABORATORS = \"\""
   ]
  },
  {
   "cell_type": "markdown",
   "metadata": {},
   "source": [
    "---"
   ]
  },
  {
   "cell_type": "markdown",
   "metadata": {
    "deletable": false,
    "editable": false,
    "nbgrader": {
     "cell_type": "markdown",
     "checksum": "b6a10361c6813b0d4f4c7e722decd82c",
     "grade": false,
     "grade_id": "cell-ec0c8f83ffb0d9c7",
     "locked": true,
     "schema_version": 3,
     "solution": false
    }
   },
   "source": [
    "# Learning Objectives\n",
    "\n",
    "This lecture will show you how to:\n",
    "1. Generate random values\n",
    "2. Create arrays of random values\n",
    "3. Apply Monte Carlo methods to solve problems\n",
    "4. Sample random values from a nonuniform distribution"
   ]
  },
  {
   "cell_type": "code",
   "execution_count": null,
   "metadata": {
    "deletable": false,
    "editable": false,
    "nbgrader": {
     "cell_type": "code",
     "checksum": "870fc9f0d02f54cd252d55b61dc5bcf6",
     "grade": false,
     "grade_id": "cell-abd1b2cca923116d",
     "locked": true,
     "schema_version": 3,
     "solution": false
    }
   },
   "outputs": [],
   "source": [
    "# imports\n",
    "import numpy as np\n",
    "import matplotlib.pyplot as plt\n",
    "\n",
    "import random # random numbers\n",
    "              # we'll also use np.random\n",
    "\n",
    "import grading_helper as _test"
   ]
  },
  {
   "cell_type": "markdown",
   "metadata": {
    "deletable": false,
    "editable": false,
    "nbgrader": {
     "cell_type": "markdown",
     "checksum": "fb0931d55c3b936179efe6d8e8e0cc7d",
     "grade": false,
     "grade_id": "cell-12b43295a0f000dd",
     "locked": true,
     "schema_version": 3,
     "solution": false
    }
   },
   "source": [
    "# Random Numbers"
   ]
  },
  {
   "cell_type": "code",
   "execution_count": null,
   "metadata": {
    "deletable": false,
    "editable": false,
    "nbgrader": {
     "cell_type": "code",
     "checksum": "b094589979f54d4b0d762357cd0248fd",
     "grade": false,
     "grade_id": "cell-e9692b2c91e495dc",
     "locked": true,
     "schema_version": 3,
     "solution": false
    }
   },
   "outputs": [],
   "source": [
    "%video FK0Z3pycGQs"
   ]
  },
  {
   "cell_type": "markdown",
   "metadata": {
    "deletable": false,
    "editable": false,
    "nbgrader": {
     "cell_type": "markdown",
     "checksum": "b97ab9b0523797244255c3a1e26ee884",
     "grade": false,
     "grade_id": "cell-ef2de58511545032",
     "locked": true,
     "schema_version": 3,
     "solution": false
    }
   },
   "source": [
    "Summary:\n",
    "\n",
    "- \"Random\" values aren't actually random, but they're usually good enough.\n",
    "- Generate random values with `random.random()` or `random.randint(lower, upper)`. In the first case, the number will be a float between 0 and 1.\n",
    "- Scramble a list in-place with `random.shuffle(list)` or select a random item from a list with `random.choice(list)`\n",
    "- Set `random.seed(seed)` to always get the same sequence of random numbers (good for testing)."
   ]
  },
  {
   "cell_type": "code",
   "execution_count": null,
   "metadata": {},
   "outputs": [],
   "source": []
  },
  {
   "cell_type": "markdown",
   "metadata": {
    "deletable": false,
    "editable": false,
    "nbgrader": {
     "cell_type": "markdown",
     "checksum": "371e3ece563cb02afa10f899dd9f05af",
     "grade": false,
     "grade_id": "cell-e97e11861c0dcf51",
     "locked": true,
     "schema_version": 3,
     "solution": false
    }
   },
   "source": [
    "## Your Turn\n",
    "\n",
    "Write a function `roll()` that uses `random.randint` to \"roll\" five 6-sided dice until all five match (like the game *Yahtzee*, but without the option to set aside some of the dice). The function should return the total number of rolls needed. "
   ]
  },
  {
   "cell_type": "code",
   "execution_count": null,
   "metadata": {
    "deletable": false,
    "nbgrader": {
     "cell_type": "code",
     "checksum": "c9636558184ba63bff40e075a218fab7",
     "grade": false,
     "grade_id": "cell-35ad44336baecb36",
     "locked": false,
     "schema_version": 3,
     "solution": true
    }
   },
   "outputs": [],
   "source": [
    "%%graded # 2 points\n",
    "\n",
    "# YOUR CODE HERE"
   ]
  },
  {
   "cell_type": "code",
   "execution_count": null,
   "metadata": {
    "deletable": false,
    "editable": false,
    "nbgrader": {
     "cell_type": "code",
     "checksum": "37896f4733555e1cc415278ec6876099",
     "grade": true,
     "grade_id": "cell-da8b5d94fab34508",
     "locked": true,
     "points": 2,
     "schema_version": 3,
     "solution": false
    }
   },
   "outputs": [],
   "source": [
    "%%tests\n",
    "\n",
    "_test.code_contains(\"randint\")\n",
    "assert 1 <= roll() <= 1e6 # check that result is reasonable\n",
    "\n",
    "# check that the result changes\n",
    "success = False\n",
    "for i in range(100):\n",
    "    if roll() != roll():\n",
    "        success = True\n",
    "assert success, \"return value isn't random\""
   ]
  },
  {
   "cell_type": "markdown",
   "metadata": {
    "deletable": false,
    "editable": false,
    "nbgrader": {
     "cell_type": "markdown",
     "checksum": "9492cf917b417b90471b6fec9abbfcbb",
     "grade": false,
     "grade_id": "cell-c3979e64ecb0f78e",
     "locked": true,
     "schema_version": 3,
     "solution": false
    }
   },
   "source": [
    "# Random Arrays"
   ]
  },
  {
   "cell_type": "code",
   "execution_count": null,
   "metadata": {
    "deletable": false,
    "editable": false,
    "nbgrader": {
     "cell_type": "code",
     "checksum": "bd4da4384ad93eefafeb7df3c3bbda49",
     "grade": false,
     "grade_id": "cell-e55d933eef813232",
     "locked": true,
     "schema_version": 3,
     "solution": false
    }
   },
   "outputs": [],
   "source": [
    "%video eVTG4YRbk3A"
   ]
  },
  {
   "cell_type": "markdown",
   "metadata": {
    "deletable": false,
    "editable": false,
    "nbgrader": {
     "cell_type": "markdown",
     "checksum": "742e819f7ec12698e424798850fd3181",
     "grade": false,
     "grade_id": "cell-3fc428fa4e7fa976",
     "locked": true,
     "schema_version": 3,
     "solution": false
    }
   },
   "source": [
    "Summary:\n",
    "\n",
    "- To generate random arrays, use `np.random.rand(size)` or `np.random.randint(lower, upper)`\n",
    "- Use `np.random.seed(seed)` to seed numpy's random numbers.\n",
    "- For normal (Gaussian) distributions, use `np.random.normal(mean, stddev, size)`"
   ]
  },
  {
   "cell_type": "code",
   "execution_count": null,
   "metadata": {},
   "outputs": [],
   "source": []
  },
  {
   "cell_type": "markdown",
   "metadata": {
    "deletable": false,
    "editable": false,
    "nbgrader": {
     "cell_type": "markdown",
     "checksum": "39dfc59ae0b20f437e640fba9559cb04",
     "grade": false,
     "grade_id": "cell-8360e4f212a6ff6b",
     "locked": true,
     "schema_version": 3,
     "solution": false
    }
   },
   "source": [
    "## Your Turn\n",
    "\n",
    "Noisy data can be simulated (say for testing) by adding an array of random values to a known array.\n",
    "Create an array named `data` that is the sum of `signal`, given below, and some random noise of your choosing (but don't make the noise larger than ~10%). Plot `signal` with a solid line and `data` with dots."
   ]
  },
  {
   "cell_type": "code",
   "execution_count": null,
   "metadata": {
    "deletable": false,
    "editable": false,
    "nbgrader": {
     "cell_type": "code",
     "checksum": "21dc23eeb0b30360ab4ac445a57f80a5",
     "grade": false,
     "grade_id": "cell-aeb06268da1b9447",
     "locked": true,
     "schema_version": 3,
     "solution": false,
     "task": false
    }
   },
   "outputs": [],
   "source": [
    "x = np.linspace(0, 2*np.pi, 50)\n",
    "signal = np.sin(2*x)"
   ]
  },
  {
   "cell_type": "code",
   "execution_count": null,
   "metadata": {
    "deletable": false,
    "nbgrader": {
     "cell_type": "code",
     "checksum": "feb97d4ed55491e290a8557975f40721",
     "grade": false,
     "grade_id": "cell-f379c1cb575251f8",
     "locked": false,
     "schema_version": 3,
     "solution": true
    }
   },
   "outputs": [],
   "source": [
    "%%graded # 1 point\n",
    "\n",
    "# YOUR CODE HERE"
   ]
  },
  {
   "cell_type": "code",
   "execution_count": null,
   "metadata": {
    "deletable": false,
    "editable": false,
    "nbgrader": {
     "cell_type": "code",
     "checksum": "acf47543219faaacb29b3eb6e1439d61",
     "grade": true,
     "grade_id": "cell-59ddbd886466efc5",
     "locked": true,
     "points": 1,
     "schema_version": 3,
     "solution": false
    }
   },
   "outputs": [],
   "source": [
    "%%tests\n",
    "\n",
    "_test.similar(signal, data, rtol=1, atol=1) # arrays are similar\n",
    "assert sum(abs(signal - data)) > 0 # but not identical\n",
    "_test.plot_shown()"
   ]
  },
  {
   "cell_type": "markdown",
   "metadata": {
    "deletable": false,
    "editable": false,
    "nbgrader": {
     "cell_type": "markdown",
     "checksum": "aee12d0067427d5d6de0020602382d18",
     "grade": false,
     "grade_id": "cell-816be27c799e9a5e",
     "locked": true,
     "schema_version": 3,
     "solution": false
    }
   },
   "source": [
    "# Monte Carlo"
   ]
  },
  {
   "cell_type": "code",
   "execution_count": null,
   "metadata": {
    "deletable": false,
    "editable": false,
    "nbgrader": {
     "cell_type": "code",
     "checksum": "b84ab24cdc5a3c8f39e2a16fd982fe78",
     "grade": false,
     "grade_id": "cell-938a3475f0b78917",
     "locked": true,
     "schema_version": 3,
     "solution": false
    }
   },
   "outputs": [],
   "source": [
    "%video adDdp1WcEEk"
   ]
  },
  {
   "cell_type": "markdown",
   "metadata": {
    "deletable": false,
    "editable": false,
    "nbgrader": {
     "cell_type": "markdown",
     "checksum": "d6f4759580d666a9d55bbf2e994376d9",
     "grade": false,
     "grade_id": "cell-3b9c0f7fca8fa09f",
     "locked": true,
     "schema_version": 3,
     "solution": false
    }
   },
   "source": [
    "Summary:\n",
    "\n",
    "- Many problems can be solved in a statistical way by simulating many events.\n",
    "- To simulate an event with some probability $p\\le 1$, use\n",
    "        z = random.random()\n",
    "        if z < p:\n",
    "            # do something\n",
    "        else:\n",
    "            # do something else"
   ]
  },
  {
   "cell_type": "code",
   "execution_count": null,
   "metadata": {},
   "outputs": [],
   "source": []
  },
  {
   "cell_type": "markdown",
   "metadata": {
    "deletable": false,
    "editable": false,
    "nbgrader": {
     "cell_type": "markdown",
     "checksum": "ea5addb2154b5c819783b44c359d49c6",
     "grade": false,
     "grade_id": "cell-ee75c910cc1dccc4",
     "locked": true,
     "schema_version": 3,
     "solution": false
    }
   },
   "source": [
    "## Your Turn\n",
    "\n",
    "Use Monte Carlo to calculate the average number of times you'd need to roll five dice before they's all match (rolling all five each time). Do this by calling the `roll` function you defined above 1000 times and averaging the result. Save the result in avariable named `average_rolls`."
   ]
  },
  {
   "cell_type": "code",
   "execution_count": null,
   "metadata": {
    "deletable": false,
    "nbgrader": {
     "cell_type": "code",
     "checksum": "eb5b4f4e39b142a982969af32eb4f949",
     "grade": false,
     "grade_id": "cell-c85222addd195fd0",
     "locked": false,
     "schema_version": 3,
     "solution": true
    }
   },
   "outputs": [],
   "source": [
    "%%graded # 1 point\n",
    "\n",
    "# YOUR CODE HERE"
   ]
  },
  {
   "cell_type": "code",
   "execution_count": null,
   "metadata": {
    "deletable": false,
    "editable": false,
    "nbgrader": {
     "cell_type": "code",
     "checksum": "dadc0ac0ef7924039a2b35cf0c3e2231",
     "grade": true,
     "grade_id": "cell-66bb15c80b0dc98c",
     "locked": true,
     "points": 1,
     "schema_version": 3,
     "solution": false
    }
   },
   "outputs": [],
   "source": [
    "%%tests\n",
    "\n",
    "_test.code_contains(\"roll\", \":\") # check for some kind of loop\n",
    "_test.similar(average_rolls, 6**4, rtol=0.1) # check within 10%"
   ]
  },
  {
   "cell_type": "markdown",
   "metadata": {
    "deletable": false,
    "editable": false,
    "nbgrader": {
     "cell_type": "markdown",
     "checksum": "4b242d077ed797b0a777a02d5a9e2bbd",
     "grade": false,
     "grade_id": "cell-16b57a5632c4e751",
     "locked": true,
     "schema_version": 3,
     "solution": false
    }
   },
   "source": [
    "# Sampling From a Nonuniform Distribution"
   ]
  },
  {
   "cell_type": "code",
   "execution_count": null,
   "metadata": {
    "deletable": false,
    "editable": false,
    "nbgrader": {
     "cell_type": "code",
     "checksum": "3f990b551dc5c7c9bccd5dfa13640ffe",
     "grade": false,
     "grade_id": "cell-18bbfb7ab00216f5",
     "locked": true,
     "schema_version": 3,
     "solution": false
    }
   },
   "outputs": [],
   "source": [
    "%video Fh4azD1t5DM"
   ]
  },
  {
   "cell_type": "markdown",
   "metadata": {
    "deletable": false,
    "editable": false,
    "nbgrader": {
     "cell_type": "markdown",
     "checksum": "54a058104aa88e87194871f2aafb0f6b",
     "grade": false,
     "grade_id": "cell-7f0a5507cd851d0f",
     "locked": true,
     "schema_version": 3,
     "solution": false
    }
   },
   "source": [
    "Summary:\n",
    "\n",
    "- Given a nonuniform **probability density** $p(t)$ for some range $x_{min}$ to $x$, solve\n",
    "$$\\int_{x_{min}}^x p(t)\\,dt  = z$$\n",
    "to find $x(z)$. This procedure is called the **transformation method**.\n",
    "- You can then generate your random values $x$ by substituting in `random.random()` for $z$."
   ]
  },
  {
   "cell_type": "code",
   "execution_count": null,
   "metadata": {},
   "outputs": [],
   "source": []
  },
  {
   "cell_type": "markdown",
   "metadata": {
    "deletable": false,
    "editable": false,
    "nbgrader": {
     "cell_type": "markdown",
     "checksum": "9946a2b427399beb444d1103aaf1ee5d",
     "grade": false,
     "grade_id": "cell-a8c84ec831f2471a",
     "locked": true,
     "schema_version": 3,
     "solution": false
    }
   },
   "source": [
    "## Your Turn\n",
    "\n",
    "The triangle distribution is described by the probability density\n",
    "$$p(x)= 2x\\,, \\qquad 0\\le x<1\\,.$$\n",
    "\n",
    "Use the transformation method to solve for $x(z)$ (by hand) and then write a program that draws 10,000 random numbers from that distribution. Make a histogram of those numbers to verify that the transformation worked. It should look like this:\n",
    "<img src=\"data:image/png;base64,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\">"
   ]
  },
  {
   "cell_type": "code",
   "execution_count": null,
   "metadata": {
    "deletable": false,
    "nbgrader": {
     "cell_type": "code",
     "checksum": "a2dc18eea224d7b51c6b58d3ecf27579",
     "grade": false,
     "grade_id": "cell-19e236b9d80f706c",
     "locked": false,
     "schema_version": 3,
     "solution": true
    }
   },
   "outputs": [],
   "source": [
    "%%graded # 1 point\n",
    "\n",
    "# YOUR CODE HERE"
   ]
  },
  {
   "cell_type": "code",
   "execution_count": null,
   "metadata": {
    "deletable": false,
    "editable": false,
    "nbgrader": {
     "cell_type": "code",
     "checksum": "c6301b1d0a74ddcdd76a03c0f4821136",
     "grade": true,
     "grade_id": "cell-dd348913c3df22d2",
     "locked": true,
     "points": 1,
     "schema_version": 3,
     "solution": false
    }
   },
   "outputs": [],
   "source": [
    "%%tests\n",
    "\n",
    "_test.code_contains(\"sqrt\", \"random\") # there's a square root in the transformation\n",
    "_test.plot_shown()"
   ]
  },
  {
   "cell_type": "markdown",
   "metadata": {
    "deletable": false,
    "editable": false,
    "nbgrader": {
     "cell_type": "markdown",
     "checksum": "89768ac6c181ecdfc1d18804b2d8b6f3",
     "grade": false,
     "grade_id": "cell-1ae60099cab3bd92",
     "locked": true,
     "schema_version": 3,
     "solution": false
    }
   },
   "source": [
    "# Additional Resources\n",
    "\n",
    "- Textbook section 10.1 and 10.2"
   ]
  }
 ],
 "metadata": {
  "kernelspec": {
   "display_name": "Python 3",
   "language": "python",
   "name": "python3"
  },
  "language_info": {
   "codemirror_mode": {
    "name": "ipython",
    "version": 3
   },
   "file_extension": ".py",
   "mimetype": "text/x-python",
   "name": "python",
   "nbconvert_exporter": "python",
   "pygments_lexer": "ipython3",
   "version": "3.7.3"
  }
 },
 "nbformat": 4,
 "nbformat_minor": 4
}
