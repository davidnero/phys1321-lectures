{
 "cells": [
  {
   "cell_type": "markdown",
   "metadata": {
    "slideshow": {
     "slide_type": "slide"
    }
   },
   "source": [
    "Fill in any place that says `# YOUR CODE HERE` or YOUR ANSWER HERE, as well as your name and collaborators below.\n",
    "Grading for pre-lecture assignments is all or nothing. Partial credit is available for in-class assignments and checkpoints, but **only when code is commented**."
   ]
  },
  {
   "cell_type": "code",
   "execution_count": null,
   "metadata": {},
   "outputs": [],
   "source": [
    "NAME = \"\"\n",
    "COLLABORATORS = \"\""
   ]
  },
  {
   "cell_type": "markdown",
   "metadata": {},
   "source": [
    "---"
   ]
  },
  {
   "cell_type": "markdown",
   "metadata": {
    "deletable": false,
    "editable": false,
    "nbgrader": {
     "cell_type": "markdown",
     "checksum": "9fa5088435d377ec65ff10dbbfc6aca5",
     "grade": false,
     "grade_id": "cell-1754033f5c4b7344",
     "locked": true,
     "schema_version": 3,
     "solution": false
    }
   },
   "source": [
    "# Learning Objectives\n",
    "\n",
    "This lecture will show you how to:\n",
    "1. Update the display in a notebook\n",
    "2. Create animated plots using Matplotlib\n",
    "3. Display a progress bar\n",
    "4. Draw simple shapes with Matplotlib (which can also be animated)"
   ]
  },
  {
   "cell_type": "code",
   "execution_count": null,
   "metadata": {
    "deletable": false,
    "editable": false,
    "nbgrader": {
     "cell_type": "code",
     "checksum": "952e5cf60f18f58003e724e79c53128a",
     "grade": false,
     "grade_id": "cell-08d7ae6d26f38db6",
     "locked": true,
     "schema_version": 3,
     "solution": false
    }
   },
   "outputs": [],
   "source": [
    "# imports\n",
    "import numpy as np\n",
    "import matplotlib.pyplot as plt\n",
    "\n",
    "# for animations\n",
    "from IPython import display # manipulate notebook output\n",
    "from time import sleep # used to slow things down\n",
    "from matplotlib.animation import FuncAnimation # animate by repeatedly calling a function\n",
    "\n",
    "import grading_helper as _test"
   ]
  },
  {
   "cell_type": "markdown",
   "metadata": {
    "deletable": false,
    "editable": false,
    "nbgrader": {
     "cell_type": "markdown",
     "checksum": "434b73c98a3706aefbd48a0bdd74af46",
     "grade": false,
     "grade_id": "cell-777e5d85a86e9335",
     "locked": true,
     "schema_version": 3,
     "solution": false
    }
   },
   "source": [
    "# Simple Animations With `IPython.display`"
   ]
  },
  {
   "cell_type": "code",
   "execution_count": null,
   "metadata": {
    "deletable": false,
    "editable": false,
    "nbgrader": {
     "cell_type": "code",
     "checksum": "49b5b72aee1c5b1aec2a77a714318ebc",
     "grade": false,
     "grade_id": "cell-9d402e07026740be",
     "locked": true,
     "schema_version": 3,
     "solution": false
    }
   },
   "outputs": [],
   "source": [
    "%video UHR-zjD2LNU"
   ]
  },
  {
   "cell_type": "markdown",
   "metadata": {
    "deletable": false,
    "editable": false,
    "nbgrader": {
     "cell_type": "markdown",
     "checksum": "7566278a169ed55a495307b2ed80542b",
     "grade": false,
     "grade_id": "cell-777e5d85a86e9336",
     "locked": true,
     "schema_version": 3,
     "solution": false
    }
   },
   "source": [
    "Summary:\n",
    "- Use `IPython.display.clear_output(wait=True)` in a loop to create simple animated output in a notebook.\n",
    "- If desired, use `time.sleep` to slow the animation down.\n",
    "- CAUTION: this type of animation only runs in a live notebook when the cell is run."
   ]
  },
  {
   "cell_type": "code",
   "execution_count": null,
   "metadata": {},
   "outputs": [],
   "source": []
  },
  {
   "cell_type": "markdown",
   "metadata": {
    "deletable": false,
    "editable": false,
    "nbgrader": {
     "cell_type": "markdown",
     "checksum": "3dbb9c3b601ae0dbc7a43b3db43f7eda",
     "grade": false,
     "grade_id": "cell-3e49f0f90b4bd793",
     "locked": true,
     "schema_version": 3,
     "solution": false
    }
   },
   "source": [
    "## Your Turn\n",
    "\n",
    "Modify the code below so that instead of printing 1000 lines of output, it instead prints a single line of output that is continuously updated using `display.clear_output`. The unicorn should look like its moving."
   ]
  },
  {
   "cell_type": "code",
   "execution_count": null,
   "metadata": {
    "deletable": false,
    "nbgrader": {
     "cell_type": "code",
     "checksum": "0f373c2c0c3c8e97d34ef594527ebcdd",
     "grade": false,
     "grade_id": "cell-ac34c8ffb686b124",
     "locked": false,
     "schema_version": 3,
     "solution": true
    }
   },
   "outputs": [],
   "source": [
    "%%graded # 1 point\n",
    "\n",
    "for i in range(1000):\n",
    "    zoom = \" \" * (i%100) + \"🦄\" # unicode unicorn\n",
    "    \n",
    "    # YOUR CODE HERE\n",
    "    \n",
    "    print(zoom)"
   ]
  },
  {
   "cell_type": "code",
   "execution_count": null,
   "metadata": {
    "deletable": false,
    "editable": false,
    "nbgrader": {
     "cell_type": "code",
     "checksum": "4716d567e7ad2bcb90e76e53348c08d6",
     "grade": true,
     "grade_id": "cell-9282493d4e14e297",
     "locked": true,
     "points": 1,
     "schema_version": 3,
     "solution": false
    }
   },
   "outputs": [],
   "source": [
    "%%tests\n",
    "\n",
    "_test.code_contains(\"display.clear_output\")\n",
    "_test.printed(\"🦄\\n\") # 0th step\n",
    "_test.printed(\"     🦄\\n\") # 5th step"
   ]
  },
  {
   "cell_type": "markdown",
   "metadata": {
    "deletable": false,
    "editable": false,
    "nbgrader": {
     "cell_type": "markdown",
     "checksum": "07ff1d66a6c913b722c6eec29fef00f2",
     "grade": false,
     "grade_id": "cell-31bd2191a2d8587b",
     "locked": true,
     "schema_version": 3,
     "solution": false
    }
   },
   "source": [
    "# Animations With `matplotlib`"
   ]
  },
  {
   "cell_type": "code",
   "execution_count": null,
   "metadata": {
    "deletable": false,
    "editable": false,
    "nbgrader": {
     "cell_type": "code",
     "checksum": "a36dabdc7c5fe89a0433b6d38aca37be",
     "grade": false,
     "grade_id": "cell-6c03fee55e64f554",
     "locked": true,
     "schema_version": 3,
     "solution": false
    }
   },
   "outputs": [],
   "source": [
    "%video GtZxk8Wa3Jw"
   ]
  },
  {
   "cell_type": "markdown",
   "metadata": {
    "deletable": false,
    "editable": false,
    "nbgrader": {
     "cell_type": "markdown",
     "checksum": "a6eb7cf6a9aeee502f2248f38b287cea",
     "grade": false,
     "grade_id": "cell-6fc6415588f06e6d",
     "locked": true,
     "schema_version": 3,
     "solution": false
    }
   },
   "source": [
    "Summary:\n",
    "- Animation Recipe:\n",
    "    1. Setup a `plt.figure` and one or more empty objects that will be animated. Store those objects in a variable.\n",
    "    2. Write a function that changes those objects every `frame`\n",
    "    3. Use `FuncAnimation` to create an animation object using your figure and the function from the previous part.\n",
    "    4. Set total number of `frames` and delay between frames `interval`\n",
    "    5. Convert the animation to a video and display it in the notebook.\n",
    "\n",
    "\n",
    "- Typical \"boilerplate\" code:\n",
    "    ```\n",
    "    # setup\n",
    "    fig = plt.figure()\n",
    "    line, = plt.plot([]) # or similar\n",
    "    # set limits, etc.\n",
    "\n",
    "    # called once per frame\n",
    "    def animate(frame):\n",
    "        line.set_data(...)\n",
    "\n",
    "    # create the animation\n",
    "    anim = FuncAnimation(fig, animate, frames=100, interval=20)\n",
    "    \n",
    "    # convert it to an HTML video\n",
    "    video = anim.to_html5_video()\n",
    "    \n",
    "    # tell the notebook that you want to display raw HTML\n",
    "    html = display.HTML(video)\n",
    "    \n",
    "    # display the animation\n",
    "    display.display(html)\n",
    "    \n",
    "    # don't draw an extra figure the next time you call plt.show()\n",
    "    plt.close()\n",
    "```"
   ]
  },
  {
   "cell_type": "code",
   "execution_count": null,
   "metadata": {},
   "outputs": [],
   "source": []
  },
  {
   "cell_type": "markdown",
   "metadata": {
    "deletable": false,
    "editable": false,
    "nbgrader": {
     "cell_type": "markdown",
     "checksum": "b2c46a8c7c6e6d23c71d369a30a54acd",
     "grade": false,
     "grade_id": "cell-e7b245829b242e13",
     "locked": true,
     "schema_version": 3,
     "solution": false
    }
   },
   "source": [
    "## Your Turn\n",
    "\n",
    "Modify the example so that the point takes a different path."
   ]
  },
  {
   "cell_type": "code",
   "execution_count": null,
   "metadata": {
    "deletable": false,
    "nbgrader": {
     "cell_type": "code",
     "checksum": "d7f9705a5b96595844847d006598e23d",
     "grade": false,
     "grade_id": "cell-19841b6b82d8da34",
     "locked": false,
     "schema_version": 3,
     "solution": true
    }
   },
   "outputs": [],
   "source": [
    "%%graded # 2 points\n",
    "\n",
    "fig = plt.figure()\n",
    "lines = plt.plot([], \"o\")\n",
    "line = lines[0] # lines is a tuple, since plots can have more than one line\n",
    "plt.axis(\"scaled\")\n",
    "plt.xlim(-1.5, 1.5)\n",
    "plt.ylim(-1.5, 1.5)\n",
    "\n",
    "def animate(frame):\n",
    "    # you write the function body\n",
    "    # YOUR CODE HERE\n",
    "\n",
    "anim = FuncAnimation(fig, animate, frames=100, interval=20)\n",
    "video = anim.to_html5_video()\n",
    "html = display.HTML(video)\n",
    "display.display(html)\n",
    "plt.close()"
   ]
  },
  {
   "cell_type": "code",
   "execution_count": null,
   "metadata": {
    "deletable": false,
    "editable": false,
    "nbgrader": {
     "cell_type": "code",
     "checksum": "49660c776f72c49a02ecbac5b1caeba0",
     "grade": true,
     "grade_id": "cell-2694f6f1cd7d83e6",
     "locked": true,
     "points": 2,
     "schema_version": 3,
     "solution": false
    }
   },
   "outputs": [],
   "source": [
    "%%tests\n",
    "\n",
    "_test.code_contains(\"line.set_data\")\n",
    "_test.animation_shown()"
   ]
  },
  {
   "cell_type": "markdown",
   "metadata": {
    "deletable": false,
    "editable": false,
    "nbgrader": {
     "cell_type": "markdown",
     "checksum": "3e48197e2b476043048d91e28b424fde",
     "grade": false,
     "grade_id": "cell-e2ec80f479dc6820",
     "locked": true,
     "schema_version": 3,
     "solution": false
    }
   },
   "source": [
    "# Redrawing the Entire Figure"
   ]
  },
  {
   "cell_type": "code",
   "execution_count": null,
   "metadata": {
    "deletable": false,
    "editable": false,
    "nbgrader": {
     "cell_type": "code",
     "checksum": "8c2b89eaf3e3e00dd4990fbd903cc130",
     "grade": false,
     "grade_id": "cell-480050ef3d7cf0c4",
     "locked": true,
     "schema_version": 3,
     "solution": false
    }
   },
   "outputs": [],
   "source": [
    "%video 9SdWJe9A30A"
   ]
  },
  {
   "cell_type": "markdown",
   "metadata": {
    "deletable": false,
    "editable": false,
    "nbgrader": {
     "cell_type": "markdown",
     "checksum": "0cdc9bede74c06b0d96846a00a09feaf",
     "grade": false,
     "grade_id": "cell-5d4088b2c41a262a",
     "locked": true,
     "schema_version": 3,
     "solution": false
    }
   },
   "source": [
    "Summary:\n",
    "- Worst case, you can always redraw your figure each frame by calling `fig.clear()` in the animation function.\n",
    "- Keep in mind that this will be slow."
   ]
  },
  {
   "cell_type": "code",
   "execution_count": null,
   "metadata": {},
   "outputs": [],
   "source": []
  },
  {
   "cell_type": "markdown",
   "metadata": {
    "deletable": false,
    "editable": false,
    "nbgrader": {
     "cell_type": "markdown",
     "checksum": "2fc826223d0f1588337061bab858f296",
     "grade": false,
     "grade_id": "cell-fc219da4a7db8460",
     "locked": true,
     "schema_version": 3,
     "solution": false
    }
   },
   "source": [
    "# Adding a Simple Progress Bar"
   ]
  },
  {
   "cell_type": "code",
   "execution_count": null,
   "metadata": {
    "deletable": false,
    "editable": false,
    "nbgrader": {
     "cell_type": "code",
     "checksum": "04046542d1ffecb0723710aa2939f974",
     "grade": false,
     "grade_id": "cell-ec1279f9ae62ef7e",
     "locked": true,
     "schema_version": 3,
     "solution": false
    }
   },
   "outputs": [],
   "source": [
    "%video LMslz-ti3ME"
   ]
  },
  {
   "cell_type": "markdown",
   "metadata": {
    "deletable": false,
    "editable": false,
    "nbgrader": {
     "cell_type": "markdown",
     "checksum": "dc46318c73e65ad9b11fa1a36ac6c478",
     "grade": false,
     "grade_id": "cell-5589fb59182bc5fc",
     "locked": true,
     "schema_version": 3,
     "solution": false
    }
   },
   "source": [
    "Summary:\n",
    "- Create a progress bar using `display.ProgressBar(max_value)`\n",
    "- Display it by calling its `.display()` method.\n",
    "- Update the progress by setting `.progress = current_progress`\n",
    "- Optionally, remove it by calling `display.clear_output` (but be careful with the timing)."
   ]
  },
  {
   "cell_type": "code",
   "execution_count": null,
   "metadata": {},
   "outputs": [],
   "source": []
  },
  {
   "cell_type": "markdown",
   "metadata": {
    "deletable": false,
    "editable": false,
    "nbgrader": {
     "cell_type": "markdown",
     "checksum": "cb60e22838f043e920e97cf05479ec73",
     "grade": false,
     "grade_id": "cell-82d7ecf3aedfbb2f",
     "locked": true,
     "schema_version": 3,
     "solution": false
    }
   },
   "source": [
    "## Your Turn\n",
    "\n",
    "Create a progress bar with a max value of 100, set its progress to 50, and display it. (You don't need to make an animation. Just draw the progress bar.)"
   ]
  },
  {
   "cell_type": "code",
   "execution_count": null,
   "metadata": {
    "deletable": false,
    "nbgrader": {
     "cell_type": "code",
     "checksum": "c932b22b8c486c9408392c4135d8888f",
     "grade": false,
     "grade_id": "cell-499372e05ac48b1c",
     "locked": false,
     "schema_version": 3,
     "solution": true
    }
   },
   "outputs": [],
   "source": [
    "%%graded # 1 point\n",
    "\n",
    "# YOUR CODE HERE"
   ]
  },
  {
   "cell_type": "code",
   "execution_count": null,
   "metadata": {
    "deletable": false,
    "editable": false,
    "nbgrader": {
     "cell_type": "code",
     "checksum": "36a66696c2ada23fc8a061f8139bb81e",
     "grade": true,
     "grade_id": "cell-cd63d9cfcd51dd0d",
     "locked": true,
     "points": 1,
     "schema_version": 3,
     "solution": false
    }
   },
   "outputs": [],
   "source": [
    "%%tests\n",
    "\n",
    "_test.code_contains(\"ProgressBar\", \"progress\", \"display\", \"100\", \"50\")"
   ]
  },
  {
   "cell_type": "markdown",
   "metadata": {
    "deletable": false,
    "editable": false,
    "nbgrader": {
     "cell_type": "markdown",
     "checksum": "bc2f0ee367887215e47afadf3ca3d536",
     "grade": false,
     "grade_id": "cell-8da3762a3d13b163",
     "locked": true,
     "schema_version": 3,
     "solution": false
    }
   },
   "source": [
    "# Drawing Shapes With `matplotlib`"
   ]
  },
  {
   "cell_type": "code",
   "execution_count": null,
   "metadata": {
    "deletable": false,
    "editable": false,
    "nbgrader": {
     "cell_type": "code",
     "checksum": "0521d19451b9c66b03178ad44376c4c7",
     "grade": false,
     "grade_id": "cell-8fe33d3d401ad5a7",
     "locked": true,
     "schema_version": 3,
     "solution": false
    }
   },
   "outputs": [],
   "source": [
    "%video rVqMwXUJWGQ"
   ]
  },
  {
   "cell_type": "markdown",
   "metadata": {
    "deletable": false,
    "editable": false,
    "nbgrader": {
     "cell_type": "markdown",
     "checksum": "f7a5e8715d6c02ef34f411c9ace28232",
     "grade": false,
     "grade_id": "cell-161763cd3b15c160",
     "locked": true,
     "schema_version": 3,
     "solution": false
    }
   },
   "source": [
    "Summary:\n",
    "- Matplotlib offers a few graphical primitives. Examples: `plt.Circle`, `plt.Rectangle`, `plt.Line2D`\n",
    "- To make these primitives appear, get the current axes with `ax = plt.gca()` and then use `ax.add_patch` (for most shapes) or `ax.add_line` (for Line2D)."
   ]
  },
  {
   "cell_type": "code",
   "execution_count": null,
   "metadata": {},
   "outputs": [],
   "source": []
  },
  {
   "cell_type": "markdown",
   "metadata": {
    "deletable": false,
    "editable": false,
    "nbgrader": {
     "cell_type": "markdown",
     "checksum": "b8f59ad027bc400050388e679b7df3c4",
     "grade": false,
     "grade_id": "cell-2fd3903a7e6607c2",
     "locked": true,
     "schema_version": 3,
     "solution": false,
     "task": false
    }
   },
   "source": [
    "## Your Turn\n",
    "\n",
    "Use `plt.Circle` and `plt.rectangle` to try to reproduce the following image:\n",
    "<img src=\"data:image/png;base64,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\">"
   ]
  },
  {
   "cell_type": "code",
   "execution_count": null,
   "metadata": {
    "deletable": false,
    "nbgrader": {
     "cell_type": "code",
     "checksum": "10c68f9cb04e697f0e2867869489f1e2",
     "grade": false,
     "grade_id": "cell-2a9f54b8df6b2b99",
     "locked": false,
     "schema_version": 3,
     "solution": true,
     "task": false
    }
   },
   "outputs": [],
   "source": [
    "%%graded # 1 point\n",
    "\n",
    "# YOUR CODE HERE"
   ]
  },
  {
   "cell_type": "code",
   "execution_count": null,
   "metadata": {
    "deletable": false,
    "editable": false,
    "nbgrader": {
     "cell_type": "code",
     "checksum": "de01b74294a807d6e5990918e3f5b4a9",
     "grade": true,
     "grade_id": "cell-316ab0677e300da7",
     "locked": true,
     "points": 1,
     "schema_version": 3,
     "solution": false,
     "task": false
    }
   },
   "outputs": [],
   "source": [
    "%%tests\n",
    "\n",
    "_test.code_contains(\"Circle\", \"Rectangle\", \"color\", \"add_patch\")\n",
    "_test.plot_shown()"
   ]
  },
  {
   "cell_type": "markdown",
   "metadata": {
    "deletable": false,
    "editable": false,
    "nbgrader": {
     "cell_type": "markdown",
     "checksum": "ba687a51b7d001f39fd6867f6240607a",
     "grade": false,
     "grade_id": "cell-6419e58bd34c54ec",
     "locked": true,
     "schema_version": 3,
     "solution": false
    }
   },
   "source": [
    "# Additional Resources\n",
    "\n",
    "- More examples: https://matplotlib.org/examples/animation/index.html\n",
    "\n",
    "    Some of these use \"blitting\" (selective redrawing) by setting `blit=True` in `FuncAnimation`. In my testing, it's not worth the added complexity. I haven't seen much of a difference in speed."
   ]
  }
 ],
 "metadata": {
  "kernelspec": {
   "display_name": "Python 3",
   "language": "python",
   "name": "python3"
  },
  "language_info": {
   "codemirror_mode": {
    "name": "ipython",
    "version": 3
   },
   "file_extension": ".py",
   "mimetype": "text/x-python",
   "name": "python",
   "nbconvert_exporter": "python",
   "pygments_lexer": "ipython3",
   "version": "3.7.3"
  }
 },
 "nbformat": 4,
 "nbformat_minor": 4
}
