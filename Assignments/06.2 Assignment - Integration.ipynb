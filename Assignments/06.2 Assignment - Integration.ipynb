{
 "cells": [
  {
   "cell_type": "markdown",
   "metadata": {
    "slideshow": {
     "slide_type": "slide"
    }
   },
   "source": [
    "Fill in any place that says `# YOUR CODE HERE` or YOUR ANSWER HERE, as well as your name and collaborators below.\n",
    "Grading for pre-lecture assignments is all or nothing. Partial credit is available for in-class assignments and checkpoints, but **only when code is commented**."
   ]
  },
  {
   "cell_type": "code",
   "execution_count": null,
   "metadata": {},
   "outputs": [],
   "source": [
    "NAME = \"\"\n",
    "COLLABORATORS = \"\""
   ]
  },
  {
   "cell_type": "markdown",
   "metadata": {},
   "source": [
    "---"
   ]
  },
  {
   "cell_type": "code",
   "execution_count": null,
   "metadata": {
    "deletable": false,
    "editable": false,
    "nbgrader": {
     "cell_type": "code",
     "checksum": "d4e30b0fbd1e13fb2275defe7ded2659",
     "grade": false,
     "grade_id": "cell-45c54d1918c7266c",
     "locked": true,
     "schema_version": 3,
     "solution": false,
     "task": false
    }
   },
   "outputs": [],
   "source": [
    "import grading_helper as _test"
   ]
  },
  {
   "cell_type": "code",
   "execution_count": null,
   "metadata": {
    "deletable": false,
    "nbgrader": {
     "cell_type": "code",
     "checksum": "f52f9ee00d7b1d2cf86532bf8547093b",
     "grade": false,
     "grade_id": "cell-a3709483ada61392",
     "locked": false,
     "schema_version": 3,
     "solution": true,
     "task": false
    }
   },
   "outputs": [],
   "source": [
    "# Space for imports, utility functions, etc.\n",
    "\n",
    "# YOUR CODE HERE"
   ]
  },
  {
   "cell_type": "markdown",
   "metadata": {
    "deletable": false,
    "editable": false,
    "nbgrader": {
     "cell_type": "markdown",
     "checksum": "1f7775b97f3e4847e47c4c6e653b0537",
     "grade": false,
     "grade_id": "cell-bea3adcdce790636",
     "locked": true,
     "schema_version": 3,
     "solution": false,
     "task": false
    }
   },
   "source": [
    "# Circular Diffraction\n",
    "\n",
    "(Adapted from textbook exercise 5.4)\n",
    "\n",
    "Our ability to resolve detail in astronomical observations is limited by the diffraction of light in our telescopes. Light from stars can be treated effectively as coming from a point source at infinity. When\n",
    "such light, with wavelength $\\lambda$, passes through the circular aperture of a telescope (which we'll assume has a radius of 1 meter) and is focused by the telescope in the focal plane, it produces not a single dot, but a\n",
    "circular diffraction pattern consisting of central spot surrounded by a series of concentric rings. The intensity of the light in this diffraction pattern is given by\n",
    "$$I(r) = \\biggl( \\frac{J_1(kr)}{kr} \\biggr)^2\\,,$$\n",
    "where $r$ is the distance in the focal plane from the center of the diffraction pattern, $k=2\\pi/\\lambda$, and $J_1(x)$ is a Bessel function.\n",
    "\n",
    "The Bessel functions $J_m(x)$ are given by\n",
    "$$J_m(x) = \\frac{1}{\\pi} \\int_0^\\pi \\cos\\left(m\\theta - x\\sin\\theta\\right) \\,d\\theta\\,,$$\n",
    "where $m$ is a nonnegative integer and $x\\ge0$.\n",
    "\n",
    "Write a function `J(m,x)` that evaluates the integral above to calculate $J_m(x)$. Your function should be able to handle the case where `x` is an array."
   ]
  },
  {
   "cell_type": "code",
   "execution_count": null,
   "metadata": {
    "deletable": false,
    "nbgrader": {
     "cell_type": "code",
     "checksum": "f2746d0c5501f74ba22bf78f4eedc409",
     "grade": false,
     "grade_id": "cell-9ea72c7fc164ced0",
     "locked": false,
     "schema_version": 3,
     "solution": true,
     "task": false
    }
   },
   "outputs": [],
   "source": [
    "%%graded # 5 points\n",
    "\n",
    "# YOUR CODE HERE"
   ]
  },
  {
   "cell_type": "code",
   "execution_count": null,
   "metadata": {
    "deletable": false,
    "editable": false,
    "nbgrader": {
     "cell_type": "code",
     "checksum": "07e6cae9a2fef6396ab6d1856d15d390",
     "grade": true,
     "grade_id": "cell-58560a164e8c1e8e",
     "locked": true,
     "points": 5,
     "schema_version": 3,
     "solution": false,
     "task": false
    }
   },
   "outputs": [],
   "source": [
    "%%tests\n",
    "\n",
    "from scipy.special import jv as _jv # compare to library function\n",
    "\n",
    "_test.code_contains(\"jv\", forbidden=True) # no cheating!\n",
    "_test.similar(J(0,0), _jv(0,0))\n",
    "_test.similar(J(0,1), _jv(0,1))\n",
    "_test.similar(J(1,0), _jv(1,0))\n",
    "_test.similar(J(1,1), _jv(1,1))\n",
    "_test.similar(J(2,1.5), _jv(2,1.5))\n",
    "_test.similar(J(2,2.5), _jv(2,2.5))\n",
    "\n",
    "_test.similar(J(0,np.arange(5)), _jv(0,np.arange(5))) # does your function work with arrays?"
   ]
  },
  {
   "cell_type": "markdown",
   "metadata": {
    "deletable": false,
    "editable": false,
    "nbgrader": {
     "cell_type": "markdown",
     "checksum": "273e901a0c2e05d461d3220a2eaf5f81",
     "grade": false,
     "grade_id": "cell-8cbde63c2ff2f29f",
     "locked": true,
     "schema_version": 3,
     "solution": false,
     "task": false
    }
   },
   "source": [
    "Now make a density plot of the intensity of the circular diffraction pattern of a point light source with $\\lambda=0.5$ $\\mu$m, in a square region of the focal plane, using the formula given above. The plot uses values of $r$ from zero up to about $1\\,\\mu$m.\n",
    "\n",
    ">Hint: The central spot in the diffraction pattern is so bright that it may be difficult to see the rings around it on the computer screen. Setting `vmax=0.01` in your call to `imshow` will avoid this issue.\n",
    "\n",
    "Your final plot should look similar to this:\n",
    "\n",
    "<img src=\"data:image/png;base64,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\">"
   ]
  },
  {
   "cell_type": "code",
   "execution_count": null,
   "metadata": {
    "deletable": false,
    "nbgrader": {
     "cell_type": "code",
     "checksum": "e6ba88919538a2bb52a78098d66111ad",
     "grade": true,
     "grade_id": "cell-6644e5a652c9de30",
     "locked": false,
     "points": 5,
     "schema_version": 3,
     "solution": true,
     "task": false
    }
   },
   "outputs": [],
   "source": [
    "%%graded # 5 points\n",
    "\n",
    "# YOUR CODE HERE"
   ]
  }
 ],
 "metadata": {
  "kernelspec": {
   "display_name": "Python 3",
   "language": "python",
   "name": "python3"
  },
  "language_info": {
   "codemirror_mode": {
    "name": "ipython",
    "version": 3
   },
   "file_extension": ".py",
   "mimetype": "text/x-python",
   "name": "python",
   "nbconvert_exporter": "python",
   "pygments_lexer": "ipython3",
   "version": "3.7.3"
  }
 },
 "nbformat": 4,
 "nbformat_minor": 4
}
