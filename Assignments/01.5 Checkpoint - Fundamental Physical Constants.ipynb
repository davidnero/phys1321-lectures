{
 "cells": [
  {
   "cell_type": "markdown",
   "metadata": {
    "slideshow": {
     "slide_type": "slide"
    }
   },
   "source": [
    "Fill in any place that says `# YOUR CODE HERE` or YOUR ANSWER HERE, as well as your name and collaborators below.\n",
    "Grading for pre-lecture assignments is all or nothing. Partial credit is available for in-class assignments and checkpoints, but **only when code is commented**."
   ]
  },
  {
   "cell_type": "code",
   "execution_count": 1,
   "metadata": {},
   "outputs": [],
   "source": [
    "NAME = \"\"\n",
    "COLLABORATORS = \"\""
   ]
  },
  {
   "cell_type": "markdown",
   "metadata": {},
   "source": [
    "---"
   ]
  },
  {
   "cell_type": "code",
   "execution_count": 2,
   "metadata": {
    "deletable": false,
    "editable": false,
    "nbgrader": {
     "cell_type": "code",
     "checksum": "59eecb70779190de3dd2bf676989dbfe",
     "grade": false,
     "grade_id": "cell-6e3029d8d1b82d2b",
     "locked": true,
     "schema_version": 3,
     "solution": false
    }
   },
   "outputs": [],
   "source": [
    "import grading_helper as _test"
   ]
  },
  {
   "cell_type": "markdown",
   "metadata": {
    "deletable": false,
    "editable": false,
    "nbgrader": {
     "cell_type": "markdown",
     "checksum": "ce4b3e36622767fc775530869654cadc",
     "grade": false,
     "grade_id": "cell-8d876d5664b18d72",
     "locked": true,
     "schema_version": 3,
     "solution": false
    }
   },
   "source": [
    "# Fundamental Physical Constants\n",
    "\n",
    "[NIST](https://physics.nist.gov/cuu/Constants/index.html) maintains a list of the values of all known physical constants. The code bellow will load that data into a very large string called `data`. Your task is to process that data.\n",
    "\n",
    "**You are not allowed to `import` anything for this assignment.**"
   ]
  },
  {
   "cell_type": "code",
   "execution_count": 3,
   "metadata": {
    "deletable": false,
    "editable": false,
    "nbgrader": {
     "cell_type": "code",
     "checksum": "4b394eb85087537ff30ee59d7fdb9636",
     "grade": false,
     "grade_id": "cell-1d296d3ed874124d",
     "locked": true,
     "schema_version": 3,
     "solution": false
    }
   },
   "outputs": [],
   "source": [
    "# this code loads the file from the Internet and puts it into a large string named \"data\"\n",
    "import urllib.request as url\n",
    "data = url.urlopen(\"https://physics.nist.gov/cuu/Constants/Table/allascii.txt\").read()\n",
    "data = data.decode(\"utf-8\")"
   ]
  },
  {
   "cell_type": "code",
   "execution_count": 4,
   "metadata": {
    "deletable": false,
    "editable": false,
    "nbgrader": {
     "cell_type": "code",
     "checksum": "e997ab804ae85998ede8b41b5e2d06d1",
     "grade": false,
     "grade_id": "cell-1ef07501c5e1f9db",
     "locked": true,
     "schema_version": 3,
     "solution": false
    }
   },
   "outputs": [],
   "source": [
    "# run this cell if you want to save a copy of the file to look at\n",
    "with open(\"allascii.txt\", \"w\") as file:\n",
    "    file.write(data)"
   ]
  },
  {
   "cell_type": "markdown",
   "metadata": {
    "deletable": false,
    "editable": false,
    "nbgrader": {
     "cell_type": "markdown",
     "checksum": "58a90c15cca5c6d80686a3b937988d25",
     "grade": false,
     "grade_id": "cell-77931d44e8865c38",
     "locked": true,
     "schema_version": 3,
     "solution": false
    }
   },
   "source": [
    "Write a program that finds the physical constant with the largest fractional uncertainty (Uncertainty divided by Value). Print the name (Quantity) of that constant, along with its fractional uncertainty."
   ]
  },
  {
   "cell_type": "code",
   "execution_count": 5,
   "metadata": {
    "deletable": false,
    "nbgrader": {
     "cell_type": "code",
     "checksum": "c28e2266a1adce9644307a2edb670b2d",
     "grade": true,
     "grade_id": "cell-61b84349a91438c7",
     "locked": false,
     "points": 20,
     "schema_version": 3,
     "solution": true
    }
   },
   "outputs": [
    {
     "data": {
      "text/html": [
       "<img src onerror=\"var cell = this.closest('.jp-CodeCell');if (cell) {    var input_area = cell.querySelector('.jp-Editor');} else {    var cell = this.closest('.cell');    var input_area = cell.querySelector('.input_area');}input_area.style.background='lavender';this.parentNode.removeChild(this);\">"
      ],
      "text/plain": [
       "<IPython.core.display.HTML object>"
      ]
     },
     "metadata": {},
     "output_type": "display_data"
    }
   ],
   "source": [
    "%%graded # 20 points\n",
    "\n",
    "# YOUR CODE HERE"
   ]
  }
 ],
 "metadata": {
  "kernelspec": {
   "display_name": "Python 3",
   "language": "python",
   "name": "python3"
  },
  "language_info": {
   "codemirror_mode": {
    "name": "ipython",
    "version": 3
   },
   "file_extension": ".py",
   "mimetype": "text/x-python",
   "name": "python",
   "nbconvert_exporter": "python",
   "pygments_lexer": "ipython3",
   "version": "3.7.3"
  }
 },
 "nbformat": 4,
 "nbformat_minor": 4
}
