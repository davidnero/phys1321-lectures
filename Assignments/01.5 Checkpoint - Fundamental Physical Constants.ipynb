{
 "cells": [
  {
   "cell_type": "markdown",
   "metadata": {
    "slideshow": {
     "slide_type": "slide"
    }
   },
   "source": [
    "Grading for pre-lecture questions is all or nothing. Partial credit is available for in-class assignments and checkpoints. Partial credit will primarily be determined by the quality of the comments you make in your code. Tell me what you intend the code to do. If there are no comments, there is no partial credit!"
   ]
  },
  {
   "cell_type": "code",
   "execution_count": null,
   "metadata": {},
   "outputs": [],
   "source": [
    "NAME = \"\"\n",
    "COLLABORATORS = \"\""
   ]
  },
  {
   "cell_type": "markdown",
   "metadata": {},
   "source": [
    "---"
   ]
  },
  {
   "cell_type": "code",
   "execution_count": null,
   "metadata": {
    "deletable": false,
    "editable": false,
    "nbgrader": {
     "cell_type": "code",
     "checksum": "7b2de44ff123f4dfb3ae9fbddd8307d6",
     "grade": false,
     "grade_id": "cell-6e3029d8d1b82d2b",
     "locked": true,
     "schema_version": 3,
     "solution": false
    }
   },
   "outputs": [],
   "source": [
    "import grading_helper as _test\n"
   ]
  },
  {
   "cell_type": "markdown",
   "metadata": {
    "deletable": false,
    "editable": false,
    "nbgrader": {
     "cell_type": "markdown",
     "checksum": "ce4b3e36622767fc775530869654cadc",
     "grade": false,
     "grade_id": "cell-8d876d5664b18d72",
     "locked": true,
     "schema_version": 3,
     "solution": false
    }
   },
   "source": [
    "# Fundamental Physical Constants\n",
    "\n",
    "[NIST](https://physics.nist.gov/cuu/Constants/index.html) maintains a list of the values of all known physical constants. The code bellow will load that data into a very large string called `data`. Your task is to process that data.\n",
    "\n",
    "**You are not allowed to `import` anything for this assignment.**"
   ]
  },
  {
   "cell_type": "code",
   "execution_count": null,
   "metadata": {
    "deletable": false,
    "editable": false,
    "nbgrader": {
     "cell_type": "code",
     "checksum": "ff9646da4e465380bb90659aa5b55720",
     "grade": false,
     "grade_id": "cell-1d296d3ed874124d",
     "locked": true,
     "schema_version": 3,
     "solution": false
    }
   },
   "outputs": [],
   "source": [
    "# this code loads the file from the Internet and puts it into a large string named \"data\"\n",
    "# I suggest opening the downloaded file to see how it's formatted.\n",
    "%download https://physics.nist.gov/cuu/Constants/Table/allascii.txt\n",
    "\n",
    "with open(\"allascii.txt\") as f:\n",
    "    data = f.read()"
   ]
  },
  {
   "cell_type": "markdown",
   "metadata": {
    "deletable": false,
    "editable": false,
    "nbgrader": {
     "cell_type": "markdown",
     "checksum": "5afb420e76e37291110c75932b686973",
     "grade": false,
     "grade_id": "cell-77931d44e8865c38",
     "locked": true,
     "schema_version": 3,
     "solution": false
    }
   },
   "source": [
    "Write a program that finds the physical constant with the largest fractional uncertainty (Uncertainty divided by Value). Print the name (Quantity) of that constant, along with its fractional uncertainty.\n",
    "\n",
    ">Hint: Think about how you can use string methods to extract the information you want from each line of the file."
   ]
  },
  {
   "cell_type": "code",
   "execution_count": null,
   "metadata": {
    "deletable": false,
    "nbgrader": {
     "cell_type": "code",
     "checksum": "c28e2266a1adce9644307a2edb670b2d",
     "grade": true,
     "grade_id": "cell-61b84349a91438c7",
     "locked": false,
     "points": 20,
     "schema_version": 3,
     "solution": true,
     "task": false
    }
   },
   "outputs": [],
   "source": [
    "%%graded # 20 points\n",
    "\n",
    "# YOUR CODE HERE"
   ]
  }
 ],
 "metadata": {
  "kernelspec": {
   "display_name": "Python 3 (ipykernel)",
   "language": "python",
   "name": "python3"
  },
  "language_info": {
   "codemirror_mode": {
    "name": "ipython",
    "version": 3
   },
   "file_extension": ".py",
   "mimetype": "text/x-python",
   "name": "python",
   "nbconvert_exporter": "python",
   "pygments_lexer": "ipython3",
   "version": "3.10.5"
  }
 },
 "nbformat": 4,
 "nbformat_minor": 4
}
