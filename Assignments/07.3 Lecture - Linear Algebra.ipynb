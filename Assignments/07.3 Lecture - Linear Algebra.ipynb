{
 "cells": [
  {
   "cell_type": "markdown",
   "metadata": {
    "slideshow": {
     "slide_type": "slide"
    }
   },
   "source": [
    "Fill in any place that says `# YOUR CODE HERE` or YOUR ANSWER HERE, as well as your name and collaborators below.\n",
    "Grading for pre-lecture assignments is all or nothing. Partial credit is available for in-class assignments and checkpoints, but **only when code is commented**."
   ]
  },
  {
   "cell_type": "code",
   "execution_count": null,
   "metadata": {},
   "outputs": [],
   "source": [
    "NAME = \"\"\n",
    "COLLABORATORS = \"\""
   ]
  },
  {
   "cell_type": "markdown",
   "metadata": {},
   "source": [
    "---"
   ]
  },
  {
   "cell_type": "markdown",
   "metadata": {
    "deletable": false,
    "editable": false,
    "nbgrader": {
     "cell_type": "markdown",
     "checksum": "0d52b13bf867ca8cc475a2c28683f79a",
     "grade": false,
     "grade_id": "cell-ec0c8f83ffb0d9c7",
     "locked": true,
     "schema_version": 3,
     "solution": false
    }
   },
   "source": [
    "# Learning Objectives\n",
    "\n",
    "This lecture will show you how to:\n",
    "1. Quickly solve tridiagonal and banded matrices\n",
    "2. Use Python for linear algebra\n",
    "3. Find the eigenvalues and eigenvectors of a matrix"
   ]
  },
  {
   "cell_type": "code",
   "execution_count": null,
   "metadata": {
    "deletable": false,
    "editable": false,
    "nbgrader": {
     "cell_type": "code",
     "checksum": "7479e5dd83ce8026fd6e518959c4ff31",
     "grade": false,
     "grade_id": "cell-abd1b2cca923116d",
     "locked": true,
     "schema_version": 3,
     "solution": false
    }
   },
   "outputs": [],
   "source": [
    "# imports\n",
    "import numpy as np\n",
    "import matplotlib.pyplot as plt\n",
    "\n",
    "from scipy import linalg\n",
    "\n",
    "import grading_helper as _test"
   ]
  },
  {
   "cell_type": "markdown",
   "metadata": {
    "deletable": false,
    "editable": false,
    "nbgrader": {
     "cell_type": "markdown",
     "checksum": "445994d96ba8cc29ddc7768d74a10191",
     "grade": false,
     "grade_id": "cell-12b43295a0f000dd",
     "locked": true,
     "schema_version": 3,
     "solution": false
    }
   },
   "source": [
    "# Tridiagonal and Banded Matrices"
   ]
  },
  {
   "cell_type": "code",
   "execution_count": null,
   "metadata": {
    "deletable": false,
    "editable": false,
    "nbgrader": {
     "cell_type": "code",
     "checksum": "3a85f7682ff7bb7d33936793034d6cb2",
     "grade": false,
     "grade_id": "cell-e9692b2c91e495dc",
     "locked": true,
     "schema_version": 3,
     "solution": false
    }
   },
   "outputs": [],
   "source": [
    "%video vML2n4ffd08"
   ]
  },
  {
   "cell_type": "markdown",
   "metadata": {
    "deletable": false,
    "editable": false,
    "nbgrader": {
     "cell_type": "markdown",
     "checksum": "4dd169e295b5de3ae9fac5dc2b206f94",
     "grade": false,
     "grade_id": "cell-ef2de58511545032",
     "locked": true,
     "schema_version": 3,
     "solution": false
    }
   },
   "source": [
    "Summary:\n",
    "\n",
    "- Some physical systems may have many elements whose behavior only depends on their immediate neighbors. These situations lead to a system of equations where most of the coefficients are zero.\n",
    "- **Tridiagonal matrix**:\n",
    "$$A = \\begin{pmatrix}a_{00}&a_{01}&&&\\\\a_{10}&a_{11}&a_{12}&&\\\\&a_{21}&a_{22}&a_{23}&\\\\&&\\ddots&\\ddots&\\ddots\\end{pmatrix}\\,,$$\n",
    "where the blank element are understood to be zero. The large number of zeros means that we can employ more efficient routines (so we can solve larger matrices in reasonable time).\n",
    "- A **banded matrix** is a more general case: the only nonzero elements lie along a diagonal band.\n",
    "- The function we'll use is `scipy.linalg.solve_banded`. This function is a bit tricky to use. You need to provide the banded matrix in a special format."
   ]
  },
  {
   "cell_type": "code",
   "execution_count": null,
   "metadata": {},
   "outputs": [],
   "source": []
  },
  {
   "cell_type": "markdown",
   "metadata": {
    "deletable": false,
    "editable": false,
    "nbgrader": {
     "cell_type": "markdown",
     "checksum": "ea6f1e81319d9ad516a181fe523146d6",
     "grade": false,
     "grade_id": "cell-e97e11861c0dcf51",
     "locked": true,
     "schema_version": 3,
     "solution": false
    }
   },
   "source": [
    "## Your Turn\n",
    "\n",
    "Use `solve_banded` to solve the equations\n",
    "$$4a+b=2$$\n",
    "$$a+8b+2c=0$$\n",
    "$$2b+8c+d=2$$\n",
    "$$c+8d+2e=1$$\n",
    "$$2d+4e=1$$\n",
    "Store the result in variables named `a`, `b`, `c`, `d`, and `e`."
   ]
  },
  {
   "cell_type": "code",
   "execution_count": null,
   "metadata": {
    "deletable": false,
    "nbgrader": {
     "cell_type": "code",
     "checksum": "c9636558184ba63bff40e075a218fab7",
     "grade": false,
     "grade_id": "cell-35ad44336baecb36",
     "locked": false,
     "schema_version": 3,
     "solution": true
    }
   },
   "outputs": [],
   "source": [
    "%%graded # 2 points\n",
    "\n",
    "# YOUR CODE HERE"
   ]
  },
  {
   "cell_type": "code",
   "execution_count": null,
   "metadata": {
    "deletable": false,
    "editable": false,
    "nbgrader": {
     "cell_type": "code",
     "checksum": "73c5d76cd04ccf037f75def57f6e3003",
     "grade": true,
     "grade_id": "cell-da8b5d94fab34508",
     "locked": true,
     "points": 2,
     "schema_version": 3,
     "solution": false
    }
   },
   "outputs": [],
   "source": [
    "%%tests\n",
    "\n",
    "_test.code_contains(\"solve_banded\")\n",
    "_test.similar(a, 0.534)\n",
    "_test.similar(b, -0.137)\n",
    "_test.similar(c, 0.280)\n",
    "_test.similar(d, 0.0314)\n",
    "_test.similar(e, 0.234)"
   ]
  },
  {
   "cell_type": "markdown",
   "metadata": {
    "deletable": false,
    "editable": false,
    "nbgrader": {
     "cell_type": "markdown",
     "checksum": "b9e9b8e37de85569053a0bf85ed985fc",
     "grade": false,
     "grade_id": "cell-c3979e64ecb0f78e",
     "locked": true,
     "schema_version": 3,
     "solution": false
    }
   },
   "source": [
    "# Linear Algebra With Python"
   ]
  },
  {
   "cell_type": "code",
   "execution_count": null,
   "metadata": {
    "deletable": false,
    "editable": false,
    "nbgrader": {
     "cell_type": "code",
     "checksum": "d2ea503d19d7d136ecfe2fa04c19380d",
     "grade": false,
     "grade_id": "cell-e55d933eef813232",
     "locked": true,
     "schema_version": 3,
     "solution": false
    }
   },
   "outputs": [],
   "source": [
    "%video T_t5jlu0f2o"
   ]
  },
  {
   "cell_type": "markdown",
   "metadata": {
    "deletable": false,
    "editable": false,
    "nbgrader": {
     "cell_type": "markdown",
     "checksum": "802c3d649342559bd9c694cbdb0b321b",
     "grade": false,
     "grade_id": "cell-3fc428fa4e7fa976",
     "locked": true,
     "schema_version": 3,
     "solution": false
    }
   },
   "source": [
    "Summary:\n",
    "\n",
    "- Matrices can be represented as 2-D numpy arrays.\n",
    "- `A @ B` is the matrix multiplication of $\\mathbf{A}$ and $\\mathbf{B}$.\n",
    "- `A.T` is the transpose of $\\mathbf{A}$.\n",
    "- `np.identity(size)` is a (size) $\\times$ (size) identity matrix.\n",
    "- `linalg.norm(v)` is the magnitude, `linalg.det(A)` is the determinate, and `linalg.inv(A)` is the inverse.\n",
    "- For the inverse, beware of (nearly) singular matrices. You can get nonsense results. Check by calculating the **conditional number**. Use `np.linalg.cond(A)` (here you have to use numpy's version of `linalg`). Large values are bad news."
   ]
  },
  {
   "cell_type": "code",
   "execution_count": null,
   "metadata": {},
   "outputs": [],
   "source": []
  },
  {
   "cell_type": "markdown",
   "metadata": {
    "deletable": false,
    "editable": false,
    "nbgrader": {
     "cell_type": "markdown",
     "checksum": "9492205ae7567d52abbcbdf015245a43",
     "grade": false,
     "grade_id": "cell-8360e4f212a6ff6b",
     "locked": true,
     "schema_version": 3,
     "solution": false
    }
   },
   "source": [
    "## Your Turn\n",
    "\n",
    "Calculate the inverse of\n",
    "$$\\mathbf{A} = \\begin{pmatrix}1 & 4 & 8 & 4 \\\\ 4 & 2 & 3 & 7 \\\\ 8 & 3 & 6 & 9 \\\\ 4 & 7 & 9 & 2\\end{pmatrix}\\,.$$Store the result in a variable named `A_inv`."
   ]
  },
  {
   "cell_type": "code",
   "execution_count": null,
   "metadata": {
    "deletable": false,
    "nbgrader": {
     "cell_type": "code",
     "checksum": "c7e8ea9e5e4a23f92e0d73fe3a5e922d",
     "grade": false,
     "grade_id": "cell-f379c1cb575251f8",
     "locked": false,
     "schema_version": 3,
     "solution": true
    }
   },
   "outputs": [],
   "source": [
    "%%graded # 1 points\n",
    "\n",
    "# YOUR CODE HERE"
   ]
  },
  {
   "cell_type": "code",
   "execution_count": null,
   "metadata": {
    "deletable": false,
    "editable": false,
    "nbgrader": {
     "cell_type": "code",
     "checksum": "a69f7d41164e636a26d23c42f32b06f4",
     "grade": true,
     "grade_id": "cell-59ddbd886466efc5",
     "locked": true,
     "points": 1,
     "schema_version": 3,
     "solution": false
    }
   },
   "outputs": [],
   "source": [
    "%%tests\n",
    "\n",
    "_test.similar(A @ A_inv, np.identity(4)) # is A times its inverse the identiy matrix?"
   ]
  },
  {
   "cell_type": "markdown",
   "metadata": {
    "deletable": false,
    "editable": false,
    "nbgrader": {
     "cell_type": "markdown",
     "checksum": "ea151ef81faa9da700a9339a666c062f",
     "grade": false,
     "grade_id": "cell-816be27c799e9a5e",
     "locked": true,
     "schema_version": 3,
     "solution": false
    }
   },
   "source": [
    "# Eigenvalues and Eigenvectors"
   ]
  },
  {
   "cell_type": "code",
   "execution_count": null,
   "metadata": {
    "deletable": false,
    "editable": false,
    "nbgrader": {
     "cell_type": "code",
     "checksum": "5c41b7f9a2559942aad593bf710c7b46",
     "grade": false,
     "grade_id": "cell-938a3475f0b78917",
     "locked": true,
     "schema_version": 3,
     "solution": false
    }
   },
   "outputs": [],
   "source": [
    "%video zc_HhawlBLY"
   ]
  },
  {
   "cell_type": "markdown",
   "metadata": {
    "deletable": false,
    "editable": false,
    "nbgrader": {
     "cell_type": "markdown",
     "checksum": "c4557c641d2ae3c3f309b6e9ebc4fb07",
     "grade": false,
     "grade_id": "cell-3b9c0f7fca8fa09f",
     "locked": true,
     "schema_version": 3,
     "solution": false
    }
   },
   "source": [
    "Summary:\n",
    "\n",
    "- In physics, a square matrix can often be thought of a **transformation**. Geometrical examples of these transformations are scaling, rotation, and reflection.\n",
    "- For any given matrix $\\mathbf{A}$, there are some special values for $\\mathbf{x}$ that transform into themselves times a constant:\n",
    "$$\\mathbf{Ax} = \\lambda\\mathbf{x}\\,.$$\n",
    "These values of $\\mathbf{x}$ are called the **eigenvectors** of $\\mathbf{A}$, where $\\lambda$ is called an **eigenvalue**. An $N\\times N$ matrix has $N$ eigenvalues and eigenvectors.\n",
    "- The technique for finding these eigenvalues and eigenvectors is called **QR decomposition**. This technique is employed by`scipy.linalg.eigh(A)`\n",
    "- `scipy.linalg.eigvals(A)` is a lot faster, but only finds the eigenvalues."
   ]
  },
  {
   "cell_type": "code",
   "execution_count": null,
   "metadata": {},
   "outputs": [],
   "source": []
  },
  {
   "cell_type": "markdown",
   "metadata": {
    "deletable": false,
    "editable": false,
    "nbgrader": {
     "cell_type": "markdown",
     "checksum": "9b8fc3c16fd73d18b218d20583e455bf",
     "grade": false,
     "grade_id": "cell-ee75c910cc1dccc4",
     "locked": true,
     "schema_version": 3,
     "solution": false
    }
   },
   "source": [
    "## Your Turn\n",
    "\n",
    "Print the eigenvalues of\n",
    "$$\\mathbf{A} = \\begin{pmatrix}1 & 4 & 8 & 4 \\\\ 4 & 2 & 3 & 7 \\\\ 8 & 3 & 6 & 9 \\\\ 4 & 7 & 9 & 2\\end{pmatrix}\\,.$$ (Note that in this case, the eigenvalues are all integers, so your code should print the values to the **nearest** integer.)"
   ]
  },
  {
   "cell_type": "code",
   "execution_count": null,
   "metadata": {
    "deletable": false,
    "nbgrader": {
     "cell_type": "code",
     "checksum": "26f02434add65933f44fb71dc563c003",
     "grade": false,
     "grade_id": "cell-c85222addd195fd0",
     "locked": false,
     "schema_version": 3,
     "solution": true
    }
   },
   "outputs": [],
   "source": [
    "%%graded # 2 points\n",
    "\n",
    "# YOUR CODE HERE"
   ]
  },
  {
   "cell_type": "code",
   "execution_count": null,
   "metadata": {
    "deletable": false,
    "editable": false,
    "nbgrader": {
     "cell_type": "code",
     "checksum": "1c5f2135e8065228de3bd28f523367e1",
     "grade": true,
     "grade_id": "cell-66bb15c80b0dc98c",
     "locked": true,
     "points": 2,
     "schema_version": 3,
     "solution": false
    }
   },
   "outputs": [],
   "source": [
    "%%tests\n",
    "\n",
    "_test.printed(\"-8\", \"-3\", \"1\", \"21\")"
   ]
  },
  {
   "cell_type": "markdown",
   "metadata": {
    "deletable": false,
    "editable": false,
    "nbgrader": {
     "cell_type": "markdown",
     "checksum": "a04b2f837c8c5f53f4ebff12af40e269",
     "grade": false,
     "grade_id": "cell-1ae60099cab3bd92",
     "locked": true,
     "schema_version": 3,
     "solution": false
    }
   },
   "source": [
    "# Additional Resources\n",
    "\n",
    "- Textbook section 6.1 and 6.2\n",
    "- See exercise 6.8 for a walk through of QR decomposition.\n",
    "\n",
    "Both NumPy and SciPy have a `linalg` module. In general, you should use SciPy's version, because it contains more functions and runs faster. The one exception is that you need to use NumPy's version if you need to calculate a conditional number."
   ]
  }
 ],
 "metadata": {
  "kernelspec": {
   "display_name": "Python 3",
   "language": "python",
   "name": "python3"
  },
  "language_info": {
   "codemirror_mode": {
    "name": "ipython",
    "version": 3
   },
   "file_extension": ".py",
   "mimetype": "text/x-python",
   "name": "python",
   "nbconvert_exporter": "python",
   "pygments_lexer": "ipython3",
   "version": "3.7.3"
  }
 },
 "nbformat": 4,
 "nbformat_minor": 4
}
