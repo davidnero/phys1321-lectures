{
 "cells": [
  {
   "cell_type": "markdown",
   "metadata": {
    "slideshow": {
     "slide_type": "slide"
    }
   },
   "source": [
    "Grading for pre-lecture questions is all or nothing. Partial credit is available for in-class assignments and checkpoints. Partial credit will primarily be determined by the quality of the comments you make in your code. Tell me what you intend the code to do. If there are no comments, there is no partial credit!"
   ]
  },
  {
   "cell_type": "code",
   "execution_count": null,
   "metadata": {},
   "outputs": [],
   "source": [
    "NAME = \"\"\n",
    "COLLABORATORS = \"\""
   ]
  },
  {
   "cell_type": "markdown",
   "metadata": {},
   "source": [
    "---"
   ]
  },
  {
   "cell_type": "code",
   "execution_count": null,
   "metadata": {
    "deletable": false,
    "editable": false,
    "nbgrader": {
     "cell_type": "code",
     "checksum": "14c7707c84c9dfe05872fe35000d4cd8",
     "grade": false,
     "grade_id": "cell-57638ce6ca068ac1",
     "locked": true,
     "schema_version": 3,
     "solution": false
    }
   },
   "outputs": [],
   "source": [
    "import grading_helper as _test"
   ]
  },
  {
   "cell_type": "markdown",
   "metadata": {
    "deletable": false,
    "editable": false,
    "nbgrader": {
     "cell_type": "markdown",
     "checksum": "a0328fa76afe52099a1d13f6910917ac",
     "grade": false,
     "grade_id": "cell-c3a0f2cad7899159",
     "locked": true,
     "schema_version": 3,
     "solution": false
    }
   },
   "source": [
    "# Planetary orbits\n",
    "\n",
    "(Adapted from textbook exercise 2.6)\n",
    "\n",
    "The orbit in space of one body around another, such as a planet around the Sun, need not be circular. In general it takes the form of an ellipse, with the body sometimes closer in and sometimes further out. If you are given the distance $\\ell_1$ of closest approach that a planet makes to the Sun, also called its *perihelion*, and its linear velocity $v_1$ at perihelion (which is also it's maximum velocity), then any other property of the orbit can be calculated from these two as follows:\n",
    "\n",
    "Kepler's second law tells us that the distance $\\ell_2$ and velocity $v_2$ of the planet at its most distant point, or *aphelion*, satisfy $\\ell_2 v_2 = \\ell_1 v_1$. At the same time, the total energy&mdash;kinetic plus gravitational&mdash;of a planet with velocity $v$ and distance $r$ from the Sun is given by\n",
    "$$E = \\frac12 m v^2 - G \\frac{mM}{r}\\,,$$\n",
    "where $m$ is the planet's mass, $M=1.9891\\times10^{30}$ kg is the mass of the sun, and $G=6.6738\\times10^{-11}$ m$^3$kg$^{-1}$s$^{-2}$ is Newton's gravitational constant. Given that energy must be conserved, it turns out that $v_2$ is the smaller root of the quadratic equation\n",
    "$$v_2^2 - \\frac{2GM}{v_1\\ell_1} v_2 - \\left[ v_1^2 - \\frac{2GM}{\\ell_1}\\right] = 0\\,.$$\n",
    "Once we have $v_2$ we can calculate $\\ell_2$ using the relation $\\ell_2 = \\ell_1 v_1/v_2$.\n",
    "\n",
    "Given the values of $v_1$, $\\ell_1$, and $\\ell_2$, other parameters of the orbit are given by simple formulas can that be derived from Kepler's laws and the fact that the orbit is an ellipse:\n",
    "\n",
    ">Semi-major axis: $a = \\frac12(\\ell_1+\\ell_2)\\,,$\n",
    ">\n",
    ">Semi-minor axis: $b = \\sqrt{\\ell_1\\ell_2}\\,,$\n",
    ">\n",
    ">Orbital period: $T = \\displaystyle{\\frac{2\\pi ab}{\\ell_1 v_1}}\\,,$\n",
    ">\n",
    ">Orbital eccentricity: $e = \\displaystyle{\\frac{\\ell_2-\\ell_1}{\\ell_2+\\ell_1}}\\,.$\n",
    "\n",
    "For the eight planets in the solar system, the perihelion distance and perihelion velocity (maximum velocity) are given below. \n",
    "\n",
    "| Planet | Perihelion ($10^6$ km) | Max Velocity (km/s) |\n",
    "|:-|:-:|:-:|\n",
    "| Mercury | 46.00 | 58.98 |\n",
    "| Venus | 107.48 | 35.26 |\n",
    "| Earth | 147.09 | 30.29 |\n",
    "| Mars | 206.62 | 26.50 |\n",
    "| Jupiter | 740.52 | 13.72 |\n",
    "| Saturn | 1352.55 | 10.18 |\n",
    "| Uranus | 2741.30 | 7.11 |\n",
    "| Neptune | 4444.45 | 5.50 |\n",
    "\n",
    "Create a file named `orbits.txt` that contains the following columns, with eight rows corresponding to the eight planets:\n",
    "1. The planet's name\n",
    "2. $\\ell_1$ (in AU, where 1 AU is the average Earth-Sun distance = $a_\\mathrm{Earth}$)\n",
    "3. $\\ell_2$ (in AU)\n",
    "4. $v_1$ (in km/s)\n",
    "5. $v_2$ (in km/s)\n",
    "6. $a$ (in AU)\n",
    "7. $b$ (in AU)\n",
    "8. $T$ (in years)\n",
    "9. $e$\n",
    "\n",
    "The file should be nicely formatted with a reasonable number of decimal places, and should include a heading.\n",
    "\n",
    "**Be careful with units!**"
   ]
  },
  {
   "cell_type": "code",
   "execution_count": null,
   "metadata": {
    "deletable": false,
    "nbgrader": {
     "cell_type": "code",
     "checksum": "70f37c75a9cd90875c8552b1beaea6e5",
     "grade": true,
     "grade_id": "cell-add6124442586040",
     "locked": false,
     "points": 20,
     "schema_version": 3,
     "solution": true
    }
   },
   "outputs": [],
   "source": [
    "%%graded # 20 points\n",
    "\n",
    "# YOUR CODE HERE"
   ]
  },
  {
   "cell_type": "code",
   "execution_count": null,
   "metadata": {
    "deletable": false,
    "editable": false,
    "nbgrader": {
     "cell_type": "code",
     "checksum": "33028127b9bab77e525c4242629ce1a1",
     "grade": false,
     "grade_id": "cell-a02fcab47417f199",
     "locked": true,
     "schema_version": 3,
     "solution": false
    }
   },
   "outputs": [],
   "source": [
    "# print file for grading\n",
    "with open(\"orbits.txt\") as file:\n",
    "    print(file.read())"
   ]
  }
 ],
 "metadata": {
  "kernelspec": {
   "display_name": "Python 3 (ipykernel)",
   "language": "python",
   "name": "python3"
  },
  "language_info": {
   "codemirror_mode": {
    "name": "ipython",
    "version": 3
   },
   "file_extension": ".py",
   "mimetype": "text/x-python",
   "name": "python",
   "nbconvert_exporter": "python",
   "pygments_lexer": "ipython3",
   "version": "3.10.5"
  }
 },
 "nbformat": 4,
 "nbformat_minor": 4
}
