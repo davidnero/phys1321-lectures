{
 "cells": [
  {
   "cell_type": "markdown",
   "metadata": {
    "slideshow": {
     "slide_type": "slide"
    }
   },
   "source": [
    "Grading for pre-lecture questions is all or nothing. Partial credit is available for in-class assignments and checkpoints. Partial credit will primarily be determined by the quality of the comments you make in your code. Tell me what you intend the code to do. If there are no comments, there is no partial credit!"
   ]
  },
  {
   "cell_type": "code",
   "execution_count": null,
   "metadata": {},
   "outputs": [],
   "source": [
    "NAME = \"\"\n",
    "COLLABORATORS = \"\""
   ]
  },
  {
   "cell_type": "markdown",
   "metadata": {},
   "source": [
    "---"
   ]
  },
  {
   "cell_type": "markdown",
   "metadata": {
    "deletable": false,
    "editable": false,
    "nbgrader": {
     "cell_type": "markdown",
     "checksum": "26f06a62b858ebc8aecede8f1bc279b9",
     "grade": false,
     "grade_id": "cell-ec0c8f83ffb0d9c7",
     "locked": true,
     "schema_version": 3,
     "solution": false
    }
   },
   "source": [
    "# Learning Objectives\n",
    "\n",
    "This lecture will show you how to:\n",
    "1. Use the `assert` statement\n",
    "2. Identify the types of errors that can occur\n",
    "3. Quickly identify syntax errors\n",
    "4. Locate the source of crashes\n",
    "5. Troubleshoot misbehaving code"
   ]
  },
  {
   "cell_type": "code",
   "execution_count": null,
   "metadata": {
    "deletable": false,
    "editable": false,
    "nbgrader": {
     "cell_type": "code",
     "checksum": "03a39950b10d380bac59c72781c00306",
     "grade": false,
     "grade_id": "cell-abd1b2cca923116d",
     "locked": true,
     "schema_version": 3,
     "solution": false
    }
   },
   "outputs": [],
   "source": [
    "# imports\n",
    "import grading_helper as _test"
   ]
  },
  {
   "cell_type": "markdown",
   "metadata": {
    "deletable": false,
    "editable": false,
    "nbgrader": {
     "cell_type": "markdown",
     "checksum": "eb97e153219d6d5566c041cd2df7b1a0",
     "grade": false,
     "grade_id": "cell-12b43295a0f000dd",
     "locked": true,
     "schema_version": 3,
     "solution": false
    }
   },
   "source": [
    "# The `assert`  Statement"
   ]
  },
  {
   "cell_type": "code",
   "execution_count": null,
   "metadata": {
    "deletable": false,
    "editable": false,
    "nbgrader": {
     "cell_type": "code",
     "checksum": "48d2002c7a9662f5ee907a66a60f3f2d",
     "grade": false,
     "grade_id": "cell-e9692b2c91e495dc",
     "locked": true,
     "schema_version": 3,
     "solution": false
    }
   },
   "outputs": [],
   "source": [
    "%video LaYzAk2PBYI"
   ]
  },
  {
   "cell_type": "markdown",
   "metadata": {
    "deletable": false,
    "editable": false,
    "nbgrader": {
     "cell_type": "markdown",
     "checksum": "72937c643fc307ad6edad225f8cfbf8a",
     "grade": false,
     "grade_id": "cell-ef2de58511545032",
     "locked": true,
     "schema_version": 3,
     "solution": false
    }
   },
   "source": [
    "Summary:\n",
    "\n",
    "- Usage: `assert <condition>, <optional error message>`\n",
    "- Used to test your code during development."
   ]
  },
  {
   "cell_type": "code",
   "execution_count": null,
   "metadata": {},
   "outputs": [],
   "source": []
  },
  {
   "cell_type": "markdown",
   "metadata": {
    "deletable": false,
    "editable": false,
    "nbgrader": {
     "cell_type": "markdown",
     "checksum": "9331db5988bf108198f686e13428f192",
     "grade": false,
     "grade_id": "cell-c3979e64ecb0f78e",
     "locked": true,
     "schema_version": 3,
     "solution": false
    }
   },
   "source": [
    "# How Code Fails"
   ]
  },
  {
   "cell_type": "code",
   "execution_count": null,
   "metadata": {
    "deletable": false,
    "editable": false,
    "nbgrader": {
     "cell_type": "code",
     "checksum": "23126c5e22fa3f82d91fab25e19439cb",
     "grade": false,
     "grade_id": "cell-e55d933eef813232",
     "locked": true,
     "schema_version": 3,
     "solution": false
    }
   },
   "outputs": [],
   "source": [
    "%video V9EM9se0rFY"
   ]
  },
  {
   "cell_type": "markdown",
   "metadata": {
    "deletable": false,
    "editable": false,
    "nbgrader": {
     "cell_type": "markdown",
     "checksum": "785b4f3202859704fe0c163eb3f268af",
     "grade": false,
     "grade_id": "cell-3fc428fa4e7fa976",
     "locked": true,
     "schema_version": 3,
     "solution": false
    }
   },
   "source": [
    "Summary:\n",
    "\n",
    "- When you get a **traceback**:\n",
    "    1. Start at the bottom.\n",
    "    2. Read the error message.\n",
    "    3. Find the line in your code that has the bug.\n",
    "\n",
    "\n",
    "- There are three major types of error (from easiest to deal with to hardest):\n",
    "    \n",
    "    1. Syntax errors that stop the code from being run\n",
    "    2. Exceptions that crash the code\n",
    "    3. Bugs that don't cause a crash"
   ]
  },
  {
   "cell_type": "code",
   "execution_count": null,
   "metadata": {},
   "outputs": [],
   "source": []
  },
  {
   "cell_type": "markdown",
   "metadata": {
    "deletable": false,
    "editable": false,
    "nbgrader": {
     "cell_type": "markdown",
     "checksum": "c5186b29ef8a09c9a8022b71631daf0b",
     "grade": false,
     "grade_id": "cell-816be27c799e9a5e",
     "locked": true,
     "schema_version": 3,
     "solution": false
    }
   },
   "source": [
    "# Syntax Errors\n",
    "\n",
    "Update: Starting with version 3.10, Python has can identify the exact location of most syntax errors, making them much easier to fix. You'll still see the behavior in the video if you run an older version of Python, so it's good to be aware of it."
   ]
  },
  {
   "cell_type": "code",
   "execution_count": null,
   "metadata": {
    "deletable": false,
    "editable": false,
    "nbgrader": {
     "cell_type": "code",
     "checksum": "a91cd4cc4511e01be596bdf70caa94b6",
     "grade": false,
     "grade_id": "cell-938a3475f0b78917",
     "locked": true,
     "schema_version": 3,
     "solution": false
    }
   },
   "outputs": [],
   "source": [
    "%video PI8Fp-kng5k"
   ]
  },
  {
   "cell_type": "markdown",
   "metadata": {
    "deletable": false,
    "editable": false,
    "nbgrader": {
     "cell_type": "markdown",
     "checksum": "c9eb1f5a1d098e849bcab45dd26ce803",
     "grade": false,
     "grade_id": "cell-3b9c0f7fca8fa09f",
     "locked": true,
     "schema_version": 3,
     "solution": false
    }
   },
   "source": [
    "Summary:\n",
    "\n",
    "- Named `SyntaxError`, `IndentationError` or `TabError`.\n",
    "- These errors are caused by typing something wrong. Your code hasn't even run yet when these are caught.\n",
    "- The error is either the thing marked with the `^` in the traceback, or else it's the last thing before the `^`."
   ]
  },
  {
   "cell_type": "code",
   "execution_count": null,
   "metadata": {},
   "outputs": [],
   "source": []
  },
  {
   "cell_type": "markdown",
   "metadata": {
    "deletable": false,
    "editable": false,
    "nbgrader": {
     "cell_type": "markdown",
     "checksum": "ed5f77e788dcd62a61215ca83e3f348c",
     "grade": false,
     "grade_id": "cell-ee75c910cc1dccc4",
     "locked": true,
     "schema_version": 3,
     "solution": false
    }
   },
   "source": [
    "## Your Turn\n",
    "\n",
    "Find and correct the two syntax errors in the following code."
   ]
  },
  {
   "cell_type": "code",
   "execution_count": null,
   "metadata": {},
   "outputs": [],
   "source": [
    "%%graded # 1 point\n",
    "\n",
    "func ordered(x, y, z):\n",
    "    if x < y < z:\n",
    "        return True\n",
    "    \n",
    "x, y, z = 1, 2, 3\n",
    "    \n",
    "if ordered(x, y, z)\n",
    "    print(\"Success!\")"
   ]
  },
  {
   "cell_type": "code",
   "execution_count": null,
   "metadata": {
    "deletable": false,
    "editable": false,
    "nbgrader": {
     "cell_type": "code",
     "checksum": "ee7c12223eac2436bb18cff07c397661",
     "grade": true,
     "grade_id": "cell-66bb15c80b0dc98c",
     "locked": true,
     "points": 2,
     "schema_version": 3,
     "solution": false
    }
   },
   "outputs": [],
   "source": [
    "%%tests\n",
    "\n",
    "_test.printed(\"Success!\")\n",
    "_test.equal(ordered(x, y, z), True)"
   ]
  },
  {
   "cell_type": "markdown",
   "metadata": {
    "deletable": false,
    "editable": false,
    "nbgrader": {
     "cell_type": "markdown",
     "checksum": "1c1b54c81bd18c7723ad7e0956717dbe",
     "grade": false,
     "grade_id": "cell-16b57a5632c4e751",
     "locked": true,
     "schema_version": 3,
     "solution": false
    }
   },
   "source": [
    "# Exceptions"
   ]
  },
  {
   "cell_type": "code",
   "execution_count": null,
   "metadata": {
    "deletable": false,
    "editable": false,
    "nbgrader": {
     "cell_type": "code",
     "checksum": "fdee82b0779b8b3164cb50c5419f0a75",
     "grade": false,
     "grade_id": "cell-18bbfb7ab00216f5",
     "locked": true,
     "schema_version": 3,
     "solution": false
    }
   },
   "outputs": [],
   "source": [
    "%video gpk_Sm1gzjA"
   ]
  },
  {
   "cell_type": "markdown",
   "metadata": {
    "deletable": false,
    "editable": false,
    "nbgrader": {
     "cell_type": "markdown",
     "checksum": "1ee0f8fa7dea08e96a1da6375a0dc623",
     "grade": false,
     "grade_id": "cell-7f0a5507cd851d0f",
     "locked": true,
     "schema_version": 3,
     "solution": false
    }
   },
   "source": [
    "Summary:\n",
    "\n",
    "- These tell you what went wrong. If you don't understand the message, try googling it.\n",
    "- Sometimes the error is actually somewhere else in your code, but things don't break until later. Look at the full traceback. If the traceback includes code from library functions or imported modules, the error is almost never there. Assume it's something you wrote.\n",
    "- Use `print` or `assert` to investigate what your code is doing."
   ]
  },
  {
   "cell_type": "code",
   "execution_count": null,
   "metadata": {},
   "outputs": [],
   "source": []
  },
  {
   "cell_type": "markdown",
   "metadata": {
    "deletable": false,
    "editable": false,
    "nbgrader": {
     "cell_type": "markdown",
     "checksum": "0d01868445a5f1040f5808ea8a07dd53",
     "grade": false,
     "grade_id": "cell-a8c84ec831f2471a",
     "locked": true,
     "schema_version": 3,
     "solution": false
    }
   },
   "source": [
    "## Your Turn\n",
    "\n",
    "Find and correct the error that causes the following code to crash."
   ]
  },
  {
   "cell_type": "code",
   "execution_count": null,
   "metadata": {},
   "outputs": [],
   "source": [
    "%%graded # 2 points\n",
    "\n",
    "L1 = [1, 2, 3, 4, 5]\n",
    "L2 = []\n",
    "\n",
    "for i in L1:\n",
    "    L2.append(1/i) # L2 should be [1, 1/2, 1/3, 1/4, 1/5]\n",
    "\n",
    "L2 = L2.reverse() # L2 should be [1/5, 1/4, 1/3, 1/2, 1]\n",
    "if 1/2 in L2:\n",
    "    print(\"Success!\")"
   ]
  },
  {
   "cell_type": "code",
   "execution_count": null,
   "metadata": {
    "deletable": false,
    "editable": false,
    "nbgrader": {
     "cell_type": "code",
     "checksum": "e0f7b10da11b78c5f2e0fc9dbcc4c931",
     "grade": true,
     "grade_id": "cell-dd348913c3df22d2",
     "locked": true,
     "points": 3,
     "schema_version": 3,
     "solution": false
    }
   },
   "outputs": [],
   "source": [
    "%%tests\n",
    "\n",
    "_test.printed(\"Success!\")\n",
    "_test.equal(L2, [1/5, 1/4, 1/3, 1/2, 1])"
   ]
  },
  {
   "cell_type": "markdown",
   "metadata": {
    "deletable": false,
    "editable": false,
    "nbgrader": {
     "cell_type": "markdown",
     "checksum": "f98221be8dee5d733f9d70a7e7cb3e55",
     "grade": false,
     "grade_id": "cell-f7a84d03ea41c766",
     "locked": true,
     "schema_version": 3,
     "solution": false
    }
   },
   "source": [
    "# Bugs"
   ]
  },
  {
   "cell_type": "code",
   "execution_count": null,
   "metadata": {
    "deletable": false,
    "editable": false,
    "nbgrader": {
     "cell_type": "code",
     "checksum": "7f29098f92b5e1741a7c9ee0fe024811",
     "grade": false,
     "grade_id": "cell-ba2346e698dcc615",
     "locked": true,
     "schema_version": 3,
     "solution": false
    }
   },
   "outputs": [],
   "source": [
    "%video lbWytJS0OhM"
   ]
  },
  {
   "cell_type": "markdown",
   "metadata": {
    "deletable": false,
    "editable": false,
    "nbgrader": {
     "cell_type": "markdown",
     "checksum": "f1e606e6dd2ee6d597d4198d927c7414",
     "grade": false,
     "grade_id": "cell-1695aaf2ccc1da8d",
     "locked": true,
     "schema_version": 3,
     "solution": false
    }
   },
   "source": [
    "Summary:\n",
    "\n",
    "- The worst errors are the ones where your code works, but the results aren't what you expect.\n",
    "- Computers always do *exactly* what you tell them to do.\n",
    "- Use `print` or `assert` to investigate what your code is doing.\n",
    "- Try to write a minimal example of code that misbehaves.\n",
    "- Try to rewrite your code in a different way."
   ]
  },
  {
   "cell_type": "code",
   "execution_count": null,
   "metadata": {},
   "outputs": [],
   "source": []
  },
  {
   "cell_type": "markdown",
   "metadata": {
    "deletable": false,
    "editable": false,
    "nbgrader": {
     "cell_type": "markdown",
     "checksum": "6c6a0ee53ca6c6400172aceab0e90f79",
     "grade": false,
     "grade_id": "cell-1ae60099cab3bd92",
     "locked": true,
     "schema_version": 3,
     "solution": false
    }
   },
   "source": [
    "# Additional Resources\n",
    "\n",
    "- Starting with version 3.0, Jupyterlab has a built-in debugger (click on the bug icon on the top right, next to where it says `Python 3 (ipykernel)` The full use of a debugger is beyond the scope of this lecture, but feel free to play around with it. I think the \"Variables\" tab is pretty handy.\n",
    "- Stack Overflow: https://stackoverflow.com/questions/tagged/python\n",
    "- LearnPython subreddit: https://www.reddit.com/r/learnpython/"
   ]
  }
 ],
 "metadata": {
  "kernelspec": {
   "display_name": "Python 3 (ipykernel)",
   "language": "python",
   "name": "python3"
  },
  "language_info": {
   "codemirror_mode": {
    "name": "ipython",
    "version": 3
   },
   "file_extension": ".py",
   "mimetype": "text/x-python",
   "name": "python",
   "nbconvert_exporter": "python",
   "pygments_lexer": "ipython3",
   "version": "3.10.5"
  }
 },
 "nbformat": 4,
 "nbformat_minor": 4
}
