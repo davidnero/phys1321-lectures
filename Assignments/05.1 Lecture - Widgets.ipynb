{
 "cells": [
  {
   "cell_type": "markdown",
   "metadata": {
    "slideshow": {
     "slide_type": "slide"
    }
   },
   "source": [
    "Fill in any place that says `# YOUR CODE HERE` or YOUR ANSWER HERE, as well as your name and collaborators below.\n",
    "Grading for pre-lecture assignments is all or nothing. Partial credit is available for in-class assignments and checkpoints, but **only when code is commented**."
   ]
  },
  {
   "cell_type": "code",
   "execution_count": null,
   "metadata": {},
   "outputs": [],
   "source": [
    "NAME = \"\"\n",
    "COLLABORATORS = \"\""
   ]
  },
  {
   "cell_type": "markdown",
   "metadata": {},
   "source": [
    "---"
   ]
  },
  {
   "cell_type": "markdown",
   "metadata": {
    "deletable": false,
    "editable": false,
    "nbgrader": {
     "cell_type": "markdown",
     "checksum": "81de796416747709f44457f5bd0acb9d",
     "grade": false,
     "grade_id": "cell-0ace592735c97afd",
     "locked": true,
     "schema_version": 3,
     "solution": false
    }
   },
   "source": [
    "# Learning Objectives\n",
    "\n",
    "This lecture will show you how to:\n",
    "1. Create sliders and other widgets\n",
    "2. Customize the appearance and behavior of widgets\n",
    "3. Use container widgets to build a Graphical User Interface (GUI)"
   ]
  },
  {
   "cell_type": "code",
   "execution_count": null,
   "metadata": {
    "deletable": false,
    "editable": false,
    "nbgrader": {
     "cell_type": "code",
     "checksum": "59a1a634c252595291e4c7bd376c4506",
     "grade": false,
     "grade_id": "cell-abd1b2cca923116d",
     "locked": true,
     "schema_version": 3,
     "solution": false
    }
   },
   "outputs": [],
   "source": [
    "# imports\n",
    "import numpy as np\n",
    "import matplotlib.pyplot as plt\n",
    "\n",
    "import ipywidgets as widgets # widgets that run when the notebook is live\n",
    "from IPython import display # display.display() is used to draw the widgets\n",
    "\n",
    "import grading_helper as _test"
   ]
  },
  {
   "cell_type": "markdown",
   "metadata": {
    "deletable": false,
    "editable": false,
    "nbgrader": {
     "cell_type": "markdown",
     "checksum": "a81ffe38c06f24833123458a5b213cb0",
     "grade": false,
     "grade_id": "cell-e2542f1e037a7a13",
     "locked": true,
     "schema_version": 3,
     "solution": false
    }
   },
   "source": [
    "# Simple Widgets"
   ]
  },
  {
   "cell_type": "code",
   "execution_count": null,
   "metadata": {
    "deletable": false,
    "editable": false,
    "nbgrader": {
     "cell_type": "code",
     "checksum": "83ddb8e877dc9192aae3b0ecf7b010a2",
     "grade": false,
     "grade_id": "cell-3e1adb3781236df0",
     "locked": true,
     "schema_version": 3,
     "solution": false
    }
   },
   "outputs": [],
   "source": [
    "%video TFfF3ulSIuU"
   ]
  },
  {
   "cell_type": "markdown",
   "metadata": {
    "deletable": false,
    "editable": false,
    "nbgrader": {
     "cell_type": "markdown",
     "checksum": "aeae8fd53b1689d4adc1c33c9314b822",
     "grade": false,
     "grade_id": "cell-e2542f1e037a7a14",
     "locked": true,
     "schema_version": 3,
     "solution": false
    }
   },
   "source": [
    "Summary:\n",
    "- Use `widgets.interactive` to connect one or more widgets (usually sliders) to each argument of a function.\n",
    "- Call `display` to show the widget and its output. You can do this in a different cell."
   ]
  },
  {
   "cell_type": "code",
   "execution_count": null,
   "metadata": {},
   "outputs": [],
   "source": []
  },
  {
   "cell_type": "markdown",
   "metadata": {
    "deletable": false,
    "editable": false,
    "nbgrader": {
     "cell_type": "markdown",
     "checksum": "ac88a5829d98271d4c4444c64bb25b62",
     "grade": false,
     "grade_id": "cell-4d5dd8920080e674",
     "locked": true,
     "schema_version": 3,
     "solution": false
    }
   },
   "source": [
    "## Your Turn\n",
    "\n",
    "Use `interactive` to connect a `IntSlider` to the function `powers_of_two` below. Name the interactive object `gui` (like in the video), and show the widget using `display.display`.\n",
    "\n",
    "> **Important:** For autograding to work (in any assignment), you must display widgets with an explicit call to `display.display`."
   ]
  },
  {
   "cell_type": "code",
   "execution_count": null,
   "metadata": {
    "deletable": false,
    "editable": false,
    "nbgrader": {
     "cell_type": "code",
     "checksum": "37102d6345e82e68246ce66f4a2e2d6a",
     "grade": false,
     "grade_id": "cell-6f986a9c00e72b61",
     "locked": true,
     "schema_version": 3,
     "solution": false
    }
   },
   "outputs": [],
   "source": [
    "def powers_of_two(n):\n",
    "    \"\"\"Print the nth power of 2\"\"\"\n",
    "    print(f\"2^{n} = {2**n}\")"
   ]
  },
  {
   "cell_type": "code",
   "execution_count": null,
   "metadata": {
    "deletable": false,
    "nbgrader": {
     "cell_type": "code",
     "checksum": "63dd1781e1ce3e67aac74d6face61d5b",
     "grade": false,
     "grade_id": "cell-4b9e392447b94fb5",
     "locked": false,
     "schema_version": 3,
     "solution": true
    }
   },
   "outputs": [],
   "source": [
    "%%graded # 2 points\n",
    "\n",
    "# YOUR CODE HERE"
   ]
  },
  {
   "cell_type": "code",
   "execution_count": null,
   "metadata": {
    "deletable": false,
    "editable": false,
    "nbgrader": {
     "cell_type": "code",
     "checksum": "ec909df4e572fc18ccfca7a5e3eb1419",
     "grade": true,
     "grade_id": "cell-d6eed339bfcc55cb",
     "locked": true,
     "points": 2,
     "schema_version": 3,
     "solution": false
    }
   },
   "outputs": [],
   "source": [
    "%%tests\n",
    "\n",
    "_test.code_contains(\"interactive\", \"powers_of_two\", \"display.display\", \"gui\")\n",
    "_test.widget_snapshot() # print a text description of the widget that will survive when the notebook isn't live\n",
    "_test.widget_has(\"IntSlider\", \"Output\") # check that these widgets exist"
   ]
  },
  {
   "cell_type": "markdown",
   "metadata": {
    "deletable": false,
    "editable": false,
    "nbgrader": {
     "cell_type": "markdown",
     "checksum": "ed79545c5917da2cadb4f0649c2e2f76",
     "grade": false,
     "grade_id": "cell-95238e3a02ff852d",
     "locked": true,
     "schema_version": 3,
     "solution": false
    }
   },
   "source": [
    "# Customizing Widgets"
   ]
  },
  {
   "cell_type": "code",
   "execution_count": null,
   "metadata": {},
   "outputs": [],
   "source": [
    "%video judT3RO8MYs"
   ]
  },
  {
   "cell_type": "markdown",
   "metadata": {
    "deletable": false,
    "editable": false,
    "nbgrader": {
     "cell_type": "markdown",
     "checksum": "6ee8eef1b1feba3ef660e22718ccf447",
     "grade": false,
     "grade_id": "cell-5a29017df3fbd834",
     "locked": true,
     "schema_version": 3,
     "solution": false
    }
   },
   "source": [
    "Summary:\n",
    "- Sliders can be customized with a `min`, `max`, `step`, and starting `value`\n",
    "- You can label widgets by setting the `description` argument.\n",
    "- Update lag can avoid that by adding the argument `continuous_update=False`\n",
    "\n",
    "See https://ipywidgets.readthedocs.io/en/stable/examples/Widget%20List.html for a list of widgets and their available arguments."
   ]
  },
  {
   "cell_type": "markdown",
   "metadata": {
    "deletable": false,
    "editable": false,
    "nbgrader": {
     "cell_type": "markdown",
     "checksum": "8b7bbfbead0528c864ba05562fb5da3b",
     "grade": false,
     "grade_id": "cell-3cbc586b7dc272ad",
     "locked": true,
     "schema_version": 3,
     "solution": false
    }
   },
   "source": [
    "## Your Turn\n",
    "\n",
    "Make a graph of $\\sin(nx)$ for $-10\\le x\\le 10$, where $n$ is a floating point number between 1 and 5 in steps 0.2 set by a `FloatSlider`."
   ]
  },
  {
   "cell_type": "code",
   "execution_count": null,
   "metadata": {
    "deletable": false,
    "nbgrader": {
     "cell_type": "code",
     "checksum": "7f839104ac3b3bf2e647532a26773946",
     "grade": false,
     "grade_id": "cell-ba4307ca428933fa",
     "locked": false,
     "schema_version": 3,
     "solution": true
    }
   },
   "outputs": [],
   "source": [
    "%%graded # 1 point\n",
    "\n",
    "x = np.linspace(-10, 10, 200)\n",
    "\n",
    "def graph(n):\n",
    "    plt.plot(x, np.sin(n*x))\n",
    "    plt.show()\n",
    "    \n",
    "# create your slider here\n",
    "# YOUR CODE HERE\n",
    "\n",
    "sin_gui = widgets.interactive(graph, n=s)\n",
    "display.display(sin_gui)"
   ]
  },
  {
   "cell_type": "code",
   "execution_count": null,
   "metadata": {
    "deletable": false,
    "editable": false,
    "nbgrader": {
     "cell_type": "code",
     "checksum": "1446d6d6529f5deaf4404930023260d7",
     "grade": true,
     "grade_id": "cell-4d643dc04b39e690",
     "locked": true,
     "points": 1,
     "schema_version": 3,
     "solution": false
    }
   },
   "outputs": [],
   "source": [
    "%%tests\n",
    "\n",
    "_test.code_contains(\"display\")\n",
    "_test.widget_snapshot()\n",
    "_test.widget_has(\"FloatSlider\", \"max=5.0\", \"min=1.0\", \"step=0.2\")\n",
    "_test.plot_shown()"
   ]
  },
  {
   "cell_type": "markdown",
   "metadata": {
    "deletable": false,
    "editable": false,
    "nbgrader": {
     "cell_type": "markdown",
     "checksum": "f9a5cbe1d295f150a2cd3c8d4ce5e270",
     "grade": false,
     "grade_id": "cell-830305f99033ea1c",
     "locked": true,
     "schema_version": 3,
     "solution": false
    }
   },
   "source": [
    "# Container Widgets"
   ]
  },
  {
   "cell_type": "code",
   "execution_count": null,
   "metadata": {
    "deletable": false,
    "editable": false,
    "nbgrader": {
     "cell_type": "code",
     "checksum": "e18638dbbf459fee6e57b6eebad8d171",
     "grade": false,
     "grade_id": "cell-fd2146e4d1348db7",
     "locked": true,
     "schema_version": 3,
     "solution": false
    }
   },
   "outputs": [],
   "source": [
    "%video QhdyzIufMMM"
   ]
  },
  {
   "cell_type": "markdown",
   "metadata": {
    "deletable": false,
    "editable": false,
    "nbgrader": {
     "cell_type": "markdown",
     "checksum": "f91df3886c102ba9367d121edac2876e",
     "grade": false,
     "grade_id": "cell-8e502d4b46ab82d3",
     "locked": true,
     "schema_version": 3,
     "solution": false
    }
   },
   "source": [
    "Summary:\n",
    "- You can put widgets inside special layout widgets to control where they are drawn.\n",
    "- The basic building blocks are `widgets.HBox` and `widgets.VBox`\n",
    "- Output can be captured as a widget using `widgets.interactive_output` in place of `widgets.interactive`"
   ]
  },
  {
   "cell_type": "code",
   "execution_count": null,
   "metadata": {},
   "outputs": [],
   "source": []
  },
  {
   "attachments": {
    "image.png": {
     "image/png": "[encoded data removed]"
    }
   },
   "cell_type": "markdown",
   "metadata": {
    "deletable": false,
    "editable": false,
    "nbgrader": {
     "cell_type": "markdown",
     "checksum": "e31f27c656494573cc61589bd3f2bf6a",
     "grade": false,
     "grade_id": "cell-9b12f67c7faac919",
     "locked": true,
     "schema_version": 3,
     "solution": false
    }
   },
   "source": [
    "## Your Turn\n",
    "\n",
    "Use `HBox` and `VBox` and the code below to create the following layout:\n",
    "\n",
    "<img src=attachment:image.png width=500>"
   ]
  },
  {
   "cell_type": "code",
   "execution_count": null,
   "metadata": {
    "deletable": false,
    "nbgrader": {
     "cell_type": "code",
     "checksum": "823a7ef26b795c11d0038d5b714f495b",
     "grade": false,
     "grade_id": "cell-0739970a63afc78b",
     "locked": false,
     "schema_version": 3,
     "solution": true
    }
   },
   "outputs": [],
   "source": [
    "%%graded # 2 points\n",
    "\n",
    "t = np.linspace(0, 2*np.pi, 200)\n",
    "\n",
    "def parametric_plot(x, y):\n",
    "    plt.plot(np.cos(x*t), np.sin(y*t))\n",
    "    plt.axis(\"scaled\")\n",
    "    plt.show()\n",
    "    \n",
    "x_slider = widgets.IntSlider(min=1, max=10, description=\"x\")\n",
    "y_slider = widgets.IntSlider(min=1, max=10, description=\"y\")\n",
    "arg_dict = dict(x=x_slider, y=y_slider)\n",
    "out = widgets.interactive_output(parametric_plot, arg_dict)\n",
    "\n",
    "# Use HBox and VBox to place the sliders and plot\n",
    "# don't forget to display the final result\n",
    "# YOUR CODE HERE"
   ]
  },
  {
   "cell_type": "code",
   "execution_count": null,
   "metadata": {
    "deletable": false,
    "editable": false,
    "nbgrader": {
     "cell_type": "code",
     "checksum": "b535034eaee2e9fbc6ed7c12a6c0841f",
     "grade": true,
     "grade_id": "cell-36c07d4a6b42a0ec",
     "locked": true,
     "points": 2,
     "schema_version": 3,
     "solution": false
    }
   },
   "outputs": [],
   "source": [
    "%%tests\n",
    "\n",
    "_test.code_contains(\"HBox\", \"VBox\", \"display\")\n",
    "_test.widget_snapshot()\n",
    "_test.widget_has(\"HBox\", \"VBox\", \"IntSlider\", \"Output\")\n",
    "_test.plot_shown()"
   ]
  },
  {
   "cell_type": "markdown",
   "metadata": {},
   "source": [
    "# Additional Resources\n",
    "\n",
    "- Official documentation for `ipywidgets` https://ipywidgets.readthedocs.io/en/stable/index.html\n",
    "- Check out [Voila](https://voila.readthedocs.io/en/latest/index.html). It's a new project that lets you turn notebooks into web applications."
   ]
  }
 ],
 "metadata": {
  "kernelspec": {
   "display_name": "Python 3",
   "language": "python",
   "name": "python3"
  },
  "language_info": {
   "codemirror_mode": {
    "name": "ipython",
    "version": 3
   },
   "file_extension": ".py",
   "mimetype": "text/x-python",
   "name": "python",
   "nbconvert_exporter": "python",
   "pygments_lexer": "ipython3",
   "version": "3.7.3"
  }
 },
 "nbformat": 4,
 "nbformat_minor": 4
}
