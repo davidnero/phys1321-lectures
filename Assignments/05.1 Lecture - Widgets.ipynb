{
 "cells": [
  {
   "cell_type": "markdown",
   "metadata": {
    "slideshow": {
     "slide_type": "slide"
    }
   },
   "source": [
    "Grading for pre-lecture questions is all or nothing. Partial credit is available for in-class assignments and checkpoints. Partial credit will primarily be determined by the quality of the comments you make in your code. Tell me what you intend the code to do. If there are no comments, there is no partial credit!"
   ]
  },
  {
   "cell_type": "code",
   "execution_count": null,
   "metadata": {},
   "outputs": [],
   "source": [
    "NAME = \"\"\n",
    "COLLABORATORS = \"\""
   ]
  },
  {
   "cell_type": "markdown",
   "metadata": {},
   "source": [
    "---"
   ]
  },
  {
   "cell_type": "markdown",
   "metadata": {
    "deletable": false,
    "editable": false,
    "nbgrader": {
     "cell_type": "markdown",
     "checksum": "81de796416747709f44457f5bd0acb9d",
     "grade": false,
     "grade_id": "cell-0ace592735c97afd",
     "locked": true,
     "schema_version": 3,
     "solution": false
    }
   },
   "source": [
    "# Learning Objectives\n",
    "\n",
    "This lecture will show you how to:\n",
    "1. Create sliders and other widgets\n",
    "2. Customize the appearance and behavior of widgets\n",
    "3. Use container widgets to build a Graphical User Interface (GUI)"
   ]
  },
  {
   "cell_type": "code",
   "execution_count": null,
   "metadata": {
    "deletable": false,
    "editable": false,
    "nbgrader": {
     "cell_type": "code",
     "checksum": "59a1a634c252595291e4c7bd376c4506",
     "grade": false,
     "grade_id": "cell-abd1b2cca923116d",
     "locked": true,
     "schema_version": 3,
     "solution": false
    }
   },
   "outputs": [],
   "source": [
    "# imports\n",
    "import numpy as np\n",
    "import matplotlib.pyplot as plt\n",
    "\n",
    "import ipywidgets as widgets # widgets that run when the notebook is live\n",
    "from IPython import display # display.display() is used to draw the widgets\n",
    "\n",
    "import grading_helper as _test"
   ]
  },
  {
   "cell_type": "markdown",
   "metadata": {
    "deletable": false,
    "editable": false,
    "nbgrader": {
     "cell_type": "markdown",
     "checksum": "a81ffe38c06f24833123458a5b213cb0",
     "grade": false,
     "grade_id": "cell-e2542f1e037a7a13",
     "locked": true,
     "schema_version": 3,
     "solution": false
    }
   },
   "source": [
    "# Simple Widgets"
   ]
  },
  {
   "cell_type": "code",
   "execution_count": null,
   "metadata": {
    "deletable": false,
    "editable": false,
    "nbgrader": {
     "cell_type": "code",
     "checksum": "83ddb8e877dc9192aae3b0ecf7b010a2",
     "grade": false,
     "grade_id": "cell-3e1adb3781236df0",
     "locked": true,
     "schema_version": 3,
     "solution": false
    }
   },
   "outputs": [],
   "source": [
    "%video TFfF3ulSIuU"
   ]
  },
  {
   "cell_type": "markdown",
   "metadata": {
    "deletable": false,
    "editable": false,
    "nbgrader": {
     "cell_type": "markdown",
     "checksum": "e4806c6bf28737da007dd442e1426ff7",
     "grade": false,
     "grade_id": "cell-e2542f1e037a7a14",
     "locked": true,
     "schema_version": 3,
     "solution": false
    }
   },
   "source": [
    "Summary:\n",
    "- Use `widgets.interactive` to connect one or more widgets (e.g. sliders) to each argument of a function.\n",
    "- Call `display` to show the widget and its output. You can even do this in a different cell."
   ]
  },
  {
   "cell_type": "code",
   "execution_count": null,
   "metadata": {},
   "outputs": [],
   "source": []
  },
  {
   "cell_type": "markdown",
   "metadata": {
    "deletable": false,
    "editable": false,
    "nbgrader": {
     "cell_type": "markdown",
     "checksum": "0ef446870b3d1c7872430a65b4c95dda",
     "grade": false,
     "grade_id": "cell-4d5dd8920080e674",
     "locked": true,
     "schema_version": 3,
     "solution": false
    }
   },
   "source": [
    "## Your Turn\n",
    "\n",
    "Use `interactive` to connect an `IntSlider` to the function `powers_of_two` below.\n",
    "\n",
    "> **Important:** For autograding to work (in any assignment), you must display widgets with an explicit call to `display.display`."
   ]
  },
  {
   "cell_type": "code",
   "execution_count": null,
   "metadata": {
    "deletable": false,
    "editable": false,
    "nbgrader": {
     "cell_type": "code",
     "checksum": "37102d6345e82e68246ce66f4a2e2d6a",
     "grade": false,
     "grade_id": "cell-6f986a9c00e72b61",
     "locked": true,
     "schema_version": 3,
     "solution": false
    }
   },
   "outputs": [],
   "source": [
    "def powers_of_two(n):\n",
    "    \"\"\"Print the nth power of 2\"\"\"\n",
    "    print(f\"2^{n} = {2**n}\")"
   ]
  },
  {
   "cell_type": "code",
   "execution_count": null,
   "metadata": {
    "deletable": false,
    "nbgrader": {
     "cell_type": "code",
     "checksum": "63dd1781e1ce3e67aac74d6face61d5b",
     "grade": false,
     "grade_id": "cell-4b9e392447b94fb5",
     "locked": false,
     "schema_version": 3,
     "solution": true
    }
   },
   "outputs": [],
   "source": [
    "%%graded # 2 points\n",
    "\n",
    "# YOUR CODE HERE"
   ]
  },
  {
   "cell_type": "code",
   "execution_count": null,
   "metadata": {
    "deletable": false,
    "editable": false,
    "nbgrader": {
     "cell_type": "code",
     "checksum": "4cedcb3d24d2d1baf6b5dae2e42749a8",
     "grade": true,
     "grade_id": "cell-d6eed339bfcc55cb",
     "locked": true,
     "points": 2,
     "schema_version": 3,
     "solution": false
    }
   },
   "outputs": [],
   "source": [
    "%%tests\n",
    "\n",
    "_test.code_contains(\"interactive\", \"powers_of_two\", \"display.display\")\n",
    "_test.widget_has(\"IntSlider\", \"Output\") # check that these widgets exist"
   ]
  },
  {
   "cell_type": "markdown",
   "metadata": {
    "deletable": false,
    "editable": false,
    "nbgrader": {
     "cell_type": "markdown",
     "checksum": "cde6006baf70e67a349c18c455fecb02",
     "grade": false,
     "grade_id": "cell-95238e3a02ff852d",
     "locked": true,
     "schema_version": 3,
     "solution": false
    }
   },
   "source": [
    "# Customizing Widgets\n",
    "\n",
    "Update: It's no longer necessary to call plt.show() when using widgets to create a plot."
   ]
  },
  {
   "cell_type": "code",
   "execution_count": null,
   "metadata": {},
   "outputs": [],
   "source": [
    "%video judT3RO8MYs"
   ]
  },
  {
   "cell_type": "markdown",
   "metadata": {
    "deletable": false,
    "editable": false,
    "nbgrader": {
     "cell_type": "markdown",
     "checksum": "f57eef29dbca7254094ace107d7b0a3c",
     "grade": false,
     "grade_id": "cell-5a29017df3fbd834",
     "locked": true,
     "schema_version": 3,
     "solution": false
    }
   },
   "source": [
    "Summary:\n",
    "- Sliders can be customized with a `min`, `max`, `step`, and starting `value`\n",
    "- You can label widgets by setting the `description` argument.\n",
    "- If using the widget is laggy, add `continuous_update=False`\n",
    "\n",
    "See https://ipywidgets.readthedocs.io/en/stable/examples/Widget%20List.html for a list of widgets and their available arguments."
   ]
  },
  {
   "cell_type": "code",
   "execution_count": null,
   "metadata": {},
   "outputs": [],
   "source": []
  },
  {
   "cell_type": "markdown",
   "metadata": {
    "deletable": false,
    "editable": false,
    "nbgrader": {
     "cell_type": "markdown",
     "checksum": "8b7bbfbead0528c864ba05562fb5da3b",
     "grade": false,
     "grade_id": "cell-3cbc586b7dc272ad",
     "locked": true,
     "schema_version": 3,
     "solution": false
    }
   },
   "source": [
    "## Your Turn\n",
    "\n",
    "Make a graph of $\\sin(nx)$ for $-10\\le x\\le 10$, where $n$ is a floating point number between 1 and 5 in steps 0.2 set by a `FloatSlider`."
   ]
  },
  {
   "cell_type": "code",
   "execution_count": null,
   "metadata": {
    "deletable": false,
    "nbgrader": {
     "cell_type": "code",
     "checksum": "02066ebd7e11c690fe852f1f9083a022",
     "grade": false,
     "grade_id": "cell-ba4307ca428933fa",
     "locked": false,
     "schema_version": 3,
     "solution": true
    }
   },
   "outputs": [],
   "source": [
    "%%graded # 1 point\n",
    "\n",
    "x = np.linspace(-10, 10, 200)\n",
    "\n",
    "def graph(n):\n",
    "    plt.plot(x, np.sin(n*x))\n",
    "    \n",
    "# create your slider here\n",
    "# YOUR CODE HERE\n",
    "\n",
    "sin_gui = widgets.interactive(graph, n=s)\n",
    "display.display(sin_gui)"
   ]
  },
  {
   "cell_type": "code",
   "execution_count": null,
   "metadata": {
    "deletable": false,
    "editable": false,
    "nbgrader": {
     "cell_type": "code",
     "checksum": "dfcc15a42ed21023bf4fd1414de175d4",
     "grade": true,
     "grade_id": "cell-4d643dc04b39e690",
     "locked": true,
     "points": 1,
     "schema_version": 3,
     "solution": false
    }
   },
   "outputs": [],
   "source": [
    "%%tests\n",
    "\n",
    "_test.code_contains(\"FloatSlider\", \"display.display\")\n",
    "_test.widget_has(\"FloatSlider\", \"Figure\", \"max=5.0\", \"min=1.0\", \"step=0.2\")"
   ]
  },
  {
   "cell_type": "markdown",
   "metadata": {
    "deletable": false,
    "editable": false,
    "nbgrader": {
     "cell_type": "markdown",
     "checksum": "f9a5cbe1d295f150a2cd3c8d4ce5e270",
     "grade": false,
     "grade_id": "cell-830305f99033ea1c",
     "locked": true,
     "schema_version": 3,
     "solution": false
    }
   },
   "source": [
    "# Container Widgets"
   ]
  },
  {
   "cell_type": "code",
   "execution_count": null,
   "metadata": {
    "deletable": false,
    "editable": false,
    "nbgrader": {
     "cell_type": "code",
     "checksum": "e18638dbbf459fee6e57b6eebad8d171",
     "grade": false,
     "grade_id": "cell-fd2146e4d1348db7",
     "locked": true,
     "schema_version": 3,
     "solution": false
    }
   },
   "outputs": [],
   "source": [
    "%video QhdyzIufMMM"
   ]
  },
  {
   "cell_type": "markdown",
   "metadata": {
    "deletable": false,
    "editable": false,
    "nbgrader": {
     "cell_type": "markdown",
     "checksum": "f91df3886c102ba9367d121edac2876e",
     "grade": false,
     "grade_id": "cell-8e502d4b46ab82d3",
     "locked": true,
     "schema_version": 3,
     "solution": false
    }
   },
   "source": [
    "Summary:\n",
    "- You can put widgets inside special layout widgets to control where they are drawn.\n",
    "- The basic building blocks are `widgets.HBox` and `widgets.VBox`\n",
    "- Output can be captured as a widget using `widgets.interactive_output` in place of `widgets.interactive`"
   ]
  },
  {
   "cell_type": "code",
   "execution_count": null,
   "metadata": {},
   "outputs": [],
   "source": []
  },
  {
   "attachments": {},
   "cell_type": "markdown",
   "metadata": {
    "deletable": false,
    "editable": false,
    "nbgrader": {
     "cell_type": "markdown",
     "checksum": "2abb90243546318fa1e8eebe1d208d74",
     "grade": false,
     "grade_id": "cell-9b12f67c7faac919",
     "locked": true,
     "schema_version": 3,
     "solution": false
    }
   },
   "source": [
    "## Your Turn\n",
    "\n",
    "Use `HBox`, `VBox` and the code below to create the following layout:\n",
    "\n",
    "<img width=500 src=\"data:image/png;base64,iVBORw0KGgoAAAANSUhEUgAAAfUAAADjCAYAAACcsI0jAAAAAXNSR0IArs4c6QAAAARnQU1BAACxjwv8YQUAAAAJcEhZcwAADsMAAA7DAcdvqGQAAJ7gSURBVHhe7Z0HgB1Hla7PvXMnKwcrZ8mWbEvOAeeEc8brNSaaXWBhSfsWWMI+WHjwSA+WZTEGvASTbHDOAUdZOMqWZUuWZSvnnCff8M53us+dnqtRGM1IGtn1SzXdXVVdXV117vnrVFVXpQoKCQgICAgICDjgkY6PAQEBAQEBAQc4AqkHBAS8w5CPXUBA9wFd5u11mxf9dhShBN2O1HO5nPiIQD7f+sPLZrPxWUDA2xNJeQdc83so9Q9oH606Ly6vNkqwtQwLeo6LL9rES5Z1e+WeHK30+gFhFDMgkjF1CXlKYgfeRc+8/svpv0g289Lc1KDy1RL5F+C/OH11FidOsDTdbkfqZWVlkkql7DydThd/OJlMxvwCAt6uQN4hBycKrv33EIh9dxGXk2u6osaLVB3K0FVjKTAcXPdQD5Q/aG5uLtYJ4Y2NjXZNuMf3Y8A7HEl27SBasshYSo8tJmMVlZX2+zeJRbyKsrw9kvLcrSbKkRV+HBxRYvZCeuSa826U1YCALgey7kQBaeDKy8sDYewm3Pq20irE9goqAw/zjCwcLWU91wYTXiBWK/lCVP6mUCsq7Jw6QPc4vI78COrr66WmpsbOA97JiKnVZW9XP1uTTadjbdDr35a8/ubT2pDX81xLVsrK07K5fpv0qOkhZa1Ro1vj5xQ0MkEupd2K1JM/lOQ5WWxpabEfWkDAOxENDQ1SXV0dXwW0hyKpu1J1mAZE+UVWulvtSs12LMbXOEkSLz0HSYIHST0V8E5HzLrI064I3eMm0FDXLNW1VZLNYcRqw765RTLaqM9ZWmrk+i2afCmpA39kt/ukLfkjKW0ld7OsBgR0KdxC57ij30DAjhBZ4VpyehqVXcTdqglRhhB2KrKGKE0UYE5a7KxMMrGWVKegu90NCIwJekscHka9oI98WDB5T0CAI8lYTrqRrKlQWmCSqdMqR2qpV0W/91R8M6ReUAs+k1J//IiqBw8nYbuOrrofqSd/RGSNHwsKDsUWWsQBb2ckG7SM7yLz7RF9QHvYEalnY1JPG6ljb1fEGrA9Uk82ougdqaqqkq1bt8rcuXNlyZIlsm3bNqunAQMGyIgRI8z179/f4gcEJFFKrBHpOonHpO7MjLndonIIb6tTbpdUS04qKsukUWWyMqO6wBPUqMlbi9fRVfcidf9B8aPBeSs4qewC9iZc4PYUoY46A5d/fpKcu/wniSZgZ0B+IfXoStKcqIPksdJV60HqXpLeGa/mgh0BpN2jRw9rVFH+CxculAcffFBOO+00GTRokAwcOFA2b95sdbJgwQKZPXu2nHTSSTJ27NhQR+9w7IpIU0XBBHruzMwR4czGv/cKdern/T5Y6kyiq3L5chLnD3A2j9HtLHV+TE8++aRMmzbNfiS0lJuamsLs932AtkLXcRQCqXcK/BS9UUsjFuJg0taUKVPkyiuvNGs9YBcoajNkOZpNLFjiIJW1YG0uRZfqIonFwte/egvl7uU/Y8YMWbx4sZxxxhnSq1cv8/O5DdQV9bFq1Sp58cUX5eCDD5ZDDjnEUgt4Z2JXRNqqX/0Y31HQ67wSdn1GTjnhJLn+LzfJxMMnSKUGE0QrFEnO+ANUWDk1bVA8aUWHSN0thqTl7OeeDIKeDC8dayKe/yBwfk18v+973/uePeeEE04ohvHsoNT2HbysKX9Hsp5B8jyg8/DfA78DQHnPmzfPrMEf/vCH5hewE6g45rJ5KSvni5kWVW6qgwrlUtBybNEirUg1GIvXFyqlTC13uuHzqi3TGco76rqn6Cl3LPZbb73VGlMQelL3JPUb9YXlfuedd8p73vMei1s6hIjz+AF7F5T1jupqb2NX2hBSj/hQG5WazyIZw9wNOTnl0HfJnMUL5YnXZ8jBk8ZJeVb5XAk9m48mzll0HqIn8aFddIjUk1G94BBgzt2S9kJNFmZ7jQHicY2/w+PdeOONMmzYMDnvvPMsfrKSAroeXq+7KufdjRfQNaDX6oUXXpAnnnhCvvrVr8a+ATtCvkUJWdVJc65OylUdpQoZWbd8rZz87gvk+ekvSJ/acpk161X57Jf/tzxw3/1Spkozg9LUBoCkmIiE8RE1XF9++WU7HnHEEW0myjn8twDQY8RHVx199NH2+yA8+cWO67aAvYdSznHuSPrvTeyKSJsa663nOU/elKRbGhqlXAl+3Zq1cuIRx8jN//0H+fJ/fFN+fNfvZewhY6SGBNXlY3WbTqhdgnakhfe4+50ucYTdC4tkUEL+A/DWKv60TiorK80flBYy10lcf/31Mm7cOLnwwgvtmjQCkXQelDPluLOydHHwo8fluKN6KI0bsGfw30HyN/X888/Lww8/LF/5ylfaJZeABIqajtW3CpJrUiJVUp3+wlS58Vc3yfU3/Eb+9Qtfla989V9lQP9+Wr5a5tmCVJRrXG0RlKXRV5Gc33HHHWZU9OzZkwS3g+sw/01s2bJF7r//fhk8eLDpO+rKfzOAuKV6LqBrQaMJ3gHwDfUAJ9GwYghlX+unqOZbET09r4Z5XvOFjGiDj4Fx5CKnv+1NIueferp868+/lEOOmCS1GmTTQrQtSFqluW/jl7joUPMFAUUwcUmSplXkJE4Y107oFKTHTQq4g0LHHz93yR8D6fk5x+D23O2OUBMHl6wLv29H93uc9p4Z3O47L3POgfvxWwqEvmu05FCWqk/oa8+npayySv2a5NgTpsjECSPl/R/6Jxk8dLwM6tdP9aTGUXEuK8eS06MSOuoQfUOZM5eBsXPSA8k6SYJr7qmtrTVDB0AupOEgDjoxYO/Ce0PQRV5vZhlr/exId+1NlD4ROWhqomc7I5mMEjqz4Qoqf1mYG6SkuaFeKjTPjkIsNiVi1xYlYR0idQoGYXUBdYGmIL2bidaRdzMRBhB2Cpn7vSXlaZAe8QnHlf5oCPcfCPcH13nnoKyTLq9F745awJX6lYYnXXvPCm73nSN5zm+I34r/lgLaB/KXzqguyWQkVRZ1ozdm/QuCFnnfe/9OXnxppnzow9dFkTWMUm7OtUg6pfpFLXbzDwjYY/AbVZeQI2Ss6PR3jYGby6vswWkZvnRR/4w2KG3+h4aXZSI+tPiE6QnpdUA8O0TqYPny5TJnzhzrFuThTgiAI7NDCX/mmWeMzFFIvMj69evl1Vdflfnz51sciBpFRSMA8OMjPV7crZKkIgtKrfOgDL2+cE4mrS4WJCQwRqlfaThV7y6gc6BRy+/Ff08O6sYbtgE7hkq1KcxsljHyglRmVMZVPeYa8vKDH/5Evvrlz8tXvvJFLWOs+sjwqCorlxxWXWyIuF7CwkNP+Vwh6iB5dHjd1NXVFXskSxthxHFDJ2DvgTL234/XGz0u1E/pb2qvYwePyzKR02RBf8951bmaN/JsQqlIqfw2NtVrM1RlyHw0KT3xn/9O3yIO7PCYOpPYnn76aZk5c6ZNDnFhRSExY/SPf/yjvPTSS+Z/3HHHycc+9jFZvXq1/Nd//Zcd+Qb0ggsukPPPP9/ug9SpgKTS+ulPfyojR460MXWvnIC9B0QAh4AhSKUC4Wosp4HotOSEDQe11453QCfAj53PpR599FH593//99g3YEdAbusaW6S6ioU6mqS5fqNU1faWe+55QpYtXymf/MR18vWvf0NOP/tyOe3UY6RMb0jRBZrJSUtLs5RX0O0ZJsodqKAenEcob86pi6T/3oUqSBOL+FklChH9STayLQxPR73Txm/cg227WeSKU06Sr99zk4yZOEF6qFeqScm+LC3pjMoUieAXH4vXraJogR16UwT1kksukf/9v/93kYjJGOD8zTffNOL+0pe+JN/+9rflf/7nf2yzA6zzTZs22QS4Y4891hZt4PtOCjv5uVsSpH9AEzoF7S6BpHdJ0E5Rep87h1/T3sNRKzhkBcdoX6O6BnX16rZo5PUasLIuL0s2NcmiDU3y5sotMnflZnlz2UZ5fel6eWOJuuUb5a0V6rdqiyxZVydLNjbKqq15Waf36kG2JdLE8QyehfM8kJ9kXk34iy4Bf4mka4Pkfe3cX4J2k0l6tgnoHuA35lYevylXRkkSCdgxaqvKpamlSZV5Wgm9h8ye+Zr893/fKB/40D9qaIt84xtfls985lNKuLFyLNO/+r881kOUPUTAN+evvfaa6a/Ssvc4OMCKc7NmzZIJEyaYH2TOEd3m9RkIfe+D34r/dihv6oBr/w3tE0QisVNk+OTCjhG/NTMXgyzmmqS+0CJ5lR9CIOu0xmWm/G4hjtZhSx2BXbdunVx88cVmRVBgdLPT9fTnP//Zvtm87LLLbPUlVmH6xS9+Ic8995xs3LhR/uVf/kWmT58uDzzwgLzvfe+T8ePHx6mKWfl8ukMDgPjXXnutPcMrZJ9Xzh5Af752tLKlVHGM1wH1tLFoPXqBEy/5RlGdlBKVWg76t1mbeWXaYrNk9Q/6hHvtfvXI6t18+kA4KeCYvVCvLLtxa5Ns3FIn6zdulUatv20NLbK1vkGPDdLQ2CxNbPmn6efUWskXslLQa3YLSvMcFSp2DaK1mNIXSJdnpLqiUjKVFXasrKmWnjW1Vv/9eveWvr17Sv/eqlyr1Wl+sHEQUMTYRJmZH/HsDxtXit+Pd1A1yVkE647ScJSh72RkKzHYiRVWXvOc1wJNZ8rtXmuxWtwoTc7My3z0aA9SeDoExI+M4llp7nfwk0QhceSTNma/f+1rX4tDA3aFqC6pY2RIK7iQsd8dXfGgkFh8JoocyQN8gI5xq5reyEWLFtnM6d4q29QHRgyWO0eUMsbJs88+K5MnT26jzwICOgTkEPGMxNUk16Q0EuYOoUOk7sSKNU73OSsuuXCTzO9+9zsbO//IRz5iPwJI+T/+4z+sFUtr9jOf+Yy1fm+77Tb50Ic+ZEsr0khwsn7jjTdkzZo1cu+998rpp59u9/PjIm1vFXdXUIixaojJK3YQRZx1FAtx8lGAeafx5BwvjZrNRYqnXEkUeJkrndq9/pyIFlsfg1+j/lm2apssW7ZM1m3cpA2letm4aYuS+jYl7yYl5Apt9ZVbN2NlTY3U1vSUmh61UlVVY91BlRXRvIaKMhUnunw04awSYL4layQPqTdlW6S5oVEbBXXSsK1O6hobpEXTRhHSMKtSsu+lafZR17tHtfTv10tGDx8iwwcPkN41reTOW+NaWvKS0ZZoeTomZd4kKhJ9MS+DFpOzCm1ERG+qsDiExwSu+WRBkSi8ldRBlEpcxkVE8bwR0J3g8s4xkPq+BWOwjKejlyBvSP2hhx6SE088UYYPH25rvvP5Gnj99ddNZ2G8sAZ8+EIhoDugw5Y60ZcuXWorLaFwUOYuzHfddZdtevDe977X1kg+5phjjMBfeeUVs9C/9a1vydSpU21M/u///u/tW/Rkyxgwxs64PYTP2DvwH1h3BoXoROukZZ5+hDzcIogD2ErCrEMLb02De6EZrI18jpWx8tGECkz9sgrJKnnRvU2396K12hhauEqWrVglK5cukubGOslqeVWqRd2rdw85qH8/JdTBMnBAPyNYbX4pgaalPJM2Mq1Q8qb9wAZANlauR0qavJAH8oOEMDkYkrevhVoKRZJ30qcnoVmfu2bDRlmxZoOsXrdR1m7Yqg2KetucAGt68EGDZPCAvjJxwliZOKaX9KmIWqM8hzKzd05wLM0YJj+l2eEAaP4oAvLCOfm1EE0/n89aL4KDV7GXcJhH5JWk8R3F258IpL7/gP7xIUE3OCBxyJ114OlxRFf5OvCjRo2yY0BAd0GHSR2hZ3wcwmVCHCAJiJkx9V//+tdyzTXX2HKJH/7wh61LHf///M//lB/96Efypz/9yQj6iiuusFYv8O57x89//nNbUQ5LHeWWJP3uiqgQleBiujCCalOyUImyj5GGM0dMLcb1EKRex+Mn9IirPilOSmvWOJBvvRryC5aulemz5sqrc96S1UqcZVU9rLwnjh8jw4YOkZHDh0rf3iIVys5VynNM/4HuyA7H7Yg0yoCGR70B5Bsyh8QtS3qOP3F3dCR/tvGA3sPcjmY90v2/VVseS1dtlRWr18m8eQtk7dq1snnjeqmtqpAJY0bK5EkTZcL4UTKoX9SYIC13ZDitZJ2hIBQ0gOKODWtokM/kcJP3hJikaJg5h4YRznsRBxDP4roHaSXS218IpL5/4HqmvaE+9/NjkvzpRaK+uruOCnhnoEOkTtcUhMuENz5tY4b6v/7rv1qLllmiJ598snXBM0EO5f2b3/zGuq1o3XLfr371K4v39a9/3TapSP4wAD8qfjSMw48ZM8YaDv7jckXXfQEzQBlwSXl8FnEEbxDl3Mf06B7WYmeMmqONM2sMtWZz6uPEw5E7NumfdZtF7n/4SVm8ZKmsXLFcelSVy5GHHSLvOupwGT9qqNTWVhgBl6srLSXrRtfEIHjPDxYv51jbmMeFfMqsd70ysiQ7pUfPJtckQjp+DaGTX4JAkVwV+EHwhDfqxZKVDfLcSzPluVdmqWW/RXr06if91YI/68xT5ZCx/WREjQhNPO5HOngOi4iUpTI2vm/Pd6fPxVl5qnwUn+vhDvJn8aK8AeKRtqUHSKsbIJD6/gO6jOFE1zVZJWyAX7LH0BsA1BGutBEQELC/0GFLHXALAu6EzDU/glKS5geBsCcF3n8MO2sV33DDDdb9fu6557b5cflswe6JVlLH5kwSHOAtjEBiSuH9ebfWd9fWv/41C1ejcFy5oUVmzHpDXnh5tsxfvEwGqxV+8PhxctyRh8uksT2kj7ISpQ0Bki4NAjhai1TLdtccVaqGivHJOBc7OXJq8830Gi8SsxLQAKxne1c9z+V4K/XLVETWvAagJiF5QlZtE3n+5QUyc9ZsWbZisVRoeRw6fqyccfK75JBRva1IM5peT31Rah8iLuNBKFvG0G3sQC9RxnRNADKXPAKNQwOEW91bL4tlwHl3gf+eOAZS33dw0k4SuaM9HZf0I24g9oDugA6RugtxkmBdyJ2cicO5t2KJD7DyAZNQ/JGuuABHHGn85Cc/MVKn+x14Gt0fUIY6XskmbUVWtxM8PpRaqhARHcsFabPHyG2bRkKVrFeLfOHSFfL6nLkye+48I/8phx8mJx59hEwc10uqtChQKZBbXm/I53NqYTNDnXQ1ESbaoVwoM/2fh2UVaVg+pjAraw2kVKPQYvSiB+sTE98n77cLi6t/vH5SWW1URL0tZWVq7ViK8TPjo5Mq32xCsj68wLsvXLFJXntznjz7ymxZunaD9Bs4VI6cMkWOOOQQGd4/LX2Us2vihkyKTThIiGfbhLpERuM0i0dH/G4GbtOD5wdQQqW37A9QP/7bCKS+79AemYMkkfN7hPxdj7nOCgjoLtgjUnf4tR/d+k6SPueE4Q/8cfh5y9jv8+PPfvYzm03KN/HA/bs/YCpoQqFsCJE5qQNKxNacNh8+sMnYd92r9c+6rSKvzZxtE3JWrVkjA/r1kSOPPFKmHDpGDuoVjTdzf5RG5BykiFpJsU2VV4+Vs154fREJq9YRzyw3FO+Jc+r3OOI6284/Ce7l+V5PytgFjc9kQCsHbVykYwbXEHWeL72Pe9MaTx0TADdpXt9avkWenzFb5r61UCq08TNs8EA58ajDZeiA3jJkQIVU6u2kUKb3Z9qUhoIAdeS6WDbqzCN+FX+8d8kDUom99yuSv6tA6vsPyV5E6gJXSuDEAYHYA7oL9qj7fW+DMfvRo0fLRRddFPscCNAftxJMIdsi+bJKKdBIUV8K14lYmzHqofFSrO2bkbXKYHOXbpMX5iyUeQsWSUWuXg4dP1KOOnySjBrWR3pVRveiLpIqw4kKQEKcF8koWZvxbPsidljTJfH2FDQUkqZ9nKntH5vXIH8moZxHZcIZ3fbwP3bT8nUN8vKcN+XVeYtl+ZoNMmzEKC2jg9UNkxH9YqtdHccMSaljCIJeAAqGPol8Vi0t1lcmceIAwml46dG9A6kHBAQc6OhWpO7K7EAmdazZglqWDXpJ4x2KMzuyQF+5Eky6XDYpmb+5aLX87eXZMm/JCul/0CA59JAJctjYYTKgV7n0r221ylNYCz6TS9MmRa4goiR4zg4JKVnDpUQPCLeb2wnbbcCg5KIVRqztICJ0f5ZnTps8hcjmtlSsx0PfVS+YKLihQeSNpavlldlzZfGiZdKnZ0+ZctgEOWryRBnSJyor5hakNW6aCwXkzni8ZcN6IfSsTVlErjUHbfO/vxBIPSAgYE8RSL2LwdZ6mXL2mccazdlmEewclZVyW1J15vwt8sQLs2SBkvlBvXvIiUdOlCPGDZYBPSulporO6gjwTSFXkIxtqEsVKSkluvaN+lLlZs3GdGXWavvE3JaskhUeUWfn6NyxI0Eib54DzttE5J245p04ElEjRRP+ClIWf7NG/njP9XV5WbBijbw0a7bMemu+1PToLccee6JMPmSUjO4dETtgfl6NFohN1iMdy4Q/uORtzZsHq4set18RSD0gIGBP4bo2oAsAN1RWlNvQNaugsRhLIVMp9Uror6/YLDf86a/y53sekXWbtsq5Z50hH/vw+XL2iaNl1IAq6VulBN6SlTSTzFSZp9WxOExknSvisTuDkXvkaAQUrVsH5q1Zze4ikD+nNeApllBcl4Bc4zx/dl2aAQCZe5d9HGbR9IaCvj9Ebq/bkpd0c04Oqk3LkRMGy5UXnCUfufZqOWhAX/nrX/8qv//T7TJtxgLZoGTOPcyyt3vV2fh9WklSy8LC4qPB81Oar4CAgIADEK0aP6DTsJ7tnNKFslA6XSnZ8hpZoexy54uL5Hs33S1L19fLCcceLZ+55jy5+IgBMkxLv5fdKNKgJMyKaEy4wUpLGQNqgkY2GjGtZqemWXRqpfOcVCErmUKLOmz2iLCMEHF6nXTq1cY54UZO89wJx/2MaUdOr61xko0m77mzD9nIpzq+jddM2PftEDCSqBnRtoy9to2r6ynI60mB6f0VZdKcLViPxEFVKTlsaB/59NXnyv/68FVyUE1abr39NvnTHQ/I3GVbbB9insR38eyyyWeCEclHwxfRUdO0HgJ/UkBAQMCBjaDNuhLGlGXSqCzEjmWvr9gq/++Gm+WWOx+UwycfIf/wwcvkvFPGyui+Yp9n1Za1KPFBitGtGOM2m5a+Z9jNnIYo8RRSTLzDwozJCGcWLhSl99hxxyD9VhB/e0ccxrv35FgE2bCsaJrbZSmO6ZZ5DI/Gq9pr6ZEYbtlTHBB0C4SeSdn4OV8D9NBIlRo2sn9P+cj7r5Arr7hKFi9bI//5s1/K7Q8+K+sb9F6Nw700GvxNSb1Nnrlo4xEQEBBwYALdGdAFgH+wBBuVHDYoc9zy6Ez55o//R+qbc/LP110jH7z4CJnYW6SfxilrUZqhTzmt9m2uYBY+n2iVpZSyjWD0j5I4RJ7Xc1uMRh3PcETnWn1Y7OawtyOLOSLatq6V0nBU+95wCsu/njNbzZzmzR3mMy6OD2mzpzXWPUe+jef2KA1t7KjLqKtQx1K31Uro3ElbpwWjX1GucftUlUkPff2TjhkrH/vkh+XEk0+Tx595Qa7/7R/ltaUbiqvZ6W12f9QzAbFH+ShYo0nP7eEBAQEBBy7QagExUPq4NjCPtqTo8XCQBZYgC8hsUvaYuWCr/OfPb5WHHpsqF51/gfzbp98vx0/oK2qcS3m2RSo0NpugcafxeqbMJnHZwjGwijIW5Gbd0IrYUPeF09qgNR8ROUUgj8njrtGaBtjTo4IM8go4PcU5mfoRtz2ick1DrvribM7CFrD2xQB38lUBnwvaijX6CE2f1TptrRD1onFAw8i65WtErr7oeLnuA9dKQ0OT/M9Nf5T7nn5NVqnVTh2RD0MxM6zXb8nsIG+JqEX4Hbj2wgP2L9rWDXUe1XvbemuL9vwCAvYdttMjpR7bRVCUXisSGnnX8IUWkhPmWRjG/Tn3IwvLOAiPlHXbH07Sj3PGkrn2+A5Pd2+Cp5ETUwCc4OFZgH1Zvk1D2TUNGmjINpsFiNukNy3ZJnLfM7PlV7fcggEun//ER+WasybKECWfWo3DrOwKNsc3BlKnJnkKpvbn2E5keq0WN/5mrEc+sWUZnePwL3URPMauXFu0TaPzSOaLpyWPuCKKF3G+9BoZSKuFny5a9frmFGhJueDYlI0GDxeVeqSc2SKol1bVSQcPlH/954/I5MnHyb1PPi8/v+VBeWVJvWzVqqQmDVqvhZZmfQIVjouqgoVykL+WbNSAI4TeEs7tigYYK9qZtOSLchCFB+w3aAVktc6i2sBFdcduhlbnNBLzNO3ieiVQT/hNe12ie5L6xs9dLzn8vFQ37UhX7QsdFhAhG68MCPZtuSMT6hCudpRBqbfLUEMdg7XFuyWL/klkuyXXrP54RDGUNc0VEyt5Fipxt+GrJqF4Hb6CHCCcJRXxS26VSuYjZd32ce7v54A47NiGUmX3NuCrze1tUDbkhmzSprAlVsmXDfZGLqWEk1XWT2ewuUU2a7aWrGmRW+54UF6cOUOOPOYoef81V8mkkVXWZVyrSTDuS/eyJmbP4E1w5tValBFKrluf3Op2Di/jDlXtXoPnd4f53uGLkf+E22ECjryU5eqVoJukMqN1ppXTV1tS773sRLn2qveYlf+7P90if3t5oazDatf08gW63SM5bWzQHxYNSz23z+hULjMZlWetKBp5rT0lesFJ3Jqgh4OzgP0P1FCGioqB/oDjaRqa9rAWYco+M2VRItrqgCWU86pfiI/+cT2VJAf3T+o6dBK6CZ3nQI8Rx/WZ48BYEfPAhteNr2ZK/SSNw32CnTwOYyF5dBmprqmxY0tTS6Tt+FIHHaPBLY2NKtMVqmnUg9t243XK/kMRn+82tm7dWtwqtaGhwdZBxjJHcMkoR7+mUP3oBE7h4yB+/Erv+dvf/mZ7FE+cOLH4Iyldj7mrYTlTmYj0OY2NiHqxDqOxbVY8S+sxrQRNAyUl67XNMeP1FXLfg/fqdbOcdvIJctJxh8uQHtFkLriF9CCLAvui2wVEwJExXauq1oqKggP2CFpwatG35FKS1aN91aflX6Pe4wZWy+jBQ6RZ63fa9Jdl9cYmqe07RHr3jBQ1SrmmSn849MboTdk8PUiapNYx+j2VU/kzPW/UoND0tYaZ4kh1EcRVXJtdAv+tsBvi/Pnz5fTTT7frgB2DugL0pLVoSyxTUaXlqP7K7JVal40YHDTGW7Q+y1hLIoof9ZxBBpWmb9BVTuK4uro622Z6+vTp8tprr8mLL74o8+bNs0bA4MGDi7rJdR33JHVdUvcF7D1Q9oA6pLy9HnBubO5dqBxZNcd1XVLlcAaGomYryp9FoGeIT5mjxgi0kyebGoR4lll3pJK7ylGZGRLcy7FE2yQuolgdRM+ePe3IJi2+0YFb5hwRYhd0F2aOtJwoXMK4j3gIvSNJ3N59T8Ukrf69Bn7XlIYRLBo98mC2OTmhLU5OcS1aOZvV49EnZshjjz8hgw7qJ5de8G45+YjxMlCLg9xC6Ezi0peUfHOTpBLvRrG3jmEriOcuYI+RU0JPlWWsCqlBjDY+r6On5JChPeXiM06Us04+Sd5csFDuePgxmbFoq7DOfLqiUuVQI/NjUTnFQkfuAH/N+GNc32Qjkgno3Z/DKv4R4XMVsF+glZGPdUa+UKbkXa0kXm+NrTJ6+bRqKiuqJavxKvTY0tBqXfNbZAcBQL1DCk7ukPfvf/97M1xOOeUUufLKK+W6666T888/30iCfSrefPNN023cA7jPQRyck0twe88B+MTrIQnnqX2GHehyegEjbtM8piP+Y3EyDAgjGRUdpMc4Jx7zY0EzW+ba9FMUp03yJc/q0IpyCO7cuXPl5ptvlmXLlskHPvABOeuss8yfHwNhd955p6xYscJ+BAsWLJBf/vKXZs2zh3p1dbX07t1bLr30UjnhhBNM+L0yeFHIm5fkngkTJsjZZ59dVK40BvZuxVCA6hAISkQLGsucAQD1MeUOWTdp2Hot8T/+5UlZtGCWnHTC0XLWaSdJv2oKU2/T16EPg/MoPT1hFheVppWCNxYex7hBFj0PlFROwO6DIoRWARKd07J32bFpDFoFdJRs0bp7Zck6ufexqVLXkpMLzzlLTpnUX3ppHBb9KWQbJKUWHjVOtztL9NoSOCSqdYiF7vRN6lEdaqLUtXXlR8/sDPx3wTGsKLebQAC0VprpwqxSi1v/VbCsoH0VovViFZaTrFpFZeWV0e8TPxWMFn6a+tvkV5nPKr3HDXB6SGbMmCHnnXeeGTKQBTKFMeOGBlb8U089ZfqKnkWArqL+ksZIUtcF7D1QR17OTu5730LfMUwsHSoD8Fu5EnSBNTxQ+Agi+cQ8byyT0447Tq6/62YZN3G8KKWYUkOETfbMQo/BK5J4OyLVIQ1E4dBqPfTQQ+Wzn/2sfPvb37ZdxbwlOmjQIHnve98rn/vc52yZ1zVr1kj//v2tu37btm3y0Y9+VK655ho5+OCD2xQ+jQIndH5QpMePxUHcfdPSogS1gCGDQmSNAReJOjXINjWKfOfHt8jchYvkqiuvkPPOPEl6adbIXbW+TpU2BaIFV1Sh0J3L0qT6ngUGZw1RkbdTFwGdAOVJPVF9NKzKtQ6zSrSMqdKeovucOL21og4bO0Ded9XF1sNyy+23y6N/WyDbNLBZI+YzNdLYFNUVnxgWbIKkgkS07iI1EdUiPtHngqBDP6WAroZWRpavS6rKI/7GQ0mc36F9RGHaNW+9MMVOF7YpVriyRMmifyDg9evXy7Rp02zYwwnd9RVDj5A7eqqmpkZOOukkeeaZZ2Tjxo0Wjq5yQkengUDo+wbUC2VNfVE/OPjFe373JUzGEiBf5eXkp1nzp3Jh1oY6xE8bk2ccfJgsmjtPGpuzUc+wCnKr2JToFxLfgUh1SBMtXLjQiPr444+3bUHpjqKVyo8A9O3bV4YOHSpjxoyxeJdddpmFuSU/btw4axAQD3+/zwvcf1BeMR5OBfn53oOWILNgIWEIQQsMkrBZ6+qatA7e2iDyxe/fKA2Nm+QzH3ufHHv4MCOJCo1L2z4dj8laYaMoNB3NuCWdqiClDhV3QEegxZxSOSrTBhWUjCqlW7VCi5xJik2NzWq952wFu15asYcMqJB/uPhsOWrcWPnLfX+V3z84W1Zqg61J42cq3cLSFKw+tYGnN/qQCXIROQ0zp4maRRjqd38CC5w6yjY3SXPDVvXJyZrlS+XYY06WbVuRiGbZsma5nHbKuSYvedZRMAsdHRNZ8QB9g7GCrmJuD8TsOgldxnVSP2G4TJ48WZYuXWpWfBKkFbBvQN1QJ5Q55w6zjhO9JnsLSEPSlaKhITJUrbFBTzATwTW/a1eukkNGDJf/+u7/k6MmTrbPnLkfCkF8om2r8bDb26C953So+50JIrfddpv8y7/8iwwYMED++Mc/yurVq80yp3VKYSLsCDYt3LvuustInjGnK664Qmpra+WYY46RT3/60/aDoVueLnlAy/jHP/6xreO9YcMG+eEPf2j7qVMhFALp7l3w46NxQSdcuc16hhAggc31IovW1cl/3XSLVPWslq98+lrprToc/q/ScEgDlR6NrVp1IEnqSXNAQRe8vkMhfgWeVKyj0tKP4wR0FFqqFKyScIspYLPV1CpjEIUWe7SOfF7DseQbmlskow0tVPBv758pDz3+pJxxwtHy3stPlf5abSyIw6I3uaZGKaus0mpqtdKLZB5XNU264mkXgJ+kk0boft99UAfNWt+ZMnb7Q2E2iDTm5SMf/5p88P3vlzNOmyhL5s+Xb/7wd/KzX/wXqw5rGWsdM8SSZjkiGn+NNnR4xx13mA7DAIHQ3bBwy4+jAx1FT+T9998vI0eONCMFP3Si34NOTM4ZCuh6OEdwdEOScu/Vq5cN9+7t8i9V5aWgV4/8VFVVxBt9xTJEYzKnjY7NGbnwuBPl2w/9UUZNHCeVzXmpZXls4Mol8RD4BE3UKokR4jt2DwgnBYXQUkCMHSG0XlgUJu6xxx6TKVOmFC1yxpuefvppefLJJ+Xwww+Xu+++WzZv3lz8dA0w1v5//s//keeee8669nkOIG2vrK6CP9PBNUq7Oc94abmeF6RSS4qnqoEnL85bLzf84XYZNXSgfPa6v5d+GkZTpIdGKMsqSeg5O4pZ08ru0mOmKrrGtUPoRdBf7CQRsMeg/nIqMwVV6LTJM3n90ajVXq4trrQ6b25ZV2shLdX0nKgHdXfNhUfIR993pcycNUd+d+vjsnqbKmqtL5oDBbf+rHEQ/4Dov826JRAN01B7baUqYF+Dnxi/5ZzWRjO9bvp7lky1XHHVxfLqnBlaebVyz50PypXXXKX1qsEMuas8lCmhq/1tDT4IHaCf0Emuhzii/0i/1PpGR0EcEAkz4omDsWKf1Kny5l5PJ2DvAZ6gvAHlTT1hodfX1+91Qt9duHzZ5DiHy0Zji1SpXopkmGGcVpnh2/XdRYckDZLetGlTsYvp9ddft8khLrAUKhliLOqMM84wwcYPi5x7GX9ifAoyx88te0Chc+/exk6foT9uRIKxtRaNtmZbVp6ftUge+OujMmLEcLn2iotltJroVAud6VhsGcbtgA3UaTnYoikcI2/I3FtUSVUQBbtv7IzgA/YUTq42BEI92xEPpk0lENcNn5ewyENvvX7X4SPk7668TOYvWip3PvCELFrdaONaeZWJ+qZms/5s4SHIApnFUtN6pmuM9lzA/gezhCszbEfM50s07bSOVMeccOQh8upLz0rjlka57f7HzGpDBLRqI6HhnH/8bhXoJZwTgV/jAESBHuEa4gboQPQi1jk6zT+hwmEEER//4Paeo4ypB68b/CBReoids7oHYtp1S8+vq8ulMaeNwlzehnxN3FBjpm7iuH5LjPjONuhQ9zsF9YMf/MAEl4lwt9xyi3z/+983gmZcqV+/fvZd7Ze+9CX593//dxk/frzFZayJBgCtqFmzZsmQIUOsax2iB/gDfgBUxN7aT91flWc4iq+vflubc1JZoVTdrD/AipQ8+tpKuf+RR2XMiIPkyvPPlRG9UlKh0bPNkHlWUuUqQErmKRo1lLwSuhdmGxIpARUR5YBY6vwmUyrtVVPArkARop8pV3aH04qN60Q9tH4II47WrAo9SkC91YOer0x5i9JAuTDN6anpy+XJxx+VSRPGyflnnyKDerXOq2BHPPulwQapaNzL67m1TjsPZNKVVOh+7wCoEK2ExkKjlOtv0RZ8am7QH2ydfO1LX5OxJ1ygv+cn5eab/st6aKzyNH6L1mtaG23UoXe/M3TIBDh0musl73anq71Hjx6mD92gWbVqlbz66qty2mmn2f3JLnqvz4C9C68PyptzjlzTqPJ1VfYlEL8kIglwjRHrffsMQ9GisrIhLxedfoZ867Zfy8jDJkgflZkyjZbV94DUd1eCOsQgFBCT37DA33jjDfnEJz4hw4YNs/FwZrgTjvBefvnlNlkOQgfMZH/55Zdt4QZmyGPFJwmdwt8X3SPkbWc/rhq29lTt36SE/tiMRfLw03+T4SNHyEXnnCLDldD59hxjulzJPFVWEc2Js+Y+J6VVGAHfZEi7yh+P3a2xgHZB8dFzYiPf1lMC8ca9JnEYtK9UqfJmp3aPiR1k3VJnQypnHjtMzjn7TJm/eKncdf+jslx/aDQI2FDH0kKJqwzxuZt/0MAT4PqA/Q/0SXmqwhSh1X+56qB0Ts487SS57kMfkas/8rGo4jW8pTGysumFacmqNa3/vHt0+PDh9tmu6yUfowVYfgC9hQMYM3TBu85zQgfkKWDvw+sCHU/5U3fUGYTuk7H3JdpX6SpD9Oia1uBcY+GIXFkm9blGqSzPSJW+g0mb+kPojS30G7YiySml6JClngTWuY+Jt9ci9ZZq6ffl3pqikImbJHO/f29Z6rsCBcEqvE+9VSe33nefjBrQSz74ngtkoP7OK5TBK30JSi8xVrJgRlWKNeH1R1/GhKoIpTo+vrO1oom4XXe7xwroOCjL1omOXFGaUXmjVAtKxHkpSzNGrj4tKp9pZJEY1GGZNOodrEPAd8tTX1goT2ijbvzokXLF+afJANXjKU2mSs2/oozH1Wc8H512Cfx3wDFY6rsJKtV+U/obVsVYkalQa1wrhlnwZdtk3aLlMuXyT8vUF5+Vwfp7ZtteExKNn6Wxp3JgtlC+YDqL7tp7771XLrjgApsU7IgmOkXE7+BLnwceeECuuuqqogVP3QF0INe4JNEHdD38d0kjCo7xRti+Q6wQbBg2Ot0x4rgODISGtJz5rhPlJ3/8jUyaMkmat7FssbZLa6Jehkh6VLZUrrnbrmOZT6JDb41gAoTeZ60jqC7ARWWnBOfwTwnw4z5PA38InWsfc9qXKH0eOWazj1cXbZM/3X6HjBw+TK684BwZVCNSraVUoYROcTY2NwlzFmhcRWvAQiL6V1v7nOAT+bZ17m+RE4/2SyoqoLOIShoJo0yp01ZJ1NY7i8NoAJ0qtCXT1J/+N5HUH2KV3lmr1/yETj1+jJx15ukyd/5Cuf/x52QDk6n1npzKOBu9MBhvjQJNjJmsAd0A8WSiikxl9FtDEiq10ppbZN6ipfLuc8+Uav09M+nYDCRaZXrMKKEzjMb3EugpSLtPnz7yrne9yxpUdLdD5ugv78b1CXF8mz516lTrdofQ8XMCd30IuaDruA5u7zmHlzWA4IHzzj5DJIo7geoqs9hj0Auo6umJGc/J4YdN0oznpUbJvKo6krcWWy8jeoft3qTkWR1iEgoG55Y3wkqhOUF6wSHQOH4EHkYhc58TuYM0IPhkpewteF786OB6m2Zprjbqb/jL3TK8R4W878zjZfwALWUtS3Lb0KI/Vv3R8xkUpYYfdcI64YU8ZBH3ONAnbzHbuugOdVjn7qz4Ge+NWl4ldRPQIWhZFvhyIRob9XLnXH/mcf1oAyzLlGe+M6azlbLPaB0yCU7pv9AkGXU0V5k7cdxRI+T4E0+S51+ZI3995g3Zon50giGr+eZGrU6682k2RA27gP0I1EcGcqa2U9JQt0U96LnJya9u+JWcd+GV8uWvfN4WiGrCWyuMOTGABYYgdn6fyW5ahhBPPPFEmzvEcCO9k9Q9w4mQP2PohB111FEW1+G9j+g5dAs60s+D23uOck4alMDrYp9Z7TtRBAS1CTbKQ2+p4xz7l1M9L1NBzsWTMLfUbVX5bM0/TIRrk1jifI+63ym40q4khJaC8wJG+HGcE5/C9fsofCd3L2zO/Z497n73N7HC4sVB9L1ymwJQD88j7Z86LR+2T/2/P79Dtm3ZJP/nUx+RwT1siMNgK/toNskpaeWsVU9XLrUQgVnU0asQOT7aHaXHJCIyIAR4+gF7htYqpkRbS9VGpzyQFq/WK58v8ZlImVp1wCZV5bdpBShhp6uYP23fsNer/533z5Spz/xN3nfNe+T4yYOkn1ZSJtdkKVPp2Vxa04nlLAbJtV+Xni9QKg8RXDY5hu73DkALvUUb3+XllF2z/matUpXFtc7Lq6Ref6+oSRsR19YZw+0FdBC7aFDvGpVtf10v+ZH5QiyBvXjxYrPQMVYYVx81apR9ostXPUld5nrO6zEZFrBv4MMk1AFu35R//Nt2C7xEASCNYDu9kAhoUVktr3ADUf+rnrINXhTOuN5sKUta+iBOeI/H1Pcm9ojUeQt/k3TUkomKmKVH9OWTupSXV0uZWNs0dLNe/vh/HpG1i+fIlz/3CRnF6iNacixOYbOjtYwpvu0qQ5Gojwh42AUP5K7S4/bYLo2ALoBXeKLMiwXdGtZa9uqXVxrnEzap0BCtDTXaqPv1SgC/veMpefS5Z+V/f/lfZcrgcrPmWWE8SiBKR/V3Mb3S2o7qFl9/NiBGFMvutzM9j8mAYyD1PYWXc1xH2iqnKc4pyrHtb83jtv/7DAjYp3AlAhI6pagf4qNdm2xz0opuJcWdbl8U9WWyOzv+UQOO6uhqpeu1LpeSOr3+3V2vyLJVq+XDf3+FjFFC50fvDTsmt3Nqverx/UWnKC3o1gL2oi09bg9uKamXgE6D8i4p82JBt4a1KXtmS6s/3bGEVullmTbu+qgxf+2Vp8uUyYfKL379a3lj1Vaz+JqtpayyphY/hF4KRMZFsigfICE/CaEN6FJ4HWslxvXK75qz7avK4wYEdAO4UooFNXFqaHOdDIjx9pLk+AXpnmBslcvtXlA92SOdbtWsHp9/ZbEseWu2XHDKsXLs4SOLZWRDbApvZ4Tes7c7lJxTjMmXSY3+LVdiZ1U5Gn0QcH8l9n/8u0ulZ3m53P/oVFm+Tb1jGUlnmGDFWKzPoYjkzt12IEJ8r6PkMiAgIGCP8Paiqu00Y8nrxdqWGczNej5nZaM89NhTMnHUYCX1SbZBfTwh1u6E0JlLExTu2x9wd3MOSqbjXf/F34Xy8YbVv8rG8N4i11x2kaxcsUYeffolWaPE3qA30ohsM8dE/bhne7lBqpIuICAgoGvx9tEsNk4KI6OWI4UafSaWiTQ20Mu6lhbrOl1bL/LAE9OkZ79+ctYJx0gfjVatepnldrkry77KmgjpMIGmmEbA2xYMtRSXdK8oK4690mvD/AomV00ZO0hOP+EUmfXaXHnprWWyVeWi0e9hjMbGadxF97cF0oVLojV+QEBAQGdQql0ObEDs6kwRc2merbBZqWp6MTHuoaeel5Vr1sp5Z54uB4/qI5WqnF2Jg3LV8H5eYLZcwDsCxsk2QJ6WHJ+/FVqUbrPq8tKjgv3yRc44foKMHT5S/vbiKzJ/daN107dKXQwagXFD0OWoLTRu6ezVgICAgE7ibUbq8VGVMKd8psRCI+hOXLosWiz0hTkrZPqcuXLMoZNk4vCezHhS33y0iIhqdcjdF49jA48y64MPltTbHVQx3e2Mq4NMpmDbr4IsS8kqWKHhoGqRc089UeqbGuXRZ56TdVshfZU4W5I2FhyQkBnk0Xke1wY7DAgICAjoGBIa6O2AxOu4gtQjqpUeUqYyrdiSk0efnmabyrz7tCOlryrx6vKoNWD7MKti9rZBS3OjNQSi82iMNeDtCeqcBiASlC+wtrudST7PYE1BMqmMWfEZ9c6oIB0yIiOnnniMLFq0SOYsXCLr6iMZi1JQ50Jk0rc9TDyLcUD78QICAgI6AjRQh0AXtiP5CVpyCVjOHcRx/9JP1liEBiT9/dwXp0k+b1fIqdb1lLLxylA2Q1kfz5Pq1D363POyae1GOf/Uk+Ug+lIJMOXqRUFeI1fua9armV9enljv2RggOg14+4DlQ6lWVo9lj21komBHztia004NSMbJU8bI4WNH22z4ZZsbba4GUhfNim/9aWWbI1l0RL+GgICAgK5Hh0k9OcuXBTKcwFkC1lft4Rxy9vWRS1fzgahZ8cfTIh0nb84B93Kfx9kdckfpNjNruZCRTHm5tOgtefVjSWgU6atLN8o9jzwu555xuhw6vMZenm+R2RM7IMCkBFGIxSFarIRlZ5kPr9c0ADUKy/ynVGZYo+jCM0/RizKbdMkvAfpGUolaiL95y1SUmfxGVxGQxyB1AQEBXY0OkboTq29wAPFC4JwDLOsNGzZIfX29raFMfIgZYof8t2zZYg6iZgm/JJnj59fE9/Xl3XJ3st858lKhZB53DEh5PPGdntSNmsU/3nGvDB02XM4+fqL0Vv9MNpofbzt1xc9pAx+Md5CFdrIRfZscPzTgwAbj4HEdM7ael3K75Mzal7E4lJUVpKqQlRF9M3LaqafKq6+9IS/OXiE5jcxObybVKrPeS8X2iQEBAQF7GwnG2jUgXpasfP/73y/nnXeefO973yuusQuJL126VD772c/KueeeK1dccYXcdNNNdt+6devkO9/5jlxzzTXyL//yL/Lss88aedP97pa4d8VzjYPMUYh+3J21e+37YtSvRrX9rxVwdZPq04emPidLFi2Vj37ow9KnXGzDjmol82xTM7rX5je7Mg94h8OInYZatMSwLTMMOKiLJlTSGCxIQS32s48fLRMnjJO7731QNjZpI9LkKbLGbS3xeGGayLWFNSWRO3cBAQEBncCumTIBLPDf/e538tWvflWeeuopeemll2TWrFlG0Oy0BsGzycGNN94ot99+u3ziE5+w+5hMBOH//ve/l5NOOklmzJhhmyQwbg6ZQ9o+hg4gchoJEDnOCX+XKChJM5auypGh0LyeqpfMXrFZHn3+ebn87HNkYr/opU1/qkYtz1SYYi0os5uCdc2Nc0Xrbju0r6gDDlDEvTLsG4As0Ny0jV4Mvp+A2u/lGcnlCYD287YO/BXvPlM2bN4sDz4x3brgkQq+XycWky1Lt2fFP0hOQEBAVyPSYrsJdinq37+/DB061Ej3lFNOkRdffNEsa7rX2a1ozZo18tBDDxnp003PNoXz58+XsWPH2h7FbFO4fv1666YHkDnETYOArQzvu+8+mT17dpuuebrik5Pv2oUp5LRkyqK12wE7om7VJP769DSp7dlDzjvrBMmoJi1XjcpMZ9OqLCGnSNnnSAHvaGjDjQEZ3wrX/riccNSTZm0pmlRC1JKRCj1WaPghI6rk3e9+tzzw1ydkzqKtFt327Y5utMl3UUKWcgIud0H+AgICOo8OaRL2E4a4KysrjYghdwga8oV4q6ur5dRTTzXLGrL/wQ9+YPfRAOjZs6cRuI/Bu/XNvVjoxKGbHot+06ZNxe55H1P3MfYdQpVmjj1S9SSlRF3QNkC9Xj37+nJZtnilvPvU06RXjYbqG2dcUXNPjjnLrcqWoF257VGqqAMONHjdRjVpc93tLFolTo95pssVbDvPRqVzrPFGFWF296xMZW1RmtNPnyz9Bw2RJ6c9Ixsbotua6DniTMkftNvhExAQENBF6BCpQ+Z0m2M1Y51jlffu3dvOIWbOr732WvnCF74gH/nIR+TOO+80sua+zZtZx03s2KNHD+uuh7C5F6sc0j/rrLOsy/60004z/8qKSg0rSP22ukhDJsBl0gG6RU1rqiJmEZFVqlinvTRLBh80VI6fMsE+QyqjkeA3pfJSVlUuLdaVGltne4RgZb0d4PVfJF5fPCbuls8xt0P/ZaRMCT1rEzFBQRupnNYqb7/nskvkzbfmy1sLV9q4ejmbdpNi3DgFpBbIPSAgYG+gQ2zEeDnWOtY0VvS0adPk2GOPNXL2sW8cBI81DvljYbM3Ol33EPqcOXOkb9++ZvFD5sT1sfSUpgFIg0VgTM0qQdfUMmrJuQXbgTuSDj+cjV2qcm1Uz1fnrJRVa7fIu44/QfopyauhLpWo2rQGlqlLRVZUOk1XagSU7a5cK8hj0gUcqKBekzUZ1bOeIZMY2XosS5cboUPgPTMZUZFSGVZXzb5u6qfuyDG99XcyRh54dKrJFIsVNjQ1ayQ+j4scX0owm57nRGg9CwgICOgMOqRNsLAvuugi+elPfypXXnmlTJ482Yj+/vvvl+nTp9vY+b/+67/KBz/4Qfnyl78s//Zv/2bkPX78eOuqv/rqq+WFF16QCRMmyKBBgyxNiB2rPOpqj4jZxrvdSjIkz3eONJOYChlZu7VJ5rzxlowYNkRGDe1vihhFavOSSRtiT7C0K/WAdy5cHGKRaOthnhBytC83rhgvlpy0sngfNcxPOOZoqa9vlKdfnG8z4SsqIX2m2XWmNyggICBg10iplQ2F7jaIvnHjRpsAR5c5k9+Y9MaRcXAmx7nl7X4QN/fRdQ+YbMc18QjDyqebnu5zPkq74afXy+gxI+XCCy+y+K1Q5alKsr0M+3fiTHJq0OO0GQvl7kf/Juecc46cc9RgtdDZjIM42E+oYxQx15H1FJ0lFXVAwO4DmTTLXN26JpGb/nSfNDc1yXXvf48M78HkzJwSfPRxXOuaBlFjoBT8Nvw3QyOYz0i/9rWvxaEBAQEBO0b7WmUHwJoG/fr1kxEjRhhpQ8a9evUyYmacnK712tpaI24scLrf8UdJ4Uc44Bp4msQB+BbcSueiyLKa1XYYFwXZqiRFmvR0i2rX6a+9JYMG9JEpBw+2btKof91pO3ptVguLukNLLa+AgD0DktVLW5DHHzVFNm2tlzfmLzOZhNC3R6vcBgQEBHQFOkTqzF7HesABjpAx/qwuh+XNkcVoGFMHfNsOiEc45O+WvJM+14y/p5hpHCu66AlkL3YJxuXUXVto2hp19oJtsnTNRjlm8uEypFZsglwmlbM0IXIAmcPzxvXswFXwr4sDAvYM/CyQLnqFJo4bKX0GDJQZr8+TLWq5R01XZLZExiJBDwgICOgSdIjUsaohZaxst7ABpOyfuXEEEDukz5g6hM05XfHAGwVY+ZzjdvTJmsXcoQkdK0hrDEQEzRKdz7/8qvTq008mqWLl8zVspExyN44YbdVrIPSAPQfS5WPtyFzfniKHTZokS5Ytl6VrtxZJfTu0mTsSEBAQ0Dl0iNR91TfImXMf94PMk/BvzJNd68QtdrHHXe/uH5G8d6O3KrnINzriirALDUkEYHnzxfmCFfWybMUqmTzpYBnQO60Klo00ojSTqZMDbo2u26QeELBHSEPQubx9u04T9dCDR9lQ1Mw582Vjs0uZS2CHfnoBAQEBu4UOaxa31B1Y20lA5HSrQ/ocIWzi0xjwbnfSSK4Q542FJAqp1pnCbUMUpdaNxsVKZ4LcGwuWSSaVlYNHDZYqfbsMGlbhO2YlXxif6Lr1fQIC9gwqkwUmfrKJUUTgA/uITBgzUuYtXi4r19vuAjGYnBkdAwICAroSe6RVkpZ5abc5BO1INgA439l9FpZoLDgi5ZcAC8Xo/7ztUU16zJwvWPfmJmX2ac9PlwkjBsuhwyul0BL1FGDFN9sCM0nwrXCSzveoKAICWlGgacmna5Fc1apIHTphjGxrbJF5y1bbN+u5fDS3A0Q9VMgdd5Q0VAMCAgL2AN2LyUzJRUguzVEEwRC/WvXpiqgrH1WYLi8TpuXNmbdNttY1ynFHHGLru1dHUcyKLyuLFv5MNht8DNTWjmV2cnKb1YCAjiCe1wFsH3890mwdOaSvrckw+423RLldRTjTSuHJRmxC9gMCAgL2FN2UxXaWrVh5KgFzpka6WekQ97Mvviw9e9XKoeMGSUWBEfZIUcZ7tmwPFLFF4XkQO+cBAXsIhpCUqNnIBdBnNbBW5OCxo2TZsmWyYt1myaejJZC84yiy1luPAQEBAZ1BtyT1aPg7yhqnnEV8Cwmr8kuno25M9cypY3R+m1pBc+bMluOPPlLK1a+M7nwbp09LRk/bV5mmXu0sqNSAToHeHhOlSFIhdESV48FjhkpNZUZmzpprG8HYoFAUTdsA0UlynkpAQEDAniJizm4BshK7km5wU3fGuqo14z1TbRa+nmU1EF36ysyFkmvcJiccfYhEX86litaQpcqt0aXC04/Siv4GYg/oBJDZcj7nTNk8zthYN4weIDJ26EB5ZfabUqfXiCeymPd1GUzek3cEBAQE7Bnasme3QNsstV6p8rNJcpHLlJcXSRgl+eTUp2TcyKEyqKdaR6of2euaCXLcl1LbqAxWL0Vg8YCuAiyt1no2p0KVb1aKZiZ8FMRGQpMPGS1rN26WuUsbrQFp0picvNna4gwICAjYY3QrUo9IuB2Y7lM16Iov/vyNvwQtWZu3neNOPe4IWxIWP7o4Gb+0cfMsHfRmvrfyeJgUF9CFQK6iDqIyKSvTq0LOrnFMmDts3Eip7d1PXnztjYjQFWl6nVQ+I4s9ICAgoPPolsyWZ3yywH5YMY/Tn4kCxPTBZVhytjXzL782WzVnlRxz5OGmQJl9DNI2q11dGeRepPNWhHHMgC4EEpYqU5miwahWOOPpNDKZ796/V7kMGDhQ5s5fZERvNB6vB1+wT+ECAgICOg/nxd0C49irV6+W++67T26++WZ55ZVXbPU4X/6V/dLZUeq2226TO+64Q9asWWP3bNmyRf7whz/I7bffLn/+859tJjCL1PiCM35/SombWcA5FCLfu+Odw+ZukSxrsytBF/Lqr0qTeXAVqkV5gZdff1OGj5sgfWuidbd7qq5EoUYvp39TqlpT+OjB/io4iUmfU+IGig/oDJDmqOkIWadty/4Ks8Kjb9OPOOYIWbRogazaFMXNM9OzoJa9Car1LXESEBAQsMeIeG83wQIxd911l0ydOtXI/Ze//KVs2rRJyTiiwxUrVsjatWtl/fr18sYbb8j1119v99A1/pvf/EaWL19uBM/2rJC2f8Zj+6k3t9iCMqRFGBvCwLmsudmU1XO1algVzvxi0CZYva5FNtdvk0mTJtnLoE7dRbmyRGJXilb/QOgBXYZIcJWwlagTXetjRw6U6opKmTX7rchaR+hU3qPGbfRbCAgICOgM2mO6HWLx4sXy+uuvy0c+8hH53Oc+Z0vEvvjii0bcWN5sx3r11VfLddddZ8e//OUvdh/hQ4YMkX/6p3+Sj370ozJx4kS7FzIHtpZ8ebmkmfyWy5uLwlTZYcxg0ZRklfZATqO8tWCR5Joa5YhDDwnEHLBfsd2PyUg7OkWah/YUGTVsiEx/+RX7DNP6pzQ8ahQH6Q0ICOg8OkTqdXV1Zl2zJzrWxTHHHGNd8ADiZvMKrGyWgJ03b54ceeSRFh83d+5c+djHPibf+973zKL3zV28C75e077p17+Wz372s3L33XebsZPLZSWvhF9ZXqMZLVO1l1LDR+NretzFN79vLV4mfXv0kMH9OvgyAQFdjDbUjDAWL5DcaEjoiMmTZMGSpbKpvrWzPZXOxAZ9kOCAgIDOoUNahL3R2VK1oaHBSLyHkikWtV9D0Bxnzpwpv/jFL+R//a//ZVbI+PHj5ec//7l89atfNdKnC3/dunVxqlGDgIbAZZddIV/4wr/J6WecJvWNdTaPKK3p53MpyTL7LZWXlE0qUg2oWnKzni1YtUoOHjNKqvU6qMSA/QVIG/kryqBN7tSruCuev5D6kZMmSl1DoyxeuVnYDTiXY+1YDQ1fYwQEBHQBOqRJsNCTu6stWbLE9kuvrq42Qofg33rrLfnRj34kn/rUp+Too4+WpqYmI2zOJ0yYYF3vjMP7RDkI3cfR+/TvLwMGDJA+ffpIz549bZSxoOqSdMszatnjQY5TkaW+cFWLrNtcL4eMG2vfAge1GLA/YR9oIKMwfBJK2HS/V6kbflBKarUxPHf+wngWfBQ5pb+DgICAgM6iQ5pk9OjRNglu4cKFskot5EceeUQuv/xym/gGmCR3ww03WLe7j5tXVlZaOJY5ZL5gwQIjciPtQqF161Yl9pw2GKprqozgs9nmaBlYZfIWbUfYp+Ya33OMQly8aq0UyitkxKCBNusdxRkQ0B3AmgtRo1QFVuUYsmfACWIfM36cvLlokQ0fpcqirzICAgICugIdInUs5n/7t3+zrnQmy73vfe8zcr733nuty/21114zS/3pp5+WT37ykxaONT5r1iwbT//gBz9oM+GvvPJKs/Cx0Blbx2q39OPtWLNN7LkGGIskjn2arsA+V6dpohA3bG3QRkAP6VlTbgqz1EAKCNhniBi8iFhS2yClLVEofPyYsbJ23Qapa0rEKbk/ICAgYE+QUmu5e6iSRC5++rMbZOSYkXLhhecaqZcVVBUSnuITIaXzdKWsz6flu3+eal37nzr/RBlC/3tg9YD9hQQp29ozdsYGwtE6CB5erxfTV+blv264QT73wSvluAlDrJeJIXiLqI6fJA1eji+88IKt/fC1r31NAwMCAgJ2jg5Z6nsdcfvCuTmaM1ySxTTrc6WkTo35ev1zUP8BUuU9mLFSDQjY32hfFAuSUZHu3zst1VUVsmbDJutxyjuhBwQEBHQS3YfUUWpmrkQgY1g5/DMFSbhpPyXzbEE2bNkmdVs3y/BBSuqYOmH97IDugJicOURWeqtc5vLR/JF+tSJ9ampk+aoNto5cNohuQEBAF6FbWeoReaPh+HRNFSLO/PjDkRgpyZWlZf3mrZJvaZb+vXpHL5FoEAQE7B+0lUEXW/NX+UyX2cQQ624f0LOH7dpmM+D9V9h6Q0BAQMAeoVuRehLG3+44oPCYIU+W9Xzjpm3So7xcaunPBBYenQYE7BfsRP4Q47zJr/7olOOHHdRftmxplHoC+RWGRmlAQEAXoBuRet6Imy/QIfR0gtRRd3mzdlJ6mTbFuGHLVundo4dUFt+g27ZPAt4JiHuYnJyT8htJcPQZJkBmRw4dInX1zbKquAZTfH9AQEBAJ9C9mdAUoqNV4dWr/yYl9b41NdKzIjKQussk/oB3MKx7KQEuYy+kF1JHVumEHzywvzQ252Xdhmxs4Af5DQgI6Dy6Eal7VtJRVzuIj1GI/lW9h3JsaFLX2CxVFSmpqYrCo01fAgL2J1plsD1pLOg//Gl/9lDBZQ2HbU0NEeHHk0ADAgICOoMOkbovEgOSy8Um4XFQWDhHe+dY125h4xdt2hKRepbNqFkiTnOIAVRmWS0XNW6kXkl9y7atMmhgT6nMRAo02ukqIGB/Afnk28p4ciegK94uMuqblkq9IAbTQFgVtqa2Qhoa6uyzNtZeiNIICAgI2HN0SItEy7dGpM2iL8Cvk93fnLMUrAPCxo9jktwhYidji98aZKfRCu+xZ5w80ZtzpKn5KdcmAJu+4E9LICBgPwIRNTHlT3GMHY8IyKnJKkc9KS8vkya11B2tv6CAgICAPQM6ZrfBvudJsgZubTs5s5SsnycJG3+O7kiLdd+x+JNEvyuws1Wzmuvcz7ryxdxEjwoIOCBQlknbRkjsixBENyAgoKvQIVJ3YsY6Z7tV4Gu3Q7I4J3L8OHfCbmxsbGOtE8a9WPz4c+8uoaYMqZMWabANbFCIAQcKVMzjY8F+S+x/UFdXFyz0gICALkOHSJ1tVAEKCUIFrqDcuV/SSgdGwAk/Pwec+707gytF8sEzsNRJxf0DAg4EILuZTPQbooG6G83ZgICAgN1Ch0gdEnUrG4c1joJy4nZrG9J1knYL3uHn3E/3O/eTJsddwdsB3Mf9jPFzl/sHBBwo4CeD/CL78bSUgICAgE6jQ6TO+DcE7kQMsTqhJ0kZC4RwAPEnrfAkwXOPkzPHNtjJClukyXNJ158aln4P6O5Iijg/G++xCqQeEBDQVegQqTP+/corr8gHPvABOeOMM+T3v/99kbxRTpDsLbfcIldccYVccMEFMmPGDLPuGX+/8cYb5fTTT5cvfelLtr868Bn0u2OlG2KlSHxXiLt5Z0BAt4ITPDIc/4QCAgICOo0OkTpW9v/7f/9PPvnJT8ojjzwiv/jFL2ThwoUWBrnPmzdPnn/+eSPu7373u/K5z33OCHjp0qXy5JNPGuGPGTNGpk2bVpxo59Y6XerZbM6u3bJnsQ6Qz7Wlbm8EcPQQV5IBAd0ZuXzrZFJmv9P7Rc9TQEBAQFegQ6S+aNEi6dWrlxx00EE2c/3SSy+Vxx9/3MKwnGfPni3Dhw+Xgw8+WI488kgbW1+xYoW89tprMnHiRBkyZIgcdthhsmnTJtmwYYMpM++O91n0W7fWqdtq59F+6pE10173Ov6BywMOJJSlo08+WbuJz9k2btxox1w+9DkFBAR0Hh0i9TVr1siAAQOsSx1revTo0UbaAEubz3M8DFLu37+/We+bN2+2+yDwYcOGGdljqROPxgBWPkRPF/1nPvMZufPOO6WyolryyuTMDk5pLt0Sh9vdUm9D6oHdA7o5YrE1JGUYlLEAQ0BAQEAn0SFSr62tlfr6erOqIeZ169ZJ3759LQw/CJruRBQW1xAyxM73uFjmkDhkTrjH4x5cz5495dOf+ZT89re/lve///3WSEgrmzPpLpdVKo91HrrQFSEIqjDgQAON2LKylMl879697fcREBAQ0BXoEKnTtb5q1SrrHsciZyLc+PHjLQyCHjRokBE5ZL9s2TKLh2U+dOhQWb9+vV1juRMPsncrHavex9FzudYV6lqyLW1myzuISxyfpBcQcCDA26LWw6TnHGn8mjxHQQEBAQGdQodIvV+/fnLSSSfZBLnvfOc7NnudMfLnnnvOxtuPOuooszpuuukmuf766+Xyyy83a4RuenDDDTfICy+8ICNGjDB/B8oNknbwiRuKrugySv7xZDl6Ke37dI0fjbsHBBwY8DYo8s45vVY0WlkDPshxQEBAV6BDpI5lfM0118j5558vI0eOtNntWO9Y3T169LDu+UsuuUSOPvpo+3ztH/7hH8wah8Q/9rGP2cx3PnU79dRTi12OhLvlDeiWpOvdFR6A0NOwOV3veu2LdrRnxQcEdGcUv+jIF2wIC/mPF2cMCAgI6DQ6ROpYGFjrZ555plx77bU2ox0ynjBhghE7XYl0tWOhn3feeTZLHqXFfcS56qqr5Oyzz7YGgBOyH4nHDGAsGM5rqyulIlNu6bfkssbmhdicYetK0bh01YPQCR/QHYBYmogWd2hr+/Mq00u2EQbWKC3kJZUpk3LziO8NCAgI6AQ6TOoAy9rPsZoBRAz49hYQ7nFA8h7vVvdzgK5Lq5VuepDPe3Kq5Qo5VXQpyVSWS85uLZjiqyQtjdKcjewe5tEFjRiw3xETtjZN1fmFCrSeIp4FlWn7XkOv+USzvrlFKmtqLaaKfkBAQECn0SFS39vAZoefQRqtZ3ox8olVpCnH8kxa9L+0tOTsnqg94XcGBOxfQOmRNCZ+XhB73KgtqJXOeWNzU/QJqPkqXMgDAgIC9hDditRBmwyVWC8oQvRedVWFWfiMu7MWF37YQAEB3QHppCwmxZJ5IfofWc2n0lJXt1V69qgJkhsQENBl6Faknt5NS6WmskKqKstl67Z6tdYjv+Ts+YCA7gprgCq5t2Tz0lC/TXrWhm/UAwICug7dzlJ3YMk4OMOacdquqRLpWVNj3703K6mbP2OXAQHdCm2HhLzdyYTPuvpGybY0S5+eNd33RxgQEHDAodvok2QXZGEn2UIvVlWI9OpZK1u2bJOmbOQXz0cKCOgWQILbk0doHrdu0yapLEtL3x49WmU/9MMHBAR0Et3WSNgZsVdqUM8eVWrt1EuzakiUZNCHAd0TJda6umZ1azdslOqKcrXUo69HAgICAroC3ZbUI0RUnSRsxt2ZLVyjCrGxpcW+fMsGEz2gGyEpr0nRxB+Kb1bPLXX1Ruo9KkKDNCAgoOvQhtR9shkLY5Suq06Yh7PiG0hOTkue+71+ZDlXD+fYXtr4JTeq8oVmHGSUu7gVUu/fp480t+Rk7cYt9o1v2xQDAvYDEjLLaalMIrv8Cpo1cPHyVdK3Z630ruz2LeuAgIADCG30CZ+MGbmmo53TOIeQPQznu7S5H7utAVaG87i+EI2TNQvUeNocCSeM+LiknylDJsm1mfjWqh5JmpDePastH9vqGqQh10afBgR0A0S0niT24mpy6lavXy/9e/ey1eSy0aKKAQEBAZ1GkjkNboUDSNZXfANc+5rtkDjXbOoCMUPcvtGKg3udzIGTPcA/eQ+NA40Zh24PJ22seVIZ2K+vVFbXysrVa6VJ2xU7vjMgYF9ju5+VgbYqQ0WbG9Vt2SZDhwwSG1EPwhsQENBFaKN9Skkc4sUBt7IhcwjYCRs4wfsRsFkF58Rxaz4J4np84tA4SMKsdf+sjdXlStC7Z8bWkF+2YqXmJfYMCOgOaG3XtiL2q2sQWb6qTgplGRk1bKgNJVVirse/m4CAgIDOYDuTAssZeLc4gNDdyobMIWAnZBxLXRKXMI/nfsDjk6Zb7cRNNgzc35RfIfJri1ZiT2tcctlvwEBZvWatmfEsFx8Q0H2w3U/LUFktMm/RUimrqJTBA3tZl7xJe/w7CAgICOgM2mieJMFC7lxDxk7US5culVdeeUVeffXVIiHjIHbirVq1Sl5++WWZPn26xSUdLPYlS5bI7NmzZc6cORYn2cVPHO63Z5QSczsLylgObaMXsR3hGpuzsn59g7BhW+jFDNjvSMhwqTiz2SA7DM5bsFB69uotPSr1Wv2DkR4QENBVaMOakGvyCCBvMH/+fPnd734nv/jFL+TnP/+5PPLII0bkAGKvq6uTRx99VG6++Wa55ZZb5Ic//KFs3LjRyPpnP/uZfPnLX5bf//738vTTT8vq1avtPlC00HcGn2EUI25jyPDh/aW6tkbmznur6BcQ0J3gW7sAZLSxWWTJsuVy8MEHW8MUsU3xe7PtWgMCAgI6h51SoVvUkPdLL71kXerf+c535NJLL5Xf/OY3RcInnPHtiy66SL7xjW/It7/9bbPUZ82aZYTPfR//+Mfle9/7nvz93/+9kvHwYsMh2SMQmeEKJ3GubVyd5ySyqvHBoL4ivWqqZf6Slbaxi8UoRDPw2zYDUJjq8HRXPI2VadsbAgI6Cd9iSKXS5FidivHiZetl04aNMumQiZG8Wpj+CeZ6QEBAFyDBlOiWSA1B1kkLmutFixbJgAEDjLzPPPNMefbZZ+PQyNrGIu/bt6/NjmfsHJLu16+fTZJrbGyUe+65R66//nrrmgdu5Tu5E+e+ex+Q//rxj+WZqU+JZFs0Xbg2LTl1LRoNrvcMc6xVN2JwP3lz5QbZrOc2ez7baPxM6oyz27kRvfmoU+CpLqfXuDb+AQGdRV7lTWWJpmgul7cGJ9+m42ZqQ7dfba2MH66NWYusgNPb/hQDAgIC9ghtNAnj31jgn/vc5+SrX/2qdZl//vOflxtvvNEsbya8uXWenK3u361j2UPWv/71r2X8+PHmqqur5ZJLLjHrvlevXvLYY4+ZBe8T8rzxQKNg7NixcsQRR8iwIYOV7HM26d0pl/aGOYg4H42pk4MJY0fJpm0Nsmzt9orR59tFbZU4pQRx8xUxvoZA6AGdRHHYqmh5p6WiLGMyBrE3qJu/bIWMGj5UajRK9EuK4A3qgICAgM6gDQvSTX7SSSfJBz7wAXnf+94n11xzjbz//e+X0047TQYPHixbtmwxKxzyrlVrg0YAe5oDLHLI/dZbb5W1a9fKxz72MSN0SP64444zUsfC37Rpk6xcudLugdCd1Hn2oYcdJieffKqMGzcubkBYkD4TMo+A4mS/aq7J/ISxQyWdb5E33pgrNlhQXmUWvodH92lTwPRt4nU1IB3/swl5/oCAgD2EjRoxNp4uayNviBaXa7aJvLVomRw5eZJU67WJtzZe7WB/AwICAjqHBMtFhIm1fMwxx8jhhx8uU6ZMkSOPPFIOOeQQOfroo20yHBb7HXfcIccff7wRMcTNfZAwXewvvviinHHGGTYRCH8schoCNAAgfkica4B17la+o7wiY70BuZasKToyyDKwRajSTKVT6h+NWfatERk7crjMmDFD6vQ6K5FlxH3RbcRjln6bV41B86A9/4CADsIIXf+wGQHS6d1EIGbsWW8ul4ZsSg6feLCtJMc+BgCjHhcQEBDQWbRhNLoAvXsd+Pfl4OSTTzZSv+KKK6yL/pvf/KZZ6XzC9rWvfc0+VXvwwQfl9ttvly9+8YvWMLjvvvtsBvx1110np59+ulx77bVy6KGHGuknP2tj6VkIPqfmTUs2+p6da1d0ZKmo8+IP0lGZWOTk9oRjjpS33npLlq1vti5OvTWea5fX+8g/5E3M+HX1ZoJJo7UAUMYBAXsIm72u8sZ4OpdlkWTZUJEKGr4vzJwjQ0eNk2EDUlKp13m+cUMSE/wfEBAQ0Bmk1Jou8iWnEDtHLGusaMjVx/sgWx8L97hJEI6/W98eh4aBWd/xEUDqnJM+8Ml24Oc/u0HGjhst7z73fM1htHgs62NXQO65JkmbwkxJi1rlTXq2ulHk01/4hrz3vdfIRScdIr3Vr8xYO6v3YqlH4/8+qd5J3U6Lbx9ZWEHBBuwZVH4KSur6G0iVVxX9stoIzaXLZNHGnHz9p3+SM047Td53+ijpQWiWlRm18ZqKflMuesnf4QsvvCAPP/ywNZwDAgICdoWIRWM4SXOsqqoy0uXcu8ud0LnGHyJG8UDWnBMOoUPYrpgA6XDtxM793mDwtO08F61QRze9Ly2rl4ZM1BZQQteTLFZ+wRbuwPVTHXrE5MPVEnpdVHdGxrxaSMSh611T1fNWWLC6VkIPCOgkbKEkbQCno99IBP19pMrMSp/15mKT/yMPH2V9RjRVIXQ+2eRX4nIeEBAQ0Bm0IXXgE9c4+jnKCHhXPOQN+ToIdysbfwg7SfrAr4nL/aVpJeOVq0nOeCOEzAYuBZaLUxTi/BjUKkIx8lSU4lFHTJH5C5fI5nqxz980An8MhXzUuHCvRCqt0YgSRwsI6DBMdlQaIXWVKeuGR7bUf5se5y5cKn169ZBR/eOoNDqZ5+G/o3b2NwgICAjoKLYjdSdnjn6etLgd+BHuYY7kdWm4pwdK08KVxTPiIHiLGq+y5f7R/eqK9yqxq06kAXDyCROkurpWpv7tVYuSU3soVpfWgDCrvG1WI6VbRGveAgL2BNZDhIwxmdNkLW+7si3fILJw2So5+dgjrEVpg1MWXjKhLiAgIKCT6FZM5kbLjtAaHGdbPVhLu1wdo+bHHnWkzJ07V9bXaZA2BCD2vLpkA8KJvc2LB70a0AXA8IbY6VFibB15hrNnvblEctogHTN0gPTSOCZuyvrIs62toCeJ9m5AQEDAHqPbqRIUnZkzmNbWJZlYIKYUGocueCwfZhOffPyxsm71apm7YLEwIs9KdCjNeF6dueRa3ElEzw0I2DMgP0gWo0rW81Se0V9XhWyoK8grs2bL2FGjZeRBtSarEZ1HPz0f4goICAjoCnQbUt8VqbrSjLIcm9bxTVxhi48eLDJq6CB59fW5orrUiL0INaGc0BMpGDztXeUhIGBXsIns1veescWQ5i5YIlu3bJLDJ46XnlVR13vBPmWLfno+PJVrCeQeEBDQeXQbUk/CJsm1w7B4mbf3axqiyXLo0lo9OfGYo2TekmXy5tJNFmqwmyKlyV+7E78kswcEdBJmpdtZWpr0vE7d3PmLZEj/fjJiQO9oLF0lMBoOYqKnyi3zRThhRmhAQEBAJ9EtSX1nMGpO6j8j7OhFqvX8sAnjmFIvM+fMs7hMVIoInI76dqBptesfENBB+NQN2pwpPV++rlkWLFomY4cNkqEDbEFiRetPLpdrXYAplU7M+wgICAjYQ3RvUm/PXHckiJ1TolboycA+KTlk4kS11pfKklUtkQFkrB1Rd9sUW+l8J08KCNht2LILKnMcZr4xT3LK7oeMHSa9lLORMZc4PnmLmpl586fjKchgQEBAZ9FtSB3udeRTTHBDy0W+ZJIzc6b58Il9oyi2PjyryFVnRCZNmiRbtmyTN9980xRlC1OSLU2/L4Yl2Pqte8A7HRHJbg/3bw1HrtwB5MekS//k9LhiTZ28NmeOjBgxTCaNGShpZfkKxFAd97BITbqMDvm0dduDIIMBAQGdRYLhVNnE35QlF40BPkPXF4zZEbjH4/oRP3eO0nSyat7YM+MtVdkTo0B3pBIxyeQ1vilMnBFxFGYufgVTiPqHpwwb2FMOnXCIvPnW67Jhc4vkylNqOUXxAE+nvZCzFexSpmhT+iBLI+AdCoQOmY0tZ/MD+KvEFFpUYJrURRsNIUM4LHKPSzRIfatGnbt4mWyr2yyHTxwj1erHrmxplbF0gaWLmcSpZK6OezMaHjrfAwICugKtTFcCn5XLkq++aAwTfHz5Vodfs1Y89xC3sbGxeI8t/KL+ON/EhXOInDCOrCpHfP+enPOm5qyGRevB49+kabYlXdJ31wpsnyG1IgePHCYbNm6WV9+cJ02qOVHAZrBbrAikSx6s0WANhICA9hATPjKtzqhfZYn5GsgTrqAtUdqarGa4Rbn/1TfekGFDB8uEMcNbCZs0tHHrkuYNgygBTgICAgI6h+2YDIvaCR0kzwE7twG3rrmGrNmG1S1w1o0HTtgOJ3r8SRdS9WVinfD9+aTH0S1+T3NHQCeiZFG2NXo+efww6XXQMJn++kLZWm9quThuyUJ1bKYBbMlalG3b1wx4x0Fl0xp2rfLaCnqGaC6qrKbU6Rk/CxY9sthqfSOrSH+z+s2at1jmLVosx06ZIv3VRHfZsyVk0yx+HFnmpGPSzUnyGBAQELCHaEPqpphiyxqSTZIy26P6blHf//73zRonLiTsu7IR/u1vf1u+9a1vyXe+8x27Fwt+zZo18n//7/+VH/3oR/Lkk0+av1vJPIfneRqcO8kTh4YA5/jtCqwuR27TyuwDe4gcdfSxsmTNRpuwVG/aU6HJ0IWfgv3pL1Vk9NlBnwZgQ7scQLwx5eoFhE/jL9qcxbzURT8e4qgcqdyyY+A2jfD4tGkyevRoOWTccItjacLilmj0e8Leb/M9RhDAgICALkAbUnc4USetaPYrf+aZZ+S4444zQr/pppuKG7cAyHvePCVPJf8TTjhBTj31VIsHbrvtNrO8Bw4caFtJzpkzx/whbZw/w0keIqcHAH+31P05OwKhuHI1w8tVyaJDJ00YKEOHDpWpL70uW1qYMIeFHhF5mkYEg/exYt2NNkPA2xhUv0tDJGmRXLD7GmQPmef014IvcSOO1it6fOih0pvoa5r28lJZsWqNnH32mbbYDBROMFJn1jpO0+TAj8868+k6wgUEBAR0Em1IHWKGyJ1IgVvRkPHgwYPljDPOkKuvvlruuOMOi+dj6t79PmTIEFVoZ8spp5xiXeakiXV+6aWXyiWXXCJ1dXWyaNEiuwdA4P4MCN4bE/QSeDjp7hp5ybaorVRQC0jfCiO8X6XImaeeJCvXbJDnXl5k/mXlZZL37nbSjp8TSD0AEWgjBlyonPBrwHkY4mMCw05rTOgsq7DVC5duFLn3gYflqCOOkDFDe9p+BPzAVOTs3mIayJ5eRTsT4KvAz/wDAgIC9hxtSB1iBhApVrITK1i1apUMGDDAzidOnCgLFiywOFjUkDvEyxGyP+uss+SnP/1pcex86dKlMmHCBOndu7c9A6InDKsccB/pf/e735Vzzz1XfvjDHxaJnGfQOEjmZUfIlOvr2DdvGdt/nRnHh42stGf/9clpsmxDwaypFrWUmISHQubTItOlgdXf8SjyKqKQmGfhksEllne5ylghrzSeTqnRXS7NqYxs1UhPPPuKtOSycv6ZpwszQKKO9viTybhdCoXrL8XStOfFibdOnwsICAjYc7TRJBDoxz/+cTnyyCOtm/2oo46y8+uuu04WL15sVnbPnj2NcJ2wAY0ArOyPfvSjcuutt8qDDz4ojzzyiDz++OMWzy1v7wUgHc5xPJP76QX40pe+ZPd+/vOfL8blGTyP611C4wPim8LUS5TrxeedLI31dfLXqc9KHRGwnMqiCU88H6Rc6wa8o9H6g4jOYs6NoPIUdbtn7fO0QqHMLPTNKjpL14tMfXqaHH/MUTJ6QJnUqn+upUHKIfWCyq/e6GkX00wQOpLb5lkBAQEBe4A2pA6BXn/99TJz5kzrbn/ttdfklVdekV//+tdy7LHH2hg5Y+Zr1641Ek4C0obw+/TpI9XV1XLaaafZ2DlWdm1trWzcuFG2bNli1jlxAM/DucUOaBxgyft58rhLRLtpqAGlalLJOmPj6yKj+4pcet6Z8shTz8rLb22z8VHaI8yWT2va+Rzj+CQQNQoC3nmgEYgIRM3UGIXo54EfEliRzku+iX19VYJodKoQQeqbVGz+cPt90r9fb7n6shNsx8CyXEFqyhk7b9HGZYta9q09TSqh8ZlCnxEIPSAgoKvQhtTdavZzYFavKi8sdoh52rRpRvxY78TFb8WKFRb/jTfesEbA1KlTZfbs2XYPFvZ5550nv/vd78x679Gjh4wYMaKYNih95p5BlWMhUs1RY0HTyqlFhXJV35OPPlhGjh4jd9z7oKzcLFKvwRA7gNj14ZxFHgHvSFhXeFEEVRZUPiKJikgdMk9XuIxgr4s0qPvb9GWybO16ufziC6QnN2DRpzSUniPG3TXh5DIInEbErk7/88jQnAwICOgKJFRNRKpOsBBjElOmTJFRo0bZZ2uMi1911VXmT1f6E088Ydb2woULbVY8cSDyE0880azsyy+/3OJh/R922GFG9sAtdOI4wXcGKc07K8QVsppugd2w9F3yzTZhqb8y+zVXXKyNkPUybcYcyerrsVAIM+ro/szGVlnAOxRFMt8e0S8htqdbIGkakGn7hG3B8gb52/PTZcphh8sJkwaYlW7j8YgTafKFBXKp/9TON+8U4SSnCSN7IEhfQEBAVyClRN5GnfllktQZ23ayBz4+DhET38e76TaH8JkRn/zcjTh03dMt74DQiQNIB2InHvfQE8B3vhdddJGF7y78RVhYxgjdoUp4Wy4tzWpu/em+F+XlV2fLB/7ucjl+Qh+p1ruYM1eWjmyn1rcOeEfBhAemBbHsFIUBf3UaJ6sNxkx5tXW7r64Tuf3Bp+StFRvkox+5Qsb10FtU9msrKvSHhaWuN/AZRqZMWozQy/Sfpu3tV5VRTl1u6Q3gkf474EhD2NeHCAgICNgVEswXwbvbAUoleSQMgk+Ocfs5JA2hc2RGPGkQ19NLEjp+Tug0AIjXFYizqXlS25wkzSJipnFaKjSbWFEXnnGcHDRgoDz06OOybmOjsFdWYy5aDSwgoA2QJ3f8VJizoYS+UU30evWZMWuOLFk8X8448QgZoYSORFfGP40WJmwUNH7KRtiN0CMkZD2WV35toTEZEBDQFdiO1J3QAeQLnLg5YrE7Ybt1TTy31kvJ2tNraGho093uhE8DgHs8rDOwleL0SFcnVpAPZHLNG6BeB6nyvfT8s6S5qUEefGKabNLHZjTLXdOsCDhgYWKKvJT8JIqLwqSlWcUKCx1BmrVgozz9zPMybuxoedeUsVKuYcx0L497iApQfJla2yr/0WZC7KcOi6vzNBFTPZQ8MSAgIGCP0UafOFEDyBqidisdcO5WtR8hbXd0ywPCIGvu9257ZsFD3qSBwz/5LD/vLGgoRHnW52JZqdXOZhuwNt45JfGJw6vl5GOmyCtzF8mzry6xsdGgWAO2A+SLKCnhc8jpkU8il28VmfbCK1JZVSNnvOtEOahKpKfGVdrXiJGs8Qkb68A3q2Dppd5faLXGOcGRKIEBAQEBXYR2uQxSdsvZLW3AOWRMuFvmpX4QavIeSBaHH3E44pzcgafRaWhyNA5ICx5vbmESXOSHAcXa8DVqQFXp8YSjJ8uIkaNVOb8s85dutkVpvAuee9ztGGhjdwHdA52ok2RlI75uTXMef3aGjNBsffalN2Xu/EVy+qmnyejBNZJRyUkV2EVQE0lFS8DyE2CuBjKFZDOabonFX2h4L1Ir9iDPAQEBASVoo1mcWDliae8I7RGw+zlpO4xQYys8eV9pPFB63WHEt9vkI31UurwsOjdfglmWMyL3vrUi555xkk2qu/vRZ2WNGll0rRKX4VDuQ83a8vB4eiIG9TSLTGNxVLQJDtgPoB525WJ4fSadQ8mcdQebC83WGEWQcsrORIHQZy/aIA8++oiccOKJctShg+0HhBWetc2BaOgieJEoVuoxGlF30SSAO3DxQQMIo3M+ihMQEBCw54i1S/eAW+57joTi3g6RYmehGZQsLz5+WI2cc8ZpsnTFKnnw8Zm2kxtb0JgxpeC75bL4PJ9L5M0+f1PHBtocNSgo5LcBtIGWbWyQvMphGUM36bJIFsrT0qiysWBVvfzxD3+W446YLKe/a5KRNlyebWmWTJpGsEuWQu/jqpXQgcuNHpKu9RAQEBDQKcQa6O2AiLSxp3ipEp1ZRJmyNOHYVLijDh8sp5xwjLz44ovyzKurhNXBsNjZaMP25mpinrOm4+weo6AWV1ZdziwvjccnTPb8gP0D6mHHzr8HNySFo+gi2clUViih8/VERtJat3S5b9KqXbG1IL+/+R7p32ugvOesk2VETUTYjJ1XlNeoNU8iiWcEBAQE7Ae8zbQQ1jQTkqJFPtxxbYQbBRetdbwYX7/8nMkyYcxoufWeB2XeSpYIEdnWYPOc0diSa2a8NAJJMGHKx+C5NnS6lyGg83DybivWu18zGlPrNqdmOW04FieiSbdBK/vP9zwsTdvq5dpLL5bR/TNSrpVvMqQoZFlnQRsCQQQCAgL2M9pqvwMdKFUb487HRF4CJudB6OmUWeLV+vZs+MK452UXniMHDTlI/njrbfLqmxulrLpKLXG6YDUu/fAF1ex6IFWfMGWWGs+E8d9eJXlAgqqgfkwMEm73oA2CdLm0NCtBZ7Qy6VbXel3XJHLXk6/I6wuWygeuuEgmj6iScn0I6x5EvTl5ybL98O4/KCAgIGCv4W1GRTGRxwoWro3Aa6pjcl6ZErVtrhFPmlOXbSzIiH4iH7z6Ir3Iyp/vvk/eWN5gn7o15TVG/O19EqRo6dsfv3qbFecBhCSnIgWxJBTRKgvtg/uh6BSLFmg10huzQQXgkadelenTX5ZLzjtXjpo0SMrVn7Si2s6p/OSlorpa8s3IVEBAQMD+xduMhXbndVLRd+uqxXMtTZLWY68qtcbVa0xvkX/+yLWSqe0pN935oMxa0mjfGeew2E2TRw2BKr0H6x7QBW/PZfWwgG4BpADn5Itrpfqo7pOtAD/lmE+XyRat1HV68dAzb8n0l16V95zxLjnvuFGWUE4TbmY9hoI2AQopaa5nSxd9XkUsIwEBAQH7Eei+txHQqvpK8WdDSWXt/gVVyKny6HO9jFrgrNENUTOTma54LParLrvQvqm/5+FHZfmGaFy1OVWu6ZBuZOVH4/bR2L0hKPT9Ci9+r4/W6nAyL0EcwWWEGIyhM5OiSY31h5+ZI8+/+IKceNQUOeO4SdJLhYReeeJXQOAqH1xUVNVKXgnePogICAgI2M/YThWVLtdq3+qWAMIr/fzM4xEGfHU5j8d1Mq2kP/CFafDne3aOHp9zT3fH0FeBzPnMLKFhuQsXPY3uVaVuixfFYWc3YkDsdtaQlyOHVcj7Lnm3rN+4UX531wOydFNE7PZVG/lOUUYtksqy6IieBnQLwNPuijXPHIukU79crtlkiqrDpymrsqZHlknYrOL4yMvL5PHnnpfjDxsjl58xRXqryPDpGmPoZdqoY781YRiHwRsaiipD3B9EISAgYH+jlf0UEKevFFcKJ3vWdIdsfaEYJ+XkAjP4JVecY/c2ronjZO4k7fFKF6/h2tPkecmFa3YM4qjTrJUqWJ5mfpbt7dPCO58vSO9qfa6+6uQxveW9V14sa1evkd/cfI+s3IK1rnlRiz3L9pum2PFo0ftQ9AHdB5FsRSRuJ+ayKofUfRkrH2rVNbZE9ZbOpMxCp+H20uzlctfdd8uRkyfKeWccL70ronkX5SqKEXWr7NtR0zZZ2l7WAgICAvYX2rAbxAmhQspO1g6I+dvf/raceeaZctlll8n8+fON6J2U165dK9///vfl2GOPtTh9+/aV//7v/7ZGwJe//GXbSvWYY46Rb3zjG7Js2bIiYfuznOwhcLZpdSu9vbzsDJH6bkUpfbeGxw2ARIwMjQk9VrIXh1rhJ4zvKx+87Dyp27pRbvrLfTJfLfaNcHl5jeSbUOqaR3395jBJqnvAK7e1khXFE8lUVirP56W5JVqJvaycBV5VxtRxfGDafLnl9rvl9KMOkctPO1r612pDVAXCJERN9db+nOgOJtPR0POmQ0BAQMD+RiujKdwad6vaAcE++eSTdv6HP/xBrrvuOvnBD35Q3JGN8IEDB8oXv/hFmT59uvz1r3+Vww47TM477zwL69evn/zkJz+Rl156Sb7+9a/L8OHDjewBz8LRmMB6p2FRW1trfhA9RzaDoVGxK7Sq77bgJdu8qKJN3Li7XrOgDQjGy7NSlSnYGPvxhw6R91xynmzdskl+e/PtsmqrNnDUP5uuMmIA5Zo/22nTrgL2P0prm3pSl0pLNq+Werx8cJP+gZ43qYn+8FOvyUOPPibHHnmEXHXBOTK0tsImQ7a0NOudDA0xo4J0+V1EDVlQ+qSAgICA/Yk2Osl3UQOQLIDcOZ87d64MGjRIxowZI+9+97vl+eeft7hY0cShQQApQ75/+9vfZPz48RYXf+6fOXOmvPDCC7JmzRpL1xsE/jziLVq0yNLlWaRLet5Nz17tu4Ok1RSr8u2cgyfb0xOe5Zm05PlA2db8blQVXpDjJw2Wqy85V0PT8qs/3C4vzN8gTUoMjS1pwUiHIPLJhAP2D5IVbEfEmxM9KqFjoae1fiHyRipe+Xn1ZpH7H50mf33iSTn52MPlA1eeLGqgR0sEa5RqrPls1AAlJaZGZqVc67xcwxuU3hvsKcFaDwgI6A5oQ+oQ6LRp0+S2226TO++8s3iEjOleZ5MXSLhXr16yevXqoiVNdzkkjZUN+WKp0wVPGNcDBgyQbdu2WXp33XWXLF68uNhocOKur6+35zzzzDMyb94886OxgKW/O93vUdOgFZa6eaq6tUlSfr1jRDnSQtHn5uPGCKROc2LKhIPkiovPt3f63a13yZOvLJHN+Yy0ZNhFe5dJB+xLUJHW+4LDqo7Oixa6VhY9K4tWNclt9zwor73xlhx//PHy9xefJBVamdXK5qwam4+HgCJZjX4q/KW+W5G3J7T2awUEBATsP0SaKgZEunXrViNwxr2XL19uBLxixQoLdwKHZBkz5xzQPQ7BY21D9m+88YYcddRRpgy55wMf+IB873vfs277lStXyuzZs4tj5t7N37t3b7nmmmvkn//5n+Wcc86x++iip7HAOXnbHfBCrYSujYF4xrOd+3aaO0CuhfgaM5eVdEWlpMoqbblY0jRiH1EtH7r6Mhk1erz85f7H5LFXFssGTXJzfV7ttoD9DarcnQlBwuFH7dez+JteL1i8QW67615ZvXGTnHneRXLhhSdIjYb3oKGqkeHxsnSZNDbl1MjnE8jop0Jy1DVXOanWv7WaYIuU5bURWEL3AQEBAfsabUgd8jz77LPlE5/4hHzyk5+Uz372s/K5z31OLr/8ciNpyB2Le+rUqXL44YdLTQ1qUBWlWtkQOAT82GOPWdwRI0YYyUPaED6kjIXP/YyZ4++NguTMdix78gG8i55GhFv2O8J2oTsh8B2lxKzo5nimfjanjZR8QWqqqzTvOUGtQ+wj+4pcc9lpcvLxJ8pDf31S/nTHVKnPpqVBiYBmipNK0u0IO423w4Adeu937CTLCuqj1HUe/qydlQdh1I05Falp0xfIX+55QI35Mrn4wvPk5CMOkp4aRv2yJDBfN/BhA+RfyazJpOxpYk7enm708KhBGBAQELA/0YbUId72xq4hZ7rTGS//yle+Ir/85S/lM5/5jIUx/n377bfbOeT78ssvy8SJE816h5Qh7h/+8IfWOPjmN78pEyZMMMLHUieO35eEW/FO5JDsrkgdEKM1lr6af4/uLvG6Hrc01Yr4/dnNjTXiQbmtFa9h6mjGDFMD7fLTJ8nfnX+WLFu8RH7xp9tlxsKN9lkUC5gw3bBIIuoiKBHwsbPtu91KCLx5m3gEGDkkyS8iEUCQ+1g0Q9s4+wPJfLXJm7+Lfyfurk3sGK0vZKfuWtEaV9tbkdNz4lB+Hkqt5bPqEyeAeDVrIJ8l3vPoTHno6enSb8gYufSyi+XI8f2kl0ar1powslY5ybCwuybi8hFJQQy7iPY+RyZMorRxICm33wMCAgL2H1JqRaP6tgMEn7SgIfRVq1YVreuxY8caaeNPdz0z2gGfug0ZMsSseOLSSGACHNY86dFtP3jwYIvrgMTdooe8r7/+evsE7qKLLopj7CN4SajG5hSSYNW4olLPsziOXmmx8CnTxiaRWQvWyLOvvCbz570pl59zhpx4zCTpqezf0JCTXlVltlY4a80X2yR2pFyjFe+MjOLnVnicIj2VgHHiOE6y0oq37Ud4eTl4Q8uXZZSQkndKlEMR7byUe3FJ4w8ZcrlMRge0FXK5Filn/Xa9YWt9i1TUlFtja+n6gtx29/2ybNVamTLlcLno3OOkn9ZTmSZSm6KOqYkiTe9X+O+AI/NMHn74Yfna174WhwYEBATsGDskdfcutZCx2iFzwiF0t7a9q90VLgqYhgFx27OyS8fUAWl2P1LnMiYkDkbqqcgi10Cs8oXrmuWJZ6bLU397WU49+WS5/Nyj5CAtFkomnW3WdyQVvSHHcqLR4jpF8ojPWaWM50TP5ToK95iWB7NyPZNYhxpPI1i2Ih+Lv7/gOXO05iUuvzaI3s/vsbh2QdxINsyXd9S4nkJUFkB9tDXEVAv2trft7lk3gBZSutx2WKtTL1Zmf+q1dXLrHfdIv57VctVF58jxhwyUKo1axYL/fOWg55Qje6N3B/jvgGMg9YCAgI4gZpYIkDAOoFRwXDvBA0gYQsbPCR04eRPmVj6z5TmH8IGHAeJ6A6BbQZV7KTkZ3DOr76LnZoHrKZ2uYwdUyN9depJcdeXl8vyLL8n//cH/yIy5a81CzGYqNFpGmuEptSCjZWm5mQTVGVHHXb9GXoRH3bu47aDlFrn4WtFufvcD2s2vIXonXNRY4dg233ZOApaIpxSVD2XjNjSiaA1C67VQGbJhEvWE0PFPl8m25oJsVq/VWgG/vONZuenPt8qwEUPlnz/2XjlWCb2HplOVaoriqzzC7azrHhAQEHCgo40qS3ZtOiBfh5N1kpBRsL6QDP4e5vfRCPCJb0lL3uMkGwzdCVHToxT4qsvr+yrZ1Cijlykv0IXbT0MuPWG4fOGj10jf3r3kR7/4nfz8runy1jaRrVoUfPrWEhOak5Ud3dnqNSxvolannpqDcCB8dYZUxnaMw2XVOmVFM1JhTXK2AG2tqf2FiIDdxW/WxvlbtwctSnW8F8u40oVOb4TGzmvrKd+gp+yq16INozKzrLHi7aWpD7bTTWvjSf3qKlPy9Ox18p3r/ywvzXhZLjvrXfLVj5wv45XNa7lNnaQrJZfnGZoGVcKg+44yFhAQEHCAAHW2HZJE60SdhF9D6BA1FrkDssYyp/sdcCQ+XfWeLuFusR8YSBQTfbTkvaVRCyorlWrmVSvxML0Owpg8sod8/hNXy3uvvlxmzZolP/vVHTL11Q2yVMld/0ujkVa5kZYVgRd1PAwBh7WBfW8dfWsN6RHM0cEGI6ni1Lz9Wab+7B3nob0Yxs3RqYH3w0Vx9N1hb49AQ0jP0yl6lOBhlnvVOGVVklO3Wcn+5YXr5bd/flzue+B+GTN8sPzbpz4uV591pFnn0tKk9RRZ/YA9WbLamMo2aF0GUz0gIOBtgDaaDNJ14oV0cUmCdyvbCRuydnLGz7pFFXTF44DHZcKcNwZIx9NyeLz9CvsMLrJ4t1fx6pPTPBIIARPBum/VL9csabUWywo5qdTyGqivftmJ4+TTH7hcRvSrlYcffUz+/MAL8tJSkXnK7Jv01gbKrgxyV2bBIjUaI32clrs+J6dlhGN82EuHx1OyfEuNFa8VpLdqZlqrqdshKtVWUHS8hzVgYse5+9OEoffB7jJrXN9YLetiOfFdeBqXsjHzlVoMMzeI3PK3BfKHh6fJ6jWr5KJTj5Z/vOAUOXpQxr5YoMyqyln7Pa236w30LuVzkilPSaZnlRWhPTwgICDgAAaqrAhIGeLFefe4EzHk7mPjdKd7V7yTPn7JSW9O0oy7k643EkCS0L0h4F30+w+QRexiCvJc2hsa21RoUBxHCVlZRf0Z16Ws9FxJglnUZUryFRrv8FF95EPvOU/OPukYady2WW75y+3y0FOzZdbSvKzXJNgVrEnvz/IkI3eeFFnc5KD1qhXkKbLmyYdeFSjz2JlVv7/gz955Hiz/nPg7WHMlcnTZG5lbY8XfOhqHN5eqUKfELBXSXCiPCF0bSVNfWiI33/Wo/O2FGTJy5Ei5+spL5LQTJsugHmVSpc+pVJfRgrR5dJpsClnD6XNyuca4nKPhgoCAgIADGW00cCmxOqEDzt36dtIHSSJPIpmWj6X7Pcl0k/GS/vsFsGXEmNsbbXhD3GVqMULolld1xaOG2ffKxMnou/Jde16GqJl43tFj5Z/ec7acdewk2bByifzh1rvklgdmyWurRTbr3bZBjDp7sjaS8kpoTJlj0RuyQwnnmrN29HxZ+8MmiynZ6cNyes7E72TPyr4Gn/vRz+Ek7OAMZ0VL/ux7fSYcxizrfnktCRwlEb8ot3CqoTbxkBntG7XMl+rFfS8sl5/97h6Z9tzz0r9nuVx32dnynjOPkknDekq1PtCGybmZ5LQsWXbAxZUyK2QqJa3yl9IaKFfGJ/cBAQEBBzJaNW83wP4kpLaADYq8YoAcLHd4QtxmWdMgiZyRmHUPU6RerFBc1r5bP6g2LReccqj8/cVny4lHTJRli96SP/3xL/Lne16U1xbXySZ9ZLPwKRY7vtEcSEu5NhLKlL0L2WaprFASoqsf8tM8pMqUxPVI34lREY/H7c+GkT6bfzsCdM9uZ9YQcgfTghylix9lxwRKVt2P5hFA5k7oy7aKPPbSKvn1zY/Jk08/Lb179ZQLzzpVrr7wdDlyVB9bGIj5DaRin7kBjpZsRNpMMCRdXPS1AQiEHhAQcODDNVrADhAb7kVw2Z6DEsxSjq/hKKznnBI+5FGu3N9TOf+QgRVy1ckT5ZNXniHHTRwqb82ZJTfd/oDcePuL8sqygmxQ3ub790a9iTZOWkmOJoMvYEPaWbU6SdMMdfXDss+p386wrxpMTo32OLPAlcj1FGervDkgby2kQjba21zKq6RZGzTNqUqb/c62qDjIfKMms1jJ/IHnlsivb3lA7rnvXsnk6+Wqc0+Vf7zqTDlt8mAZVivSR8vXuts1E3xsyWI+PNfoO62eNlchyqHnKfoJ0AOFCz+HgICAAxs7XHxmf4CsYGnun8VnjJbVURzKDsaY8SWHiAF2as8VlKRYXhZAX0byeon9jm9KiblomCqB1Cuxrdws8vSMefLc9JmSbWyQEYMGylmnniCHTuhjXcgQU0YfyvB9cc5DPIyR08wxT4H1yiH/lKaZrM6k1e5luzfBkykfp8b2nubzKzLxUI7TPPdB4KTB/VzjWNr1uemvy4szX7Nte4+YfLicfuLRMnFUb+lBwWqjIK3vX0kBcQOtKb5bt0yohz6Lf+y8FzUv8PUc8gFhhL1bMh2D1xXHsPhMQEBARxBIPQFWdQORgld1nywZ9fTLKFbMGwn4mKx9a61H4pMW3JPm3fAtqJWdV/rNVBiJMZZer9516p6ePk+emPq0rFqxUkYMHyqnn3KynHLCBOmtCXhHPx8PWu+BW+aM43vG4gx5le5tEi+FZ6P4VPcAcfnFubaSSjrAfQwnbNQ/85Y1yRPTnpPpL78ivasrZPLEsXLZuafLiAFV0kMLIs18g3yLbcJjKWsjrGDDH14+WrpMuDOCJw6IuvSLBVWCfVtaO4b/DjgGUg8ICOgIAqnHMB6ITk3lm4IvLRkjJo8FsI6TiMLyTFqLAzhEVJOXHEvGGglljMxzGh1LHuuda6aIsbL+nPmb5fGpU2Xumwsko6Q96eCxcvzRR8ph44ZKrbI6Fjy9yXQK+OfVzDeD37sN2im7xqw2dzIQa9SQ4TMy3p1Sa1AiX7d2m7wxb6E89/IsWbR8tfQdOFiOP/YYOfGoCTKqb9SlHnWUc0fUPChksyY3LBUrmWiFQ2bQ53MtkiZxa9hAkHzJsX0BJbNJzO4A/x1wDKQeEBDQEQRSj0EhQBPQBarfiB1PLx3T+Boaj8m2QmPSVa/wLvqUzeRWZ3wSkQr/+WALex2QrK1uGgVFn/ZBOppUk/pDeis3ZOWFGa/JK6/Pk41btkpFVY2MGzNKphw2ScaN6CN9a0QqNX4FjkRbcpJRpk9+Muhlus/g5VVETgrawmFueUHzRulhjTfoyRZtxSxfUydz3nhL5i1YJOs2bLRyGz1iiJx64rFyxMRB9l4QOW/glOwSm2nzWuw10GxDE9HyMhH1A0qD6qCcDNzv91KfPtTSTeB1xjGQekBAQEcQSD0GhaB634B+R/8XSb2o8JUAdkLqhEQkDVGQmseFNKKu3+Td9gx8rAGgN5q5jS/LwEbkRxf9Ns3DW4ta5NU35sqKVatk/dq1tt75sIP6yhglwJFDDpL+vXvKgD49pSqj5KUsSJZxZD/KnT8vgvv5tcNfl2NHYZ/ZxQlzPyWA4z2yGrZpc5Os37xNVq9ZK8tWrpGly1bI5s1bpbamhww4aKCMm3CITBg3Qkb0i4cZ9B4aLSSZZz5BGZ/KKdnptSOfj2Qmo5H5NA3klNCZoKi327wG69HQc5beNXD0F29Tn14q+xeB1AMCAvYU25G6LyoDXLlks1lVvptl5syZtrXqu9/9biPdhoYGqa6utriAOC+99JKsWLFCxo0bJ+9617vMAt2yZYtMnTrVtmKdPHmyTJo0yfz5Rj35PMAzf/rTn8rBBx9szwGEE39H38R3FZIFUSS7NqWjaI/U20X78dp9Rmnc2HIkLiHePKCLflO9KCFukEVLlsoSJcUNm7dIS4taqZr+oGEjbWvbgwb0k949e6irld69UtIr/syL5xm5xefkyIac44z48/AvzX0SHtaa/8gPx+5127QlsqEO1yzr6+tk3abNslllYOHChfoSLZJWeeqlLY+RA/rLhJHDZcLokTJoQEW0qpvC8+a1nXxOsvySiOJQQsSxNyvmM062NZ1kIsnEuwn8d8cxkHpAQEBH0K6lzspxyWVeIV/2Ur/77rvl1ltvlY997GNy9dVXW7iTMpu6oHxefPFF6d+/v8ydO1e+9KUv2T7rf/zjH005DR061FaYu/LKK2XEiBFFMvfGgT/3hhtusLiXXXaZhZN2cn35tz2oERoPVjN6ZLxYqSmbKyjxqW2vRIQFr5wpqzZkZeWadUqcW2XpitVS11Bve9cX1PqvLM/ExN5DaqsrpH/fPlKtfrU1VdKzpsaO1WraV2lV015qj9+SwuHEzWKBTWp+N9TVy9a6bVK3dZs0NrdI/TZtwG1rlLUbN8q6bXWyralZWjS/5ZVVUq71N2r4MOnXu4eMUDIfObBWDqqNLPIKTZQVeMveQVW8MwRSDwgI2FO0IXWsYS59lTe3jvGDeCHdb3zjG3LWWWeZFc167hAuRAz5f//735dDDz1ULr74YlNCWNvve9/7zH33u9+1eL/97W/ltNNOkzPOOMM2eSGNJGgkQOqjRo2ydEB78d6O8IqIyBX6LEU0qx571AnWrXjG4SHbjZsbZeOGTbJFCXfT5q02Tr1Rj41KsNsaWBJVGwipMklrXWTKK5VIK61eaGD1qu2hAtH2uT5PAGzdutVkAbloVhbOKZE3qeVdyOYklWuRHkrK7FzXp2cvGTBggPTr01d69uypxz7Sq0e19OkRtU+wwL23wJOn2eJ+73RQxoHUAwIC9gTtWupunUOwOM7d7/Of/7ycf/75cvbZZ5viccybN09uv/12OeWUU+T444+X++67T5555hn5whe+YKTONcT89a9/XQ455BC59tpr4zsjrF27Vu69916ZMWOGWfmf/exn5bzzzrNn7O1u9+6CtqQO2hJsc3M26t2IG12Eck/pfVw74W9tFNnWmJMmtfIbW/JS19hi1vTmbVjZDdKgZN+gZjf1W79lI7e3C8i9p5I+s9cryyusx6VGrX1IG9ejOiPV6UYl9ZT0qqmSHlXRbHUyU66ZiT/fj6DnpGcNEg3PpaKNhKrtW/uAQOoBAQF7iu1I/Stf+Yq88sorRWsdMAb+6U9/2rrSnWwhdiw2rDyOS5cutW72M888U0466SS544475MknnzTrHav+8ccft7jf+973LB2677lOYv369VJXVye///3vjfjppvfxdBoXpfHfbigl51a0JXcfc6c7HviCN1mGL9hPVAnBFr7R2/hE28nfj5Aptc7kNS1a0baCknpByvhOrpiLtoCEmTjIZLWM1gntOdoXtLd4PDlgQhxS402wCo2PBR5lX/+YqOmRyLh09HmbLwbDX7zf6QikHhAQsKeItGkC//Ef/yF33nmn/PnPf5Y//OEP8pe//EW+9a1v2Ti5A8KHbJ34saSx2jhu2rTJrD7IuXfv3kXip+se/23btllcJ2jImi58wDPotu3Tp49Zfw7SfbsTOnCu2yGK7S8IMq/kmjPHIizs717ON17RyitasTklaQ3TeMz6Tje3GMmyY1mNOvZ+762130+LdXCNyLCeKRlcm5ZBPTiWFY+Da6PjkJqUDOmRkcHVIgMqta4q8tJX2btXKi+1mh7TJUmTWkIqeJbSkp5B4urYf56jfTuu3vaieq35LGj+c9mmnb97QEBAQMAu0YbUsQxwdJMzcQ3y5RxS5Qj5YkEwm52Jc25NMOYNIdfW1sqbb75ps+Dpin/Pe95j4YyfM8HuueeeszQZL3fQOPBJcKRPuHf3e/o0CHDvXFBN6jCPtTwkp2WBM9KEPfOSyijDplj0xtati8bdtWxZlIX1zlMVhLO9aE6t+KzkINJCk9IqDSrKGvKFhonXerRv5+Nj9DSWotW0Nbr1BpgJb/9tQRyWtE0xoS+X13BNh+eTj6oaKbB/fDpja+K3ZPNax5qffEobJimpyLz9G20BAQEBexvbWepO3gByhVQhXj5HYnycT9P+8z//0ybMYYW/+uqrcuONNxrxX3LJJTY2/t73vldOPvlkOeKII4zor7jiCnn00Uflhz/8oX3qdvjhh9u9wI+QeJLcAaSOw0p/J1jqkeWqDvZsBxGBqoMAtbwjED9m2ehKjeG08nu00A0T2rIsXadVbb31Ss4pJda0Emw6renoNV94Ry5C8ujngMfgADKh/61+HBjhSt9SpieZTBRO7fKZG00QGhpcFzTvaSbpZSosHduyNc5/QEBAQMCeo92JcvsTKPef/exnMmbMGLnwwguNNMhi8ujxIARAgyA5B2B/gjySNxo5HHGlecOP98Al36OVRv06OpZWUCuNatw2s9WJr44bWiNtB9oG0YmmkIjnt9nkNW0BWHc+18rG7RWv9fQ7Sp7nQZ47T3snt1juS/06CpeRZLkmy3t/gnyQP2QD+CecwBu3hCXlnXkpjKt/8Ytf3O/5DwgI6P6ItF43gStiFB1E7YoOcO5KDWWHIw5oJcX9CycPV9rkywmdvPoQAv6utD3v2WxzxHhJ1iuBU35rNL3X9nXnSDpxOVBMO0mnSMYaL77DwEI0+aw2QtS/Uv94imwbm1eSJ9mk2xk8jo3nc1Tnx+T9ZGUnWe0wXEacQIGX9/4G+UA2GK4CyAb5BPi73JBXl/devXpZz1XytxAQEBCwIyR1ercAijjZ/e9A4aEAk0rQw5MKfH/CCbo9JPMLSvO7s3tLUUruNs6NU95i/NxcvH94+y6rpNrqymKX1rCM3ued8YVcix15WhnsTK9A0sVh5loz0+rw51kFnkNaOJ4Vrc7uJO/nXUm73YXI24Nb5+QPOWiPsFl90Y+sEZGUnYCAgIAdoVuROkoOxzfQKGUncSdy/FwJcsT6dXLsLgrcew883zRQyKO/G8Bix8/zzvuk+faMYLO424eH+DFBqea2R2kMd0nmtVHuyOWUfMkDa9Hrue1ypuSda1KCKSXx9pwnaeAaf/VI8QzKxUfVo2v7RC7hugJe/pS1y013AfVM/ly2QWlj1XtzmIsCiMvk0YCAgIDdQbcbU0ep/eAHP5DXX39dDjroIFN23k0ZkV/aSH/Dhg3mz+dvtixqN3gNLDBI3K0qjrwPR74III/kF8WOn7+PX7tC3xmwyOHd5NvmtSGQVgLVlOzYioj+k+PmBt91RWEz4+2796icIUPPD185cPQvIHaVvzJfvF1BuhB73hi7hFzt+SnNq5aTnvv75DVeoTSvHQB5Z9W7IUOGmIVLfp1AKXtvVO0vMBHU5YEj9Y8Vznr9gHInj+SZcPLNJ6LDhg2zz0q5LyAgIGBn6FakjpKDPJhpv3HjRunRo4f5uTJD6aHwIM4HHnjACJKFblCW3UFpu1ImLyhk8uWNkaefftrCTz/9dCN/4qG4eV/OicdscEfU7d2KNtdKhE5+kLzDCL2UQEFM4n7PjlDI5aW5pVEqK6o13Zw8/NBfpbK6Qk49+TRJM8ZOb4Llg+dHjYFio0D9SZ5xeeANifaEy7ORjvPlIOVd5XFneOyxx6zxdO6551pDBLlx2fE62Z+gvpEJiJx6Z3MkJsGxEBMNVfJXlAUNd3Ln81ImjgYEBATsCt2K1CG9UmsEQiSL+HN00mR7Vr53Z3tWlB/Y369C3toD+br55putMfLBD36wTX79HnLuHeH42F7rMSUaoZda4PGjnNQ1pe0tcoOnmKR/9WmTXoQUn7cpoXj+fvnL/5Hyyox8+IMftiSseLG8lXmxwNMlR61BdRyVkHia+pu3wo9AvS094rpFD6LGQTKXHQNLEbNDIBsOJesCYqSsfSx7f8HJ2uv9+eeft4Wevv3tb5t/EsTxunCZ35F8BQQEBDj2XIPuBUDckDhAobkl60SfVG7EQ0mj9PDz8P3pPO9ZbZwA8sVMZ8L8Pcivh+Pv5/q6xnNFp3883fgi4fR94/OUnkfx9JKEEuBaQ4pHiD/6F90f3ef3+93kLyLZ2h49pKaaXVhoXBEvTm8HR4uo93Nuz8LfwuKg2LX6RfHcce152ROHFezlDZAhlxPCSuPva+eEjnPCxgrH32XHj8R3QgfEDwgICNgVyv6DdWG7EVBkrvBcqXHtyg0SRAnSNc+Ssr58rZM94dznRO/w+7sSPIvn8DzAET9vhHDuXfAQC2O9AwcOtMaKx3EwKY3Pxli4Bc7lgIKP0tYLss87uLP2mHmqaz3D1537uSsw7q735thVjX/xpDz4ws89eZ7dq2cPGXTQQOnfr5/lizRYX57y5zxnZc2nb5a6HSNKj3xw0Z/4WOKiQ5RudIzysCN4eVB+HEvrlDJGJti21+vFjy4XexP0xFA2pUg+2+veZZy84ngXHH6eTvL9ePf20g4ICAhIott2vzPRiXFGh1sqrhxdKZJ9FB73ce6KsDR+V4D0SbdUueLHcz0MxZ3s6k3mC5BfgD/5Tm4tSxqEc3/yHUrT2FN43ihfnkmajPFS1pw7cXJOXN7Hy5B4WJbUE0iSU7Lu9hZKy4BrnOfP8+JHR1eV3e4iWSacUy7JPILS/DlcljlS9oRRV5R7QEBAwK7Q7Wa/owhRZq6EXSFzxKEM3S9JJFg3WMV+P0gq8q4mneRzeLaTsgOlzPOTyhs4MQJX3ID0cD5hivtKyakrUNrgSDaePKy9skqSjJdrMv/7Esxw9w1/PK9eH543rgFhvBdIvvfewo7qHX/g5cXGRpQ7+Us26hzJcgb7q6wDAgIOLHQrUncScwXmyo4sEjZz5kx5+eWXrcudJWRR0knlyX1vvfWWPPvss9Y9zyxoFGepwtxTlCpagB/O8024Oz5Heuihh4xg2L720EMPLVq6KHPuu+GGGyyvvO/EiRPlmGOOsXS9kQLae+6ewNMpJZFly5bZ1ri8A1veHnfccXFIBMqdTwxpAJxzzjkyYsQI80+++76CvwMT4sgz5XbwwQcXyw2w2RCT0GhA8a6TJ0+Wo48+Og7deyBvIFlX7vfiiy/Ka6+9ZjLLZEmHv8+cOXNkxowZll/KeNCgQcWhm31ZvgEBAQc2upW2cAXoFokTD2SC4mO/dUj9kUcesU/e8IMg3RLj2/Wf//zn9n01G83cf//9piRJ1y23zsCVNWmRppM4SjfZVe354fnkF5J58MEHZc2aNeYPYQPuZZ178gi4HyWOS1qVPMvT7CxI2xtK5B+wD/7KlSuNBH/9618bYRJGHPJ+1113Wd5xv/rVr9rk38uEdPc2yJPX429/+1tZsmSJ1fVvfvMbq3uXBT5rY1b5vHnzjBi7qux2B14eyfLl+eSTMv7xj39s8uygLNetWyf33nuvNa7YEOkXv/hFsUGHPCXjBwQEBOwM3YrUUYhOGChEJzjvrj7xxBPlyiuvtMU6CCc+Fi8EiBJFaUJCn/jEJ+TMM8+074BZmAYQr7Nw4iItJzRX3A4UuFtY7EePVfbxj3/cuovZnAOwQpgTOefsanfNNdeYJY8S93cDpIdfV+SfNP0dOKcRAZFgQfKt9HXXXWd+s2fPtiNxsNA5/7u/+zv7VIwtddkrH1DmXgbkcW+DfFDXy5cvt0bbhz70IXP40XjyekFeKFfKnrKl54G87m3wbJ7j5eJliDxMmTLF8kI5JYc7aGBhpdMgYTfDf/zHf5S//vWvNsTgDRgn+ICAgIBdoVuROgrPFRgKEThZQEYo6t69e7chPVd8hKPo2daVNJgFjcJcvHjxdsS7pyAvnhbP5Zp8Ykm5Zc21549GBvkBhHsDg3DvhcD6/fSnPy1f//rXbdEd4O+chL9vZ0CeIT5Ix61Xej9YxAdHGN3vlBlxeC/OmbHPsqU0TGhQMaxAWuSJcm8vv3sL5BtrlnwwbEE5MrQBMVKuvAM9DhD/pz71KdsumPN9BS8T4AQPWB0RMqes8COvLjOUMWVLOffr18+63ufOnVusq31ZvgEBAQc2upW2QGFPmzZNLrjgAjn//PPl0ksvlbPPPlve/e53y3PPPdeGQFF0xEfxAa5xkA1KFYXv4R6nK+AKm7ygcBm/x1pkHJR8knfy/cQTTxj5EQeF7XlLKmkUOwum8FXhhAkTrBsZwiJtt+R5V96D+zoLysHJ2AkFUodIgJcbfsSBMPHjPvLEEWKie5tzelV4F95jX4F801NAI4Nne2MnWa6DBw+W//7v/7ZubKx0LHaPty/gz+KI87oElCN+HKkLnDfwkuXovT3E5Ui8gICAgF2hW5E6Cvvkk0+2sWjc3XffbePnDz/8sPk7XFk6XPlhDa1evdqUOxYwihOFicKHGLsCTob+fIYEWC2OfELQOLqozzrrLBk+fLgROySEwqZb2JU0IJ9Y8sQ7/vjjLRxShyxd0ZN3f2ZXwZ9PmTDpjR4FJxjKj++mAc+mQcJMbScmuushTQDxkFdvLOxteL6xaCknGng8n65qemY8nIbJyJEjbV2A97znPbJ06VJrqOwrlDbAXAapxyTBIwvIAA0l8u5hzBVgvXfC8OeYlPeAgICAHaHb9euhvFzZuQMoRQgSgkGJM7mIePhDmnS5HnnkkabsWU97wYIFFj569Gg7djUxAtL1Iw7lzXNQ0pA4VjsTuhijJu8QOEqa/AP8mJQG4bzxxhtGshAljnOcP6OrAAFTpuSPRg89BD6xkHKkh+Fd73qXkTSESZnSfU15Pvroo9YAgdQJ513IK2VPunsb5BviGzdunJUNE+EoOxp9NIrIr8sJ5YqM0PPDkI0vUrQv4KRO+VA2gDr3BieTPMkjdcv7MDufuSB0uU+dOtWWPya/vKPLP3UVEBAQsCt0uxXlgJOkOwczyJk9jMKGhBh7ZCyYXd34fM2JGyKli/iqq64yiw1g1XWWeFxZA89XMp+QIiQH4fEsrOC//OUvMn36dPtc7bzzzjNFfeONNxqZotAZ9+XTLKxlrEomy6HA3UEMyWd1BhC5kwRH0iN9xtF/+ctfyk033WST5SAZekno4oZAISRmvfNp2ze/+U3rEeF+T8vLtbP52x3wDMoF4vvRj35kvSL//M//bOXJBDPKHqKn+/2OO+6wz8SQGYYYPL97Cy5jPId6BjT0OGc2/k9+8hObV0HDid4EnwfAJ3nIzq233ipPPfWU/Pu//7v1MvCe3lDB7e38BwQEHPjodovP7AhkE4XtXZgoSwgJODmhBIF3CbsSdKu0s0gW1Y4IjLzxLJ5PnlzBe4ODNFD+PqPfQZ5pEADicz/PIO+gK/IPks8B5JfrZPmB0jIj3/4+nHvZck4+/bg34c/wvHHEz8sa4EdZ+zX59EbWvgD58bLkSPlS1152Xv7tlVtSrr2c93aZBgQEvL1wwDT9UW4oa5S2Kz5XfgAlisIE7geSyrSrsCNF63lzAvF4fk04fih1zgGKGxJP+vEu+Ps5ritAmjwH8gCeX8Azknny8oQQAXmkHMk/R8oV+D07KpOuhueH55JPypYjefL8kW/PJ5bxviJ0wHMpO/LJ8yF08url5PXs5UVdeLjXhZetvyvHrpTfgICAty+6raXu2UqShSs7/NyfeJx7GIo0CRQiSt3JfV/B88/Rn5vMg+cb7ChvyTgo/c6Su5cFgCTcYkzmERL0T6/aA3lNlj9oz29voL0yoLFB/nkXekDIexL7st6T9eXlC0p7apLl3R54D+71OMl6CwgICNgZ9o222wO0RxIoORyK2oECBEmF6hZOUnnuTIl2JbC8PC/kg+dCRoDzZDjgPHmEDJyo3A90ltBBsjyd0AH58nPWAuDaLUP3J0+AdyEdr4PSd9yb4Dnkw+sXQJZOnj6LnMlpHInLPSB5z95CsnyTJOz+5Idz8pSU4WTPCefeqCKOj9N7+QcEBATsDAfMmLoDRYfCQ0m74kye8zquRN1y4x78kkp3T+BFtaN0/NntWZTA8w6cDP3a702+SzJ+8r06A0+fI3kkzWS+OfozHf4+pe/nae3ofbsa7dW9+/mxtJzwB/gl/fcG/NnJenMk8ww8DmXH0fPm/sTniGsvvYCAgIDtIfL/Aciwz7atLCXkAAAAAElFTkSuQmCC\">"
   ]
  },
  {
   "cell_type": "code",
   "execution_count": null,
   "metadata": {
    "deletable": false,
    "nbgrader": {
     "cell_type": "code",
     "checksum": "426e97258c82824997783f7d9dc79519",
     "grade": false,
     "grade_id": "cell-0739970a63afc78b",
     "locked": false,
     "schema_version": 3,
     "solution": true
    }
   },
   "outputs": [],
   "source": [
    "%%graded # 2 points\n",
    "\n",
    "t = np.linspace(0, 2*np.pi, 200)\n",
    "\n",
    "def parametric_plot(x, y):\n",
    "    plt.plot(np.cos(x*t), np.sin(y*t))\n",
    "    plt.axis(\"scaled\")\n",
    "    \n",
    "x_slider = widgets.IntSlider(min=1, max=10, description=\"x\")\n",
    "y_slider = widgets.IntSlider(min=1, max=10, description=\"y\")\n",
    "arg_dict = dict(x=x_slider, y=y_slider)\n",
    "out = widgets.interactive_output(parametric_plot, arg_dict)\n",
    "\n",
    "# Use HBox and VBox to place the sliders and plot\n",
    "# don't forget to display the final result\n",
    "# YOUR CODE HERE"
   ]
  },
  {
   "cell_type": "code",
   "execution_count": null,
   "metadata": {
    "deletable": false,
    "editable": false,
    "nbgrader": {
     "cell_type": "code",
     "checksum": "984f51bba5529d7738df809a90e89eb6",
     "grade": true,
     "grade_id": "cell-36c07d4a6b42a0ec",
     "locked": true,
     "points": 2,
     "schema_version": 3,
     "solution": false
    }
   },
   "outputs": [],
   "source": [
    "%%tests\n",
    "\n",
    "_test.code_contains(\"HBox\", \"VBox\", \"display.display\")\n",
    "_test.widget_has(\"HBox\", \"VBox\", \"IntSlider\", \"Figure\")"
   ]
  },
  {
   "cell_type": "markdown",
   "metadata": {
    "deletable": false,
    "editable": false,
    "nbgrader": {
     "cell_type": "markdown",
     "checksum": "6f7d77ff038ba195f83af39ea2b5faad",
     "grade": false,
     "grade_id": "cell-39720873a0252b22",
     "locked": true,
     "schema_version": 3,
     "solution": false,
     "task": false
    }
   },
   "source": [
    "# Additional Resources\n",
    "\n",
    "- Official documentation for `ipywidgets` https://ipywidgets.readthedocs.io/en/stable/index.html"
   ]
  }
 ],
 "metadata": {
  "kernelspec": {
   "display_name": "Python 3 (ipykernel)",
   "language": "python",
   "name": "python3"
  },
  "language_info": {
   "codemirror_mode": {
    "name": "ipython",
    "version": 3
   },
   "file_extension": ".py",
   "mimetype": "text/x-python",
   "name": "python",
   "nbconvert_exporter": "python",
   "pygments_lexer": "ipython3",
   "version": "3.10.5"
  }
 },
 "nbformat": 4,
 "nbformat_minor": 4
}
