{
 "cells": [
  {
   "cell_type": "markdown",
   "metadata": {
    "slideshow": {
     "slide_type": "slide"
    }
   },
   "source": [
    "Grading for pre-lecture questions is all or nothing. Partial credit is available for in-class assignments and checkpoints. Partial credit will primarily be determined by the quality of the comments you make in your code. Tell me what you intend the code to do. If there are no comments, there is no partial credit!"
   ]
  },
  {
   "cell_type": "code",
   "execution_count": null,
   "metadata": {},
   "outputs": [],
   "source": [
    "NAME = \"\"\n",
    "COLLABORATORS = \"\""
   ]
  },
  {
   "cell_type": "markdown",
   "metadata": {},
   "source": [
    "---"
   ]
  },
  {
   "cell_type": "code",
   "execution_count": null,
   "metadata": {
    "deletable": false,
    "editable": false,
    "nbgrader": {
     "cell_type": "code",
     "checksum": "1e817b3dc1692c889f3e5d5b9eea6b3f",
     "grade": false,
     "grade_id": "cell-f96e2fe1bcf60b07",
     "locked": true,
     "schema_version": 3,
     "solution": false,
     "task": false
    }
   },
   "outputs": [],
   "source": [
    "import grading_helper as _test"
   ]
  },
  {
   "cell_type": "code",
   "execution_count": null,
   "metadata": {
    "deletable": false,
    "nbgrader": {
     "cell_type": "code",
     "checksum": "ae8e3fb656938ce73f6f8a95dc26e716",
     "grade": false,
     "grade_id": "cell-3c12f552207b6329",
     "locked": false,
     "schema_version": 3,
     "solution": true,
     "task": false
    }
   },
   "outputs": [],
   "source": [
    "# Space for imports, utility functions, etc.\n",
    "\n",
    "# YOUR CODE HERE"
   ]
  },
  {
   "cell_type": "markdown",
   "metadata": {
    "deletable": false,
    "editable": false,
    "nbgrader": {
     "cell_type": "markdown",
     "checksum": "e3e0ecbe7b815b5751782f44bf57e287",
     "grade": false,
     "grade_id": "cell-dc33dd731eb67541",
     "locked": true,
     "schema_version": 3,
     "solution": false,
     "task": false
    }
   },
   "source": [
    "# Least-Squares Fitting and the Photoelectric Effect\n",
    "\n",
    "(Adapted from textbook exercise 3.6)\n",
    "\n",
    "The data below are taken from a historic experiment by Robert Millikan that measured the *photoelectric effect*. When light of an appropriate wavelength is shone on the surface of a metal, the photons in the light can strike conduction electrons in the metal and, sometimes, eject them from the surface into the free space above.\n",
    "\n",
    "|Frequency (Hz) | Voltage (V)|\n",
    "|---------------|------------|\n",
    "|5.4874e+14     |0.5309      |\n",
    "|6.931e+14      |1.0842      |\n",
    "|7.4307e+14     |1.2734      |\n",
    "|8.2193e+14     |1.6598      |\n",
    "|9.6074e+14     |2.19856     |\n",
    "|1.184e+15      |3.10891     |\n",
    "\n",
    "The energy of an ejected electron is equal to the energy of the photon that struck it minus a small amount $\\phi$ called the *work function* of the surface, which represents the energy needed to remove an electron from the surface. The energy of a photon is $h\\nu$, where $h$ is Planck's constant and $\\nu$ is the frequency of the light, and we can measure the energy of an ejected electron by measuring the voltage $V$ that is just sufficient to stop the electron moving. Then the voltage, frequency, and work function are related by the equation\n",
    "$$V = \\frac{h}{e}\\nu - \\phi\\,,$$\n",
    "where $e$ is the charge on the electron. This equation was first given by Albert Einstein in 1905.\n",
    "\n",
    "Plot the raw data from the table above using dots. Observe that the data makes a nearly straight line. Use `gradient` to find the slope at each point of that line. Average those values, and thus calculate an estimate for Planck's constant $h$. Store that value in a variable named `h1`."
   ]
  },
  {
   "cell_type": "code",
   "execution_count": null,
   "metadata": {
    "deletable": false,
    "nbgrader": {
     "cell_type": "code",
     "checksum": "7527b36617e812ec8a59e78e146e1830",
     "grade": false,
     "grade_id": "cell-d1813d01e83e9bc9",
     "locked": false,
     "schema_version": 3,
     "solution": true,
     "task": false
    }
   },
   "outputs": [],
   "source": [
    "%%graded # 2 points\n",
    "\n",
    "# YOUR CODE HERE"
   ]
  },
  {
   "cell_type": "code",
   "execution_count": null,
   "metadata": {
    "deletable": false,
    "editable": false,
    "nbgrader": {
     "cell_type": "code",
     "checksum": "194079be930b08fb85790327a1bfbd78",
     "grade": true,
     "grade_id": "cell-59afd711900926a9",
     "locked": true,
     "points": 2,
     "schema_version": 3,
     "solution": false,
     "task": false
    }
   },
   "outputs": [],
   "source": [
    "%%tests\n",
    "\n",
    "_test.plot_shown()\n",
    "_test.similar(h1, 6.52e-34, atol=1e-36, rtol=1e-3)"
   ]
  },
  {
   "cell_type": "markdown",
   "metadata": {
    "deletable": false,
    "editable": false,
    "nbgrader": {
     "cell_type": "markdown",
     "checksum": "dfb1ca748cf53a4294b40f564afd7de6",
     "grade": false,
     "grade_id": "cell-4eac973d5e07f008",
     "locked": true,
     "schema_version": 3,
     "solution": false,
     "task": false
    }
   },
   "source": [
    "We can do better with a least squares fit.\n",
    "\n",
    "Plot the raw data from the table above using dots. Calculate the best-fit line to this data, then add that line to your graph.\n",
    "\n",
    "Use this best-fit line to calculate a more accurate value for Planck's constant $h$. Save your result in a variable named `h2`.\n",
    "\n",
    "Your graph should look similar to this:\n",
    "<img src=\"data:image/png;base64,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\">"
   ]
  },
  {
   "cell_type": "code",
   "execution_count": null,
   "metadata": {
    "deletable": false,
    "nbgrader": {
     "cell_type": "code",
     "checksum": "02e3a3cf1be301d79699e2259fce99b2",
     "grade": true,
     "grade_id": "cell-28cd512f0288181c",
     "locked": false,
     "points": 5,
     "schema_version": 3,
     "solution": true,
     "task": false
    }
   },
   "outputs": [],
   "source": [
    "%%graded # 8 points\n",
    "\n",
    "# YOUR CODE HERE"
   ]
  },
  {
   "cell_type": "code",
   "execution_count": null,
   "metadata": {
    "deletable": false,
    "editable": false,
    "nbgrader": {
     "cell_type": "code",
     "checksum": "0ca8f4dd9be53f3f5a5a91133b827e8f",
     "grade": true,
     "grade_id": "cell-f5a9150ea27f7626",
     "locked": true,
     "points": 3,
     "schema_version": 3,
     "solution": false,
     "task": false
    }
   },
   "outputs": [],
   "source": [
    "%%tests\n",
    "\n",
    "_test.plot_shown()\n",
    "_test.similar(h2, 6.55e-34, atol=1e-36, rtol=1e-3)\n",
    "_test.similar(h2-h1, 3e-36, atol=1e-36)"
   ]
  }
 ],
 "metadata": {
  "kernelspec": {
   "display_name": "Python 3 (ipykernel)",
   "language": "python",
   "name": "python3"
  },
  "language_info": {
   "codemirror_mode": {
    "name": "ipython",
    "version": 3
   },
   "file_extension": ".py",
   "mimetype": "text/x-python",
   "name": "python",
   "nbconvert_exporter": "python",
   "pygments_lexer": "ipython3",
   "version": "3.10.5"
  }
 },
 "nbformat": 4,
 "nbformat_minor": 4
}
