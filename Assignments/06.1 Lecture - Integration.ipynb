{
 "cells": [
  {
   "cell_type": "markdown",
   "metadata": {
    "slideshow": {
     "slide_type": "slide"
    }
   },
   "source": [
    "Fill in any place that says `# YOUR CODE HERE` or YOUR ANSWER HERE, as well as your name and collaborators below.\n",
    "Grading for pre-lecture assignments is all or nothing. Partial credit is available for in-class assignments and checkpoints, but **only when code is commented**."
   ]
  },
  {
   "cell_type": "code",
   "execution_count": null,
   "metadata": {},
   "outputs": [],
   "source": [
    "NAME = \"\"\n",
    "COLLABORATORS = \"\""
   ]
  },
  {
   "cell_type": "markdown",
   "metadata": {},
   "source": [
    "---"
   ]
  },
  {
   "cell_type": "markdown",
   "metadata": {
    "deletable": false,
    "editable": false,
    "nbgrader": {
     "cell_type": "markdown",
     "checksum": "0281985440139ace3e41766b6b06eb43",
     "grade": false,
     "grade_id": "cell-ec0c8f83ffb0d9c7",
     "locked": true,
     "schema_version": 3,
     "solution": false
    }
   },
   "source": [
    "# Learning Objectives\n",
    "\n",
    "This lecture will show you how to:\n",
    "1. Evaluate numerical integrals with the trapezoidal rule and Simpson's rule\n",
    "2. Estimate the error of your result\n",
    "3. Understand the method behind Gaussian quadrature\n",
    "4. Integrate over infinite ranges\n",
    "5. Evaluate multiple integrals"
   ]
  },
  {
   "cell_type": "code",
   "execution_count": null,
   "metadata": {
    "deletable": false,
    "editable": false,
    "nbgrader": {
     "cell_type": "code",
     "checksum": "673e4aea525864ecc327600cadacbeb6",
     "grade": false,
     "grade_id": "cell-abd1b2cca923116d",
     "locked": true,
     "schema_version": 3,
     "solution": false
    }
   },
   "outputs": [],
   "source": [
    "# imports\n",
    "import numpy as np\n",
    "import matplotlib.pyplot as plt\n",
    "\n",
    "from scipy import integrate # integration routines\n",
    "\n",
    "import grading_helper as _test"
   ]
  },
  {
   "cell_type": "markdown",
   "metadata": {
    "deletable": false,
    "editable": false,
    "nbgrader": {
     "cell_type": "markdown",
     "checksum": "01a34b99a7d7e4d5a5ace5b6b196e001",
     "grade": false,
     "grade_id": "cell-12b43295a0f000dd",
     "locked": true,
     "schema_version": 3,
     "solution": false
    }
   },
   "source": [
    "# Trapezoidal Rule and Simpson's Rule"
   ]
  },
  {
   "cell_type": "code",
   "execution_count": null,
   "metadata": {
    "deletable": false,
    "editable": false,
    "nbgrader": {
     "cell_type": "code",
     "checksum": "a2650fec2a3799f4b57a666fd48b65dc",
     "grade": false,
     "grade_id": "cell-e9692b2c91e495dc",
     "locked": true,
     "schema_version": 3,
     "solution": false
    }
   },
   "outputs": [],
   "source": [
    "%video qv6SwkYKF3w"
   ]
  },
  {
   "cell_type": "markdown",
   "metadata": {
    "deletable": false,
    "editable": false,
    "nbgrader": {
     "cell_type": "markdown",
     "checksum": "1f83e2b0dc586e9c8b939d5270e4f128",
     "grade": false,
     "grade_id": "cell-ef2de58511545032",
     "locked": true,
     "schema_version": 3,
     "solution": false
    }
   },
   "source": [
    "Summary:\n",
    "\n",
    "- The Trapezoidal rule approximates an integrand as a series of line segments.\n",
    "- Simpson's rule is similar, but uses quadratic curves.\n",
    "- Both the Trapezoidal rule and Simpson's rule are the first few terms in the **Taylor expansion** of the integrand.\n",
    "- `scipy.integrate.trapz(array)` and `scipy.integrate.simps(array)` apply this technique."
   ]
  },
  {
   "cell_type": "code",
   "execution_count": null,
   "metadata": {},
   "outputs": [],
   "source": []
  },
  {
   "cell_type": "markdown",
   "metadata": {
    "deletable": false,
    "editable": false,
    "nbgrader": {
     "cell_type": "markdown",
     "checksum": "0afb709d98a98ad94c25d246d837032b",
     "grade": false,
     "grade_id": "cell-e97e11861c0dcf51",
     "locked": true,
     "schema_version": 3,
     "solution": false
    }
   },
   "source": [
    "## Your Turn\n",
    "\n",
    "Write a function named `trapezoidal(f, a, b, N)` that takes a function of one variable `f`, integration limits `a` and `b`, and number of steps `N`, and returns the approximate integral using the trapezoidal rule.\n",
    "\n",
    "You are not permitted to use `scipy`. You need to code the algorithm yourself (it doesn't require that much code)."
   ]
  },
  {
   "cell_type": "code",
   "execution_count": null,
   "metadata": {
    "deletable": false,
    "nbgrader": {
     "cell_type": "code",
     "checksum": "c9636558184ba63bff40e075a218fab7",
     "grade": false,
     "grade_id": "cell-35ad44336baecb36",
     "locked": false,
     "schema_version": 3,
     "solution": true
    }
   },
   "outputs": [],
   "source": [
    "%%graded # 2 points\n",
    "\n",
    "# YOUR CODE HERE"
   ]
  },
  {
   "cell_type": "code",
   "execution_count": null,
   "metadata": {
    "deletable": false,
    "editable": false,
    "nbgrader": {
     "cell_type": "code",
     "checksum": "590ec2e226af1ccedc6bea9debeb22c3",
     "grade": true,
     "grade_id": "cell-da8b5d94fab34508",
     "locked": true,
     "points": 2,
     "schema_version": 3,
     "solution": false
    }
   },
   "outputs": [],
   "source": [
    "%%tests\n",
    "\n",
    "def _f1(x): return x # should be exact for trapezoial rule\n",
    "def _f2(x): return x**2\n",
    "def _f3(x): return x**3\n",
    "\n",
    "_test.code_contains(\"def\", \"trapezoidal\")\n",
    "_test.code_contains(\"trapz\", forbidden=True)\n",
    "_test.similar(trapezoidal(_f1, 0, 1, 2), 1/2) #\n",
    "_test.similar(trapezoidal(_f2, 0, 1, 2), 1/2) # with only 2 points these all look the same to trapezoidal rule\n",
    "_test.similar(trapezoidal(_f3, 0, 1, 2), 1/2) #\n",
    "_test.similar(trapezoidal(_f2, 0, 1, 1000), 1/3)  #\n",
    "_test.similar(trapezoidal(_f3, 0, 1, 1000), 1/4)  # more accurate with more points\n",
    "_test.similar(trapezoidal(_f2, 2, 4, 1000), 56/3) #"
   ]
  },
  {
   "cell_type": "markdown",
   "metadata": {
    "deletable": false,
    "editable": false,
    "nbgrader": {
     "cell_type": "markdown",
     "checksum": "ff310e25140ad8cbef9978047c1c2ae7",
     "grade": false,
     "grade_id": "cell-12b43295a0f000de",
     "locked": true,
     "schema_version": 3,
     "solution": false
    }
   },
   "source": [
    "# Function Decorators"
   ]
  },
  {
   "cell_type": "code",
   "execution_count": null,
   "metadata": {
    "deletable": false,
    "editable": false,
    "nbgrader": {
     "cell_type": "code",
     "checksum": "f0c51f7b93ffafa78a732ee47734283d",
     "grade": false,
     "grade_id": "cell-e9692b2c91e495dd",
     "locked": true,
     "schema_version": 3,
     "solution": false
    }
   },
   "outputs": [],
   "source": [
    "%video 8iS7DQwkfwM"
   ]
  },
  {
   "cell_type": "markdown",
   "metadata": {
    "deletable": false,
    "editable": false,
    "nbgrader": {
     "cell_type": "markdown",
     "checksum": "8dc6bf6fbe12b5c6c550c803f0c6cd8d",
     "grade": false,
     "grade_id": "cell-ef2de58511545033",
     "locked": true,
     "schema_version": 3,
     "solution": false
    }
   },
   "source": [
    "Summary:\n",
    "\n",
    "- Python has a special type of function called a **decorator** these are functions that modify other functions. Here, we used the ` @np.vectorize` decorator to quickly write a function that works seamlessly with numpy arrays."
   ]
  },
  {
   "cell_type": "code",
   "execution_count": null,
   "metadata": {},
   "outputs": [],
   "source": []
  },
  {
   "cell_type": "markdown",
   "metadata": {
    "deletable": false,
    "editable": false,
    "nbgrader": {
     "cell_type": "markdown",
     "checksum": "c4f3a44e2d90e1aa11550c8b4f23e0fd",
     "grade": false,
     "grade_id": "cell-c3979e64ecb0f78e",
     "locked": true,
     "schema_version": 3,
     "solution": false
    }
   },
   "source": [
    "# Estimating Error"
   ]
  },
  {
   "cell_type": "code",
   "execution_count": null,
   "metadata": {
    "deletable": false,
    "editable": false,
    "nbgrader": {
     "cell_type": "code",
     "checksum": "dce82e69d6660e8df1e128b9e6e4144e",
     "grade": false,
     "grade_id": "cell-e55d933eef813232",
     "locked": true,
     "schema_version": 3,
     "solution": false
    }
   },
   "outputs": [],
   "source": [
    "%video RoNIpeYH6mA"
   ]
  },
  {
   "cell_type": "markdown",
   "metadata": {
    "deletable": false,
    "editable": false,
    "nbgrader": {
     "cell_type": "markdown",
     "checksum": "ce71e9bec0f8d574fe122666659c71fb",
     "grade": false,
     "grade_id": "cell-3fc428fa4e7fa976",
     "locked": true,
     "schema_version": 3,
     "solution": false
    }
   },
   "source": [
    "Summary:\n",
    "\n",
    "- Ihe Trapezoidal rule has errors that scale like $\\epsilon\\propto N^{-2}\\,,$\n",
    "while Simpons's rule has errors that scale like $\\epsilon\\propto N^{-4}\\,.$\n",
    "- Simposn's rule is *usually* more accurate, with the exception being functions that vary rapidly between points.\n",
    "- Since floating point numbers have finite precision (of roughly 1 part in $10^{-16}$), there comes a point where increasing $N$ no longer provides a benefit. For the Trapezoidal rule, that point is $N\\sim 10^{8}$ for Simpson's rule, it's $N\\sim 10^{4}$.\n",
    "- To estimate error, re-run integrator with double the points. Call the original answer $I_1$ and the new answer $I_2$. Then for the trapezoidal rule,\n",
    "$$\\epsilon_2 = \\tfrac13(I_2-I_1)\\,.$$\n",
    "With Simpson's rule, the error is\n",
    "$$\\epsilon_2 = \\tfrac{1}{15}(I_2-I_1)\\,.$$"
   ]
  },
  {
   "cell_type": "code",
   "execution_count": null,
   "metadata": {},
   "outputs": [],
   "source": []
  },
  {
   "cell_type": "markdown",
   "metadata": {
    "deletable": false,
    "editable": false,
    "nbgrader": {
     "cell_type": "markdown",
     "checksum": "7e67d1f604f7cb4846b2b4d42ac3973c",
     "grade": false,
     "grade_id": "cell-8360e4f212a6ff6b",
     "locked": true,
     "schema_version": 3,
     "solution": false
    }
   },
   "source": [
    "## Your Turn\n",
    "\n",
    "Use the trapezoidal rule function you wrote above with 10 steps to evaluate the integral\n",
    "$$\\int_0^2(x^4-2x+1)\\,dx\\,.$$ Repeat with 20 steps, and use the two results to calculate the error (for the 20-step value). Save the 20-step integration in a varibale named `I2` and the error in a variable named `err`.\n",
    "\n",
    "(The exact value is 4.4. Why do you think I2 + err $\\ne$ 4.4?)"
   ]
  },
  {
   "cell_type": "code",
   "execution_count": null,
   "metadata": {
    "deletable": false,
    "nbgrader": {
     "cell_type": "code",
     "checksum": "feb97d4ed55491e290a8557975f40721",
     "grade": false,
     "grade_id": "cell-f379c1cb575251f8",
     "locked": false,
     "schema_version": 3,
     "solution": true
    }
   },
   "outputs": [],
   "source": [
    "%%graded # 1 point\n",
    "\n",
    "# YOUR CODE HERE"
   ]
  },
  {
   "cell_type": "code",
   "execution_count": null,
   "metadata": {
    "deletable": false,
    "editable": false,
    "nbgrader": {
     "cell_type": "code",
     "checksum": "32e33508dfe4a9aa48c3294a8526de5c",
     "grade": true,
     "grade_id": "cell-59ddbd886466efc5",
     "locked": true,
     "points": 1,
     "schema_version": 3,
     "solution": false
    }
   },
   "outputs": [],
   "source": [
    "%%tests\n",
    "\n",
    "_test.code_contains(\"trapezoidal\")\n",
    "_test.similar(I2, 4.43)\n",
    "_test.similar(abs(err), 0.0340)"
   ]
  },
  {
   "cell_type": "markdown",
   "metadata": {
    "deletable": false,
    "editable": false,
    "nbgrader": {
     "cell_type": "markdown",
     "checksum": "8b9e11e871106aee1c58a68c4461d6c5",
     "grade": false,
     "grade_id": "cell-816be27c799e9a5e",
     "locked": true,
     "schema_version": 3,
     "solution": false
    }
   },
   "source": [
    "# Gaussian Quadrature"
   ]
  },
  {
   "cell_type": "code",
   "execution_count": null,
   "metadata": {
    "deletable": false,
    "editable": false,
    "nbgrader": {
     "cell_type": "code",
     "checksum": "47279625f33c3346a58e5c21809c3e46",
     "grade": false,
     "grade_id": "cell-938a3475f0b78917",
     "locked": true,
     "schema_version": 3,
     "solution": false
    }
   },
   "outputs": [],
   "source": [
    "%video TgmC7ZpZSZc"
   ]
  },
  {
   "cell_type": "markdown",
   "metadata": {
    "deletable": false,
    "editable": false,
    "nbgrader": {
     "cell_type": "markdown",
     "checksum": "704d437771e390d91bef4db40e5182b2",
     "grade": false,
     "grade_id": "cell-3b9c0f7fca8fa09f",
     "locked": true,
     "schema_version": 3,
     "solution": false
    }
   },
   "source": [
    "Summary:\n",
    "\n",
    "- So far, we've used variations of fitting a low-order Taylor expansion to the integrand to calculate the area beneath the curve. With $N$ points, we could in principle fit a degree $N$ polynomial to our integrand. Notably, the spacing between the $N$ points has been uniform. If we make the spacing be variable, we double the available degrees of freedom in our fit. With $N$ points, we can fit a polynomial of degree $2N-1$.\n",
    "- The hard part is finding the ideal sampling points $x_k$ and their weights $w_k$. In brief, we expand $f(x)$ in terms of the Legendre polynomials $P_N(x)$. The $x_k$ are located at the zeros of the $N$th Legendre polynomial, and the $w_k$ are calculated using the first derivative of the same Legendre polynomial.\n",
    "- `scipy.integrate.quad(func, lower, upper)` is the go-to integrator. Behind the scenes it uses a close cousin of Gaussian Quadrature called [Clenshaw-Curtis quadrature](https://en.wikipedia.org/wiki/Clenshaw%E2%80%93Curtis_quadrature). It's main advantage is that it's much simpler to estimate the error than with Guassian quadrature."
   ]
  },
  {
   "cell_type": "code",
   "execution_count": null,
   "metadata": {},
   "outputs": [],
   "source": []
  },
  {
   "cell_type": "markdown",
   "metadata": {
    "deletable": false,
    "editable": false,
    "nbgrader": {
     "cell_type": "markdown",
     "checksum": "d0bbe6b853cd4a1e965709398586c3a2",
     "grade": false,
     "grade_id": "cell-ee75c910cc1dccc4",
     "locked": true,
     "schema_version": 3,
     "solution": false
    }
   },
   "source": [
    "## Your Turn\n",
    "\n",
    "The normal distribution is given by\n",
    "$$\\frac{1}{\\sqrt{2\\pi}}e^{-x^2/2}\\,.$$\n",
    "Use `integrate.quad` to integrate the normal distribution from 0 to $\\infty$. Store the result in a variable named `I`.\n",
    "> Use `np.inf` for infinity."
   ]
  },
  {
   "cell_type": "code",
   "execution_count": null,
   "metadata": {
    "deletable": false,
    "nbgrader": {
     "cell_type": "code",
     "checksum": "eb5b4f4e39b142a982969af32eb4f949",
     "grade": false,
     "grade_id": "cell-c85222addd195fd0",
     "locked": false,
     "schema_version": 3,
     "solution": true
    }
   },
   "outputs": [],
   "source": [
    "%%graded # 1 point\n",
    "\n",
    "# YOUR CODE HERE"
   ]
  },
  {
   "cell_type": "code",
   "execution_count": null,
   "metadata": {
    "deletable": false,
    "editable": false,
    "nbgrader": {
     "cell_type": "code",
     "checksum": "e0b3ebd9ffec2be3665d83e4decba44b",
     "grade": true,
     "grade_id": "cell-66bb15c80b0dc98c",
     "locked": true,
     "points": 1,
     "schema_version": 3,
     "solution": false
    }
   },
   "outputs": [],
   "source": [
    "%%tests\n",
    "\n",
    "_test.code_contains(\"quad\", \"np.inf\")\n",
    "_test.similar(I, 0.5)"
   ]
  },
  {
   "cell_type": "markdown",
   "metadata": {
    "deletable": false,
    "editable": false,
    "nbgrader": {
     "cell_type": "markdown",
     "checksum": "776060a552754fa8254460984e94735e",
     "grade": false,
     "grade_id": "cell-f7a84d03ea41c766",
     "locked": true,
     "schema_version": 3,
     "solution": false
    }
   },
   "source": [
    "# Multiple Integrals"
   ]
  },
  {
   "cell_type": "code",
   "execution_count": null,
   "metadata": {
    "deletable": false,
    "editable": false,
    "nbgrader": {
     "cell_type": "code",
     "checksum": "4cf8072ecce8f91bc96ae45d5ecac09e",
     "grade": false,
     "grade_id": "cell-ba2346e698dcc615",
     "locked": true,
     "schema_version": 3,
     "solution": false
    }
   },
   "outputs": [],
   "source": [
    "%video 22v8NtaCeAo"
   ]
  },
  {
   "cell_type": "markdown",
   "metadata": {
    "deletable": false,
    "editable": false,
    "nbgrader": {
     "cell_type": "markdown",
     "checksum": "12a31b2cb3aa49891eae2b9599eee09e",
     "grade": false,
     "grade_id": "cell-1695aaf2ccc1da8d",
     "locked": true,
     "schema_version": 3,
     "solution": false
    }
   },
   "source": [
    "Summary:\n",
    "\n",
    "Three approaches for $I = \\iint f(x,y)\\,dx\\,dy$:\n",
    "1. Let\n",
    "$$F(y) = \\int f(x,y)\\,dx$$\n",
    "and\n",
    "$$I = \\int F(y)\\,dy\\,.$$\n",
    "2. Write a custom integrator (especially if more than 3-D). Monte Carlo works well here.\n",
    "3. Use `scipy.integrate.dblquad` (or `tplquad` for 3-D)."
   ]
  },
  {
   "cell_type": "code",
   "execution_count": null,
   "metadata": {},
   "outputs": [],
   "source": []
  },
  {
   "cell_type": "markdown",
   "metadata": {
    "deletable": false,
    "editable": false,
    "nbgrader": {
     "cell_type": "markdown",
     "checksum": "2d2277cf30664e2351030bfbf64ce110",
     "grade": false,
     "grade_id": "cell-23cad2297061c0f7",
     "locked": true,
     "schema_version": 3,
     "solution": false
    }
   },
   "source": [
    "## Your Turn\n",
    "\n",
    "The area of a unit circle can be calculated using integration\n",
    "$$A = \\int_{-1}^1 \\int_{-\\sqrt{1-x^2}}^\\sqrt{1-x^2}\\,dydx\\,.$$\n",
    "Use `dblquad` to evaluate this integral and store the answer in a variable named `A`. (The answer should be $\\pi$.)"
   ]
  },
  {
   "cell_type": "code",
   "execution_count": null,
   "metadata": {
    "deletable": false,
    "nbgrader": {
     "cell_type": "code",
     "checksum": "b6a5dc39f8a1082592452765b3db9460",
     "grade": false,
     "grade_id": "cell-6cc97982ae2c129c",
     "locked": false,
     "schema_version": 3,
     "solution": true
    }
   },
   "outputs": [],
   "source": [
    "%%graded # 1 point\n",
    "\n",
    "# YOUR CODE HERE"
   ]
  },
  {
   "cell_type": "code",
   "execution_count": null,
   "metadata": {
    "deletable": false,
    "editable": false,
    "nbgrader": {
     "cell_type": "code",
     "checksum": "158ed6e5d99e6b43d14df923e5b3757a",
     "grade": true,
     "grade_id": "cell-6f892ea24eb642e8",
     "locked": true,
     "points": 1,
     "schema_version": 3,
     "solution": false
    }
   },
   "outputs": [],
   "source": [
    "%%tests\n",
    "\n",
    "_test.code_contains(\"dblquad\")\n",
    "_test.similar(A, np.pi)"
   ]
  },
  {
   "cell_type": "markdown",
   "metadata": {
    "deletable": false,
    "editable": false,
    "nbgrader": {
     "cell_type": "markdown",
     "checksum": "a7006753a1740453b15e80d5d20cc66e",
     "grade": false,
     "grade_id": "cell-1ae60099cab3bd92",
     "locked": true,
     "schema_version": 3,
     "solution": false
    }
   },
   "source": [
    "# Additional Resources\n",
    "\n",
    "- Textbook sections 5.1 to 5.9 and Appendix C - especially if you want to see a more rigorous derivation of Gaussian quadrature."
   ]
  }
 ],
 "metadata": {
  "kernelspec": {
   "display_name": "Python 3",
   "language": "python",
   "name": "python3"
  },
  "language_info": {
   "codemirror_mode": {
    "name": "ipython",
    "version": 3
   },
   "file_extension": ".py",
   "mimetype": "text/x-python",
   "name": "python",
   "nbconvert_exporter": "python",
   "pygments_lexer": "ipython3",
   "version": "3.7.3"
  }
 },
 "nbformat": 4,
 "nbformat_minor": 4
}
