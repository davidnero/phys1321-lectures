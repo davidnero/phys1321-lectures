{
 "cells": [
  {
   "cell_type": "markdown",
   "metadata": {
    "slideshow": {
     "slide_type": "slide"
    }
   },
   "source": [
    "Grading for pre-lecture questions is all or nothing. Partial credit is available for in-class assignments and checkpoints. Partial credit will primarily be determined by the quality of the comments you make in your code. Tell me what you intend the code to do. If there are no comments, there is no partial credit!"
   ]
  },
  {
   "cell_type": "code",
   "execution_count": null,
   "metadata": {},
   "outputs": [],
   "source": [
    "NAME = \"\"\n",
    "COLLABORATORS = \"\""
   ]
  },
  {
   "cell_type": "markdown",
   "metadata": {},
   "source": [
    "---"
   ]
  },
  {
   "cell_type": "code",
   "execution_count": null,
   "metadata": {
    "deletable": false,
    "editable": false,
    "nbgrader": {
     "cell_type": "code",
     "checksum": "48239f3c8e790de4ea2b65d4e1dd902f",
     "grade": false,
     "grade_id": "cell-302a8d68dcf35b8a",
     "locked": true,
     "schema_version": 3,
     "solution": false
    }
   },
   "outputs": [],
   "source": [
    "import grading_helper as _test"
   ]
  },
  {
   "cell_type": "markdown",
   "metadata": {
    "deletable": false,
    "editable": false,
    "nbgrader": {
     "cell_type": "markdown",
     "checksum": "c2ab1d5f6f701697940dd8d8dbead3ec",
     "grade": false,
     "grade_id": "cell-5ac865fe6046b997",
     "locked": true,
     "schema_version": 3,
     "solution": false
    }
   },
   "source": [
    "# Altitude of a Satellite\n",
    "\n",
    "(Adapted from textbook exercise 2.2)\n",
    "\n",
    "A satellite is to be launched into a circular orbit around the Earth so that it orbits the planet once every $T$ seconds. The altitude $h$ above the Earth's surface that the satellite must have is\n",
    "$$h = \\biggl( {GMT^2\\over4\\pi^2} \\biggr)^{1/3} - R\\,,$$\n",
    "where $G=6.67\\times10^{-11}$ m$^3$kg$^{-1}$s$^{-2}$ is Newton's gravitational constant, $M=5.97\\times10^{24}$ kg is the mass of the Earth, and $R=6371$ km is the radius of the Earth.\n",
    "\n",
    "Import the `math` module to get access to `pi`.\n",
    "\n",
    "Calculate and print the altitude in meters for a satellite with a period of 24 hours. Be careful with the units."
   ]
  },
  {
   "cell_type": "code",
   "execution_count": null,
   "metadata": {
    "deletable": false,
    "nbgrader": {
     "cell_type": "code",
     "checksum": "5a064da6a51ae41db12846dd3d1a08dc",
     "grade": false,
     "grade_id": "cell-702bb317365f16c0",
     "locked": false,
     "schema_version": 3,
     "solution": true
    }
   },
   "outputs": [],
   "source": [
    "%%graded # 5 points\n",
    "\n",
    "# YOUR CODE HERE"
   ]
  },
  {
   "cell_type": "code",
   "execution_count": null,
   "metadata": {
    "deletable": false,
    "editable": false,
    "nbgrader": {
     "cell_type": "code",
     "checksum": "bad9d3db49acda80d3bdc92885ea30fd",
     "grade": true,
     "grade_id": "cell-19c2c0e02f4aa1c6",
     "locked": true,
     "points": 5,
     "schema_version": 3,
     "solution": false
    }
   },
   "outputs": [],
   "source": [
    "%%tests\n",
    "\n",
    "_test.code_contains(\"import\", \"math\")\n",
    "_test.code_contains(\"G\", \"M\", \"R\", \"T\", \"h\") # use sensible variable names\n",
    "\n",
    "_you_printed = float(_test._LAST_OUT)\n",
    "_test.similar(_you_printed, 35900000) # check that the value you printed is close to this number\n",
    "\n",
    "# FYI these cells can have hidden tests, so don't just print(35900000) in your code!"
   ]
  },
  {
   "cell_type": "markdown",
   "metadata": {
    "deletable": false,
    "editable": false,
    "nbgrader": {
     "cell_type": "markdown",
     "checksum": "64b383f007230ab9c3be642aead751fb",
     "grade": false,
     "grade_id": "cell-b47dfaa81baeb4ab",
     "locked": true,
     "schema_version": 3,
     "solution": false
    }
   },
   "source": [
    "# Catalan Numbers\n",
    "\n",
    "(Adapted from textbook exercise 2.7)\n",
    "\n",
    "The Catalan numbers $C_n$ are a sequence of integers 1, 1, 2, 5, 14, 42, 132... that play an important role in quantum mechanics and the theory of disordered systems. (They were central to Eugene Wigner's proof of the so-called [semicircle law](https://en.wikipedia.org/wiki/Wigner_semicircle_distribution).)  They are given by \n",
    "\n",
    "$$C_0 = 1,\\qquad C_{n+1} = \\frac{4n+2}{n+2}C_n\\,.$$\n",
    "\n",
    "Print all Catalan numbers less than or equal to one billion. Note that the Catalan numbers are all integers."
   ]
  },
  {
   "cell_type": "code",
   "execution_count": null,
   "metadata": {
    "deletable": false,
    "nbgrader": {
     "cell_type": "code",
     "checksum": "44a6fc28907cf576224cd4d9bd532b81",
     "grade": false,
     "grade_id": "cell-272f0469717e7873",
     "locked": false,
     "schema_version": 3,
     "solution": true
    }
   },
   "outputs": [],
   "source": [
    "%%graded # 5 points\n",
    "\n",
    "# YOUR CODE HERE"
   ]
  },
  {
   "cell_type": "code",
   "execution_count": null,
   "metadata": {
    "deletable": false,
    "editable": false,
    "nbgrader": {
     "cell_type": "code",
     "checksum": "723c92053b7eb9bf6329487429d83986",
     "grade": true,
     "grade_id": "cell-08dcb55a83caefa0",
     "locked": true,
     "points": 5,
     "schema_version": 3,
     "solution": false
    }
   },
   "outputs": [],
   "source": [
    "%%tests\n",
    "\n",
    "_test.printed(\"1\", \"4862\", \"477638700\") # Check some of the printed values. Hidden test checks others.\n",
    "\n",
    "# Did you go over one billion?\n",
    "_values = [int(v) for v in _test._LAST_OUT.split()]\n",
    "assert max(_values) < 1e9, f\"You went over one billion. Your largest value is {max(_values)}\""
   ]
  }
 ],
 "metadata": {
  "kernelspec": {
   "display_name": "Python 3 (ipykernel)",
   "language": "python",
   "name": "python3"
  },
  "language_info": {
   "codemirror_mode": {
    "name": "ipython",
    "version": 3
   },
   "file_extension": ".py",
   "mimetype": "text/x-python",
   "name": "python",
   "nbconvert_exporter": "python",
   "pygments_lexer": "ipython3",
   "version": "3.10.5"
  }
 },
 "nbformat": 4,
 "nbformat_minor": 4
}
