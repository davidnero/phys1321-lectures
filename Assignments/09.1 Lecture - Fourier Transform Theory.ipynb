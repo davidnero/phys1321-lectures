{
 "cells": [
  {
   "cell_type": "markdown",
   "metadata": {
    "slideshow": {
     "slide_type": "slide"
    }
   },
   "source": [
    "Grading for pre-lecture questions is all or nothing. Partial credit is available for in-class assignments and checkpoints. Partial credit will primarily be determined by the quality of the comments you make in your code. Tell me what you intend the code to do. If there are no comments, there is no partial credit!"
   ]
  },
  {
   "cell_type": "code",
   "execution_count": null,
   "metadata": {},
   "outputs": [],
   "source": [
    "NAME = \"\"\n",
    "COLLABORATORS = \"\""
   ]
  },
  {
   "cell_type": "markdown",
   "metadata": {},
   "source": [
    "---"
   ]
  },
  {
   "cell_type": "markdown",
   "metadata": {
    "deletable": false,
    "editable": false,
    "nbgrader": {
     "cell_type": "markdown",
     "checksum": "8f45b71c24ea97e0e4822d0bf7e1265a",
     "grade": false,
     "grade_id": "cell-ec0c8f83ffb0d9c7",
     "locked": true,
     "schema_version": 3,
     "solution": false
    }
   },
   "source": [
    "# Learning Objectives\n",
    "\n",
    "This lecture will show you how to:\n",
    "1. Expand a function as a Fourier Series\n",
    "2. Calculate the continuous Fourier transform of a function\n",
    "3. Calculate the discrete Fourier transform of an array"
   ]
  },
  {
   "cell_type": "code",
   "execution_count": null,
   "metadata": {
    "deletable": false,
    "editable": false,
    "nbgrader": {
     "cell_type": "code",
     "checksum": "b1bd1ab1f86afb064b210f1ea5c1133e",
     "grade": false,
     "grade_id": "cell-abd1b2cca923116d",
     "locked": true,
     "schema_version": 3,
     "solution": false
    }
   },
   "outputs": [],
   "source": [
    "# imports\n",
    "import numpy as np\n",
    "import matplotlib.pyplot as plt\n",
    "from scipy import integrate\n",
    "\n",
    "import grading_helper as _test"
   ]
  },
  {
   "cell_type": "markdown",
   "metadata": {
    "deletable": false,
    "editable": false,
    "nbgrader": {
     "cell_type": "markdown",
     "checksum": "b0414dc5144208b53b0102367dfb6c98",
     "grade": false,
     "grade_id": "cell-12b43295a0f000dd",
     "locked": true,
     "schema_version": 3,
     "solution": false
    }
   },
   "source": [
    "# Fourier Series"
   ]
  },
  {
   "cell_type": "code",
   "execution_count": null,
   "metadata": {
    "deletable": false,
    "editable": false,
    "nbgrader": {
     "cell_type": "code",
     "checksum": "6febc70a8b03f3e724e537670ce8812b",
     "grade": false,
     "grade_id": "cell-e9692b2c91e495dc",
     "locked": true,
     "schema_version": 3,
     "solution": false
    }
   },
   "outputs": [],
   "source": [
    "%video VxcsfveSEEg"
   ]
  },
  {
   "cell_type": "markdown",
   "metadata": {
    "deletable": false,
    "editable": false,
    "nbgrader": {
     "cell_type": "markdown",
     "checksum": "41ab7532dd87adbc0ef8c1222fe24e8b",
     "grade": false,
     "grade_id": "cell-ef2de58511545032",
     "locked": true,
     "schema_version": 3,
     "solution": false
    }
   },
   "source": [
    "Summary:\n",
    "\n",
    "A periodic function $f(x)$ in the range $-L<x<L$ can be written in the form\n",
    "$$f(x) = \\sum_{k=-\\infty}^\\infty\\gamma_k\\exp\\bigg(\\mathrm{i}\\frac{k\\pi x}{L}\\bigg)\\,,$$\n",
    "where the coefficients $\\gamma_k$ are found using\n",
    "$$\\gamma_k = \\frac{1}{2L}\\int_{-L}^Lf(x)\\exp\\bigg(-\\mathrm{i}\\frac{k\\pi x}{L}\\bigg)\\,dx\\,.$$\n",
    "Note that $\\gamma_k$ is complex, even if $f(x)$ is real."
   ]
  },
  {
   "cell_type": "code",
   "execution_count": null,
   "metadata": {},
   "outputs": [],
   "source": []
  },
  {
   "cell_type": "markdown",
   "metadata": {
    "deletable": false,
    "editable": false,
    "nbgrader": {
     "cell_type": "markdown",
     "checksum": "a4295decfa8076631ca3a3592c4073f4",
     "grade": false,
     "grade_id": "cell-c3979e64ecb0f78e",
     "locked": true,
     "schema_version": 3,
     "solution": false
    }
   },
   "source": [
    "# Continuous Fourier Transform"
   ]
  },
  {
   "cell_type": "code",
   "execution_count": null,
   "metadata": {
    "deletable": false,
    "editable": false,
    "nbgrader": {
     "cell_type": "code",
     "checksum": "38039ad27d443efa59203e7818b5292b",
     "grade": false,
     "grade_id": "cell-e55d933eef813232",
     "locked": true,
     "schema_version": 3,
     "solution": false
    }
   },
   "outputs": [],
   "source": [
    "%video dWvrXBI1zwg"
   ]
  },
  {
   "cell_type": "markdown",
   "metadata": {
    "deletable": false,
    "editable": false,
    "nbgrader": {
     "cell_type": "markdown",
     "checksum": "773932ef0b5f03de3f23adc8765896fd",
     "grade": false,
     "grade_id": "cell-3fc428fa4e7fa976",
     "locked": true,
     "schema_version": 3,
     "solution": false
    }
   },
   "source": [
    "Summary:\n",
    "\n",
    "- Uses:\n",
    "    - Break periodic function into component frequencies\n",
    "    - Smooth and filter functions\n",
    "    - Solve some differential equations\n",
    "\n",
    "$$F(\\omega) = \\frac{1}{2\\pi}\\int_{-\\infty}^\\infty f(x)\\,e^{-\\mathrm{i} \\omega x}\\,dx\\qquad\\mbox{Fourier Transform of $f(x)$}\\,,$$\n",
    "and\n",
    "$$f(x) = \\int_{-\\infty}^\\infty F(\\omega)\\,e^{\\mathrm{i} \\omega x}\\,d\\omega\\qquad\\mbox{Inverse Fourier Transform of $F(\\omega)$}\\,.$$"
   ]
  },
  {
   "cell_type": "code",
   "execution_count": null,
   "metadata": {},
   "outputs": [],
   "source": []
  },
  {
   "cell_type": "markdown",
   "metadata": {
    "deletable": false,
    "editable": false,
    "nbgrader": {
     "cell_type": "markdown",
     "checksum": "689bad9485696af67b7bf91b7587f3ff",
     "grade": false,
     "grade_id": "cell-8360e4f212a6ff6b",
     "locked": true,
     "schema_version": 3,
     "solution": false
    }
   },
   "source": [
    "## Your Turn\n",
    "\n",
    "Calculate the **inverse** Fourier transform of\n",
    "\n",
    "$$F(\\omega) = \\frac{\\omega\\cos\\omega - \\sin\\omega}{\\pi\\omega^2}\\,\\mathrm{i}\\,,$$\n",
    "\n",
    "the result from the video. Since we are working with complex values, you will need to use `quad` twice to evaluate the integral: once for real, and once for imaginary. The result *should* be the original $f(x)$ from the video. Plot the real and imaginary parts. You should see that the imaginary part is zero, as expected, but the real part will be a mess. Why do you think that is? These kinds of failures are why we typically use the **discrete Fourier transform** instead."
   ]
  },
  {
   "cell_type": "code",
   "execution_count": null,
   "metadata": {
    "deletable": false,
    "nbgrader": {
     "cell_type": "code",
     "checksum": "e01ce130c431d646a131c92ed9d19529",
     "grade": false,
     "grade_id": "cell-f379c1cb575251f8",
     "locked": false,
     "schema_version": 3,
     "solution": true
    }
   },
   "outputs": [],
   "source": [
    "%%graded # 2 points\n",
    "\n",
    "# YOUR CODE HERE"
   ]
  },
  {
   "cell_type": "code",
   "execution_count": null,
   "metadata": {
    "deletable": false,
    "editable": false,
    "nbgrader": {
     "cell_type": "code",
     "checksum": "c38474ecac98947abcf4e7fb9e6f3b8a",
     "grade": true,
     "grade_id": "cell-59ddbd886466efc5",
     "locked": true,
     "points": 2,
     "schema_version": 3,
     "solution": false
    }
   },
   "outputs": [],
   "source": [
    "%%tests\n",
    "\n",
    "_test.code_contains(\"quad\", \"cos\", \"sin\", \"exp\")\n",
    "_test.plot_shown()"
   ]
  },
  {
   "cell_type": "markdown",
   "metadata": {
    "deletable": false,
    "editable": false,
    "nbgrader": {
     "cell_type": "markdown",
     "checksum": "651f824f185fcf194d9bbd1da6636549",
     "grade": false,
     "grade_id": "cell-12b43295a0f000de",
     "locked": true,
     "schema_version": 3,
     "solution": false
    }
   },
   "source": [
    "# Discrete Fourier Transform"
   ]
  },
  {
   "cell_type": "code",
   "execution_count": null,
   "metadata": {
    "deletable": false,
    "editable": false,
    "nbgrader": {
     "cell_type": "code",
     "checksum": "6dab1e90ecd387b5694035c8b77d8691",
     "grade": false,
     "grade_id": "cell-e9692b2c91e495dd",
     "locked": true,
     "schema_version": 3,
     "solution": false
    }
   },
   "outputs": [],
   "source": [
    "%video eZrbVlIQRTI"
   ]
  },
  {
   "cell_type": "markdown",
   "metadata": {
    "deletable": false,
    "editable": false,
    "nbgrader": {
     "cell_type": "markdown",
     "checksum": "6a3bdb24b51bcc8d2e3f28babe2e4a54",
     "grade": false,
     "grade_id": "cell-ef2de58511545033",
     "locked": true,
     "schema_version": 3,
     "solution": false
    }
   },
   "source": [
    "Summary:\n",
    "\n",
    "- Suppose we have an array $y$ rather than a function. Then to find the Fourier transform, we need to use a summation instead of an integration. We get exactly the same result if we evaluate the integral in the Fourier transform using the trapezoidal rule. We find that $$c_k = N \\gamma_k = \\sum_{n=0}^{N-1}y_n\\,\\exp\\bigg(-\\mathrm{i}\\frac{2\\pi kn}{N}\\bigg)\\,,$$ where the $c_k$ are analgous to the $\\gamma_k$ we found in the last lecture.\n",
    "- \n",
    "The inverse transform is $$y_n = \\frac{1}{N}\\sum_{k=0}^{N-1}c_k\\,\\exp\\bigg(\\mathrm{i}\\frac{2\\pi kn}{N}\\bigg)\\,.$$\n",
    "- Note that the $1/N$ term is in the inverse equation this time. The choice is actually arbitrary, but the version shown here is the normal convention.\n",
    "- Since the DFT is generally complex, we typically plot its magnitude (using `abs`)."
   ]
  },
  {
   "cell_type": "code",
   "execution_count": null,
   "metadata": {},
   "outputs": [],
   "source": []
  },
  {
   "cell_type": "markdown",
   "metadata": {
    "deletable": false,
    "editable": false,
    "nbgrader": {
     "cell_type": "markdown",
     "checksum": "72e823ea799f76a01296fea00314fc91",
     "grade": false,
     "grade_id": "cell-e97e11861c0dcf52",
     "locked": true,
     "schema_version": 3,
     "solution": false
    }
   },
   "source": [
    "## Your Turn\n",
    "\n",
    "Calculate the **inverse** discrete Fourier transform of the array `c` below. Name your result `y`. "
   ]
  },
  {
   "cell_type": "code",
   "execution_count": null,
   "metadata": {
    "deletable": false,
    "editable": false,
    "nbgrader": {
     "cell_type": "code",
     "checksum": "351d2d727d50f25ba2607e924878fc47",
     "grade": false,
     "grade_id": "cell-bed762fb7b19fb21",
     "locked": true,
     "schema_version": 3,
     "solution": false,
     "task": false
    }
   },
   "outputs": [],
   "source": [
    "c = np.array([38.+0.j, 8.58694955-5.34676842j, 3.34332233+7.52563288j,\n",
    "    -2.93027188+4.82461577j, -2.93027188-4.82461577j, 3.34332233-7.52563288j,\n",
    "    8.58694955+5.34676842j])"
   ]
  },
  {
   "cell_type": "code",
   "execution_count": null,
   "metadata": {
    "deletable": false,
    "nbgrader": {
     "cell_type": "code",
     "checksum": "8ad3f552aa68ce27f5eebf5542444977",
     "grade": false,
     "grade_id": "cell-35ad44336baecb37",
     "locked": false,
     "schema_version": 3,
     "solution": true
    }
   },
   "outputs": [],
   "source": [
    "%%graded # 3 points\n",
    "\n",
    "# YOUR CODE HERE"
   ]
  },
  {
   "cell_type": "code",
   "execution_count": null,
   "metadata": {
    "deletable": false,
    "editable": false,
    "nbgrader": {
     "cell_type": "code",
     "checksum": "d49f84b0737aba2bd63aece1fdd85b0a",
     "grade": true,
     "grade_id": "cell-da8b5d94fab34509",
     "locked": true,
     "points": 3,
     "schema_version": 3,
     "solution": false
    }
   },
   "outputs": [],
   "source": [
    "%%tests\n",
    "\n",
    "_test.code_contains(\"exp\", \"pi\")\n",
    "_test.code_contains(\"fft\", forbidden=True) # We'll use scipy next time. For now, code it yourself.\n",
    "assert y.dtype == \"complex\" # the result is complex in general, even if it's real in this example\n",
    "_test.similar(y, np.array([8, 6, 7, 5, 3, 0, 9]), atol=1e-6)"
   ]
  },
  {
   "cell_type": "markdown",
   "metadata": {
    "deletable": false,
    "editable": false,
    "nbgrader": {
     "cell_type": "markdown",
     "checksum": "00d72f82ba4617e47c10ec4cb272e315",
     "grade": false,
     "grade_id": "cell-1ae60099cab3bd92",
     "locked": true,
     "schema_version": 3,
     "solution": false
    }
   },
   "source": [
    "# Additional Resources\n",
    "\n",
    "- Textbook sections 7.1 and 7.2"
   ]
  }
 ],
 "metadata": {
  "kernelspec": {
   "display_name": "Python 3 (ipykernel)",
   "language": "python",
   "name": "python3"
  },
  "language_info": {
   "codemirror_mode": {
    "name": "ipython",
    "version": 3
   },
   "file_extension": ".py",
   "mimetype": "text/x-python",
   "name": "python",
   "nbconvert_exporter": "python",
   "pygments_lexer": "ipython3",
   "version": "3.10.5"
  }
 },
 "nbformat": 4,
 "nbformat_minor": 4
}
