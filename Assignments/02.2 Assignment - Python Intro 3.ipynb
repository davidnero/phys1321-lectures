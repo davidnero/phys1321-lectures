{
 "cells": [
  {
   "cell_type": "markdown",
   "metadata": {
    "slideshow": {
     "slide_type": "slide"
    }
   },
   "source": [
    "Grading for pre-lecture questions is all or nothing. Partial credit is available for in-class assignments and checkpoints. Partial credit will primarily be determined by the quality of the comments you make in your code. Tell me what you intend the code to do. If there are no comments, there is no partial credit!"
   ]
  },
  {
   "cell_type": "code",
   "execution_count": null,
   "metadata": {},
   "outputs": [],
   "source": [
    "NAME = \"\"\n",
    "COLLABORATORS = \"\""
   ]
  },
  {
   "cell_type": "markdown",
   "metadata": {},
   "source": [
    "---"
   ]
  },
  {
   "cell_type": "code",
   "execution_count": null,
   "metadata": {
    "deletable": false,
    "editable": false,
    "nbgrader": {
     "cell_type": "code",
     "checksum": "662fef4a3e41a7f77356007a8d188bf1",
     "grade": false,
     "grade_id": "cell-2fd0930799d1d5f8",
     "locked": true,
     "schema_version": 3,
     "solution": false
    }
   },
   "outputs": [],
   "source": [
    "import grading_helper as _test"
   ]
  },
  {
   "cell_type": "markdown",
   "metadata": {
    "deletable": false,
    "editable": false,
    "nbgrader": {
     "cell_type": "markdown",
     "checksum": "350384a4794856ec8e428f9428c9b705",
     "grade": false,
     "grade_id": "cell-23e1f15e0f99132a",
     "locked": true,
     "schema_version": 3,
     "solution": false
    }
   },
   "source": [
    "# Electron Energy Levels\n",
    "\n",
    "The energy levels of a single electron atom can be approximated using the formula\n",
    "$$E_n=-(13.6\\ \\mbox{eV})\\,\\frac{Z^2}{n^2}\\,,$$\n",
    "where $Z$ is the atomic number, and $n$ is the principle quantum number (e.g. $n=1$ is the ground state).\n",
    "\n",
    "Your task is to use Python to create a text file that contains the energy levels for all $Z$ ranging from 1 to 92 and $n$ ranging from 1 to 8 (all values inclusive). The file should be nicely formatted. As a simpler example, with $Z$ ranging from 1 to 10 and $n$ ranging from 1 to 5, the contents of the file would look something like:\n",
    "\n",
    "```\n",
    " Z     n = 1     n = 2     n = 3     n = 4     n = 5\n",
    " 1    -13.60     -3.40     -1.51     -0.85     -0.54\n",
    " 2    -54.40    -13.60     -6.04     -3.40     -2.18\n",
    " 3   -122.40    -30.60    -13.60     -7.65     -4.90\n",
    " 4   -217.60    -54.40    -24.18    -13.60     -8.70\n",
    " 5   -340.00    -85.00    -37.78    -21.25    -13.60\n",
    " 6   -489.60   -122.40    -54.40    -30.60    -19.58\n",
    " 7   -666.40   -166.60    -74.04    -41.65    -26.66\n",
    " 8   -870.40   -217.60    -96.71    -54.40    -34.82\n",
    " 9  -1101.60   -275.40   -122.40    -68.85    -44.06\n",
    "10  -1360.00   -340.00   -151.11    -85.00    -54.40\n",
    "```\n",
    "In particular, you should have:\n",
    "1. values for `Z` printed in the first column\n",
    "1. two decimal places\n",
    "2. columns of equal width so values line up vertically\n",
    "3. at least one space between columns\n",
    "4. a heading\n",
    "\n",
    "Name the file `energy_levels.txt`"
   ]
  },
  {
   "cell_type": "code",
   "execution_count": null,
   "metadata": {
    "deletable": false,
    "nbgrader": {
     "cell_type": "code",
     "checksum": "f29c2b71ec66bc178048c2a96b67f5db",
     "grade": false,
     "grade_id": "cell-6a24a9e093616771",
     "locked": false,
     "schema_version": 3,
     "solution": true
    }
   },
   "outputs": [],
   "source": [
    "%%graded # 10 points\n",
    "\n",
    "# YOUR CODE HERE"
   ]
  },
  {
   "cell_type": "code",
   "execution_count": null,
   "metadata": {
    "deletable": false,
    "editable": false,
    "nbgrader": {
     "cell_type": "code",
     "checksum": "5f956304df83df7a9e037035db385c37",
     "grade": false,
     "grade_id": "cell-892e71485bf8b250",
     "locked": true,
     "schema_version": 3,
     "solution": false
    }
   },
   "outputs": [],
   "source": [
    "# make sure the file looks okay\n",
    "with open(\"energy_levels.txt\", \"r\") as file:\n",
    "    _contents = file.readlines()\n",
    "    for line in _contents:\n",
    "        print(line, end=\"\")"
   ]
  },
  {
   "cell_type": "code",
   "execution_count": null,
   "metadata": {
    "deletable": false,
    "editable": false,
    "nbgrader": {
     "cell_type": "code",
     "checksum": "f60f1f5b4e4aa99e327183e1719aa24a",
     "grade": true,
     "grade_id": "cell-fb4d2acc0d45f9f3",
     "locked": true,
     "points": 10,
     "schema_version": 3,
     "solution": false
    }
   },
   "outputs": [],
   "source": [
    "%%tests\n",
    "\n",
    "_test.equal(len(_contents), 93) # heading plus 92 lines\n",
    "_test.equal(_contents[-1].split(), [\"92\", \"-115110.40\", \"-28777.60\", \"-12790.04\", \"-7194.40\", \"-4604.42\",\n",
    "                                    \"-3197.51\", \"-2349.19\", \"-1798.60\"]) # check last line of file"
   ]
  }
 ],
 "metadata": {
  "kernelspec": {
   "display_name": "Python 3 (ipykernel)",
   "language": "python",
   "name": "python3"
  },
  "language_info": {
   "codemirror_mode": {
    "name": "ipython",
    "version": 3
   },
   "file_extension": ".py",
   "mimetype": "text/x-python",
   "name": "python",
   "nbconvert_exporter": "python",
   "pygments_lexer": "ipython3",
   "version": "3.10.5"
  }
 },
 "nbformat": 4,
 "nbformat_minor": 2
}
