{
 "cells": [
  {
   "cell_type": "markdown",
   "metadata": {
    "slideshow": {
     "slide_type": "slide"
    }
   },
   "source": [
    "Grading for pre-lecture questions is all or nothing. Partial credit is available for in-class assignments and checkpoints. Partial credit will primarily be determined by the quality of the comments you make in your code. Tell me what you intend the code to do. If there are no comments, there is no partial credit!"
   ]
  },
  {
   "cell_type": "code",
   "execution_count": null,
   "metadata": {},
   "outputs": [],
   "source": [
    "NAME = \"\"\n",
    "COLLABORATORS = \"\""
   ]
  },
  {
   "cell_type": "markdown",
   "metadata": {},
   "source": [
    "---"
   ]
  },
  {
   "cell_type": "code",
   "execution_count": null,
   "metadata": {
    "deletable": false,
    "editable": false,
    "nbgrader": {
     "cell_type": "code",
     "checksum": "80c29d2605bf5ccb5f196a67bc988dea",
     "grade": false,
     "grade_id": "cell-bf9782521dbeb4da",
     "locked": true,
     "schema_version": 3,
     "solution": false,
     "task": false
    }
   },
   "outputs": [],
   "source": [
    "import grading_helper as _test"
   ]
  },
  {
   "cell_type": "code",
   "execution_count": null,
   "metadata": {
    "deletable": false,
    "nbgrader": {
     "cell_type": "code",
     "checksum": "3e8c0f8eff0aa8475be2b5d2e7ba3e27",
     "grade": false,
     "grade_id": "cell-ed67fbff8650fb70",
     "locked": false,
     "schema_version": 3,
     "solution": true,
     "task": false
    }
   },
   "outputs": [],
   "source": [
    "# Space for imports, utility functions, etc.\n",
    "\n",
    "# YOUR CODE HERE"
   ]
  },
  {
   "cell_type": "markdown",
   "metadata": {
    "deletable": false,
    "editable": false,
    "nbgrader": {
     "cell_type": "markdown",
     "checksum": "bbc4f0348a553a9a9955f0aa2dddd616",
     "grade": false,
     "grade_id": "cell-d88e928fb9bbf336",
     "locked": true,
     "schema_version": 3,
     "solution": false,
     "task": false
    }
   },
   "source": [
    "# Detecting Periodicity\n",
    "\n",
    "(Adapted from textbook exercise 7.2)\n",
    "\n",
    "Download a file called `sunspots.txt`, which contains the observed number of sunspots on the\n",
    "Sun for each month since January 1749. The file contains two columns of numbers, the first representing the month and the second being the sunspot number. Recall that this data was periodic. (Plot it if you don't remember what it looks like.)"
   ]
  },
  {
   "cell_type": "code",
   "execution_count": null,
   "metadata": {
    "deletable": false,
    "editable": false,
    "nbgrader": {
     "cell_type": "code",
     "checksum": "302bc845cafb4ae3300a701e738de354",
     "grade": false,
     "grade_id": "cell-022abfa7601b751d",
     "locked": true,
     "schema_version": 3,
     "solution": false,
     "task": false
    }
   },
   "outputs": [],
   "source": [
    "%download http://www.pitt.edu/~djn23/phys1321/sunspots.txt"
   ]
  },
  {
   "cell_type": "markdown",
   "metadata": {
    "deletable": false,
    "editable": false,
    "nbgrader": {
     "cell_type": "markdown",
     "checksum": "4dc74b0a26fbd75e7383a90cd452ca6a",
     "grade": false,
     "grade_id": "cell-41de78bb78b2f11b",
     "locked": true,
     "schema_version": 3,
     "solution": false,
     "task": false
    }
   },
   "source": [
    "Calculate the FFT of the sunspot data and then calculate the magnitude squared $|c_k|^2$ of the Fourier coefficients as a function of $k$. This is called the **power spectrum**, and is often used when hunting for dominant frequencies, since squaring serves to emphasize the peaks. Save the power spectrum in an array named `power_spectrum`."
   ]
  },
  {
   "cell_type": "code",
   "execution_count": null,
   "metadata": {
    "deletable": false,
    "nbgrader": {
     "cell_type": "code",
     "checksum": "3efc703678b408d366b7137aeb88e3f5",
     "grade": false,
     "grade_id": "cell-91a6f39ac202ef8e",
     "locked": false,
     "schema_version": 3,
     "solution": true,
     "task": false
    }
   },
   "outputs": [],
   "source": [
    "%%graded # 5 points\n",
    "\n",
    "# YOUR CODE HERE"
   ]
  },
  {
   "cell_type": "code",
   "execution_count": null,
   "metadata": {
    "deletable": false,
    "editable": false,
    "nbgrader": {
     "cell_type": "code",
     "checksum": "f36f7626631eb60813a7b7dafce66028",
     "grade": true,
     "grade_id": "cell-3a468098509fb587",
     "locked": true,
     "points": 5,
     "schema_version": 3,
     "solution": false,
     "task": false
    }
   },
   "outputs": [],
   "source": [
    "%%tests\n",
    "\n",
    "_test.equal(len(power_spectrum), 3143) # length\n",
    "_test.similar(power_spectrum[0], 2.66e10) # first term\n",
    "_test.similar(power_spectrum[24], 2.01e9) # spot check\n",
    "_test.similar(power_spectrum[1:1572], np.flip(power_spectrum[1572:])) # symmetric about Nyquist freq.?"
   ]
  },
  {
   "cell_type": "markdown",
   "metadata": {
    "deletable": false,
    "editable": false,
    "nbgrader": {
     "cell_type": "markdown",
     "checksum": "74dd7a1e4666dd78b22c485039290d48",
     "grade": false,
     "grade_id": "cell-9a2f905e587da50a",
     "locked": true,
     "schema_version": 3,
     "solution": false,
     "task": false
    }
   },
   "source": [
    "Plot the power spectrum, with the x-axis in units of frequency (be careful with your units). You should see that there is a noticeable peak at a nonzero value of frequency (you may need to adjust the limits of your graph to be able to see it clearly). The appearance of this peak tells us that there is one frequency in the Fourier series that has a higher amplitude than the others around it&mdash;meaning that there is a large sine-wave term with this frequency, which corresponds to the periodic wave you can see in the original data.\n",
    "\n",
    "Your graph should look like this (although you  may have choosen different frequency units):\n",
    "\n",
    "<img src=\"data:image/png;base64,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\">"
   ]
  },
  {
   "cell_type": "code",
   "execution_count": null,
   "metadata": {
    "deletable": false,
    "nbgrader": {
     "cell_type": "code",
     "checksum": "b4436b58dbb864b33575bef432d5784c",
     "grade": true,
     "grade_id": "cell-80b84e4130d34ff5",
     "locked": false,
     "points": 3,
     "schema_version": 3,
     "solution": true,
     "task": false
    }
   },
   "outputs": [],
   "source": [
    "%%graded # 3 points\n",
    "\n",
    "# YOUR CODE HERE"
   ]
  },
  {
   "cell_type": "markdown",
   "metadata": {
    "deletable": false,
    "editable": false,
    "nbgrader": {
     "cell_type": "markdown",
     "checksum": "7fe703996386ebb68895780b538e18c9",
     "grade": false,
     "grade_id": "cell-4443444933ac8427",
     "locked": true,
     "schema_version": 3,
     "solution": false,
     "task": false
    }
   },
   "source": [
    "What is the period of this largest sine wave **in units of years**? Save your result in a variable named `period`.\n",
    "\n",
    ">Hint: You could write a program to find the peak or you could just inspect the arrays."
   ]
  },
  {
   "cell_type": "code",
   "execution_count": null,
   "metadata": {
    "deletable": false,
    "nbgrader": {
     "cell_type": "code",
     "checksum": "6e82e376a017f6a3f96aeea3af76fc0e",
     "grade": false,
     "grade_id": "cell-1b3d35ac9c4efcfa",
     "locked": false,
     "schema_version": 3,
     "solution": true,
     "task": false
    }
   },
   "outputs": [],
   "source": [
    "%%graded # 2 points\n",
    "\n",
    "# YOUR CODE HERE"
   ]
  },
  {
   "cell_type": "code",
   "execution_count": null,
   "metadata": {
    "deletable": false,
    "editable": false,
    "nbgrader": {
     "cell_type": "code",
     "checksum": "5352b77511656590859a0d05ce217e69",
     "grade": true,
     "grade_id": "cell-8557e1485fdd0b98",
     "locked": true,
     "points": 2,
     "schema_version": 3,
     "solution": false,
     "task": false
    }
   },
   "outputs": [],
   "source": [
    "%%tests\n",
    "\n",
    "_test.similar(period, 11, rtol=0.1) # hidden test checks to higher accuracy"
   ]
  }
 ],
 "metadata": {
  "kernelspec": {
   "display_name": "Python 3 (ipykernel)",
   "language": "python",
   "name": "python3"
  },
  "language_info": {
   "codemirror_mode": {
    "name": "ipython",
    "version": 3
   },
   "file_extension": ".py",
   "mimetype": "text/x-python",
   "name": "python",
   "nbconvert_exporter": "python",
   "pygments_lexer": "ipython3",
   "version": "3.10.5"
  }
 },
 "nbformat": 4,
 "nbformat_minor": 2
}
