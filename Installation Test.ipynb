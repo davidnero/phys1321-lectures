{
 "cells": [
  {
   "cell_type": "markdown",
   "metadata": {},
   "source": [
    "# Check Your Installation\n",
    "\n",
    "Everything below should work in the online version of this notebook. To verify your installation, try opening a copy of this notebook on your computer. First download a copy by right-clicking on the name of this notebook in the file browser (side bar on the left - click on the folder icon if you've closed it). Select \"Download.\"  Now run jupyter on your computer and browse to the file. Verify that all of the cells run correctly. In particular, make sure animations and widgets work."
   ]
  },
  {
   "cell_type": "code",
   "execution_count": 1,
   "metadata": {},
   "outputs": [],
   "source": [
    "# see if required packages are installed\n",
    "import numpy as np\n",
    "from scipy import integrate\n",
    "import matplotlib.pyplot as plt\n",
    "from matplotlib.animation import FuncAnimation\n",
    "import ipywidgets as widgets\n",
    "from IPython import display"
   ]
  },
  {
   "cell_type": "code",
   "execution_count": 2,
   "metadata": {},
   "outputs": [
    {
     "name": "stdout",
     "output_type": "stream",
     "text": [
      "0.33333333333333337\n"
     ]
    }
   ],
   "source": [
    "# try an integration\n",
    "def f(x): return x**2\n",
    "I, err = integrate.quad(f, 0, 1)\n",
    "print(I)"
   ]
  },
  {
   "cell_type": "code",
   "execution_count": 3,
   "metadata": {},
   "outputs": [
    {
     "data": {
      "image/png": "[encoded data removed]",
      "text/plain": [
       "<Figure size 432x288 with 1 Axes>"
      ]
     },
     "metadata": {
      "needs_background": "light"
     },
     "output_type": "display_data"
    }
   ],
   "source": [
    "# make a plot\n",
    "theta = np.linspace(0, 2*np.pi, 200)\n",
    "plt.plot(theta, np.sin(theta))\n",
    "plt.show()"
   ]
  },
  {
   "cell_type": "markdown",
   "metadata": {},
   "source": [
    "# Check Widgets\n",
    "\n",
    "Even if installed correctly, widgets don't work in some web browsers (specifically Internet Explorer). Try a recent version of Chrome, Firefox, etc."
   ]
  },
  {
   "cell_type": "code",
   "execution_count": 4,
   "metadata": {},
   "outputs": [
    {
     "data": {
      "application/vnd.jupyter.widget-view+json": {
       "model_id": "ad7d6129a5594f04af8c52fa56e93153",
       "version_major": 2,
       "version_minor": 0
      },
      "text/plain": [
       "interactive(children=(FloatSlider(value=0.0, description='phi', max=6.283185307179586), Output()), _dom_classe…"
      ]
     },
     "metadata": {},
     "output_type": "display_data"
    }
   ],
   "source": [
    "def plotter(phi):\n",
    "    plt.plot(theta, np.sin(theta + phi))\n",
    "    plt.show()\n",
    "\n",
    "slider = widgets.FloatSlider(min=0, max=2*np.pi)\n",
    "gui = widgets.interactive(plotter, phi=slider)\n",
    "display.display(gui)"
   ]
  },
  {
   "cell_type": "markdown",
   "metadata": {},
   "source": [
    "# Check Animations\n",
    "\n",
    "MacOS can have issues. The root of the problem is that conda's version of [ffmpeg](https://ffmpeg.org/download.html) doesn't always work. In the past, students have had success installing in via [Homebrew](https://brew.sh/) (install Homebrew then run `brew install ffmpeg` in a terminal)."
   ]
  },
  {
   "cell_type": "code",
   "execution_count": 5,
   "metadata": {},
   "outputs": [
    {
     "data": {
      "text/html": [
       "<video width=\"432\" height=\"288\" controls autoplay loop>\n",
       "  <source type=\"video/mp4\" src=\"data:video/mp4;base64,AAAAHGZ0eXBNNFYgAAACAGlzb21pc28yYXZjMQAAAAhmcmVlAABilm1kYXQAAAKuBgX//6rcRem9\n",
       "5tlIt5Ys2CDZI+7veDI2NCAtIGNvcmUgMTU3IHIyOTcwIDU0OTNiZTggLSBILjI2NC9NUEVHLTQg\n",
       "QVZDIGNvZGVjIC0gQ29weWxlZnQgMjAwMy0yMDE5IC0gaHR0cDovL3d3dy52aWRlb2xhbi5vcmcv\n",
       "eDI2NC5odG1sIC0gb3B0aW9uczogY2FiYWM9MSByZWY9MyBkZWJsb2NrPTE6MDowIGFuYWx5c2U9\n",
       "MHgzOjB4MTEzIG1lPWhleCBzdWJtZT03IHBzeT0xIHBzeV9yZD0xLjAwOjAuMDAgbWl4ZWRfcmVm\n",
       "PTEgbWVfcmFuZ2U9MTYgY2hyb21hX21lPTEgdHJlbGxpcz0xIDh4OGRjdD0xIGNxbT0wIGRlYWR6\n",
       "b25lPTIxLDExIGZhc3RfcHNraXA9MSBjaHJvbWFfcXBfb2Zmc2V0PS0yIHRocmVhZHM9OSBsb29r\n",
       "YWhlYWRfdGhyZWFkcz0xIHNsaWNlZF90aHJlYWRzPTAgbnI9MCBkZWNpbWF0ZT0xIGludGVybGFj\n",
       "ZWQ9MCBibHVyYXlfY29tcGF0PTAgY29uc3RyYWluZWRfaW50cmE9MCBiZnJhbWVzPTMgYl9weXJh\n",
       "bWlkPTIgYl9hZGFwdD0xIGJfYmlhcz0wIGRpcmVjdD0xIHdlaWdodGI9MSBvcGVuX2dvcD0wIHdl\n",
       "aWdodHA9MiBrZXlpbnQ9MjUwIGtleWludF9taW49MjUgc2NlbmVjdXQ9NDAgaW50cmFfcmVmcmVz\n",
       "aD0wIHJjX2xvb2thaGVhZD00MCByYz1jcmYgbWJ0cmVlPTEgY3JmPTIzLjAgcWNvbXA9MC42MCBx\n",
       "cG1pbj0wIHFwbWF4PTY5IHFwc3RlcD00IGlwX3JhdGlvPTEuNDAgYXE9MToxLjAwAIAAABBgZYiE\n",
       "AC///vau/MsrRwuVLh1Ze7NR8uhJcv2IMH1oAAADAADVaeUGUpNWI76AAB5Ibwf8/4gFyCmoWIno\n",
       "6Aa2iE8zlPPq7tnEG3SLRR2okHQpmf/XCeFyAKuQ+Vtk+GyCyfo5zXI5Tj7cexqdUpNgrEnDL+uB\n",
       "Hm0EN2HXMC9NDp3EXAtHK0JLXiZNQ9Yqnt8TfIauACT9ymRjdrV8SKhV6xh1YNFMNPulIIyLli/M\n",
       "Akd2l+aDx7sYKgii6TPTxMgqwzRuCb9DZxxnc8pcnRy/BwT8kZAuom3FDNWX3dR92wYRblYfJ3P9\n",
       "xUCElYM5F3116Qus+qU3vSmEPKeHjtiQu1KozOZA6KRKvjcPABsMurb7dIpNVW157ACdFKaJO4Nq\n",
       "8JixaMD9kTxanY/tMUDkAmX+KN6bImt1XMYXgIEAv2RZqgxePqvnWYYlxVT9EpyfcV5Y0T/GGFZe\n",
       "Gdt5FZHCIMKSWSnKcSx7oEz1IrwWqSobbonNu6jG8/Dz14RPyGG3sk/EZ3mnQxdRrizX9wUQuSD4\n",
       "ryyMfgQuMjAgc1S4rlI+0SaqzruveNQJWapLz/m/YEs8X7VAicEGquIg1VDuaC97eOnvLQ/mSfn4\n",
       "Tq6raI56Gr1fe0eKbcNnkoYZyq2odANKb4Imitz3/ps2Ap1INWtDRAT7IY9+pG4pBHXWiSwsihIP\n",
       "4z6L7g7WTfBPlAAGfA/mYjPXGChnGamIupKb/omW4IeBwip9BJkIKKTzsZKAdV0CsRk1UQkoiiaO\n",
       "r/3Z8/ffpFg2N46O7kDEdtjCORKgCDFspveFRtG6gHG76x+ey8QG6JyqQF8YcrsDoZHRmX/Rafa4\n",
       "8+kagq0Y1Xvqk0TYfQEHl7xxaDNwfPGiR6ZJKlfHlIcWooWNB/KplTAedlYVvdTGYjMvZ+UlYKLG\n",
       "C2sCeGpnj4HTFQPrPgQz8JoWWM/SUe1B3BmMf9jhL2Yak0vL5+RoHvLR6LJb+zxtOXWopZBvSbDo\n",
       "H9KKAS7JFjkA4uFtrwxXkyC77XGD9n+RnELHw2E4sN1COLw5htKXV1v9f/qfWYdW6iabwYfRpHRZ\n",
       "jYx0ukjdigb/IPE1eWJMRldQfywwVmrOx0b5eIPg4m19jD3nYmXyKLl9HcHn2d722YgABUS6HvkT\n",
       "9rp+mIexDxl0duUeyyAdXD5QSpNRrv6GfQlntPg952TqqTFBOec71hwuDP0Ppefs01U9+nO4vID6\n",
       "R7BTdW3wDucr6J3WfXyoENeTMWeSOIBdYYNbls8qgcFUO9Q+GSyPej5iDjpWB+Lnxk2uAPIxFDe3\n",
       "zIn8QWguHL+lB0cgOKBYL1PsryuJ6QJkLER0txGr7f6pseiuLt00db3gVMTsaEEkCFkdsb0lgGgK\n",
       "TCPh1rlQhjAT5h+2FlHH4vLfOoY+vzJB49NSOeIyILuDzWUTeFDEn0DuVGvLtHGJcNk6FSIbsgAZ\n",
       "CT7Yx1kIUWf8Lwu7FMpbQEcJPJB2BUx5BTJ5lFQJv/WmTWyRjFMifpf7ueDSfkG41lVRHfohse5Q\n",
       "gHR3Ya2AofwjgPqXK7w+nVeqvD9QnfZ9s0HZcCIYrL786w35X0dXj6nhVl9auR/MS1CLWQsm/Bgp\n",
       "loeGUzfei26yiDF+n0e6l1UCzbF5TKB4am91iZKbSRG/ox4tI2opA1PqGJMrUQ0WKQKmOzT2Hnuz\n",
       "eS7tIxlMDU5c7Sb9CHuobSAdBiBaTzuhck9+spJoZeBwgmFi3zdPaw746pIOHI0Q4x7brzs7qwgM\n",
       "DUWXS5mjVxXKVSr8t8ndoO8hlSb17K57+/98Wf9oT1UFaZl1H/G/fGjdSpWTYi/DDmVJg2RWxLIt\n",
       "NZDXyo1mm5CMBdgX89FaKdU967jXCdcJo7INWAeQGjGieEURULbm+ZX1qfSDUjUxUPpCNYRCrmAf\n",
       "QiS/vHuzbvTkx1kDL4tzsFcNOk44UwRLm1mZW9vov5WTwB3oVrwqKTbgg/6mxct3Te6Gh4RqwLpO\n",
       "YicDD4jssUksHJXHKRhdDoF06WWwLzzYd4iVRvq8cfv5wibFxzULj1AShjFexUQfjhOvlA8/xJmd\n",
       "deF3m43Oorgd+iPN+qjCdPzsvWdQsFlB9+n33wfouYOq6RRDMiyfnwrgQDotdzgRGT1HWqNtE49M\n",
       "SppxSgm7Ty0JQVSKHg9xiYC1caVmZTNk/FPvUnAVcX+E47+Oh+3H44HiEXJTYT6N8FL3EJw0aFrf\n",
       "NVrTf5eTaT+3mn+pBCAWO6w7XiARDN6LYtRs2W9hSu4l6+MYbkRS2GRIdUECd+BhPMyu7dgBTGcC\n",
       "zzUPg88sl0jmWRZMXBI/hc3GdgjrOmbKcn89q8XkYw8ZYcQDsGr1xkFVPoNGAkuTnMQKrOGbyOgi\n",
       "lXQpDcBQdlqtbxREoP1VCgddSSvptpLkKkX9997oixCO3Rp4Dul68ggqaW3p0Epwdap8N/wxHV4h\n",
       "PSU5KfW9+yrFIpJcNJ+yHtJW9HK+TYo5ZYCB+HcQQvLJzZg97a92falWNO9mZRBU+vCOTRdt7yv1\n",
       "EyWEt4C/mzWcEdIAFFG0Z7/Mu7zlp14iy8+NReRdmY2aqEvpAURnbMoUrZtcOkXoCwLGwt3LIXOr\n",
       "6MK76XsllYf8VXzKe2yWPSKTP6frvU82wDbXTYrjsronI+em/l4Kh/GzsAp5LjHVUKB5BQjA2OVp\n",
       "q8L4axjCgvpyrL1nbySneN5hhLradlcXuRrxBzK5J5c8jLj2szGoAn+a6qKLtzHtJbzZjXmG4Gmb\n",
       "gOH8jPRj+90IqoBXh0F7A6MuJ4JBfLFI5rC6jEIA2Mt3tZzklfyNG0VfkJjMbrpb4OX5gsrjT+C8\n",
       "c3RZ0LlAuLgDKQr3/BNkLCJjRxyNOTs1aRc+gx+GbzsCnDWs507ZWvaExj6ouUb/1bwC1VBr8FQQ\n",
       "78tOyimdER8lRf6FP8gE8n4ouR+3NVBaKr/debLHtpuVHgeK5rBLRL0feW/RY8Z6moIcGq4mijtt\n",
       "BgshIU4h3wjBn23jC/syZ3fK9k1imDkEUR7pVCBWC6eEILa7RxxhQzva+AvOjZ2dacRtQUFTIzp6\n",
       "FQEHwyQqZ8Y8jtop51LfowKQINHvgipCYa7uB+MpWf6MGO2C+j29+45SGg12uaCq58m2uKcv4IsU\n",
       "U4e0rdVesVlBq2lYtYFJePtUNERSUraMV1hVCtiq3O0YgFygLoPwOPO6PNm1X+L0kWB6oEUSnlIk\n",
       "MtWlO1A98bjF6zfjUmvBe8DLXzof6QRFTFEiX7jZ1yGpN7MbBLH/0qeQ492/NiVPqm9jArdFjGig\n",
       "/Xym1oVtfa+stS3nqwv4rYl6vmXde9auC6Zxx0+SO1JvA5KDuA3LUnUWjtZIIjlt4D6Jg0F7bDK1\n",
       "sjYAuFwTzjqW9WjTfx2Wx8m9KPZkOU5IdMeqhGxpiXHVNx29++7PebWGPkaJZTDJP8Ig9t7Qyp7k\n",
       "uXbYEfvSdYSAvBeVhIw4+Dp0n77vQlw7C00KkSAENXnaI5jBdbMRyMmvCQQKkWLPaz75W9j5IZun\n",
       "cTjs0Bh0otgjBt1/5jGUKNhahG6BQcWd3rrc7WuAQBZf3jMKQDbbZohx+sfFgtalcjhXRcA0FEyB\n",
       "DdftzEjMjlMR28rbokWCB4x0bo3OsSCx8kfJp/+lOot3WmUYs++6SHLcexQ3e3UBhlFKbOlA4w0w\n",
       "zBB72HA9wT5r3F3MV+Ccm6Q6UBo0l2Om+qTdMdCmNys6/CPd2QU4NpRQqK8CdMIUjC14/zG5Vaeo\n",
       "0QWR27FB9prA2yfphL5XqV6QZ2LHSC7Hy8REdA+yxS8EMJupG/f4f/aU+uNIb+t/Yk0tKocbasrh\n",
       "ZMh0y1GdrE+4yH6NB2UomU7mykJlMA3loaU+sT/pZVAo6FsBmEhaMtMQqbfRHQ39cBHtIzbWZmMR\n",
       "74x9OJNcDkxJf8OKFNG72jlWRYzlHEWFucQiScyRZvsFmu3HefzRNS6L/QMD4owLOKhcxpVgbhcJ\n",
       "l1vDAR70KNV9OROUvqbHWGcG/GhyHrKZbKP9sAEGNo58C+D2TiU2o8Vlp0DXFDdWlrRjkt+NWulU\n",
       "WZXaPJqpKYJB+Y4kdKgVZgBftePcSat6khkDuaH6WpJ/HXfK4hl9rpQAGuv9xQCDJzlcaR4pgZH4\n",
       "8aKpAiLM/UA9Z1XB+XAiTllEGfz3AFq8duUL3kUNBIbN09RGtIWowDHKOPduVW9PIqNu3dGtLvrz\n",
       "+lCSaMqZNCEQkSRYO9w8C27x7P7mNUimmPaB0EzI5josAOqenwHznXFLnjddG6xik1S9j5xygZpa\n",
       "c3pglKoFjSkw8UEvG0ahsv4+QAfVjffJrI3Q248MXzHMI1MlVwDa4c+kDcJ+B/jd0joGD8Ed4JBb\n",
       "xrJmwJDVT5+o+BklSd25YVpk3k+rEaiOB3vyEzI+Cct2QEl4ZLwQswl4Go/N0WKH1l7gCZrLv7vR\n",
       "Xmjfex74qHDWv0m+6uIOYRwPP4mEPqHS4jMyXIQ3DAjbxX1wj9w1ZdSnTd4ZAEmjrKahRhk1/Gs/\n",
       "ODDhR+NFx6u15Ugs1bBwbvtogEwAFbwsE3yMzNyzUSkkCj0CPl84/SgcQ7gZtqCroLO+Eo5bpPvo\n",
       "z7maMsvnGR9itd8hpOoOuRFTovaz4CW1rWjEZzhP+QA1SB6eNzN6tJ3hOXtso3w+XuAxCl+3eztb\n",
       "C2Niv/gKKeylUHacd7wM226b1JsscZ6xOSZxA/w8pVhndwX6HmPaCLaFsMM0ZA9i1wBIcaoGK0Si\n",
       "q/3fdQpjiwgwjLKNXXw5E5Riaa0Jp41/2jjhXlAWQuLJnxiHqJT6kbLG+ycRvBzN+QSAYFYvRp8Y\n",
       "cHrUHS4Ko/OZQ+MbzS3vHMee/0U08PXNau+W/jLIio5te6223QSa65id4pGI23zRi/WW9UcVjOer\n",
       "KG7idDRYq/Z0zEHRgkPq3AAf+R93V2OcT4KNxO0cLF+u/d3ROM3fMy0HYi1WTUwYAb6bUs4hTD0G\n",
       "R7KCJwh7OouUiuQJbhN4T1WZJpl5mXfDrxj6ZvhOdalGdDcwYTVbaHBmm6xKl4AMylfBEV6sz5Dn\n",
       "wfdjDoVp3BEwr8R+2qpCUf1JbtFOvmrb3BFSvPzIMIG7ggJsERikxbgG+kV1kbfyFL7MPu5LIUaV\n",
       "DVK+NoIfsChEphZfVmwh5JuTgmWEyLRlR0biMdnzEtg+mVCJpcXWFrjllTUKuqRTOsnLpQ9V/XX8\n",
       "yH/voGKLDU0KM8mNJN/0ke/4/ZKNjOt177S/63Gn68zINV+v+96/D2XhVBL/wnRVBuBhK+cqKVx3\n",
       "1g0X8xDXUR3PdMxFYwyvqpfNM66OsBNbkDpjPft/fDLgEpY6iLUCCbuBPtlim/rz96vfhg0y0ZhL\n",
       "6+ekrsC+B4BgF8SFfyKeojhzI1sLiJFDGRQ4b9n/T5evI1vKyWtkjo3tBmlJXWr2t+jXDMKkjvE8\n",
       "bPl3zWhofes2exG/iU4cKeG2aHIzhWYtIM0cNXIYu/xVzOyzocanCDH6o7aeKeuCdN8s38CoHFyf\n",
       "mRv8q40m/+D3UusTEmpVEkoGRevFC0bsu63QyDgrDEY3tAP2jDKSWlQUTG9m7mvwtHlEDOFtUUtg\n",
       "E2myirF4iexglfWIg5Qq1j9/wHiXDbJSBA8b4QAAAnpBmiNsQz/+nhBWcWJg0ORFLD9ThegEDL2M\n",
       "XbtkNsi94iUEmZSZy7jQmBoC8OdfMhPpDgzTQTrH1nvWsDxws+Az561HV+WOEdNJVtzKjY/xThzt\n",
       "uuPl14NxrSdeiZJ2odQDz4XhF2x/4bD+7rVE8o0x/0b7hoZtaddwG5RA23+OywMJwiNiYIilYowt\n",
       "Bkb7soIgD4rLly2nc9AUNNnxxV8tw4dla+u3TSnnf48x9OEQZzh3iXv2Iz5C9IcZcl0wAHTXF1/h\n",
       "P6sOS+4lLj24PyF9thSTiSHKJvp9LxmWhT5u+uxt6JNwmjT8/Skc6Zs9vtYLzRj/fMjQEnv8gHZL\n",
       "Wd7IhIpFUQI+p+/aQW+8l006B+l4BZy3a6YYeUxi/WmwnG3Ao1Zxt5nLdDwGhJ+UuktgVmCYjqKe\n",
       "WJuhZ1iRyzBcflT1sfIZ9WiI75bVUW0+l5H/DqXeM2WoAnFQUvJdPBdZQLQQG7SUQ+y0hq7Ln1Lo\n",
       "iNr3ikXcwEpGszYvo476zfai0ZE1GGTl7TD/X1vxYyX3aC7VGmx9gWbEi9kBXPsSK+vGLhPYh1Bo\n",
       "GB5zE0kSbIafvyN20L64OV6mpbdYV90nx5k2dO1YVRbnjp20pPV3dvK/cEa3ys+v2rotBus6IMY3\n",
       "F2yD7F3jzsHMwPwCUX3XvMMLE/YG5kWGAAzVItXWz4Fe+wocTJLSJzp1b2t+bWRNpRw/FGpWkkzm\n",
       "xzlArShA2e0ifZeZVS9zC7gxc4JjT2sIdXYU5ETEIvOLwdJ0uesNfjGo8mRoKCqfVeOp4VoI4FsM\n",
       "otjALPB+mu1aSTiZUsT098+B24T9kE9Jx9tcBDaxkg2AGXXKDZvQAAAA7UGeQXiEfwSyijEnc6U6\n",
       "aX8oq4lULJHaGsTVKj5XRonuOvFj815WZ3NJA/G6dL4Jve5Pk+Lr4sCs4xmZAibw8rYVl3nNCWY5\n",
       "Y7xgSACIOpTnDv8P5nH1XhU6ALfmDNpCZ3HOJ6FNag0RKIvSOUqfiuD337eFHKXa+Tgqs2MtYHC+\n",
       "5BEKeMTBnqkXMC/587HHUwzyyXPZyqFG+Ebmc1ih58x0p+fHZJfJ6sFnACyf/T2V/hwg2BIf50Po\n",
       "i1AvzNtpOJ5/D2ux+Vm3fDRL0oYHH43qVRLowNOD3D1IuhwczhVx11HEot0ykFqT2qEYwQAAAKAB\n",
       "nmJqR/8HQADJngO5H8sd8gt2nDNgLrOsj4SfJU6FPJYo0RCEMINJNkfHdgFiSE160U5nX3mgRsQA\n",
       "P50LvonCbvr6yQiWvoreyKtobEzvSoEqJhq1+paWfDv3LHdExpchOL/37RYSCjf5vR58c0ZCfSm6\n",
       "VhAq5RQaIApHXkO4hVp+LjEANB/uWoZ2dDgBJjkFXuvn12qnN21tSBQ7YgxIAAACEUGaZ0moQWiZ\n",
       "TAhn//6eEFZxY91hg+cz4pJpXuKI0kc0gL2IxzgVPrwWdpnVQy68ONvHWUnb2UA2pBGZ2f2hSvyQ\n",
       "e3eKx4v2K9R2jAbqdQShl/m/3De5JCvI4M5p6G0KkDMTCjjjH+Z36IlizvZumXNGE7f2cTrB73CH\n",
       "VhGxpEdp+y1Vb97E9S0naJ8jM0z2d41nC13ZKCEOFMS0P520aIZV4no6vHAl6Gxxau4XPWulZ1ln\n",
       "oHdcAndM5d5FUKbaTSLAXkanAf3moOdLkoAVc/Z3RJOo5c/h/37qISScG2obvdHJFJVpHUVhQ2fz\n",
       "ZWpPnFa3g5OFYOj3r6IpO1WJ8iJx3dXBqp9m4TvTivsJEVfdvrGwttPTtmm1KPOXHVfHXEOcIHX/\n",
       "AAa2CNWgCx5bIvACz5JyD/LesfqUD3NxbBOLKGfQTQNZM+6M34Muo6+jp5VdQbBB0FwHrWlp0yfh\n",
       "hExtEwznN2punWJ5w/rwqSPM7K2UvhuUf02BRBeMVtbW5dcTGFnQQjuAT05EBhBCqIsZLuCaQGlK\n",
       "UfFGhpatLV5SfQHMucn2SIAyq0HVknqqRyZScJRV8aI0ut9vBvJk4vQiQZYTLBux5nmlzESem/jm\n",
       "iEquv+MT9Is0CKam9pSv1CmNHhysNleRpMXp0sWdZQLfNUPDUdcHJgQq4I7ZVy7fwBKobLdQ0R19\n",
       "rVAJEg4AN+EAAACfQZ6FRREsI/8EzAyXeX+wzXmSbuNfhwEicT2iLCVCR0IGTQYD2zPX3k4rvHyA\n",
       "cfimgBNW/Lf4Y9FxYg3pqD2wZ5VOAP9r0wmvjslMeESMJyGGNj6P8qECDskrtEq7gsr+rdOelAOR\n",
       "06OJtvzUgXCWHdxByI2gRqW/N+EWnfvy/TG/m9wmYTRYALF7c/owHQiOVLlZk/lyv8DdDfxV8r7h\n",
       "AAAAlgGepHRH/wc4U/BjQWN76VJUisIW9WRgSkVCM8FuT7qNw4ZlFUokq6HsCjv/hq4InIfY2rgA\n",
       "/Ct30bmC3lVLrlojyssZsj1IZ3TiqJWsXZv9HWO2v0udARJ3RZwl+ELF8NIQbpcY0KcKhRwq+VKE\n",
       "CzQBTySiVy9+0AzP1NlLY1zNc/M76lxheXDsKgX7QwlT7z+pIjQJCQAAAI0BnqZqR/8DM3OfkSys\n",
       "svVs+dkG27RFCQjrZGu12nAbLIES5Z3vRh20eDoC0KdzMG39giIkNL00RYeyLiXHuvz2xKEB95lv\n",
       "timBxPCZTxdWNjzUSqZA6s1ok2IpKDkSELNoye7OaoBtVloCSQ+XdUJj9cbtnjJH8qPPMnqZ14b+\n",
       "SF7YLaaz6siduxjAEPEAAAGrQZqrSahBbJlMCGf//p4QBxSchArXYJwNwA8PksMLa9vLHwRINgVO\n",
       "oALC+R0oIvwpDUaZkMtJRqXaFaE6cM2qlPMAPTmLMEnJGaQyNI9+LqVX/Dsq0TQuu+xL/YlDNDrr\n",
       "rGhFpszVprqzo+QNsJsgGrea5vp+ak61cF1CbmzGQLWvnwcWiJzzyM0Em89xUIBXs7FacGdlA46P\n",
       "+ypeFg5jL3Irw3LiZsjYbKx2m+LT1o76jhUUMcZKt8pi3V6VbX+PM38J69BkbIKABYiWEl/rXxlX\n",
       "QqoSaU8p7eHwi8jD1fvEFBlwxgs5bs1FXN+fDzjQPdNIZQeNdxfvjKF1/3mi59OoaXOfTmRYus7q\n",
       "Y88Ax0iLDujgtCBsV4jEIy8qqoSfy9PMhSMjtr9Mh544TzarOt/SrVSfOFQFYp+blP2R7UY3erV+\n",
       "xVdSGDfmGwzJ3bRUfMXhYBF7XBAy3+Q6/AyflNmVmIseIcKKYGN7Qoq2QDVsg4PhBbgEv/9M9u8j\n",
       "wnJW8FX1rQQ8MlubvEa9VPJxjRp2wJYah/mFtVayc2WCPAvCdQYsLvxbFFpkwAAAALVBnslFFSwj\n",
       "/wIJPaq4VTXc0yLbeihCosmVkcYhogOM2w5o2Rwfbafg8AD+dSnIHFYtAoOZDqKy3bIppJsMYqAP\n",
       "Gyzrxu1pYFrasbbvu3jvh07ONFHYO66gX41DHc5xOrso3BaDznih44fbzyCi1B0hX4+V68vZFxDU\n",
       "Xi9li/ejnbn8jeKj12U3uldljkqMo21pmSDgHRwhq5QI3IBbZMqMCXuMbjCXkz8F8ZXmlefQe1ss\n",
       "Ts2sAAAAeQGe6HRH/wNHOyJswlIpEQHfXIe9FZyKeUYcfBbYRMM/MCMS2igA/nQp+p5lpoWDXRxm\n",
       "d40dSMUrFMV//TCX4ApSZIUXtHSFc0uJRvu1MLT44PSV4k4AT3o9kUfDnmhhjnzsrkotgzPwrTK+\n",
       "NvrEsFP4iMiZFq9AEVEAAAB1AZ7qakf/A0dzm45ArBt+SZdq1Q6RPixS9euH7LdYpQi1bn8YiezK\n",
       "tcz9VBbfxJFsJZtecnK2sTbXNmZOMimmAaNW2rtApARv3UXrwwg+nHxyqWTYVphcIhhH1HZAGmgR\n",
       "8vQMp8gff161Xu8RmJxIKrAkwHhAAAABqUGa70moQWyZTAhf//6MsAdubyKbP/Y3aQrCeNZcsjW7\n",
       "joAHaGyc1NzdLEfE1iMmj9NbwnCe6/RJLB1cPSy2uqe1bTNzdihR/IXtlu17YBEvI0ehVisqS8tE\n",
       "n21NQ8Vo45nVHWQuQ8WCDvZcm87A444cmViC4tV67rlCCfGoZs00S4kr6ZicL3x+eTEfjRTqxtGz\n",
       "o6KDECWWTIrNOuPs8DaCcFbt3+JD7IIkrAke4cfVyg0ll2d58z5lHTNJWFD7HLkF3YMaKH42egy6\n",
       "si05OIZEPJjhbvH7QFqBhjFI/phjmFriTArneZ2LS/x6crgGb1byzN4jPS8tppTriztsh1Pb1Ql0\n",
       "Zhnp/uqM6crKkfkAxBzTUwYO06n+gccXi5Gc8LHj4DLkijLu9CKP22gxhWQlUnD/CeXYrMlNzW7u\n",
       "6JosUFdzWBD5sO6UBADU8ZDH0ChZEmEs7gWI9ppEaOAsp2Ru6i6OEr4zT9nYKcLa5kqOOmLQMfYM\n",
       "MhzIkkiu7vBl1tq2Gs/0DsF9PIUqO1eKhHNbnWR65beeCkDFNfNgkYF5qPCPWXXMSVkdAAAAtEGf\n",
       "DUUVLCP/Ahk9qrp9SNUtyZwiD5vuvHS88JmlxYalWwAP53mv1X604eoaHPByrm4b1RkK/2+NrenH\n",
       "vy4C5G4NdJKcFjnkxmEskXuF68dwa8L/c/PVQQlvaeuteylSGlbEmyk68/pugktd+UUufx0y0Cc4\n",
       "gi5dAcMp+lY1mjqvm7nQwIXW/TUiFQ1gvF1nkFWy6Zdq88TZEbe9lKK+dTsCZcw2yhdlvlaakYUu\n",
       "/erpBhCzrwAAAIABnyx0R/8DXXaSAy4FH1fvwBexLWIwnLKfr3vvUDxGk2BJc6eqgv5jIj28WqRR\n",
       "yu5L7VBaEgNrNbRzuL+EM1flpLHUUsl12FWFPpJjgzZyi+yARveoM5IqRgrmfOr+U/f30SKsysuL\n",
       "DAdBd/tsscnssAasR6/mtIXLTq1D6ecFzQAAAIkBny5qR/8DXO/X+VjkXmkPOy19nEMrTL8eNTZz\n",
       "eggAnGhQTDcceV8r+iFLNoh61ACzHsAXIjWBOupOCm7cCLe2Yzcgth86MPFeSvYhgi1MOy1t5TF2\n",
       "G48ddY+3liMhQl5yTbQl2LaYGXckymbXqc4kO0SJrQLQf1GGeeRszivSECT4Zff6Wne3oQAAAU1B\n",
       "mzJJqEFsmUwIZ//+nhAHs24QAN164iA3XgKTND5x33owkvu0Vl9l77SgWty9sY8iwL8En7l71YwJ\n",
       "bNPbbUHhKHyIFevYtUH/4nhORBc1+GDspRjH+Q2ru83mfpRZsts2v+EQyivAm4+RExxG2V8hO2sI\n",
       "5gfo48UvjPyVB6ADvxXpp8XpwQUxUV2OJrJKgTnSMEAGJeE/BJGmgV8yI1thJSvNV587BBK23DD0\n",
       "c1q9iSfNSYxhpdInP2zv3x0bkVL8y4gu144NCTpxnmvx9VZNuH/OFP4S3M9VCDL1oY0DGlI4ElvM\n",
       "XHgJQu9WLLRdSrjo6LnmMpyc5fnfvEC02kYjzw2Znu80K5Alx+aWwFduN+h76DYKwKqPd09TM7+n\n",
       "7L859valnNSPlLpfKVs7GFUbYqJWOlkwOLyRS19wrQDGQi3w8nRhtKHOhsZOtWAAAACdQZ9QRRUs\n",
       "I/8CK8hYZ4Xh94iednYrBIDleY9SIGP/g1EXW/QAmWwrLCe9kjyQpxHnX9zyJf4dYzDqD32O8H7Y\n",
       "E99Z77/3YmdAIfGkzMn2vQ4iDDCb9u5Zr79/LQWpfF8yMAqm2o/Rc6JkWYYNRC5mAWxtwfo4S35H\n",
       "4OUfyIMK+8wGdrUMqDcY9vyghmnm77qgnOyF4B8GRm9jYR08aAAAAIoBn3FqR/8HP/S5vpItTzbu\n",
       "Acjx7kUlOTI9j/d0PqF5WBQo6wooa7exKnQbaIQUM9EgOGeoPFUmyv9LsZTA+Kns52gB97ChDU2j\n",
       "huJYu3or2bRznUfec9efPxSSgunGVIkQuo9zqXTHExymgcHQw28/kZ+SYrp5TFthH6LU2cxowiB3\n",
       "A7W4u6GOICEAAAHRQZt2SahBbJlMCGf//p4QVnFiYNaXvAXADj1CrfM+LQrK83nXJlJio6ztlVAT\n",
       "Fvs5tRr89r7JW/8g8y2OSV0WHmk30l4nELUG2F+4vwjiA6JRLnYW23gxjipjOvos+lFw1KyLcfmI\n",
       "W/rIRMxu1eRDJaUWftqaJ7A2z51Bf6Wt7BI7dxILJAIYrGcUEAsX+9TjKOqD1Tv9dTiq906ZxmO1\n",
       "rS9CFdqY+ViSuCi9k+LjiYtguis/19T/vjgiJu6MesUPD7GPvXXSFlM1Ho6tzZ6LaEY2rRZd/q/U\n",
       "OebuCAVziV3S0I00QMOit3mPL0DYXX27/bz7B2SQSe29s9YuVt32Gp3oVCFulP2Qt87AgatRao/R\n",
       "IfR1+c7EaURwDSXHEwicjTNp/UHcFnlTs1AM0PN60s5AiA9i3CmcVVTab9mysasJFCUupH/x+Hea\n",
       "0plOb5jEcM6oGUdchy9XuVSW2QFqT4f47pWQ456i/hL7cQ4Y/rrLziOYkqxcLR2lQzTFpXbxV0+J\n",
       "iZ2t/dgka6+/bViCg0Aah200JX8aR6ym6e2GMej84dlMbO64Ya/v3bwi3XA7kJukPboNmPTDVTy/\n",
       "9KOoldyulj0Hq8UoIhiDqypel4kgAAAAu0GflEUVLCP/BMv67g4RHb98oAAXQB1ivw7lZa7+td8i\n",
       "KZtIiByY1KbJCpUgcCW1/xCfZdw+odVNv2VQNkAAHI+9qZl4OwFSyLBVh8nOqJzdN0SK0sewOqSE\n",
       "iwvVz6ZuxVLISqspID7iKinzJlraHfgaPnKkzFLysTFAxJaNA0iHQFRxIVBWQkV9VZ2xP5LIdeZr\n",
       "GufvCW9XuC5WFtihLsT9r5t2XcTSluq2HghjAH/Ee2H4TPB/WHw19/gAAABmAZ+zdEf/B5VrI+W1\n",
       "Hvhi99DgGLt6FLwQHXbvPRttUyzgVMU0sHt5GCGjj4N0p0V67n50rP4hfhxQGCbG+J0UaG4aZ6K5\n",
       "+kJKeLcDwDlVUhYt0Qveyyl6Xq+t1bgENDLKh2QXImfBAAAAggGftWpH/weOclEZzfzfZZ5gAP50\n",
       "GmGjibdNi4PQ+LvVFSxH14PdFlQXeWusFQDhIcTer6fTdoV/XwqaVhGki81I83JG0qH/hCLIXrfK\n",
       "nXcFZo1KtljGZEaj9Gsukz5zRWHGMklRnbNKuurEoBFhLADvKKJQQGdzJVd87kSUOU7+aOgAAAFy\n",
       "QZu6SahBbJlMCGf//p4QB7H5QwAjI+1Kn5F+Snn74eJCNskECZSPiLxhxCPSMnvrAiT/R+zMshCn\n",
       "qVPLC1Df/YROUM0fWgK4ph2+idH4HcI1o1R37jz7ltAB8lCTrVf56dyvnqScF4VkpzAkguOsAPVt\n",
       "GQ9BBMfFNo2QJoeIsc+WOOXFIYGuCYP0U2gb4ThrEEmOHHNZd4KZMzg/dolbQFem7wizi21ucd6s\n",
       "+iumjZ+hV7P3S/KzyTqNuVlGYL3v+jmu9N2mzfccE7Ry0P6Qo1MkGTc59Cv3lBsqKMgsr6yxng1I\n",
       "W3YFKeZMv6BauBQ5E+lLOExGK8COEfpk0sqpHJX6cH15h7yy5Bek7COJSx1YgoX+h4VOXIpaXwX6\n",
       "1dwx61nHfcNzHVNE+D3QtUYwlAYSZLRB4cMG3n66vfIESXoRPix/Nf8C5g7eGaLDgV1VfiBh9iG0\n",
       "ZhnHToGk7RX4F+q5k2rPnIaD0j6S1ov9NbyagQAAAJ9Bn9hFFSwj/wIjle8LhuIGL+y5Svm1Onzv\n",
       "c3++QCbjcfpJNhZC2c6+qVp3g7NGnsfiyE3tXs3V9yxUe/OmMftLSk04wFR4MrmHTo2etCKuPLT/\n",
       "0UQPW2XMKd3fTs1lgepvlt/iJdJAWgCxlcvD94R9V7sfgZ7fDCRC6i1zHcPsU7qR7fBPY/15b5n1\n",
       "OdwToUN89giz4aN7j0CcIEkp8qsAAABkAZ/3dEf/BvOkIypj8NLvYT0kByByGb3UvJsyEpssjjKc\n",
       "a1aH+jgDSpj11hH8aI+YAPYDPI/yGUZin6yWQrnrsJEFiRAv6DvAyyXqejVkA8+CQwl7J5BiOUZR\n",
       "QDPbnKkAE7zmgAAAAHYBn/lqR/8G9QSPSCxBQKPpToS40zjPHZzWmQK+8aQsgoHdjqOQnQ/2CkmT\n",
       "etfkg5P0NGkDoMAgSzpEFySMh4HQ+MM2/rKcNYt/6p6hdNlsVfEYoMJtcQnhNqsisSGT1yZhLMMC\n",
       "djXSbcxExwA0Vbv5aaClEachAAABpUGb/kmoQWyZTAhf//6MsAfC0Y7XzzAGzosZMylXg1nIMuFx\n",
       "15OEOz/w+g/1Pgbu8+xGvBAjmKpEYC4y+EIMy6uYg23hhUY0WjNf2wIbxqcec1bajEDOxUpKrsca\n",
       "3UHA3JWnEaT8ATIAHMhUx02MVWAzF6vOU34tssrfcuwKTBBbfyWV0fgCBWoTofRryVJNIxEVinHX\n",
       "2WzspNRGvGV5lDx3YAOm344rAQlQqqUlv8iFZbLKhir+Sf0jLSOQFFd8I6Exob4L2SKwkI+Ixadn\n",
       "29KmOIXlWVZ+ChZx6MSohaOYQA9emg9V/pFEEsjTb9UxGjk94LQqLrQIugQtvgdLeIP+lRDlPqxX\n",
       "PAvNhnpdlCYSkifdxpqycPMvF6jsl62nqH5Aw+jHf+JfyppfLlR9XUQPFCPikHpqcvWxWYjo58QI\n",
       "UZvD6E5+8pZkZNgeOO2mvJ2OlRleWZciAK3d+HvoX9wEJulVZhXESMdpu2EcDTkbhtGXalu2ew0r\n",
       "UHFr7w5cyDDBEcQhjvrvO/RHDxPNox9xAX+fGRYG97KyW+9K9l8MZZaOxBAAAAC8QZ4cRRUsI/8C\n",
       "hPKyyDSJQ3AATt1B+SNdw8u5VbFX4m4WOrbc1Eb7U8cct8nycnj5nRHE5aAsuWVQXxHyUZl3pxkz\n",
       "DHRpFDig1ZNLPDMjTscFdu4ujmgFPt1F2516KrzY4bcUgahGy2LY427BrmdHI9nMgC0eWr+CRdqj\n",
       "pFORmC48zIDP18YDY1sw0UANQn8SWRavAWxHv4wGrqTb8aSs3ALuHld4Uf3jIPrzZbI0y+EHYfjj\n",
       "TpmDqx985rEAAAB2AZ47dEf/BDRxcG65yLMkL513IDdsZDI5pcoCCCeOEPlrknanIPQuiAxslqRf\n",
       "vo4lw8i3UGy/A71zC3QestndNcTsXbHYHiZXEQJ5ValfdV/E596ZGc17SxJsBBllAQmAuLD1DmJa\n",
       "kfTfnUcwfe+/GdZfrqYiIQAAAHgBnj1qR/8EMlW6DYnJUv4+sacDq32vbS2uf6JfzAUh9bvHdhi4\n",
       "nCh1+24Zh2SM2Mku0I8DM6oywx3Qcgw15Mi5O+CeJu/u3uVDxYrvb8Xb0NaQl+UZVgu9OhAJIyuB\n",
       "sk7QthbZGEmyPiXUeLo9ZUDQjaCfsbCtIfUAAAFEQZohSahBbJlMCGf//p4QB1m4ux2n38UpOfV9\n",
       "JJXiVIgCJDcOpkF+hf5m1sFLKxFkuc/elcfcr6hOL0wVEVnTjz/oMEPwH6iv4lz0LoNy92S5tns9\n",
       "D2yVGXJQ0RF1+z6Oot9n6pWYvJho1rGdhIEpnjD9sQ2pkYYUo3v/9EEATn+ZmCLpeeYPpdg3rZWh\n",
       "P5FrIokaJnVUTWiJdkh9X8mkDU+g53uQPRC8gM2dZo/674kjBxkUCbIQBke5iw0sUc13S/F5DvHa\n",
       "8LZOiccRjoAkc3xQhIVZTcQdSuHazbW8WN/rkbSDfEx39ZNPlwlX05+O8hLmJFaie1UFKHaMjbMD\n",
       "1cgjaUyNUfuSyD7hR7pBzh7X2ETNWLYEIMbjxcSfVLwdEzyP4iJLyqpZWK8cwK7O35BwN7eP9khs\n",
       "lKfWKnvwg04+ssTgAAAAiUGeX0UVLCP/AoTysb5WICkFdypNV15IsMsmRBtfR4ncR641YxpeHxdO\n",
       "KTx64tuNAuGRhcbbiIUobGmuuSRn4oS31C7BRPpUUXf6yyP3HybHyzpmpZLsnKNj7v/rKMzDuhhY\n",
       "iTTciileBctJKTTSsoRsmH2L8pAVT5tcA2senrAkLsBbHImMhNRdAAAAjgGeYGpH/wQT4IZ4rFEf\n",
       "y4+siwX16ihixyuzZK2C0tuSMEOT5DBn/hwdjlXZkk02vP5SmkDSncPA/scSBeoQB8Nk/1oQXfBm\n",
       "Lq/iO6/hoFSvdMpdv7o29pH+ml0nf9Ziixw9G1GBs36nc5VnLhVE0u6PuYkB7Nx9MUClg9DkKuLs\n",
       "DFWDWqOThOF8x5YFjLkAAAFOQZplSahBbJlMCF///oywC88/tNmlkYLZPFX0RXQQp7ZNzQTC3aZR\n",
       "rCRq1bdiAIhsfuL4NkWmmOo7Lv/d4AQfMgqhE/CQzTlR3NMSJNjxvo4fb/tF+gJZLBVI6OhLVFj7\n",
       "Yb7giIyfs0YgToatjE9ZoVGv+hnU9UeO/TchFqgzFvHN86jaz1LfOnrYR0NoFGS5jM7sRrLw7vBt\n",
       "Ob6TeXMsGJhG4EBYnd0DKh+pNSphdVsx7ZRYq+SmIzLmKrZeISA67yrc6BvS84rG7e31fksPwftI\n",
       "M827660dw0qmYXMAfxzJW64ndDzedBQCUHi2TNg5mfAasLfmiuIhhrXBwoNulVOADaFT1RV09xdJ\n",
       "/298udS6wMKXPG+5b9F747A8uV0htzsZ0/v2+FvHbIh8wi8XyFDFxoS7wQzjktWg77UfVaBTUzOh\n",
       "m7UGJEfiTWwhPQAAALxBnoNFFSwj/wKeqIFZpNFty6SXUTlRFaWdUWntKMxXa+Px34AGpmp8ia1j\n",
       "g2+v/iP1d3SPYVyCj1UsIJM20k9TH4xPshVjPxBFXiSCkfvbrOeGt3rFK9g29H4qXwiEyCkLG07J\n",
       "aZeLKcNpZUYQGBsJQHa9YNZu+q4wShPOVzAffhg2LaNGppsSI1osEBGVD0F1Di/RbiZhG4SM0x2a\n",
       "MLh/ru91G1oRXp4Iuu/0ZMMNVBzhhAZT08c+UEAhoAAAAGsBnqJ0R/8EEX8O8Kx37AO1FTXW+/VT\n",
       "f46Qw6FBBOdI1TfIDQkXUMnTjtAf3FInsXm9rqp4+qWV2igUuApD/HKfLzpBqgTgCNhm/NuwzVlo\n",
       "j0csVpCgQMTVO3TLZ1xD6+iUpNJdX759nXPAKQAAAHgBnqRqR/8D9QCvKxvLDpubypuF0vT/zmlU\n",
       "eckdDRdTwAmroXp9NSqVTRw7qMY4wTrrHYy1yno48xV/iFJIWVRZysBvLeL13P7PgRVN+8rOQQoG\n",
       "YdErY2Gy+R/iFkFcsCyVSJ7UBdT8oC6/mCkRncvKj14vQJUDNaEAAAGfQZqpSahBbJlMCF///oyw\n",
       "BGAbkMGCWijpKMHhvxeIwme68AI9ceU3qiPuNeHPZ+LfB2YL4/wWZSohJxKes1WbzjXcsyevLsXS\n",
       "j0HHqkcxAffC/nypRJVHWewRQX4pgsOtsEzE6qdD06l4woFIDDKg0O0NqBwC9mN0Q60golzH6Jv6\n",
       "Libd/D2MuslXRo3/XkTEBIlY4zSlswcYMyK7AiLy+xL7QbBfE8NV2fpY4O8PF7KJwgDoGFRwC5Jj\n",
       "Hnq4Uv3EOz8y5+99Fn3R2cFph1WN5ISIHnLv0XC9pzLd1RG0t3IFXkJoH3GKDPHHLzJDWdyB4ixZ\n",
       "16dGeLEt2z4XUz1d5xlmB365l963n/UYngp94nMRSdDkKBrN4gf4kfVmxyrx9mau192SC/llwyBk\n",
       "cbzGfHbJrHKXM+5pLkY2MR1H0udFfDLTcLtdItIkEhSjal9rs6spLWmv9Y6rY5IZN3EgVSoslDcK\n",
       "JKfgW/gkK2eGYxD+RJQRGr8o9/KYSPp2F6lEKROHjOpAiM+hhG1/b4hsOTL2RCur8KRRSDenZdRe\n",
       "oQAAALlBnsdFFSwj/wKOFCsBbOX+VLaOqKSHoC7fMxwoFEDFc44dzeuEeOC0cz1ysANprBnFzPmY\n",
       "NZCa0LONYHC/eC8YVyCgb5jePaeQRUf+Unisqh0EVzMKOemgMp60LWNOkjZOcr1Dg5SEaCeNqRne\n",
       "38y0zz9YyRbMOCpboxJh8UQI0Npn96uUhVrqSvMFtDbQVCNHU3Gf2ZC2Z69T67r4pDdtE1ZK0his\n",
       "aYgSxwGJs1tp1FfYvQytgUADgQAAAIYBnuZ0R/8D8xWTjX9Lh8T9XFRXz+lHKBdlLCtgoAH87TbE\n",
       "CXFkKAEgqtF11XWpW8nzoE3DPKJtXTx70AbB9w+xyWK/IY6YwuyJ2qVRNaQp6SfeobzaZgyn+/Oq\n",
       "fFY6Ol+UXvuNK9TDm15KmmxT8X7u5iqoNzGcH6rDmBvVvg1hMcl7JZgNGAAAAIkBnuhqR/8D9QCt\n",
       "6THBoCCnXS59UM9FnSey1hPSl9ZKIiuPtyvGxhaACdugLc1k6HXKOjL01bR+kG26/ZmPPhlQTbJc\n",
       "1KwbKQT3ckI8Gb0UUiC8k73TlKt51h5fnZ+SW+vCwkDpAHo2xjJLDAQ46nzMarOg+TWtLfRVQgBg\n",
       "A2xRWf0wCUKkzve/6AAAAVJBmuxJqEFsmUwIX//+jLAEgkzzIGVk9G9+l/LxKEZ7F68fn8DxEYgo\n",
       "qtAC3Q7PHb+TOMmCqbwuJ7Lg0w8/EAd7Ef2BF0k39RzMBrhpYkZTAWTK8nLCjFhq+7qsIaigHj5S\n",
       "2+il0z9p8kT7eWiXJA3MoXXvaNu9CPvS2+kJUOZJhC28jnZ4wwA/K1fDyXJ3KrntoDurLOLGendf\n",
       "i5sMU4vau0fB++wsWHglfWMuWwJ4+6Om0STekfDTE6AvCXBNL+1GF5pYlZH3Vu6rRLziy9xdC5Yj\n",
       "YTOKs6APzXIFFkgnAnEhxAwLaB9MXE5GdgDkpVB2NHa7xcLweOEh9On8nzdn9vID9WGuuQ0M8F6D\n",
       "M+y9opIyaNzej0casgCe+e+cGrcraEsJ0q+Zlw1sBByqPrwf7TyXkt/fKWQO8PCQTwMdjBtPvEyV\n",
       "/1Kw3c/oT0MxYQEFLQAAAJ1BnwpFFSwj/wKOFC4Bfkq9c5PfZG9OlAXGhZRU8AcWZ+as6s1Y1CcT\n",
       "xyabexbr1LmRmz/E/vRACDzS3+GswTpEDoJGu+y3zaar+c+KJgIb2wwZnmVXEvNp8lFEN0ydJ4XX\n",
       "AVjN8SRbqGjmgDFDn++jmP3xAG13GE0z2Jak2mrHMN8zIOJg5q3jB9KevUi+MX+Jh/JygWijwz+6\n",
       "y4aAAAAAgQGfK2pH/wP1ALtRmwC9o8PGoOXL0WV69VVsSNViZxkvjZdzU7Hxxl3Jfy7DaEafG4SI\n",
       "a7DNDiPyzRnhTPfXYWOfYyZ2GE2T/zhqr7ayBQy8SbiY1f3MURikHzsseqMLTRe27KSYLYWiONbL\n",
       "Qq/MxK/V3m03vYlLE2yhAegWfo27gAAAAaFBmzBJqEFsmUwIX//+jLAEopTpMqyIrJKXvEOj2lo/\n",
       "UARLc243aLkduSWNrdvB5SI+EweulmrccLttsv2nDbBs9F0xCyzeTrFPFFpzNSlRP5pga5S41U/N\n",
       "0tDx1szP5VwAn0OeNsx0fzZB0C5lQAITgLOY4ZDnkwsGHe/Pya+xp0Sxmz25zb2Zz9eMr9S0nhZb\n",
       "eFYF4PSlg1SAW5/0snTKBoBy+o9bku/IVXnJLq3W+tLATBM/Mz32YjBXnWS+E30pge8/CNKaTKw8\n",
       "8C8PMMkl81d3nKm+ly6ArMUDEt+ksZt5nrwB5RDINa1G2+Y184S1lHqnVtykqUWkJZH8bLuVDOxf\n",
       "d5da6b8ekmUugOV2azkCqnkwFNfQ+fD9J5sQFEEB0HPzy/KpYWC9wPxoFHHhN49c0D6Dbkyb8ILb\n",
       "sKelmkQ40NLnkWHoJQuYPf9H9adKjKTrsTMPB0nEImDSNJLN1KjU6QHNGl6aNkJqjmWgz2USNrra\n",
       "hXajmucHKUtdxOVx7lzza2uxaeMDWJuBA27YzhB6lKwNoJwUYiAvigImkfEAAACRQZ9ORRUsI/8C\n",
       "jhQxWr4mE1OWv44DTsqy9we4+cvutkMOwCuWM0DSxOpIrTcEz8eGpnKQLrOLve1xvPdjqseeypHF\n",
       "GYHSMyBMWFUg7BJogqZ3cNsLgIwdXJRdGOSFCwzRj3jsKobAOlTBD5rmGkSdhSEPmI7jUL83dvjU\n",
       "AJ7pZmcx+9ROUJk3NAz6i5HgCH3SgQAAAIwBn210R/8D8xW338INfh4qDt044KXSr/qbwtZbIIXE\n",
       "/IrRUvKdbD/ZqO1ofos6zwfSvq8sKjCAAmV4W4WQ7a4IzMKIBGO4GksKQubkzIBjlz/f8XX1Vo1g\n",
       "qMOvKp0BhTQB/xwyVrMyK1Jj88kRo3YusG8a9PYNShH1JjWmhwYn/Yd4q8nBV9RXhOKoQQAAAIcB\n",
       "n29qR/8D9QDJU1zsRrpeTGVmuGkGq2swOmsAoztXBlAnR55Cm0zsTurlKBcNe6Gbyk13WQAfzoC3\n",
       "Cx625gFsb7nThkf4n4Kga5BiD+RwLKVxlNBguT0BcR5Kog6HmT8njy0qeZ4JlSBSSdd+udahBQad\n",
       "DQ6wA7NTXrYWpLRMUjeLaQFqvQQAAADhQZtzSahBbJlMCF///oywBMAajLXhnoNaRy1BX+/A7rFG\n",
       "B9volXVZ5qUGHvoAl/ZV2A7R0VTlDMSvEZxI7KEgbAWWKHu4a9+hqQjOYjuO8CalEqFjuqlK9x5Z\n",
       "43Rk7rchzdKfW+NL/cKbN+OtK/LDDmeMFM+sQ41l1FviOCSkRxsCgkkMTP3DgiKZnfp6/WyEMsT/\n",
       "d9fDRYFP7LQagKz2qxqfPy2CpV45liSbYLsD+vIXGG+31Yf14hACRoUGP2yvsBLerIJLEFnj6xwj\n",
       "hNXICTlLO6NciYOYqY9EZnmNec1AAAAAk0GfkUUVLCP/Ao4UNW3/lG5iy/TXWFrbYe+MnW+E+uIB\n",
       "FW35AhdKNLWVa7c2YGlf3NruVagLT+TSvVJxgAQMGt0w6h2AMrxFVoFG9+bqZTK/YvBa/ujN57Zz\n",
       "yw3IstcNDZK6XrumAAebwfo+F+hkBNhtTZa1mnoro3VxaVQTSumhQyFsTsKKDapm3iJSX/T41DVF\n",
       "uQAAAJABn7JqR/8D9QDZ3RIb/5FTECxSI2NlKmzay1zNmtofr/6JtlCwjROsb1BBrjR1TKRfY4Qy\n",
       "x5GRZagtjgYRTYVi/C7dtaYQzxTbI1b8AE3evf7CpXGooNH9mdb8np3Eunnt89fl5Nb/kZldR59r\n",
       "QBgcXWW5muWPSthc4Z2R8tY3mYh5TjleMxUzGFdaVDZmswMAAAEcQZu2SahBbJlMCF///oywBMAa\n",
       "jLXhnoNhFlrc6CEvQARO3buFplDRNOBZPmQwpAor5t+pnzcb1EvQ7EP+6sFCfDncbkTP8avoSbZy\n",
       "MoE/0YeG3qaQwbYj6rIwnUWQ0es5KJAncd7dBjvdRcxryOiYCswl7KLPMpJ1f9rSCJdJL2F0MnnK\n",
       "2ldum5f33tCao8WgqbQp6oXssxeGLnO7zQEenm21NaSzCB9+Ur3qwJpEQzC7QsId2hRxk1411Do7\n",
       "F5MFv6OLC8il9OQgUwUwNa9MtQRjWXN9FKkPWCSvi4k+pSoj5excalr3dmsOjpMM1h4bcBDrBydc\n",
       "nC6HE/wyAyYLQbdjXghO8v8lNiw3wWib8h3xYy/q9bgGxpyPFIAAAACJQZ/URRUsI/8CjhQ1YPne\n",
       "ha0sdfEuL6Oeu/PWBNyuxiH2T9Yy4aZtxV+wMelikJXSkueVhJ78hYx8SJzRlYOBSU4H5K83SehK\n",
       "BHneZPPXEAIHCw0fvLNFNEv29hpoP2TxKBxcgCExGweqc3JWuVu9Bo+spK7+QA6rQzO1DC1Oq0jo\n",
       "OLkreMUNrvkAAACAAZ/1akf/A/UA2FGW7AbonvlVV4jT6mDEZLbzHgjLolzmRtO4tUMElrBjFIH+\n",
       "vSzWQ4EDPKVPBwX+wjI0+nZtlQbmvagBKtdvocQX34VYFbte+qk8DGzrmJdruK4lXMhOONvP8pLs\n",
       "AgPtxOLteOAQjRaedUtAQp5K0SzNfgD8hkAAAAE+QZv6SahBbJlMCFf//jhAEr9Tz9gKjjFS8jOZ\n",
       "vRHvt6El+O5YAzUK2iSvcC7mcPh/n6ZWLGv8U1xpHlFW7neMG22xvZjCSuN6TjruVc2Rc0OoReYr\n",
       "rRlDozoEAM4iLnoJAHD+D0Sd4iNxqRyOdQewrcjLuPcJfFHUa7x4fbYQihrXG/7wDW3dItlzpYbY\n",
       "ytiphhIR+oHB9JoXj6eqeZnlsb+t/i6L3gZ+f3ce9EPzigi/KpEAJVOzCzBOATt5bhCYHQK/q6kF\n",
       "VWe5Bf+BA0QXgZ9B2/Hl0kHRajhw6TjOUgNDeNE+XWTajA3wEmjsUkL/nsWsaKf4khX3mfL72lzP\n",
       "c7rjwTqusli0fzJmkLXJaxa0vB/1Uvq6tIZQbByz4kITYcCDW1NjxJvN4xtv9hqgrisw7YCDJOf0\n",
       "kW2XCY/XAAAAx0GeGEUVLCP/Ao4UOVIHMBI5g1rKTWI+k0DYJyZIGqWrt6/EHaS0Rx5HTihp0KDP\n",
       "OgMwr4AualwiuvJYvS8aEIMfhafKvvXRw1JD53xlXISGfQC9A9D8WtInJs2mr8I7ISQQ66Xq8xxT\n",
       "HZUHJOOCdiuwe27TBlNZLa41MWlAIXww7bBNbC22Y/8NTfYK/5qP9lsA/SVfLYv/WBSHddDtHBqh\n",
       "5blPu1HLaVUeYmbLbB+flK9vnMZtFbaiH/XEAk+EzJhLdFuBpLsAAAB9AZ43dEf/A/MV34/CDX5W\n",
       "U+DYtyHMDQS4D6VPzgWPdFi/m019ECCIQOIO3tO7Lrp2xCy7tqrn8jx5THpKC9ug1p7yquAAP5zo\n",
       "FJxZC7XQyhKcSEnJqc1QZ04JLI+xuED/vdJrie+AT5QKq7I3VT3TQU2IAjWgSrFjg4uPJaAAAAB7\n",
       "AZ45akf/A/UA57a5mXXJeya1mp6HMEf/GhNumU5EFO0hjXFhGZoEpBgppmKQvfJVG55uCKQe2279\n",
       "DfBTcusGVRZ6nfy721/mHQXaxepW9q/7KRle3hdpZwYrktB7PW9VbrJweymQHl7RBvxsPfU04MKd\n",
       "Ci6g7g/ZbdH1AAABA0GaO0moQWyZTAhf//6MsATgEAs6fPe2hDQ9PUkW4ACL3BaR67F+rT8Y13sp\n",
       "PuTHrvehyhqoS6t09KYufT4lz1kU6BbhgdwTyQpzvXzeUjqpK3RsVq4biNF5rlwE4ngc9Cr7dyag\n",
       "fn3pzb/wyZZ5V7ryw+9LNliXWAf7DGHET5s75DkhCEEquHlKo4wMVcUDanCnCXHfCuS7T6sAqH/P\n",
       "rshzF4+58QQLWK7jtDv8kZOdsSizcgIkEtFWmkfdCt31FOv8S2evJNC4iLSnN/GxycXxcDf1dZ+T\n",
       "y9CIqsaRwwlF1DlJzwMwzrgxQrbLVuKis3XS+Tn3Z6xZCJ6kG9/TT7ecwl4AAAE6QZpeSeEKUmUw\n",
       "IX/+jLAFBWcpBuQLkd7HNP2NPS+EOQA0OgBLItr/ZeFF6gEvqfvbrL/y6NptsDP+TnEWTxEesDel\n",
       "he6ipobeKt5OASPe9XI/QKkvo0FkOMBAm883LZf2qvy4r14Z2Z3OvEfpOSRoAMGA6siSBg29VBb9\n",
       "71uiST9OnQ/lm2uwv4aoO3blv05wl5U6/UcEFCfa6z7cnWYJVA7XihAb29X9jdF/W1IkCEYe3SY7\n",
       "Lh6WXqZBumFzRL3Zyf/VwoDlEmg2DyBjbTllYOZdNHY+1AfbJP2CfUy7Lbi1sOdGCuQ0zGQCZVwn\n",
       "7a7iolsqBzEGiPuQ95YvZuyYd7ZU5YJtGvts0bWW/1/BENKh1rBQXVrTe5UoqTwXL4fPhSDVnfkY\n",
       "IduCebzw/xveisLyXGF7au0OzEEAAACfQZ58RTRMI/8CjdUE3zVEG9Gmekq7umhgd6fsxmkYFvMO\n",
       "5RYpH+bZkmRP5l9KxqVJW1wHIsm2/GgiByuu3bzkGDhZVLsOnxjcAXVjOoN2AOI/M+RU47ALNcoh\n",
       "l2jWQbbbj/xxc6LMssWRAllZ8JbCUz23m0EXM63SnuZjAZzbTHrxh0jXRSxGsDhJ69FLPI6hbYdV\n",
       "zQBSpFdvJ6ajXpohAAAAhwGenWpH/wP1APpCY4Nz9Qns+Qm1vQmOerfHPLeKMvswYKDEYccOQrCC\n",
       "Y+s0ixGQl7grE54nXS1soO8Wv6zAmW43CqeZAjrEy5G2ytaRmRrKBOQ36/y+bEvIi4IzvZQs17EI\n",
       "Uu7mVXuKoHXbV9zXwcetIpPbRWRGdeNrfEKK3H7FV5kiW9TzGwAAASpBmoFJqEFomUwIV//+OEAT\n",
       "3t+IGJy7FUAmO8ThVteg63Cgy7qlbpnXKJ9Pkl26gPfBTXyjlUbdxRV+y0Iv5I9dP3TKNbMMrjg3\n",
       "ga7bBdBq/U8HfW7zy7euQPVf8wKZev0JN7PqVPRFBdfYbJXQfVhSr/0x9t6dyaPJ2CpqdV9vL1Kr\n",
       "WlLhyAQZz/4C/W8O2gWCDHkoxnZc3bbZFDPXpxmuvV0ztQ3Ggn6xXPeI/6oiAXe8v7DrJGYYhxaB\n",
       "BsQ249Bn2QyyKzfriEnZ0ZsnLUfb9Kekpn9KZ1MN28Ax7CsQQsun4seMAlItjYzBfiFsrwAZ2J7R\n",
       "J0fG33SMLIrEVVFNZz/QQSd05qAzRxIO5IisgCMsJ2NnssqYfyYjQajnb94pY4NWTlmY4CXgAAAA\n",
       "i0Gev0URLCP/Ao4UQj717GOQ6ogl2nLufOi4C7lnICp66d3ATIr8C5MsGVSkkrgvwkJIQrX1t8de\n",
       "4y24w6Mdlgkaxsp/oU4oMWQVj3EQ3fZXBKjJwwS01kpWUm/KWAEyxSaLekx770dMJZ4alp8Lue4t\n",
       "DdKR4BiP5cTCYsgAzqzgPX1J7EIPYpyhaVsAAACPAZ7Aakf/BRpKkGJVtW/FgH9Ou7u6YJviEo4a\n",
       "RYX2hx52Vf8Svz71fS5194hgD44mj3SScf2Kd9dugWVAyFIIuP++pDzpKrFbJM64HZi+7E4Nj3yZ\n",
       "2WvmE1Xf6sYkfMCQSMrl4AJq6F2aFJbHG9izcdcnPSFv0e74WWjQoIdNOWAmBSMzzNK1ZbRCNgdY\n",
       "ErAAAADeQZrCSahBbJlMCF///oywFy3M9Trex7cD08yEHfMrgDNfHaChgMq//vFofU81kV5CGuoy\n",
       "Pbih70AzB3/9bISD6I5YDDEDNr4GK9PgerRGVJQu/4FJ5XxLGx/FwL68OhkCHlQAZFzpj0bX9o3V\n",
       "jPcqasgrIJY4tJfd9SSWwSZb9DmDl8P40/DWRt8h1sOepTOLBsgBpwg5nDFjKiUP4qc29swucMa8\n",
       "mBX6FUup+NT8+VFTsAKKnXoW4z8PBn3A+8/h4/udys3T7Kl7aHERBCCHCA1N0VwnJizfQ3QXp2WB\n",
       "AAABE0Ga5UnhClJlMCF//oywBS1nKOSUeY5T84mHlH+dwJ3NQAVEkWPdmQWLWdNnncmnBiojbgtm\n",
       "e9Jslhgf4ZvB7Vd8YoR4lEjG5vGk+KXFPH9DqsFB7kE9DS99YVtParU6FSO2v+AGrBPL8sJx4Hlf\n",
       "FjcpDkc3/TL2wquLTDrqpmX2RXPM2laizgEKEj6qLGGr90lxRb/0/C+WlYTVajIgZBZMCoDFJDSZ\n",
       "mgRln92ImlX0EO0ss9cqwAPsYwo2J50pZD1C5ba4rgDiZO5YOIIHnlEmp4WdyrvMWsvB/OzGJ+gu\n",
       "IxoIqOk51SD0Ywv2u1Ta8HAptcNOSrTuvmf6xL5a9lDFya8lbPuV8SH830yIdlhwUEtAAAAAnEGf\n",
       "A0U0TCP/Ao3VB/bcUXBeKn8mGDJBFhOOQAfcFbcBb0hL/9Z00BKqTixuBh2DVRrmt3XRXkgyW0Oy\n",
       "ASJEyC+X6HTEcpSHn9XDa/Wg1eLh2KsmNUHvvjcR+0JNBi67AMDNSFJtf31lhcK1hWjfLVSOGevB\n",
       "SOUAJMPj24qBKN9PsBJdz5GkCHjUQK9seexfHhqP5wDWBJQtERTCqQAAAHkBnyRqR/8D9QEQQmpD\n",
       "6T35LF90dFSsbKrt91iInrNhXSnMJZyZ7HOh113qJg98d/2Cfvj03As2E9j/Ls9uPYLJ/uyxG1LZ\n",
       "T+nYCaMaGr6gZg5WS2+8iXL2nkvcxWpHLbptM6NO9paZ6PfVuASRblJO7ayY00xUAkKhAAABB0Gb\n",
       "J0moQWiZTBTwv/6MsAVXk8HMbqt6TT22QbhOyKaIATE3xVM1GzoYua/soXpDWbS9vmMlzxMrd3ZU\n",
       "fbYZzJ8W6aHny0RYu54nPRoh8T0PhXnyfgzDvGpI5czECs48f+yO7yy9aBFy3puw9K/xyGH4W492\n",
       "U/44Fh38nzYbPt3QIX2OwPJA0qP8UQFDnvX1QklzwdmRVUN/6dMMIDDT42njxU4YpxeOhO83UisG\n",
       "etz4N/Qh55hsFxWBLa+mYJrz7l+718b/+EgWSEcWPz0PPJbs0PoccC3arKWTK8w4iLoBC+FlG6L2\n",
       "6BRDuVv+6VGEduIYAAAgBFNIjsVno1Q6gqfIwXhO1Q4pAAAAhAGfRmpH/wP133PpMcG6TrabN4z3\n",
       "YCV2wqctlr2xKhEUMcMnFB/6HOgjF8e09Se68Pw1/8V3UhlxeguyryVmkySNto+WnBtIaQ9DgGj9\n",
       "9uSkUUOYX6O2uL2qIb3Dv51Gez8TNxbSlIX/AmK6BiGyd6SIFzcbrgzoIJCjX3ihumIhOEb+QQAA\n",
       "AQZBm0pJ4QpSZTAhf/6MsAVXl8EVJRHCZlCmvr5L5KAKybV6u4WrxYGv/+MxtxIFBWqkzgjpf8Mi\n",
       "YPo8O81knVs1jc680Xox0lMPMTon80fhnx2w989X/txtmwGCXVL3c5lyzSJs8zdmvMw8O3ybAqqU\n",
       "5VqmH112YzKmId9LogmWPrsSstA7oh2c2XglZTek/OO0KIQOleSbVKiq8sKzCicddaalMiZdApCc\n",
       "h992vNOfyuCfF34AwZca6Xb0tgzmWgu4W/26m03aWZBhTQC+GFML4nXwA7/gn2BTCveWG2v6pmRB\n",
       "xjck3ktfZKLiEKU+NmVID+7Q2e0OoSY+STuhuNdhCCWLEDFgAAAAlkGfaEU0TCP/Ao3VC2DIfjBe\n",
       "KenlpeKo3fXJoV+AHQlQyALoqI4z6pjzoQ/uGl2X2Fqzg/NWOo6WshEmIDxPHmAwylg2CdRluWmS\n",
       "DTOOuvwCfecqZqJBCEWuX0zZIN6PlOvBlXGmL6nCciUprYpTTk5JHInvt7L3MAH4egf3eyBDI4KR\n",
       "YkMZPpflZ90SWA5eogHF6GQOsAAAAHoBn4lqR/8D9QEn0mODQD5zNon3BDrlhb3Uyb2niJT07boT\n",
       "qgSXszyZx88x5W7M4BkPpnc+IJYlDgC+RYN2mlWYlmas13ZcBxg4ADFO1+uuJzwTnlOFXBQiq9/q\n",
       "2V9TdU8Igvcz6d/A0tlky17up+chmKhl7a24VMHbwwAAAS5Bm45JqEFomUwIX//+jLAFg5mQ1War\n",
       "WgCDrDMS1Y/lsUAIxvMJaSKRXg23L3zK5Sq59O9f786Lkr3Ll5Q3Fyh8FB3S/i3HqrRP9e1YHhgM\n",
       "i6oAy3lCQoO2Ruwa5Hoafgs6/NxkcOD4WnzF6UFEGAO2IHQbHfTg2BPyNOG7ELMnNpV58/aB+0hC\n",
       "lfPM9431bNYLWFH36Lm/xqZnHRgt6RkjI3hwION4gmung3ug0Dmm9O9sP7M0hjc4B9PlDCfhObua\n",
       "pknu/uRDz5fQrPqlpVBmugppcntj5Lu2Jl7tE8rG7L1p3MVi5AQYOWYBMHdmQHrs9VxP8EUImcKt\n",
       "5vMIGjNuWvjyiv3t4m5IKGcAy8Wr4Of/we4BjujP2SczNkrtc9amBhXQVZ3f+zRg76gaUAAAAI9B\n",
       "n6xFESwj/wKOFE3vdX2TmlHfwpeZLjliYD9490sTrcGyOyMBrI74zr0kf6iheHTbiSiAkZkhJH36\n",
       "5V59WoWuQyA/JvLkTLz7yA7OLf71eQJ9iYp30PJvWVG61YvSQbyxrCx4yUqwpNY48o7xfDZboai2\n",
       "NyijmA7DIuclOkQvjXDnev0TDe5PoyxGHgEwIAAAAG4Bn8t0R/8D8xZJ2P6hVwTG6wwNF8dQ0Wzt\n",
       "3e3Y+ZfcByaXIGEbnldPKEtigpfTfHoyxPRBKkyjj/oQpakliMZrqkmLqsxXyRasq9vwr6S9H541\n",
       "AfGwkIbB87ta9Dtsl0kozHZHeCRSijTryKAm4QAAAG0Bn81qR/8D9QE/1ZJDyjZgvBJ+D3NgKer1\n",
       "i17N3CZgYuvYHqS/AkJqHIXLtkz/90Rz8fn1o7WDI9Jz9uNIDmSCOJcA42kVGBBeiD9l+Q5cpzCC\n",
       "BAfbbcluITpeH0PJy1jl/cFjWDRsJLPQ8H+DAAABIUGb0UmoQWyZTAhf//6MsAWvl8GY7YR76fzh\n",
       "3hROYcAVE1VVCJ7uxb72Mr6+0/GXYaX4HI3WT4BiK0aqX8D/rko6aRsd5a36OaIBrM+xDt91BUI0\n",
       "oyAbivlgTpSZBCSZZZATL6DlXbUKRHWjFl2VV8FvHwxaWUcuC4JyVjFiaOb18JZC+dK28nM1ylIH\n",
       "FptC3cAYXyT1dnH5HDSw29Y98CLwcE25uFz9FIj6SitcwCEq4UzO9FoCUzJSXy1gyyY8nzOxAaVz\n",
       "mI0KcuSohS+xhdd5muGjjomlob1NljxCAIlqNPtuvt7fu6iqR0bsfZcA7Eja6P/KiIxqt3d5pL1f\n",
       "qrrcUKr5FWjC66lFA004dB2Y7Egcp62g5JZLhcQpuCdoXKEAAACBQZ/vRRUsI/8CjhRUgBg5lO5h\n",
       "Bp8rMtW8zMS3HOz7+CvmDYIrW1SYA109meLNEEYfVXzn8xNLpyV+piEURyYrN94EMHE1D6Gjdntf\n",
       "1SAHx//Kvzf9V4lkDacjilQqfErQkkvW5f7JQgLsG0gx8xH7+KBG1SL9Vo9YouZNfyLwb1wgAAAA\n",
       "hAGeEGpH/wP1AVnSY4NGpr0Oftw8H9crCnzzLmSAHhaSDmtNf9Ue5nkfzkSzYOhoItvBgIW99oyg\n",
       "mnHp5i4Hr6k9V6mzwtJdpt1ho6UVMTu/WqRgvlpj1p7dZRBydcUQb7Z3ETfGQTZbFkjy3mLbuWeZ\n",
       "DI1BEbftL36hwXZepnX/232HcwAAAUxBmhRJqEFsmUwIX//+jLAFr5fBFSULUpogNnlY5dv/QnJX\n",
       "bOzcPrp1w0lQjpg/CHDEAtbs+DdCaQLeDfsZ3Io69ExDafCepx/nVwUEW0ARg1fxyGpypskTATXu\n",
       "TwqYIBII4i25mB/paaziEURNtRBoPH4BwJx+DnQzN3ZOtIZ8OguOgM9XIzMt9Q8Wrv2uHt7wRV+a\n",
       "vmBpjYDGebM1ti+WFW3zm2SG/Ok7sRlVu3Tfl5SKrGGULnovxDPW/lb/ZdK1ZKBhKsp90ZUBK/CX\n",
       "7/n60gM6xA2fmOjj9tKkB0wUEg9DYdMN2z9PhFcskgrfXSFzLo/bhdaANNuu3jEehYIzv0hldJ4S\n",
       "9pyWiPzyGeAxXVoXInFoJnM+ZWMc3TKa3E94+fZIbUq4VNpxOll12krPMp+CCeRhW4+jDkoAaS3E\n",
       "PT/MCWCSPlAg4orYuQAAAIdBnjJFFSwj/wKOFFRtuKLlXLJwT7itvtnrXhvGplAkSpyZInBHiFoA\n",
       "ywoU+JDUAz53fsAvw+PFXBrMwaUrvu5mvxVQleg6ZNc+9EKAWOKUShgwJ0W62TrFyuC7GiLwJ0sW\n",
       "mQd9iKiW/c9JKoi1JfTOM+ZdUGLIllGp8L8WJJQ2vbr1C9ovPXAAAAB3AZ5Takf/A/UBWdJjg0A9\n",
       "z/wzUN5p1gWwhFtycGCD6OYaNMKG7ENAYtBKXTfC7jGA9EH6Qs2S0IzIBNedZaomXnRoZ7mKYpg9\n",
       "vjiTlW846hPUTzLV/SkZciF2jXMrMqMPk8N/XWvfjPMaC64ZCBoCDAZKFD1A2YAAAAF4QZpYSahB\n",
       "bJlMCF///oywBd73kNVmq1t8IDc16OXcAHjvblorucmAG1KTO35uX+v/zeTtqMw748LjpXmkSnvk\n",
       "oJIAt5iEUGE2Sfn4xgNM9KFvom20rD7dt85LgLXhBgdU26Iy3Gh+MxdeYwMVdj+O5i3qBeoP4VOc\n",
       "7FeqOPebYoivYm/0aJpyG8HEhI0uKu5FIf1xy5k9X0CX5BGvPO/jM4Gi/UyC4y7s+puKxoSkvTO3\n",
       "J4OHqjIORUg/2SDPEfyizcsGeR9A08M5VvE86+T0QCOi8gihp4ahiKva2Yi5BOrtHA0lKwyfz6mH\n",
       "HYwO4IgQbe9Ci68IzelDTWpiISn9xjpTPm9fxr2ruvgrbGdjOhNq4HdDfE82Kub5FGq6Nkva1T2M\n",
       "/D7LWE28dPaBbaB7gx8Pzrh1cCXP+5rVvvL95X8CU1jqwgm5dSFEUxXmkfhsArHf9ZK+/0M79EW7\n",
       "VR3pia+z2Xzb3LQyCmo8Jfc4pysKDyOaBcmBjwAAALxBnnZFFSwj/wKOFFrvdX2TVgiIR2vVIn4J\n",
       "3BZ4b9TNVWn1fpTUAslaYSW/9/Txb3TbSBdzGzaBgtfC76vmrCi6i84vMkSItYUhdHPM8JjUzO3H\n",
       "/Hn2H3PpFvfYasGO9iL+MHxWt3g5phVR3Aa3FtIjFfVoAC1lU6LtaU3JjLwu3EBvnLoyhXw//XWa\n",
       "L+C2AB9PINglJXgAQ1gxnp01rVk7JYPbPOeH6en4iaYvzI2f5RCgPmb95V6w4LZYgAAAAIsBnpV0\n",
       "R/8D8xaJkzetGKYW5kPDGAnC0yyPwYtEC6IT1oC2m9Sf1avhNgZ6oKZqgBSstpmFo3Z4g7mB6sS2\n",
       "OlBh+rnCw/4M26Ia8GbhCJ7BopVUv2YLudJFEkSl3WQAJ24BWSajO1dgLgRIerofp7KZlo4WYvkX\n",
       "9ZqscUuc1VNuUaFNxcaHu3PfVlb5AAAAdQGel2pH/wP1AXp9jlJoLFmOkU7OVGkN3APrYKrcrzLz\n",
       "w2w+Zt/+6BjHqWKVRVFY3oYHOIYXejDPafP5xU3fKV5R1LttUa3VwmX8Ci1qh9OG/GhzPLxPa5Px\n",
       "QIbG4UI0JIR/iUmhps+2gqJKDoDRT1WkCW5DvwAAALdBmptJqEFsmUwIX//+jLAGGSlGVkUdRNdN\n",
       "drGRv3U+7eSMTgBm9kQf1xUqH53uTFt/sMZOwXfORJIrlhpbL3VoLjmk7TcC846tIGrvmn03jil1\n",
       "7M8rGHvwvPdzdU4unQAdY/BT6CC3q+gAIHUiyGjhFGu810S/n9jl5zGfaBWTegO6SzUrqyD7XWii\n",
       "mGESQd7s36bJpN9zh8YbmfTeq3DZvIPFFUIDlwAu8ZmQwiOnpHZqTaHQAcsAAACYQZ65RRUsI/8C\n",
       "jhRh9Y9XUqrqMwPI/TXrhx6UATvs0X78D3bcNO1iMIfgqe3SgR3E5gBMzGMMef9lA1xAyTUI4Ylp\n",
       "5o/3MGJ4Wi6PN0l7xk78VA4PHkzRv1S6E3tTyszr7wAtbyQqP+Dka34igEzHC5ASQuV8x3YQMOXb\n",
       "dIwEg+G3QmniRLLHJEExd1JSGFCr+1okjpgaBtEAAAB7AZ7aakf/A/UBl2k7MzloZRekkpqVjQt3\n",
       "w02B0Yjib+2Lvl/nFLjnZnbh886TKxOUz5uu7u+CyLOvfkeKkbgZLOg/BakwWDaPihXOYl0ezAA/\n",
       "nQvBc2tebL1nILf1SzthvX+H2xSBz1IP4hJ9ulDFBNrneR5VthGgy5eAAAABGkGa30moQWyZTAhX\n",
       "//44QBfup5+v7VxWxeRlfWb/27zxiWkYfwvtIQJwG05QqYfM8IEBykq42B5TLN8fWjPqO0kYnWxJ\n",
       "YIun42pozYmVS6B5ELABsWTawf+9C+8TAqYaA3LS5M+5HLhWDrZCFivV2cVjLC3wQdjK3eyhSf1f\n",
       "7i9f1Bsas5V3OopdGgDHUzwG3GO82E/ot5yc8FE7p0ayjlEteIjTF+Njp3QUQCkrU+bDV/LccGtx\n",
       "2qwfmopfS7mKLd2kOpnUgQwnEUWiWGfOUCCnXEDYMa+h110DYg2wC1o2PfvA5wMWN8vrfYrINx+I\n",
       "v6Z/PLikpLHokojYyoWYXY/X9uB7kFStsipy7vTqgXnL7YIWhduwMcEaMQAAAK1Bnv1FFSwj/wKO\n",
       "FGs8AfnkLBdhHcAHMjJeKUSffWMgPgyTeoFFmupBWEpkrRDWUyckLv+hDsTrytBSZ086MDzfM0Ju\n",
       "ALkqJ9QQm882UrD70YEqTdHNeKhoxhnud/58+YXsmGRgBNXUpjnkzq2Fp3OEORM5O4yVVQOUG21Q\n",
       "QHWXuHj0m/rFEGTdectr60NPIC1h/ELnAB/2hseIMlBBqLfmSjy2tt803iFayN3cgQAAAIABnxx0\n",
       "R/8D8xa0RXIrAaBRP95GjKq/vz/+2YIT9gmeCEDZuo+F6u/RrKQGwSE4xmPUMa1LeOWWOKYnpKeI\n",
       "m/3oDqIk78OSOBZ4YCwKbgAD8KtEamGQOrdwjPuDMA7GiTDcnBmjv9wVfHljkLVzvEfy09hXJF9o\n",
       "Likmia+pXEoacAAAAHYBnx5qR/8D9QG5bXyHOcTBLUrmOqEifJDlwbfXqpFW7YFezZvq5OddMzxD\n",
       "1WgyRVjLeiHsQO/lGJXSOb//Q6uDY7nVrxsefJ4elCdFq0rUF5Wyt5BKCnxJjNapIHCSpx4PnLL/\n",
       "RaRxD4eNnO3nmXmFRdOJND7gAAAA4EGbAEmoQWyZTAhX//44QBf2/lenARjevse0PGenHa0ABszb\n",
       "XItrBLQuqi6ENP80D6Lbr0G6zTVhogpdC8frBiCgvHeQ3eCQX+018yJ8wNHibCeQV3rzD4BOWSli\n",
       "UZMX6T8Y/HwCg8+ef1eE5mPi2NiViSplu/VUrGeID4sX4pc++1cRxSUziI+fP6VKJ8D5fEoT+bpk\n",
       "gbEW1O8cCj3A/fA4AnOBs+liK1KOqvodVTslrHSyX9KGvIcWpZK3zAIbr26+kyJcokPjwMxlwnaC\n",
       "10Yle9ES5HoEUndVlUFDcwt5AAAAmEGbI0nhClJlMCP//IQBcUefHuoCPcDbtDwz2o0N5J6iv3f6\n",
       "J68Rx8+d3u5pPx5tChkNS94pp66RCTFtnBIy9gAnF68FH7WRCJoTM1eREDNgQ4AbqDwwS7eAGwzK\n",
       "BYSvvm796LGgtDqY+kXvrGXR9TP3GSg+d5XPOnz2dEFpQqftjVtwDH1YxHEayweY5Z6Gmrlm943W\n",
       "OBuQAAAApkGfQUU0TCP/Ao3VJWAYOZTlzqVDv24XRXM/NSZcrRdr3DuQlAodYM8y/SiQcfHPpU5T\n",
       "BG/vwFx0nneKsffWLbLmrqtDqwrp1vROGN4X89cGbL+zEEiUsb5R1lTLlCEiHjMMQ4RIWLK7yfwN\n",
       "eAW5EHslVEZpJeoLYE4PWdS6rPzWpkkI5CE5xth9wa6ELrCtx5Zv9bF2SE+oLIT/Y2ZnFNSsq7Ls\n",
       "RYEAAACDAZ9iakf/Bq5hIJrw4Oyyi3U3QycuZZXMCZacK3Lg2+DfVp6hzl0teNcod8pufC9GmHey\n",
       "hWBLI6fZDY6uvaGrqZ1bhIDSQU6etbfZd0RzwQ6ney0x3//1bgUDgFncsQuuSLPqSzY7dQ30Po/b\n",
       "c6T8KjM14yHMHk0b/6dClAbtG3cJ8cAAAAdubW9vdgAAAGxtdmhkAAAAAAAAAAAAAAAAAAAD6AAA\n",
       "B9AAAQAAAQAAAAAAAAAAAAAAAAEAAAAAAAAAAAAAAAAAAAABAAAAAAAAAAAAAAAAAABAAAAAAAAA\n",
       "AAAAAAAAAAAAAAAAAAAAAAAAAAAAAAAAAgAABph0cmFrAAAAXHRraGQAAAADAAAAAAAAAAAAAAAB\n",
       "AAAAAAAAB9AAAAAAAAAAAAAAAAAAAAAAAAEAAAAAAAAAAAAAAAAAAAABAAAAAAAAAAAAAAAAAABA\n",
       "AAAAAbAAAAEgAAAAAAAkZWR0cwAAABxlbHN0AAAAAAAAAAEAAAfQAAACAAABAAAAAAYQbWRpYQAA\n",
       "ACBtZGhkAAAAAAAAAAAAAAAAAAAyAAAAZABVxAAAAAAALWhkbHIAAAAAAAAAAHZpZGUAAAAAAAAA\n",
       "AAAAAABWaWRlb0hhbmRsZXIAAAAFu21pbmYAAAAUdm1oZAAAAAEAAAAAAAAAAAAAACRkaW5mAAAA\n",
       "HGRyZWYAAAAAAAAAAQAAAAx1cmwgAAAAAQAABXtzdGJsAAAAs3N0c2QAAAAAAAAAAQAAAKNhdmMx\n",
       "AAAAAAAAAAEAAAAAAAAAAAAAAAAAAAAAAbABIABIAAAASAAAAAAAAAABAAAAAAAAAAAAAAAAAAAA\n",
       "AAAAAAAAAAAAAAAAAAAAAAAAGP//AAAAMWF2Y0MBZAge/+EAGGdkCB6s2UGwloQAAAMABAAAAwGQ\n",
       "PFi2WAEABmjr48siwAAAABx1dWlka2hA8l8kT8W6OaUbzwMj8wAAAAAAAAAYc3R0cwAAAAAAAAAB\n",
       "AAAAZAAAAQAAAAAUc3RzcwAAAAAAAAABAAAAAQAAAsBjdHRzAAAAAAAAAFYAAAABAAACAAAAAAEA\n",
       "AAQAAAAAAgAAAQAAAAABAAAFAAAAAAEAAAIAAAAAAQAAAAAAAAABAAABAAAAAAEAAAUAAAAAAQAA\n",
       "AgAAAAABAAAAAAAAAAEAAAEAAAAAAQAABQAAAAABAAACAAAAAAEAAAAAAAAAAQAAAQAAAAABAAAE\n",
       "AAAAAAIAAAEAAAAAAQAABQAAAAABAAACAAAAAAEAAAAAAAAAAQAAAQAAAAABAAAFAAAAAAEAAAIA\n",
       "AAAAAQAAAAAAAAABAAABAAAAAAEAAAUAAAAAAQAAAgAAAAABAAAAAAAAAAEAAAEAAAAAAQAABAAA\n",
       "AAACAAABAAAAAAEAAAUAAAAAAQAAAgAAAAABAAAAAAAAAAEAAAEAAAAAAQAABQAAAAABAAACAAAA\n",
       "AAEAAAAAAAAAAQAAAQAAAAABAAAEAAAAAAIAAAEAAAAAAQAABQAAAAABAAACAAAAAAEAAAAAAAAA\n",
       "AQAAAQAAAAABAAAEAAAAAAIAAAEAAAAAAQAABAAAAAACAAABAAAAAAEAAAUAAAAAAQAAAgAAAAAB\n",
       "AAAAAAAAAAEAAAEAAAAAAQAAAgAAAAABAAAEAAAAAAIAAAEAAAAAAQAABAAAAAACAAABAAAAAAEA\n",
       "AAIAAAAAAQAABAAAAAACAAABAAAAAAEAAAMAAAAAAQAAAQAAAAABAAAEAAAAAAIAAAEAAAAAAQAA\n",
       "BQAAAAABAAACAAAAAAEAAAAAAAAAAQAAAQAAAAABAAAEAAAAAAIAAAEAAAAAAQAABAAAAAACAAAB\n",
       "AAAAAAEAAAUAAAAAAQAAAgAAAAABAAAAAAAAAAEAAAEAAAAAAQAABAAAAAACAAABAAAAAAEAAAUA\n",
       "AAAAAQAAAgAAAAABAAAAAAAAAAEAAAEAAAAAAQAAAgAAAAABAAAEAAAAAAIAAAEAAAAAHHN0c2MA\n",
       "AAAAAAAAAQAAAAEAAABkAAAAAQAAAaRzdHN6AAAAAAAAAAAAAABkAAATFgAAAn4AAADxAAAApAAA\n",
       "AhUAAACjAAAAmgAAAJEAAAGvAAAAuQAAAH0AAAB5AAABrQAAALgAAACEAAAAjQAAAVEAAAChAAAA\n",
       "jgAAAdUAAAC/AAAAagAAAIYAAAF2AAAAowAAAGgAAAB6AAABqQAAAMAAAAB6AAAAfAAAAUgAAACN\n",
       "AAAAkgAAAVIAAADAAAAAbwAAAHwAAAGjAAAAvQAAAIoAAACNAAABVgAAAKEAAACFAAABpQAAAJUA\n",
       "AACQAAAAiwAAAOUAAACXAAAAlAAAASAAAACNAAAAhAAAAUIAAADLAAAAgQAAAH8AAAEHAAABPgAA\n",
       "AKMAAACLAAABLgAAAI8AAACTAAAA4gAAARcAAACgAAAAfQAAAQsAAACIAAABCgAAAJoAAAB+AAAB\n",
       "MgAAAJMAAAByAAAAcQAAASUAAACFAAAAiAAAAVAAAACLAAAAewAAAXwAAADAAAAAjwAAAHkAAAC7\n",
       "AAAAnAAAAH8AAAEeAAAAsQAAAIQAAAB6AAAA5AAAAJwAAACqAAAAhwAAABRzdGNvAAAAAAAAAAEA\n",
       "AAAsAAAAYnVkdGEAAABabWV0YQAAAAAAAAAhaGRscgAAAAAAAAAAbWRpcmFwcGwAAAAAAAAAAAAA\n",
       "AAAtaWxzdAAAACWpdG9vAAAAHWRhdGEAAAABAAAAAExhdmY1OC4yMC4xMDA=\n",
       "\">\n",
       "  Your browser does not support the video tag.\n",
       "</video>"
      ],
      "text/plain": [
       "<IPython.core.display.HTML object>"
      ]
     },
     "metadata": {},
     "output_type": "display_data"
    }
   ],
   "source": [
    "fig = plt.figure()\n",
    "line, = plt.plot([])\n",
    "plt.xlim(0, 2*np.pi)\n",
    "plt.ylim(-1.1, 1.1)\n",
    "\n",
    "def update(frame):\n",
    "    line.set_data(theta, np.sin(theta + frame/100*2*np.pi))\n",
    "    \n",
    "anim = FuncAnimation(fig, update, frames=100, interval=20)\n",
    "video = anim.to_html5_video()\n",
    "html= display.HTML(video)\n",
    "display.display(html)\n",
    "plt.close()"
   ]
  },
  {
   "cell_type": "markdown",
   "metadata": {},
   "source": [
    "# Checking Behavior of Graded Cells"
   ]
  },
  {
   "cell_type": "code",
   "execution_count": 6,
   "metadata": {},
   "outputs": [],
   "source": [
    "# did you download grading_helper.py?\n",
    "import grading_helper"
   ]
  },
  {
   "cell_type": "code",
   "execution_count": 7,
   "metadata": {},
   "outputs": [
    {
     "data": {
      "text/html": [
       "<img src onerror=\"var cell = this.closest('.jp-CodeCell');if (cell) {    var input_area = cell.querySelector('.jp-Editor');} else {    var cell = this.closest('.cell');    var input_area = cell.querySelector('.input_area');}input_area.style.background='lavender';this.parentNode.removeChild(this);\">"
      ],
      "text/plain": [
       "<IPython.core.display.HTML object>"
      ]
     },
     "metadata": {},
     "output_type": "display_data"
    }
   ],
   "source": [
    "%%graded\n",
    "\n",
    "# this cell should turn blue when run"
   ]
  },
  {
   "cell_type": "code",
   "execution_count": 8,
   "metadata": {},
   "outputs": [
    {
     "data": {
      "text/html": [
       "<img src onerror=\"var cell = this.closest('.jp-CodeCell');if (cell) {    var input_area = cell.querySelector('.jp-Editor');} else {    var cell = this.closest('.cell');    var input_area = cell.querySelector('.input_area');}input_area.style.background='lightyellow';this.parentNode.removeChild(this);\">"
      ],
      "text/plain": [
       "<IPython.core.display.HTML object>"
      ]
     },
     "metadata": {},
     "output_type": "display_data"
    },
    {
     "name": "stdout",
     "output_type": "stream",
     "text": [
      "Nothing to test yet...\n"
     ]
    }
   ],
   "source": [
    "%%tests\n",
    "\n",
    "# this cell should turn yellow when run"
   ]
  },
  {
   "cell_type": "code",
   "execution_count": 9,
   "metadata": {},
   "outputs": [
    {
     "data": {
      "text/html": [
       "<img src onerror=\"var cell = this.closest('.jp-CodeCell');if (cell) {    var input_area = cell.querySelector('.jp-Editor');} else {    var cell = this.closest('.cell');    var input_area = cell.querySelector('.input_area');}input_area.style.background='lavender';this.parentNode.removeChild(this);\">"
      ],
      "text/plain": [
       "<IPython.core.display.HTML object>"
      ]
     },
     "metadata": {},
     "output_type": "display_data"
    }
   ],
   "source": [
    "%%graded\n",
    "\n",
    "x = 1"
   ]
  },
  {
   "cell_type": "code",
   "execution_count": 10,
   "metadata": {},
   "outputs": [
    {
     "data": {
      "text/html": [
       "<img src onerror=\"var cell = this.closest('.jp-CodeCell');if (cell) {    var input_area = cell.querySelector('.jp-Editor');} else {    var cell = this.closest('.cell');    var input_area = cell.querySelector('.input_area');}input_area.style.background='lightgreen';this.parentNode.removeChild(this);\">"
      ],
      "text/plain": [
       "<IPython.core.display.HTML object>"
      ]
     },
     "metadata": {},
     "output_type": "display_data"
    },
    {
     "name": "stdout",
     "output_type": "stream",
     "text": [
      "All tests passed!\n"
     ]
    }
   ],
   "source": [
    "%%tests\n",
    "\n",
    "# this cell should turn green when run\n",
    "\n",
    "grading_helper.equal(x, 1)"
   ]
  },
  {
   "cell_type": "code",
   "execution_count": 11,
   "metadata": {},
   "outputs": [
    {
     "ename": "AssertionError",
     "evalue": "\nItems are not equal:\n ACTUAL: 1\n DESIRED: 2",
     "output_type": "error",
     "traceback": [
      "\u001b[1;31m---------------------------------------------------------------------------\u001b[0m",
      "\u001b[1;31mAssertionError\u001b[0m                            Traceback (most recent call last)",
      "\u001b[1;32m<ipython-input-11-13738b025a6e>\u001b[0m in \u001b[0;36m<module>\u001b[1;34m\u001b[0m\n\u001b[0;32m      1\u001b[0m \u001b[1;31m# this cell should turn red and show an error when run\u001b[0m\u001b[1;33m\u001b[0m\u001b[1;33m\u001b[0m\u001b[1;33m\u001b[0m\u001b[0m\n\u001b[0;32m      2\u001b[0m \u001b[1;33m\u001b[0m\u001b[0m\n\u001b[1;32m----> 3\u001b[1;33m \u001b[0mgrading_helper\u001b[0m\u001b[1;33m.\u001b[0m\u001b[0mequal\u001b[0m\u001b[1;33m(\u001b[0m\u001b[0mx\u001b[0m\u001b[1;33m,\u001b[0m \u001b[1;36m2\u001b[0m\u001b[1;33m)\u001b[0m\u001b[1;33m\u001b[0m\u001b[1;33m\u001b[0m\u001b[0m\n\u001b[0m",
      "\u001b[1;32m~\\OneDrive - University of Pittsburgh\\Teaching\\2019-2020 Fall\\PHYS 1321\\new\\grading_helper.py\u001b[0m in \u001b[0;36mequal\u001b[1;34m(A, B)\u001b[0m\n\u001b[0;32m    111\u001b[0m     \u001b[0mCheck\u001b[0m \u001b[0mthat\u001b[0m \u001b[0mA\u001b[0m \u001b[1;33m=\u001b[0m \u001b[0mB\u001b[0m\u001b[1;33m.\u001b[0m\u001b[1;33m\u001b[0m\u001b[1;33m\u001b[0m\u001b[0m\n\u001b[0;32m    112\u001b[0m     \"\"\"\n\u001b[1;32m--> 113\u001b[1;33m     \u001b[0mnp\u001b[0m\u001b[1;33m.\u001b[0m\u001b[0mtesting\u001b[0m\u001b[1;33m.\u001b[0m\u001b[0massert_equal\u001b[0m\u001b[1;33m(\u001b[0m\u001b[0mA\u001b[0m\u001b[1;33m,\u001b[0m \u001b[0mB\u001b[0m\u001b[1;33m)\u001b[0m\u001b[1;33m\u001b[0m\u001b[1;33m\u001b[0m\u001b[0m\n\u001b[0m\u001b[0;32m    114\u001b[0m \u001b[1;33m\u001b[0m\u001b[0m\n\u001b[0;32m    115\u001b[0m \u001b[1;33m\u001b[0m\u001b[0m\n",
      "\u001b[1;32m~\\AppData\\Local\\Continuum\\miniconda3\\envs\\phys1321\\lib\\site-packages\\numpy\\testing\\_private\\utils.py\u001b[0m in \u001b[0;36massert_equal\u001b[1;34m(actual, desired, err_msg, verbose)\u001b[0m\n\u001b[0;32m    425\u001b[0m         \u001b[1;31m# Explicitly use __eq__ for comparison, gh-2552\u001b[0m\u001b[1;33m\u001b[0m\u001b[1;33m\u001b[0m\u001b[1;33m\u001b[0m\u001b[0m\n\u001b[0;32m    426\u001b[0m         \u001b[1;32mif\u001b[0m \u001b[1;32mnot\u001b[0m \u001b[1;33m(\u001b[0m\u001b[0mdesired\u001b[0m \u001b[1;33m==\u001b[0m \u001b[0mactual\u001b[0m\u001b[1;33m)\u001b[0m\u001b[1;33m:\u001b[0m\u001b[1;33m\u001b[0m\u001b[1;33m\u001b[0m\u001b[0m\n\u001b[1;32m--> 427\u001b[1;33m             \u001b[1;32mraise\u001b[0m \u001b[0mAssertionError\u001b[0m\u001b[1;33m(\u001b[0m\u001b[0mmsg\u001b[0m\u001b[1;33m)\u001b[0m\u001b[1;33m\u001b[0m\u001b[1;33m\u001b[0m\u001b[0m\n\u001b[0m\u001b[0;32m    428\u001b[0m \u001b[1;33m\u001b[0m\u001b[0m\n\u001b[0;32m    429\u001b[0m     \u001b[1;32mexcept\u001b[0m \u001b[1;33m(\u001b[0m\u001b[0mDeprecationWarning\u001b[0m\u001b[1;33m,\u001b[0m \u001b[0mFutureWarning\u001b[0m\u001b[1;33m)\u001b[0m \u001b[1;32mas\u001b[0m \u001b[0me\u001b[0m\u001b[1;33m:\u001b[0m\u001b[1;33m\u001b[0m\u001b[1;33m\u001b[0m\u001b[0m\n",
      "\u001b[1;31mAssertionError\u001b[0m: \nItems are not equal:\n ACTUAL: 1\n DESIRED: 2"
     ]
    },
    {
     "data": {
      "text/html": [
       "<img src onerror=\"var cell = this.closest('.jp-CodeCell');if (cell) {    var input_area = cell.querySelector('.jp-Editor');} else {    var cell = this.closest('.cell');    var input_area = cell.querySelector('.input_area');}input_area.style.background='pink';this.parentNode.removeChild(this);\">"
      ],
      "text/plain": [
       "<IPython.core.display.HTML object>"
      ]
     },
     "metadata": {},
     "output_type": "display_data"
    }
   ],
   "source": [
    "%%tests\n",
    "\n",
    "# this cell should turn red and show an error when run\n",
    "\n",
    "grading_helper.equal(x, 2)"
   ]
  }
 ],
 "metadata": {
  "kernelspec": {
   "display_name": "Python 3",
   "language": "python",
   "name": "python3"
  },
  "language_info": {
   "codemirror_mode": {
    "name": "ipython",
    "version": 3
   },
   "file_extension": ".py",
   "mimetype": "text/x-python",
   "name": "python",
   "nbconvert_exporter": "python",
   "pygments_lexer": "ipython3",
   "version": "3.7.3"
  }
 },
 "nbformat": 4,
 "nbformat_minor": 4
}
